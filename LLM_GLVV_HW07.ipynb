{
  "nbformat": 4,
  "nbformat_minor": 0,
  "metadata": {
    "colab": {
      "provenance": []
    },
    "kernelspec": {
      "name": "python3",
      "display_name": "Python 3"
    },
    "language_info": {
      "name": "python"
    },
    "widgets": {
      "application/vnd.jupyter.widget-state+json": {
        "888bf5a320c844d2a93b5170bd8396c5": {
          "model_module": "@jupyter-widgets/controls",
          "model_name": "HBoxModel",
          "model_module_version": "1.5.0",
          "state": {
            "_dom_classes": [],
            "_model_module": "@jupyter-widgets/controls",
            "_model_module_version": "1.5.0",
            "_model_name": "HBoxModel",
            "_view_count": null,
            "_view_module": "@jupyter-widgets/controls",
            "_view_module_version": "1.5.0",
            "_view_name": "HBoxView",
            "box_style": "",
            "children": [
              "IPY_MODEL_0f87477d3faa4ec2aa5dd9e550126bcb",
              "IPY_MODEL_2af00e847ee846458cfbf67548c470b1",
              "IPY_MODEL_409b92ad551f41348d1b03c2618f0491"
            ],
            "layout": "IPY_MODEL_4a4866625fed4cfcaa408805dee87a28"
          }
        },
        "0f87477d3faa4ec2aa5dd9e550126bcb": {
          "model_module": "@jupyter-widgets/controls",
          "model_name": "HTMLModel",
          "model_module_version": "1.5.0",
          "state": {
            "_dom_classes": [],
            "_model_module": "@jupyter-widgets/controls",
            "_model_module_version": "1.5.0",
            "_model_name": "HTMLModel",
            "_view_count": null,
            "_view_module": "@jupyter-widgets/controls",
            "_view_module_version": "1.5.0",
            "_view_name": "HTMLView",
            "description": "",
            "description_tooltip": null,
            "layout": "IPY_MODEL_ff95cb64d2da495993aae6fab78b742d",
            "placeholder": "​",
            "style": "IPY_MODEL_a93944cc878343ecb1e86ad992f8bfe0",
            "value": "tokenizer.json: "
          }
        },
        "2af00e847ee846458cfbf67548c470b1": {
          "model_module": "@jupyter-widgets/controls",
          "model_name": "FloatProgressModel",
          "model_module_version": "1.5.0",
          "state": {
            "_dom_classes": [],
            "_model_module": "@jupyter-widgets/controls",
            "_model_module_version": "1.5.0",
            "_model_name": "FloatProgressModel",
            "_view_count": null,
            "_view_module": "@jupyter-widgets/controls",
            "_view_module_version": "1.5.0",
            "_view_name": "ProgressView",
            "bar_style": "success",
            "description": "",
            "description_tooltip": null,
            "layout": "IPY_MODEL_6149bca5509147d88b8e2f697b68a0ba",
            "max": 1,
            "min": 0,
            "orientation": "horizontal",
            "style": "IPY_MODEL_971819df81c3408794ee3d0bd2f919d1",
            "value": 1
          }
        },
        "409b92ad551f41348d1b03c2618f0491": {
          "model_module": "@jupyter-widgets/controls",
          "model_name": "HTMLModel",
          "model_module_version": "1.5.0",
          "state": {
            "_dom_classes": [],
            "_model_module": "@jupyter-widgets/controls",
            "_model_module_version": "1.5.0",
            "_model_name": "HTMLModel",
            "_view_count": null,
            "_view_module": "@jupyter-widgets/controls",
            "_view_module_version": "1.5.0",
            "_view_name": "HTMLView",
            "description": "",
            "description_tooltip": null,
            "layout": "IPY_MODEL_6f6c4ad17d1f418786a533786d38aeee",
            "placeholder": "​",
            "style": "IPY_MODEL_66deba543b6743b2929878a1178d0b4d",
            "value": " 2.41M/? [00:00&lt;00:00, 11.7MB/s]"
          }
        },
        "4a4866625fed4cfcaa408805dee87a28": {
          "model_module": "@jupyter-widgets/base",
          "model_name": "LayoutModel",
          "model_module_version": "1.2.0",
          "state": {
            "_model_module": "@jupyter-widgets/base",
            "_model_module_version": "1.2.0",
            "_model_name": "LayoutModel",
            "_view_count": null,
            "_view_module": "@jupyter-widgets/base",
            "_view_module_version": "1.2.0",
            "_view_name": "LayoutView",
            "align_content": null,
            "align_items": null,
            "align_self": null,
            "border": null,
            "bottom": null,
            "display": null,
            "flex": null,
            "flex_flow": null,
            "grid_area": null,
            "grid_auto_columns": null,
            "grid_auto_flow": null,
            "grid_auto_rows": null,
            "grid_column": null,
            "grid_gap": null,
            "grid_row": null,
            "grid_template_areas": null,
            "grid_template_columns": null,
            "grid_template_rows": null,
            "height": null,
            "justify_content": null,
            "justify_items": null,
            "left": null,
            "margin": null,
            "max_height": null,
            "max_width": null,
            "min_height": null,
            "min_width": null,
            "object_fit": null,
            "object_position": null,
            "order": null,
            "overflow": null,
            "overflow_x": null,
            "overflow_y": null,
            "padding": null,
            "right": null,
            "top": null,
            "visibility": null,
            "width": null
          }
        },
        "ff95cb64d2da495993aae6fab78b742d": {
          "model_module": "@jupyter-widgets/base",
          "model_name": "LayoutModel",
          "model_module_version": "1.2.0",
          "state": {
            "_model_module": "@jupyter-widgets/base",
            "_model_module_version": "1.2.0",
            "_model_name": "LayoutModel",
            "_view_count": null,
            "_view_module": "@jupyter-widgets/base",
            "_view_module_version": "1.2.0",
            "_view_name": "LayoutView",
            "align_content": null,
            "align_items": null,
            "align_self": null,
            "border": null,
            "bottom": null,
            "display": null,
            "flex": null,
            "flex_flow": null,
            "grid_area": null,
            "grid_auto_columns": null,
            "grid_auto_flow": null,
            "grid_auto_rows": null,
            "grid_column": null,
            "grid_gap": null,
            "grid_row": null,
            "grid_template_areas": null,
            "grid_template_columns": null,
            "grid_template_rows": null,
            "height": null,
            "justify_content": null,
            "justify_items": null,
            "left": null,
            "margin": null,
            "max_height": null,
            "max_width": null,
            "min_height": null,
            "min_width": null,
            "object_fit": null,
            "object_position": null,
            "order": null,
            "overflow": null,
            "overflow_x": null,
            "overflow_y": null,
            "padding": null,
            "right": null,
            "top": null,
            "visibility": null,
            "width": null
          }
        },
        "a93944cc878343ecb1e86ad992f8bfe0": {
          "model_module": "@jupyter-widgets/controls",
          "model_name": "DescriptionStyleModel",
          "model_module_version": "1.5.0",
          "state": {
            "_model_module": "@jupyter-widgets/controls",
            "_model_module_version": "1.5.0",
            "_model_name": "DescriptionStyleModel",
            "_view_count": null,
            "_view_module": "@jupyter-widgets/base",
            "_view_module_version": "1.2.0",
            "_view_name": "StyleView",
            "description_width": ""
          }
        },
        "6149bca5509147d88b8e2f697b68a0ba": {
          "model_module": "@jupyter-widgets/base",
          "model_name": "LayoutModel",
          "model_module_version": "1.2.0",
          "state": {
            "_model_module": "@jupyter-widgets/base",
            "_model_module_version": "1.2.0",
            "_model_name": "LayoutModel",
            "_view_count": null,
            "_view_module": "@jupyter-widgets/base",
            "_view_module_version": "1.2.0",
            "_view_name": "LayoutView",
            "align_content": null,
            "align_items": null,
            "align_self": null,
            "border": null,
            "bottom": null,
            "display": null,
            "flex": null,
            "flex_flow": null,
            "grid_area": null,
            "grid_auto_columns": null,
            "grid_auto_flow": null,
            "grid_auto_rows": null,
            "grid_column": null,
            "grid_gap": null,
            "grid_row": null,
            "grid_template_areas": null,
            "grid_template_columns": null,
            "grid_template_rows": null,
            "height": null,
            "justify_content": null,
            "justify_items": null,
            "left": null,
            "margin": null,
            "max_height": null,
            "max_width": null,
            "min_height": null,
            "min_width": null,
            "object_fit": null,
            "object_position": null,
            "order": null,
            "overflow": null,
            "overflow_x": null,
            "overflow_y": null,
            "padding": null,
            "right": null,
            "top": null,
            "visibility": null,
            "width": "20px"
          }
        },
        "971819df81c3408794ee3d0bd2f919d1": {
          "model_module": "@jupyter-widgets/controls",
          "model_name": "ProgressStyleModel",
          "model_module_version": "1.5.0",
          "state": {
            "_model_module": "@jupyter-widgets/controls",
            "_model_module_version": "1.5.0",
            "_model_name": "ProgressStyleModel",
            "_view_count": null,
            "_view_module": "@jupyter-widgets/base",
            "_view_module_version": "1.2.0",
            "_view_name": "StyleView",
            "bar_color": null,
            "description_width": ""
          }
        },
        "6f6c4ad17d1f418786a533786d38aeee": {
          "model_module": "@jupyter-widgets/base",
          "model_name": "LayoutModel",
          "model_module_version": "1.2.0",
          "state": {
            "_model_module": "@jupyter-widgets/base",
            "_model_module_version": "1.2.0",
            "_model_name": "LayoutModel",
            "_view_count": null,
            "_view_module": "@jupyter-widgets/base",
            "_view_module_version": "1.2.0",
            "_view_name": "LayoutView",
            "align_content": null,
            "align_items": null,
            "align_self": null,
            "border": null,
            "bottom": null,
            "display": null,
            "flex": null,
            "flex_flow": null,
            "grid_area": null,
            "grid_auto_columns": null,
            "grid_auto_flow": null,
            "grid_auto_rows": null,
            "grid_column": null,
            "grid_gap": null,
            "grid_row": null,
            "grid_template_areas": null,
            "grid_template_columns": null,
            "grid_template_rows": null,
            "height": null,
            "justify_content": null,
            "justify_items": null,
            "left": null,
            "margin": null,
            "max_height": null,
            "max_width": null,
            "min_height": null,
            "min_width": null,
            "object_fit": null,
            "object_position": null,
            "order": null,
            "overflow": null,
            "overflow_x": null,
            "overflow_y": null,
            "padding": null,
            "right": null,
            "top": null,
            "visibility": null,
            "width": null
          }
        },
        "66deba543b6743b2929878a1178d0b4d": {
          "model_module": "@jupyter-widgets/controls",
          "model_name": "DescriptionStyleModel",
          "model_module_version": "1.5.0",
          "state": {
            "_model_module": "@jupyter-widgets/controls",
            "_model_module_version": "1.5.0",
            "_model_name": "DescriptionStyleModel",
            "_view_count": null,
            "_view_module": "@jupyter-widgets/base",
            "_view_module_version": "1.2.0",
            "_view_name": "StyleView",
            "description_width": ""
          }
        },
        "a60115cb83cd4acaa26d84001f42a5d5": {
          "model_module": "@jupyter-widgets/controls",
          "model_name": "HBoxModel",
          "model_module_version": "1.5.0",
          "state": {
            "_dom_classes": [],
            "_model_module": "@jupyter-widgets/controls",
            "_model_module_version": "1.5.0",
            "_model_name": "HBoxModel",
            "_view_count": null,
            "_view_module": "@jupyter-widgets/controls",
            "_view_module_version": "1.5.0",
            "_view_name": "HBoxView",
            "box_style": "",
            "children": [
              "IPY_MODEL_acd8dfd2f5ab4c4bb7f1e41cad3da134",
              "IPY_MODEL_c3219e94e7f448f0a98ae89a487e0b14",
              "IPY_MODEL_ec52f670a0334d1ba1915a81f7b3b750"
            ],
            "layout": "IPY_MODEL_942ddf7371664a6d92785a1861384ec6"
          }
        },
        "acd8dfd2f5ab4c4bb7f1e41cad3da134": {
          "model_module": "@jupyter-widgets/controls",
          "model_name": "HTMLModel",
          "model_module_version": "1.5.0",
          "state": {
            "_dom_classes": [],
            "_model_module": "@jupyter-widgets/controls",
            "_model_module_version": "1.5.0",
            "_model_name": "HTMLModel",
            "_view_count": null,
            "_view_module": "@jupyter-widgets/controls",
            "_view_module_version": "1.5.0",
            "_view_name": "HTMLView",
            "description": "",
            "description_tooltip": null,
            "layout": "IPY_MODEL_ab5711ec1aed49e18661de1f587fb0c8",
            "placeholder": "​",
            "style": "IPY_MODEL_ed6bf0b7472546b88c6a48339c7f7bde",
            "value": "modules.json: 100%"
          }
        },
        "c3219e94e7f448f0a98ae89a487e0b14": {
          "model_module": "@jupyter-widgets/controls",
          "model_name": "FloatProgressModel",
          "model_module_version": "1.5.0",
          "state": {
            "_dom_classes": [],
            "_model_module": "@jupyter-widgets/controls",
            "_model_module_version": "1.5.0",
            "_model_name": "FloatProgressModel",
            "_view_count": null,
            "_view_module": "@jupyter-widgets/controls",
            "_view_module_version": "1.5.0",
            "_view_name": "ProgressView",
            "bar_style": "success",
            "description": "",
            "description_tooltip": null,
            "layout": "IPY_MODEL_72d6259fc1294b27be4742a5e99800a6",
            "max": 278,
            "min": 0,
            "orientation": "horizontal",
            "style": "IPY_MODEL_e4ff933ce9454b34b57ea14e60db1c04",
            "value": 278
          }
        },
        "ec52f670a0334d1ba1915a81f7b3b750": {
          "model_module": "@jupyter-widgets/controls",
          "model_name": "HTMLModel",
          "model_module_version": "1.5.0",
          "state": {
            "_dom_classes": [],
            "_model_module": "@jupyter-widgets/controls",
            "_model_module_version": "1.5.0",
            "_model_name": "HTMLModel",
            "_view_count": null,
            "_view_module": "@jupyter-widgets/controls",
            "_view_module_version": "1.5.0",
            "_view_name": "HTMLView",
            "description": "",
            "description_tooltip": null,
            "layout": "IPY_MODEL_bdd6b99b33604d5fae592bed724df32e",
            "placeholder": "​",
            "style": "IPY_MODEL_c45c73f019db43b396a0f145ce1ef0b5",
            "value": " 278/278 [00:00&lt;00:00, 23.2kB/s]"
          }
        },
        "942ddf7371664a6d92785a1861384ec6": {
          "model_module": "@jupyter-widgets/base",
          "model_name": "LayoutModel",
          "model_module_version": "1.2.0",
          "state": {
            "_model_module": "@jupyter-widgets/base",
            "_model_module_version": "1.2.0",
            "_model_name": "LayoutModel",
            "_view_count": null,
            "_view_module": "@jupyter-widgets/base",
            "_view_module_version": "1.2.0",
            "_view_name": "LayoutView",
            "align_content": null,
            "align_items": null,
            "align_self": null,
            "border": null,
            "bottom": null,
            "display": null,
            "flex": null,
            "flex_flow": null,
            "grid_area": null,
            "grid_auto_columns": null,
            "grid_auto_flow": null,
            "grid_auto_rows": null,
            "grid_column": null,
            "grid_gap": null,
            "grid_row": null,
            "grid_template_areas": null,
            "grid_template_columns": null,
            "grid_template_rows": null,
            "height": null,
            "justify_content": null,
            "justify_items": null,
            "left": null,
            "margin": null,
            "max_height": null,
            "max_width": null,
            "min_height": null,
            "min_width": null,
            "object_fit": null,
            "object_position": null,
            "order": null,
            "overflow": null,
            "overflow_x": null,
            "overflow_y": null,
            "padding": null,
            "right": null,
            "top": null,
            "visibility": null,
            "width": null
          }
        },
        "ab5711ec1aed49e18661de1f587fb0c8": {
          "model_module": "@jupyter-widgets/base",
          "model_name": "LayoutModel",
          "model_module_version": "1.2.0",
          "state": {
            "_model_module": "@jupyter-widgets/base",
            "_model_module_version": "1.2.0",
            "_model_name": "LayoutModel",
            "_view_count": null,
            "_view_module": "@jupyter-widgets/base",
            "_view_module_version": "1.2.0",
            "_view_name": "LayoutView",
            "align_content": null,
            "align_items": null,
            "align_self": null,
            "border": null,
            "bottom": null,
            "display": null,
            "flex": null,
            "flex_flow": null,
            "grid_area": null,
            "grid_auto_columns": null,
            "grid_auto_flow": null,
            "grid_auto_rows": null,
            "grid_column": null,
            "grid_gap": null,
            "grid_row": null,
            "grid_template_areas": null,
            "grid_template_columns": null,
            "grid_template_rows": null,
            "height": null,
            "justify_content": null,
            "justify_items": null,
            "left": null,
            "margin": null,
            "max_height": null,
            "max_width": null,
            "min_height": null,
            "min_width": null,
            "object_fit": null,
            "object_position": null,
            "order": null,
            "overflow": null,
            "overflow_x": null,
            "overflow_y": null,
            "padding": null,
            "right": null,
            "top": null,
            "visibility": null,
            "width": null
          }
        },
        "ed6bf0b7472546b88c6a48339c7f7bde": {
          "model_module": "@jupyter-widgets/controls",
          "model_name": "DescriptionStyleModel",
          "model_module_version": "1.5.0",
          "state": {
            "_model_module": "@jupyter-widgets/controls",
            "_model_module_version": "1.5.0",
            "_model_name": "DescriptionStyleModel",
            "_view_count": null,
            "_view_module": "@jupyter-widgets/base",
            "_view_module_version": "1.2.0",
            "_view_name": "StyleView",
            "description_width": ""
          }
        },
        "72d6259fc1294b27be4742a5e99800a6": {
          "model_module": "@jupyter-widgets/base",
          "model_name": "LayoutModel",
          "model_module_version": "1.2.0",
          "state": {
            "_model_module": "@jupyter-widgets/base",
            "_model_module_version": "1.2.0",
            "_model_name": "LayoutModel",
            "_view_count": null,
            "_view_module": "@jupyter-widgets/base",
            "_view_module_version": "1.2.0",
            "_view_name": "LayoutView",
            "align_content": null,
            "align_items": null,
            "align_self": null,
            "border": null,
            "bottom": null,
            "display": null,
            "flex": null,
            "flex_flow": null,
            "grid_area": null,
            "grid_auto_columns": null,
            "grid_auto_flow": null,
            "grid_auto_rows": null,
            "grid_column": null,
            "grid_gap": null,
            "grid_row": null,
            "grid_template_areas": null,
            "grid_template_columns": null,
            "grid_template_rows": null,
            "height": null,
            "justify_content": null,
            "justify_items": null,
            "left": null,
            "margin": null,
            "max_height": null,
            "max_width": null,
            "min_height": null,
            "min_width": null,
            "object_fit": null,
            "object_position": null,
            "order": null,
            "overflow": null,
            "overflow_x": null,
            "overflow_y": null,
            "padding": null,
            "right": null,
            "top": null,
            "visibility": null,
            "width": null
          }
        },
        "e4ff933ce9454b34b57ea14e60db1c04": {
          "model_module": "@jupyter-widgets/controls",
          "model_name": "ProgressStyleModel",
          "model_module_version": "1.5.0",
          "state": {
            "_model_module": "@jupyter-widgets/controls",
            "_model_module_version": "1.5.0",
            "_model_name": "ProgressStyleModel",
            "_view_count": null,
            "_view_module": "@jupyter-widgets/base",
            "_view_module_version": "1.2.0",
            "_view_name": "StyleView",
            "bar_color": null,
            "description_width": ""
          }
        },
        "bdd6b99b33604d5fae592bed724df32e": {
          "model_module": "@jupyter-widgets/base",
          "model_name": "LayoutModel",
          "model_module_version": "1.2.0",
          "state": {
            "_model_module": "@jupyter-widgets/base",
            "_model_module_version": "1.2.0",
            "_model_name": "LayoutModel",
            "_view_count": null,
            "_view_module": "@jupyter-widgets/base",
            "_view_module_version": "1.2.0",
            "_view_name": "LayoutView",
            "align_content": null,
            "align_items": null,
            "align_self": null,
            "border": null,
            "bottom": null,
            "display": null,
            "flex": null,
            "flex_flow": null,
            "grid_area": null,
            "grid_auto_columns": null,
            "grid_auto_flow": null,
            "grid_auto_rows": null,
            "grid_column": null,
            "grid_gap": null,
            "grid_row": null,
            "grid_template_areas": null,
            "grid_template_columns": null,
            "grid_template_rows": null,
            "height": null,
            "justify_content": null,
            "justify_items": null,
            "left": null,
            "margin": null,
            "max_height": null,
            "max_width": null,
            "min_height": null,
            "min_width": null,
            "object_fit": null,
            "object_position": null,
            "order": null,
            "overflow": null,
            "overflow_x": null,
            "overflow_y": null,
            "padding": null,
            "right": null,
            "top": null,
            "visibility": null,
            "width": null
          }
        },
        "c45c73f019db43b396a0f145ce1ef0b5": {
          "model_module": "@jupyter-widgets/controls",
          "model_name": "DescriptionStyleModel",
          "model_module_version": "1.5.0",
          "state": {
            "_model_module": "@jupyter-widgets/controls",
            "_model_module_version": "1.5.0",
            "_model_name": "DescriptionStyleModel",
            "_view_count": null,
            "_view_module": "@jupyter-widgets/base",
            "_view_module_version": "1.2.0",
            "_view_name": "StyleView",
            "description_width": ""
          }
        },
        "6072018e7171410e9c75040360e4feda": {
          "model_module": "@jupyter-widgets/controls",
          "model_name": "HBoxModel",
          "model_module_version": "1.5.0",
          "state": {
            "_dom_classes": [],
            "_model_module": "@jupyter-widgets/controls",
            "_model_module_version": "1.5.0",
            "_model_name": "HBoxModel",
            "_view_count": null,
            "_view_module": "@jupyter-widgets/controls",
            "_view_module_version": "1.5.0",
            "_view_name": "HBoxView",
            "box_style": "",
            "children": [
              "IPY_MODEL_724c08f7bfb9423e8951623b33e4b2e3",
              "IPY_MODEL_37ef73ca637c4239883e6faab7b07402",
              "IPY_MODEL_9fecf9a569c74b70bcc41bd7f272bb0a"
            ],
            "layout": "IPY_MODEL_6ed83ed519fa4549a38f4069a2689109"
          }
        },
        "724c08f7bfb9423e8951623b33e4b2e3": {
          "model_module": "@jupyter-widgets/controls",
          "model_name": "HTMLModel",
          "model_module_version": "1.5.0",
          "state": {
            "_dom_classes": [],
            "_model_module": "@jupyter-widgets/controls",
            "_model_module_version": "1.5.0",
            "_model_name": "HTMLModel",
            "_view_count": null,
            "_view_module": "@jupyter-widgets/controls",
            "_view_module_version": "1.5.0",
            "_view_name": "HTMLView",
            "description": "",
            "description_tooltip": null,
            "layout": "IPY_MODEL_c1fe13e95b7d49f8bae37054e37e2edf",
            "placeholder": "​",
            "style": "IPY_MODEL_e3bbb5b396254344a73478b9f87bd55e",
            "value": "README.md: "
          }
        },
        "37ef73ca637c4239883e6faab7b07402": {
          "model_module": "@jupyter-widgets/controls",
          "model_name": "FloatProgressModel",
          "model_module_version": "1.5.0",
          "state": {
            "_dom_classes": [],
            "_model_module": "@jupyter-widgets/controls",
            "_model_module_version": "1.5.0",
            "_model_name": "FloatProgressModel",
            "_view_count": null,
            "_view_module": "@jupyter-widgets/controls",
            "_view_module_version": "1.5.0",
            "_view_name": "ProgressView",
            "bar_style": "success",
            "description": "",
            "description_tooltip": null,
            "layout": "IPY_MODEL_20d103678c5945c680a83698d7b39d4a",
            "max": 1,
            "min": 0,
            "orientation": "horizontal",
            "style": "IPY_MODEL_489fd6f37eb94395bf4989385059c19f",
            "value": 1
          }
        },
        "9fecf9a569c74b70bcc41bd7f272bb0a": {
          "model_module": "@jupyter-widgets/controls",
          "model_name": "HTMLModel",
          "model_module_version": "1.5.0",
          "state": {
            "_dom_classes": [],
            "_model_module": "@jupyter-widgets/controls",
            "_model_module_version": "1.5.0",
            "_model_name": "HTMLModel",
            "_view_count": null,
            "_view_module": "@jupyter-widgets/controls",
            "_view_module_version": "1.5.0",
            "_view_name": "HTMLView",
            "description": "",
            "description_tooltip": null,
            "layout": "IPY_MODEL_a47efa2846284043959504ec593a2527",
            "placeholder": "​",
            "style": "IPY_MODEL_527aa6db431b4e6eade86db0710d1870",
            "value": " 272k/? [00:00&lt;00:00, 9.83MB/s]"
          }
        },
        "6ed83ed519fa4549a38f4069a2689109": {
          "model_module": "@jupyter-widgets/base",
          "model_name": "LayoutModel",
          "model_module_version": "1.2.0",
          "state": {
            "_model_module": "@jupyter-widgets/base",
            "_model_module_version": "1.2.0",
            "_model_name": "LayoutModel",
            "_view_count": null,
            "_view_module": "@jupyter-widgets/base",
            "_view_module_version": "1.2.0",
            "_view_name": "LayoutView",
            "align_content": null,
            "align_items": null,
            "align_self": null,
            "border": null,
            "bottom": null,
            "display": null,
            "flex": null,
            "flex_flow": null,
            "grid_area": null,
            "grid_auto_columns": null,
            "grid_auto_flow": null,
            "grid_auto_rows": null,
            "grid_column": null,
            "grid_gap": null,
            "grid_row": null,
            "grid_template_areas": null,
            "grid_template_columns": null,
            "grid_template_rows": null,
            "height": null,
            "justify_content": null,
            "justify_items": null,
            "left": null,
            "margin": null,
            "max_height": null,
            "max_width": null,
            "min_height": null,
            "min_width": null,
            "object_fit": null,
            "object_position": null,
            "order": null,
            "overflow": null,
            "overflow_x": null,
            "overflow_y": null,
            "padding": null,
            "right": null,
            "top": null,
            "visibility": null,
            "width": null
          }
        },
        "c1fe13e95b7d49f8bae37054e37e2edf": {
          "model_module": "@jupyter-widgets/base",
          "model_name": "LayoutModel",
          "model_module_version": "1.2.0",
          "state": {
            "_model_module": "@jupyter-widgets/base",
            "_model_module_version": "1.2.0",
            "_model_name": "LayoutModel",
            "_view_count": null,
            "_view_module": "@jupyter-widgets/base",
            "_view_module_version": "1.2.0",
            "_view_name": "LayoutView",
            "align_content": null,
            "align_items": null,
            "align_self": null,
            "border": null,
            "bottom": null,
            "display": null,
            "flex": null,
            "flex_flow": null,
            "grid_area": null,
            "grid_auto_columns": null,
            "grid_auto_flow": null,
            "grid_auto_rows": null,
            "grid_column": null,
            "grid_gap": null,
            "grid_row": null,
            "grid_template_areas": null,
            "grid_template_columns": null,
            "grid_template_rows": null,
            "height": null,
            "justify_content": null,
            "justify_items": null,
            "left": null,
            "margin": null,
            "max_height": null,
            "max_width": null,
            "min_height": null,
            "min_width": null,
            "object_fit": null,
            "object_position": null,
            "order": null,
            "overflow": null,
            "overflow_x": null,
            "overflow_y": null,
            "padding": null,
            "right": null,
            "top": null,
            "visibility": null,
            "width": null
          }
        },
        "e3bbb5b396254344a73478b9f87bd55e": {
          "model_module": "@jupyter-widgets/controls",
          "model_name": "DescriptionStyleModel",
          "model_module_version": "1.5.0",
          "state": {
            "_model_module": "@jupyter-widgets/controls",
            "_model_module_version": "1.5.0",
            "_model_name": "DescriptionStyleModel",
            "_view_count": null,
            "_view_module": "@jupyter-widgets/base",
            "_view_module_version": "1.2.0",
            "_view_name": "StyleView",
            "description_width": ""
          }
        },
        "20d103678c5945c680a83698d7b39d4a": {
          "model_module": "@jupyter-widgets/base",
          "model_name": "LayoutModel",
          "model_module_version": "1.2.0",
          "state": {
            "_model_module": "@jupyter-widgets/base",
            "_model_module_version": "1.2.0",
            "_model_name": "LayoutModel",
            "_view_count": null,
            "_view_module": "@jupyter-widgets/base",
            "_view_module_version": "1.2.0",
            "_view_name": "LayoutView",
            "align_content": null,
            "align_items": null,
            "align_self": null,
            "border": null,
            "bottom": null,
            "display": null,
            "flex": null,
            "flex_flow": null,
            "grid_area": null,
            "grid_auto_columns": null,
            "grid_auto_flow": null,
            "grid_auto_rows": null,
            "grid_column": null,
            "grid_gap": null,
            "grid_row": null,
            "grid_template_areas": null,
            "grid_template_columns": null,
            "grid_template_rows": null,
            "height": null,
            "justify_content": null,
            "justify_items": null,
            "left": null,
            "margin": null,
            "max_height": null,
            "max_width": null,
            "min_height": null,
            "min_width": null,
            "object_fit": null,
            "object_position": null,
            "order": null,
            "overflow": null,
            "overflow_x": null,
            "overflow_y": null,
            "padding": null,
            "right": null,
            "top": null,
            "visibility": null,
            "width": "20px"
          }
        },
        "489fd6f37eb94395bf4989385059c19f": {
          "model_module": "@jupyter-widgets/controls",
          "model_name": "ProgressStyleModel",
          "model_module_version": "1.5.0",
          "state": {
            "_model_module": "@jupyter-widgets/controls",
            "_model_module_version": "1.5.0",
            "_model_name": "ProgressStyleModel",
            "_view_count": null,
            "_view_module": "@jupyter-widgets/base",
            "_view_module_version": "1.2.0",
            "_view_name": "StyleView",
            "bar_color": null,
            "description_width": ""
          }
        },
        "a47efa2846284043959504ec593a2527": {
          "model_module": "@jupyter-widgets/base",
          "model_name": "LayoutModel",
          "model_module_version": "1.2.0",
          "state": {
            "_model_module": "@jupyter-widgets/base",
            "_model_module_version": "1.2.0",
            "_model_name": "LayoutModel",
            "_view_count": null,
            "_view_module": "@jupyter-widgets/base",
            "_view_module_version": "1.2.0",
            "_view_name": "LayoutView",
            "align_content": null,
            "align_items": null,
            "align_self": null,
            "border": null,
            "bottom": null,
            "display": null,
            "flex": null,
            "flex_flow": null,
            "grid_area": null,
            "grid_auto_columns": null,
            "grid_auto_flow": null,
            "grid_auto_rows": null,
            "grid_column": null,
            "grid_gap": null,
            "grid_row": null,
            "grid_template_areas": null,
            "grid_template_columns": null,
            "grid_template_rows": null,
            "height": null,
            "justify_content": null,
            "justify_items": null,
            "left": null,
            "margin": null,
            "max_height": null,
            "max_width": null,
            "min_height": null,
            "min_width": null,
            "object_fit": null,
            "object_position": null,
            "order": null,
            "overflow": null,
            "overflow_x": null,
            "overflow_y": null,
            "padding": null,
            "right": null,
            "top": null,
            "visibility": null,
            "width": null
          }
        },
        "527aa6db431b4e6eade86db0710d1870": {
          "model_module": "@jupyter-widgets/controls",
          "model_name": "DescriptionStyleModel",
          "model_module_version": "1.5.0",
          "state": {
            "_model_module": "@jupyter-widgets/controls",
            "_model_module_version": "1.5.0",
            "_model_name": "DescriptionStyleModel",
            "_view_count": null,
            "_view_module": "@jupyter-widgets/base",
            "_view_module_version": "1.2.0",
            "_view_name": "StyleView",
            "description_width": ""
          }
        },
        "73662b49c7a340789d6b20a4fd3f706e": {
          "model_module": "@jupyter-widgets/controls",
          "model_name": "HBoxModel",
          "model_module_version": "1.5.0",
          "state": {
            "_dom_classes": [],
            "_model_module": "@jupyter-widgets/controls",
            "_model_module_version": "1.5.0",
            "_model_name": "HBoxModel",
            "_view_count": null,
            "_view_module": "@jupyter-widgets/controls",
            "_view_module_version": "1.5.0",
            "_view_name": "HBoxView",
            "box_style": "",
            "children": [
              "IPY_MODEL_e4c42bc1c25f48d7b1726a7ddedc0e58",
              "IPY_MODEL_d3aa38436da344d486453c7686f9dd4b",
              "IPY_MODEL_91fbd37f3bfa4236b784faeb33f082e8"
            ],
            "layout": "IPY_MODEL_471873ea6f584a66921b172648e52913"
          }
        },
        "e4c42bc1c25f48d7b1726a7ddedc0e58": {
          "model_module": "@jupyter-widgets/controls",
          "model_name": "HTMLModel",
          "model_module_version": "1.5.0",
          "state": {
            "_dom_classes": [],
            "_model_module": "@jupyter-widgets/controls",
            "_model_module_version": "1.5.0",
            "_model_name": "HTMLModel",
            "_view_count": null,
            "_view_module": "@jupyter-widgets/controls",
            "_view_module_version": "1.5.0",
            "_view_name": "HTMLView",
            "description": "",
            "description_tooltip": null,
            "layout": "IPY_MODEL_543b5c1e03f241d39934cb2d93faacab",
            "placeholder": "​",
            "style": "IPY_MODEL_8ad0193634f54cbcb9ed51becf506f3e",
            "value": "tokenizer.json: "
          }
        },
        "d3aa38436da344d486453c7686f9dd4b": {
          "model_module": "@jupyter-widgets/controls",
          "model_name": "FloatProgressModel",
          "model_module_version": "1.5.0",
          "state": {
            "_dom_classes": [],
            "_model_module": "@jupyter-widgets/controls",
            "_model_module_version": "1.5.0",
            "_model_name": "FloatProgressModel",
            "_view_count": null,
            "_view_module": "@jupyter-widgets/controls",
            "_view_module_version": "1.5.0",
            "_view_name": "ProgressView",
            "bar_style": "success",
            "description": "",
            "description_tooltip": null,
            "layout": "IPY_MODEL_25cf5756c7c4487ea7a9723fe487a349",
            "max": 1,
            "min": 0,
            "orientation": "horizontal",
            "style": "IPY_MODEL_31ee1faa710e40aa973fe6e2cef77402",
            "value": 1
          }
        },
        "91fbd37f3bfa4236b784faeb33f082e8": {
          "model_module": "@jupyter-widgets/controls",
          "model_name": "HTMLModel",
          "model_module_version": "1.5.0",
          "state": {
            "_dom_classes": [],
            "_model_module": "@jupyter-widgets/controls",
            "_model_module_version": "1.5.0",
            "_model_name": "HTMLModel",
            "_view_count": null,
            "_view_module": "@jupyter-widgets/controls",
            "_view_module_version": "1.5.0",
            "_view_name": "HTMLView",
            "description": "",
            "description_tooltip": null,
            "layout": "IPY_MODEL_14ce94cd889f40bcbe8ad1ce87e6edf7",
            "placeholder": "​",
            "style": "IPY_MODEL_523a6ea1194b4486a17b5a0bdeab7878",
            "value": " 1.49M/? [00:00&lt;00:00, 15.7MB/s]"
          }
        },
        "471873ea6f584a66921b172648e52913": {
          "model_module": "@jupyter-widgets/base",
          "model_name": "LayoutModel",
          "model_module_version": "1.2.0",
          "state": {
            "_model_module": "@jupyter-widgets/base",
            "_model_module_version": "1.2.0",
            "_model_name": "LayoutModel",
            "_view_count": null,
            "_view_module": "@jupyter-widgets/base",
            "_view_module_version": "1.2.0",
            "_view_name": "LayoutView",
            "align_content": null,
            "align_items": null,
            "align_self": null,
            "border": null,
            "bottom": null,
            "display": null,
            "flex": null,
            "flex_flow": null,
            "grid_area": null,
            "grid_auto_columns": null,
            "grid_auto_flow": null,
            "grid_auto_rows": null,
            "grid_column": null,
            "grid_gap": null,
            "grid_row": null,
            "grid_template_areas": null,
            "grid_template_columns": null,
            "grid_template_rows": null,
            "height": null,
            "justify_content": null,
            "justify_items": null,
            "left": null,
            "margin": null,
            "max_height": null,
            "max_width": null,
            "min_height": null,
            "min_width": null,
            "object_fit": null,
            "object_position": null,
            "order": null,
            "overflow": null,
            "overflow_x": null,
            "overflow_y": null,
            "padding": null,
            "right": null,
            "top": null,
            "visibility": null,
            "width": null
          }
        },
        "543b5c1e03f241d39934cb2d93faacab": {
          "model_module": "@jupyter-widgets/base",
          "model_name": "LayoutModel",
          "model_module_version": "1.2.0",
          "state": {
            "_model_module": "@jupyter-widgets/base",
            "_model_module_version": "1.2.0",
            "_model_name": "LayoutModel",
            "_view_count": null,
            "_view_module": "@jupyter-widgets/base",
            "_view_module_version": "1.2.0",
            "_view_name": "LayoutView",
            "align_content": null,
            "align_items": null,
            "align_self": null,
            "border": null,
            "bottom": null,
            "display": null,
            "flex": null,
            "flex_flow": null,
            "grid_area": null,
            "grid_auto_columns": null,
            "grid_auto_flow": null,
            "grid_auto_rows": null,
            "grid_column": null,
            "grid_gap": null,
            "grid_row": null,
            "grid_template_areas": null,
            "grid_template_columns": null,
            "grid_template_rows": null,
            "height": null,
            "justify_content": null,
            "justify_items": null,
            "left": null,
            "margin": null,
            "max_height": null,
            "max_width": null,
            "min_height": null,
            "min_width": null,
            "object_fit": null,
            "object_position": null,
            "order": null,
            "overflow": null,
            "overflow_x": null,
            "overflow_y": null,
            "padding": null,
            "right": null,
            "top": null,
            "visibility": null,
            "width": null
          }
        },
        "8ad0193634f54cbcb9ed51becf506f3e": {
          "model_module": "@jupyter-widgets/controls",
          "model_name": "DescriptionStyleModel",
          "model_module_version": "1.5.0",
          "state": {
            "_model_module": "@jupyter-widgets/controls",
            "_model_module_version": "1.5.0",
            "_model_name": "DescriptionStyleModel",
            "_view_count": null,
            "_view_module": "@jupyter-widgets/base",
            "_view_module_version": "1.2.0",
            "_view_name": "StyleView",
            "description_width": ""
          }
        },
        "25cf5756c7c4487ea7a9723fe487a349": {
          "model_module": "@jupyter-widgets/base",
          "model_name": "LayoutModel",
          "model_module_version": "1.2.0",
          "state": {
            "_model_module": "@jupyter-widgets/base",
            "_model_module_version": "1.2.0",
            "_model_name": "LayoutModel",
            "_view_count": null,
            "_view_module": "@jupyter-widgets/base",
            "_view_module_version": "1.2.0",
            "_view_name": "LayoutView",
            "align_content": null,
            "align_items": null,
            "align_self": null,
            "border": null,
            "bottom": null,
            "display": null,
            "flex": null,
            "flex_flow": null,
            "grid_area": null,
            "grid_auto_columns": null,
            "grid_auto_flow": null,
            "grid_auto_rows": null,
            "grid_column": null,
            "grid_gap": null,
            "grid_row": null,
            "grid_template_areas": null,
            "grid_template_columns": null,
            "grid_template_rows": null,
            "height": null,
            "justify_content": null,
            "justify_items": null,
            "left": null,
            "margin": null,
            "max_height": null,
            "max_width": null,
            "min_height": null,
            "min_width": null,
            "object_fit": null,
            "object_position": null,
            "order": null,
            "overflow": null,
            "overflow_x": null,
            "overflow_y": null,
            "padding": null,
            "right": null,
            "top": null,
            "visibility": null,
            "width": "20px"
          }
        },
        "31ee1faa710e40aa973fe6e2cef77402": {
          "model_module": "@jupyter-widgets/controls",
          "model_name": "ProgressStyleModel",
          "model_module_version": "1.5.0",
          "state": {
            "_model_module": "@jupyter-widgets/controls",
            "_model_module_version": "1.5.0",
            "_model_name": "ProgressStyleModel",
            "_view_count": null,
            "_view_module": "@jupyter-widgets/base",
            "_view_module_version": "1.2.0",
            "_view_name": "StyleView",
            "bar_color": null,
            "description_width": ""
          }
        },
        "14ce94cd889f40bcbe8ad1ce87e6edf7": {
          "model_module": "@jupyter-widgets/base",
          "model_name": "LayoutModel",
          "model_module_version": "1.2.0",
          "state": {
            "_model_module": "@jupyter-widgets/base",
            "_model_module_version": "1.2.0",
            "_model_name": "LayoutModel",
            "_view_count": null,
            "_view_module": "@jupyter-widgets/base",
            "_view_module_version": "1.2.0",
            "_view_name": "LayoutView",
            "align_content": null,
            "align_items": null,
            "align_self": null,
            "border": null,
            "bottom": null,
            "display": null,
            "flex": null,
            "flex_flow": null,
            "grid_area": null,
            "grid_auto_columns": null,
            "grid_auto_flow": null,
            "grid_auto_rows": null,
            "grid_column": null,
            "grid_gap": null,
            "grid_row": null,
            "grid_template_areas": null,
            "grid_template_columns": null,
            "grid_template_rows": null,
            "height": null,
            "justify_content": null,
            "justify_items": null,
            "left": null,
            "margin": null,
            "max_height": null,
            "max_width": null,
            "min_height": null,
            "min_width": null,
            "object_fit": null,
            "object_position": null,
            "order": null,
            "overflow": null,
            "overflow_x": null,
            "overflow_y": null,
            "padding": null,
            "right": null,
            "top": null,
            "visibility": null,
            "width": null
          }
        },
        "523a6ea1194b4486a17b5a0bdeab7878": {
          "model_module": "@jupyter-widgets/controls",
          "model_name": "DescriptionStyleModel",
          "model_module_version": "1.5.0",
          "state": {
            "_model_module": "@jupyter-widgets/controls",
            "_model_module_version": "1.5.0",
            "_model_name": "DescriptionStyleModel",
            "_view_count": null,
            "_view_module": "@jupyter-widgets/base",
            "_view_module_version": "1.2.0",
            "_view_name": "StyleView",
            "description_width": ""
          }
        },
        "71e15f1107484f16b43deaa6239bdd5f": {
          "model_module": "@jupyter-widgets/controls",
          "model_name": "HBoxModel",
          "model_module_version": "1.5.0",
          "state": {
            "_dom_classes": [],
            "_model_module": "@jupyter-widgets/controls",
            "_model_module_version": "1.5.0",
            "_model_name": "HBoxModel",
            "_view_count": null,
            "_view_module": "@jupyter-widgets/controls",
            "_view_module_version": "1.5.0",
            "_view_name": "HBoxView",
            "box_style": "",
            "children": [
              "IPY_MODEL_a0f6d7e6d414483d9f67c22918852a06",
              "IPY_MODEL_d0f200cb2aad48c9b2439f5aa28a66d1",
              "IPY_MODEL_30c1b832e7bc44939e4a3c6b6e0cb048"
            ],
            "layout": "IPY_MODEL_ccdd8c48e2dd4449a31b61b818f9648e"
          }
        },
        "a0f6d7e6d414483d9f67c22918852a06": {
          "model_module": "@jupyter-widgets/controls",
          "model_name": "HTMLModel",
          "model_module_version": "1.5.0",
          "state": {
            "_dom_classes": [],
            "_model_module": "@jupyter-widgets/controls",
            "_model_module_version": "1.5.0",
            "_model_name": "HTMLModel",
            "_view_count": null,
            "_view_module": "@jupyter-widgets/controls",
            "_view_module_version": "1.5.0",
            "_view_name": "HTMLView",
            "description": "",
            "description_tooltip": null,
            "layout": "IPY_MODEL_65db03696b3b43ec9770ddc6a909cdfb",
            "placeholder": "​",
            "style": "IPY_MODEL_986083ddbf6f43298ac1132111d53a40",
            "value": "./model.safetensors: 100%"
          }
        },
        "d0f200cb2aad48c9b2439f5aa28a66d1": {
          "model_module": "@jupyter-widgets/controls",
          "model_name": "FloatProgressModel",
          "model_module_version": "1.5.0",
          "state": {
            "_dom_classes": [],
            "_model_module": "@jupyter-widgets/controls",
            "_model_module_version": "1.5.0",
            "_model_name": "FloatProgressModel",
            "_view_count": null,
            "_view_module": "@jupyter-widgets/controls",
            "_view_module_version": "1.5.0",
            "_view_name": "ProgressView",
            "bar_style": "success",
            "description": "",
            "description_tooltip": null,
            "layout": "IPY_MODEL_52cecb39a1fc4b298320c448e391a5da",
            "max": 129210456,
            "min": 0,
            "orientation": "horizontal",
            "style": "IPY_MODEL_0578470c15da40b0a0cbf8c2c2803268",
            "value": 129210456
          }
        },
        "30c1b832e7bc44939e4a3c6b6e0cb048": {
          "model_module": "@jupyter-widgets/controls",
          "model_name": "HTMLModel",
          "model_module_version": "1.5.0",
          "state": {
            "_dom_classes": [],
            "_model_module": "@jupyter-widgets/controls",
            "_model_module_version": "1.5.0",
            "_model_name": "HTMLModel",
            "_view_count": null,
            "_view_module": "@jupyter-widgets/controls",
            "_view_module_version": "1.5.0",
            "_view_name": "HTMLView",
            "description": "",
            "description_tooltip": null,
            "layout": "IPY_MODEL_ef1d6a44ccc0453daeff309f91f27867",
            "placeholder": "​",
            "style": "IPY_MODEL_218155ae541c48d3a76610fda388ee45",
            "value": " 129M/129M [00:01&lt;00:00, 77.8MB/s]"
          }
        },
        "ccdd8c48e2dd4449a31b61b818f9648e": {
          "model_module": "@jupyter-widgets/base",
          "model_name": "LayoutModel",
          "model_module_version": "1.2.0",
          "state": {
            "_model_module": "@jupyter-widgets/base",
            "_model_module_version": "1.2.0",
            "_model_name": "LayoutModel",
            "_view_count": null,
            "_view_module": "@jupyter-widgets/base",
            "_view_module_version": "1.2.0",
            "_view_name": "LayoutView",
            "align_content": null,
            "align_items": null,
            "align_self": null,
            "border": null,
            "bottom": null,
            "display": null,
            "flex": null,
            "flex_flow": null,
            "grid_area": null,
            "grid_auto_columns": null,
            "grid_auto_flow": null,
            "grid_auto_rows": null,
            "grid_column": null,
            "grid_gap": null,
            "grid_row": null,
            "grid_template_areas": null,
            "grid_template_columns": null,
            "grid_template_rows": null,
            "height": null,
            "justify_content": null,
            "justify_items": null,
            "left": null,
            "margin": null,
            "max_height": null,
            "max_width": null,
            "min_height": null,
            "min_width": null,
            "object_fit": null,
            "object_position": null,
            "order": null,
            "overflow": null,
            "overflow_x": null,
            "overflow_y": null,
            "padding": null,
            "right": null,
            "top": null,
            "visibility": null,
            "width": null
          }
        },
        "65db03696b3b43ec9770ddc6a909cdfb": {
          "model_module": "@jupyter-widgets/base",
          "model_name": "LayoutModel",
          "model_module_version": "1.2.0",
          "state": {
            "_model_module": "@jupyter-widgets/base",
            "_model_module_version": "1.2.0",
            "_model_name": "LayoutModel",
            "_view_count": null,
            "_view_module": "@jupyter-widgets/base",
            "_view_module_version": "1.2.0",
            "_view_name": "LayoutView",
            "align_content": null,
            "align_items": null,
            "align_self": null,
            "border": null,
            "bottom": null,
            "display": null,
            "flex": null,
            "flex_flow": null,
            "grid_area": null,
            "grid_auto_columns": null,
            "grid_auto_flow": null,
            "grid_auto_rows": null,
            "grid_column": null,
            "grid_gap": null,
            "grid_row": null,
            "grid_template_areas": null,
            "grid_template_columns": null,
            "grid_template_rows": null,
            "height": null,
            "justify_content": null,
            "justify_items": null,
            "left": null,
            "margin": null,
            "max_height": null,
            "max_width": null,
            "min_height": null,
            "min_width": null,
            "object_fit": null,
            "object_position": null,
            "order": null,
            "overflow": null,
            "overflow_x": null,
            "overflow_y": null,
            "padding": null,
            "right": null,
            "top": null,
            "visibility": null,
            "width": null
          }
        },
        "986083ddbf6f43298ac1132111d53a40": {
          "model_module": "@jupyter-widgets/controls",
          "model_name": "DescriptionStyleModel",
          "model_module_version": "1.5.0",
          "state": {
            "_model_module": "@jupyter-widgets/controls",
            "_model_module_version": "1.5.0",
            "_model_name": "DescriptionStyleModel",
            "_view_count": null,
            "_view_module": "@jupyter-widgets/base",
            "_view_module_version": "1.2.0",
            "_view_name": "StyleView",
            "description_width": ""
          }
        },
        "52cecb39a1fc4b298320c448e391a5da": {
          "model_module": "@jupyter-widgets/base",
          "model_name": "LayoutModel",
          "model_module_version": "1.2.0",
          "state": {
            "_model_module": "@jupyter-widgets/base",
            "_model_module_version": "1.2.0",
            "_model_name": "LayoutModel",
            "_view_count": null,
            "_view_module": "@jupyter-widgets/base",
            "_view_module_version": "1.2.0",
            "_view_name": "LayoutView",
            "align_content": null,
            "align_items": null,
            "align_self": null,
            "border": null,
            "bottom": null,
            "display": null,
            "flex": null,
            "flex_flow": null,
            "grid_area": null,
            "grid_auto_columns": null,
            "grid_auto_flow": null,
            "grid_auto_rows": null,
            "grid_column": null,
            "grid_gap": null,
            "grid_row": null,
            "grid_template_areas": null,
            "grid_template_columns": null,
            "grid_template_rows": null,
            "height": null,
            "justify_content": null,
            "justify_items": null,
            "left": null,
            "margin": null,
            "max_height": null,
            "max_width": null,
            "min_height": null,
            "min_width": null,
            "object_fit": null,
            "object_position": null,
            "order": null,
            "overflow": null,
            "overflow_x": null,
            "overflow_y": null,
            "padding": null,
            "right": null,
            "top": null,
            "visibility": null,
            "width": null
          }
        },
        "0578470c15da40b0a0cbf8c2c2803268": {
          "model_module": "@jupyter-widgets/controls",
          "model_name": "ProgressStyleModel",
          "model_module_version": "1.5.0",
          "state": {
            "_model_module": "@jupyter-widgets/controls",
            "_model_module_version": "1.5.0",
            "_model_name": "ProgressStyleModel",
            "_view_count": null,
            "_view_module": "@jupyter-widgets/base",
            "_view_module_version": "1.2.0",
            "_view_name": "StyleView",
            "bar_color": null,
            "description_width": ""
          }
        },
        "ef1d6a44ccc0453daeff309f91f27867": {
          "model_module": "@jupyter-widgets/base",
          "model_name": "LayoutModel",
          "model_module_version": "1.2.0",
          "state": {
            "_model_module": "@jupyter-widgets/base",
            "_model_module_version": "1.2.0",
            "_model_name": "LayoutModel",
            "_view_count": null,
            "_view_module": "@jupyter-widgets/base",
            "_view_module_version": "1.2.0",
            "_view_name": "LayoutView",
            "align_content": null,
            "align_items": null,
            "align_self": null,
            "border": null,
            "bottom": null,
            "display": null,
            "flex": null,
            "flex_flow": null,
            "grid_area": null,
            "grid_auto_columns": null,
            "grid_auto_flow": null,
            "grid_auto_rows": null,
            "grid_column": null,
            "grid_gap": null,
            "grid_row": null,
            "grid_template_areas": null,
            "grid_template_columns": null,
            "grid_template_rows": null,
            "height": null,
            "justify_content": null,
            "justify_items": null,
            "left": null,
            "margin": null,
            "max_height": null,
            "max_width": null,
            "min_height": null,
            "min_width": null,
            "object_fit": null,
            "object_position": null,
            "order": null,
            "overflow": null,
            "overflow_x": null,
            "overflow_y": null,
            "padding": null,
            "right": null,
            "top": null,
            "visibility": null,
            "width": null
          }
        },
        "218155ae541c48d3a76610fda388ee45": {
          "model_module": "@jupyter-widgets/controls",
          "model_name": "DescriptionStyleModel",
          "model_module_version": "1.5.0",
          "state": {
            "_model_module": "@jupyter-widgets/controls",
            "_model_module_version": "1.5.0",
            "_model_name": "DescriptionStyleModel",
            "_view_count": null,
            "_view_module": "@jupyter-widgets/base",
            "_view_module_version": "1.2.0",
            "_view_name": "StyleView",
            "description_width": ""
          }
        }
      }
    }
  },
  "cells": [
    {
      "cell_type": "code",
      "source": [
        "!pip install python-docx"
      ],
      "metadata": {
        "colab": {
          "base_uri": "https://localhost:8080/"
        },
        "id": "s9U8_GR5NF9D",
        "outputId": "1620a1c4-6c99-4c1a-f932-486d11fc2a4e"
      },
      "execution_count": null,
      "outputs": [
        {
          "output_type": "stream",
          "name": "stdout",
          "text": [
            "Collecting python-docx\n",
            "  Downloading python_docx-1.2.0-py3-none-any.whl.metadata (2.0 kB)\n",
            "Requirement already satisfied: lxml>=3.1.0 in /usr/local/lib/python3.12/dist-packages (from python-docx) (5.4.0)\n",
            "Requirement already satisfied: typing_extensions>=4.9.0 in /usr/local/lib/python3.12/dist-packages (from python-docx) (4.15.0)\n",
            "Downloading python_docx-1.2.0-py3-none-any.whl (252 kB)\n",
            "\u001b[?25l   \u001b[90m━━━━━━━━━━━━━━━━━━━━━━━━━━━━━━━━━━━━━━━━\u001b[0m \u001b[32m0.0/253.0 kB\u001b[0m \u001b[31m?\u001b[0m eta \u001b[36m-:--:--\u001b[0m\r\u001b[2K   \u001b[91m━━━━━━━━━━━━━━━━━━━━━━━━━━━━━━━━━━━━━━\u001b[0m\u001b[91m╸\u001b[0m\u001b[90m━\u001b[0m \u001b[32m245.8/253.0 kB\u001b[0m \u001b[31m9.1 MB/s\u001b[0m eta \u001b[36m0:00:01\u001b[0m\r\u001b[2K   \u001b[90m━━━━━━━━━━━━━━━━━━━━━━━━━━━━━━━━━━━━━━━━\u001b[0m \u001b[32m253.0/253.0 kB\u001b[0m \u001b[31m6.1 MB/s\u001b[0m eta \u001b[36m0:00:00\u001b[0m\n",
            "\u001b[?25hInstalling collected packages: python-docx\n",
            "Successfully installed python-docx-1.2.0\n"
          ]
        }
      ]
    },
    {
      "cell_type": "code",
      "source": [
        "!pip install chonkie"
      ],
      "metadata": {
        "colab": {
          "base_uri": "https://localhost:8080/"
        },
        "id": "eUBiLRd_oiR_",
        "outputId": "4194840e-dc4b-4f4f-abd7-f127d6fa1d48"
      },
      "execution_count": null,
      "outputs": [
        {
          "output_type": "stream",
          "name": "stdout",
          "text": [
            "Collecting chonkie\n",
            "  Downloading chonkie-1.3.1-cp312-cp312-manylinux2014_x86_64.manylinux_2_17_x86_64.manylinux_2_28_x86_64.whl.metadata (24 kB)\n",
            "Requirement already satisfied: tqdm>=4.64.0 in /usr/local/lib/python3.12/dist-packages (from chonkie) (4.67.1)\n",
            "Downloading chonkie-1.3.1-cp312-cp312-manylinux2014_x86_64.manylinux_2_17_x86_64.manylinux_2_28_x86_64.whl (1.0 MB)\n",
            "\u001b[2K   \u001b[90m━━━━━━━━━━━━━━━━━━━━━━━━━━━━━━━━━━━━━━━━\u001b[0m \u001b[32m1.0/1.0 MB\u001b[0m \u001b[31m16.0 MB/s\u001b[0m eta \u001b[36m0:00:00\u001b[0m\n",
            "\u001b[?25hInstalling collected packages: chonkie\n",
            "Successfully installed chonkie-1.3.1\n"
          ]
        }
      ]
    },
    {
      "cell_type": "code",
      "source": [
        "pip install langchain-community"
      ],
      "metadata": {
        "colab": {
          "base_uri": "https://localhost:8080/",
          "height": 1000
        },
        "id": "ocJeC7SWNAqh",
        "outputId": "d0d81ac7-0216-4af4-af26-6d67c1875eb3"
      },
      "execution_count": null,
      "outputs": [
        {
          "output_type": "stream",
          "name": "stdout",
          "text": [
            "Collecting langchain-community\n",
            "  Downloading langchain_community-0.3.30-py3-none-any.whl.metadata (3.0 kB)\n",
            "Requirement already satisfied: langchain-core<2.0.0,>=0.3.75 in /usr/local/lib/python3.12/dist-packages (from langchain-community) (0.3.77)\n",
            "Requirement already satisfied: langchain<2.0.0,>=0.3.27 in /usr/local/lib/python3.12/dist-packages (from langchain-community) (0.3.27)\n",
            "Requirement already satisfied: SQLAlchemy<3.0.0,>=1.4.0 in /usr/local/lib/python3.12/dist-packages (from langchain-community) (2.0.43)\n",
            "Collecting requests<3.0.0,>=2.32.5 (from langchain-community)\n",
            "  Downloading requests-2.32.5-py3-none-any.whl.metadata (4.9 kB)\n",
            "Requirement already satisfied: PyYAML<7.0.0,>=5.3.0 in /usr/local/lib/python3.12/dist-packages (from langchain-community) (6.0.3)\n",
            "Requirement already satisfied: aiohttp<4.0.0,>=3.8.3 in /usr/local/lib/python3.12/dist-packages (from langchain-community) (3.12.15)\n",
            "Requirement already satisfied: tenacity!=8.4.0,<10.0.0,>=8.1.0 in /usr/local/lib/python3.12/dist-packages (from langchain-community) (8.5.0)\n",
            "Collecting dataclasses-json<0.7.0,>=0.6.7 (from langchain-community)\n",
            "  Downloading dataclasses_json-0.6.7-py3-none-any.whl.metadata (25 kB)\n",
            "Requirement already satisfied: pydantic-settings<3.0.0,>=2.10.1 in /usr/local/lib/python3.12/dist-packages (from langchain-community) (2.11.0)\n",
            "Requirement already satisfied: langsmith<1.0.0,>=0.1.125 in /usr/local/lib/python3.12/dist-packages (from langchain-community) (0.4.31)\n",
            "Requirement already satisfied: httpx-sse<1.0.0,>=0.4.0 in /usr/local/lib/python3.12/dist-packages (from langchain-community) (0.4.1)\n",
            "Requirement already satisfied: numpy>=1.26.2 in /usr/local/lib/python3.12/dist-packages (from langchain-community) (2.0.2)\n",
            "Requirement already satisfied: aiohappyeyeballs>=2.5.0 in /usr/local/lib/python3.12/dist-packages (from aiohttp<4.0.0,>=3.8.3->langchain-community) (2.6.1)\n",
            "Requirement already satisfied: aiosignal>=1.4.0 in /usr/local/lib/python3.12/dist-packages (from aiohttp<4.0.0,>=3.8.3->langchain-community) (1.4.0)\n",
            "Requirement already satisfied: attrs>=17.3.0 in /usr/local/lib/python3.12/dist-packages (from aiohttp<4.0.0,>=3.8.3->langchain-community) (25.3.0)\n",
            "Requirement already satisfied: frozenlist>=1.1.1 in /usr/local/lib/python3.12/dist-packages (from aiohttp<4.0.0,>=3.8.3->langchain-community) (1.7.0)\n",
            "Requirement already satisfied: multidict<7.0,>=4.5 in /usr/local/lib/python3.12/dist-packages (from aiohttp<4.0.0,>=3.8.3->langchain-community) (6.6.4)\n",
            "Requirement already satisfied: propcache>=0.2.0 in /usr/local/lib/python3.12/dist-packages (from aiohttp<4.0.0,>=3.8.3->langchain-community) (0.3.2)\n",
            "Requirement already satisfied: yarl<2.0,>=1.17.0 in /usr/local/lib/python3.12/dist-packages (from aiohttp<4.0.0,>=3.8.3->langchain-community) (1.20.1)\n",
            "Collecting marshmallow<4.0.0,>=3.18.0 (from dataclasses-json<0.7.0,>=0.6.7->langchain-community)\n",
            "  Downloading marshmallow-3.26.1-py3-none-any.whl.metadata (7.3 kB)\n",
            "Collecting typing-inspect<1,>=0.4.0 (from dataclasses-json<0.7.0,>=0.6.7->langchain-community)\n",
            "  Downloading typing_inspect-0.9.0-py3-none-any.whl.metadata (1.5 kB)\n",
            "Requirement already satisfied: langchain-text-splitters<1.0.0,>=0.3.9 in /usr/local/lib/python3.12/dist-packages (from langchain<2.0.0,>=0.3.27->langchain-community) (0.3.11)\n",
            "Requirement already satisfied: pydantic<3.0.0,>=2.7.4 in /usr/local/lib/python3.12/dist-packages (from langchain<2.0.0,>=0.3.27->langchain-community) (2.11.9)\n",
            "Requirement already satisfied: jsonpatch<2.0.0,>=1.33.0 in /usr/local/lib/python3.12/dist-packages (from langchain-core<2.0.0,>=0.3.75->langchain-community) (1.33)\n",
            "Requirement already satisfied: typing-extensions<5.0.0,>=4.7.0 in /usr/local/lib/python3.12/dist-packages (from langchain-core<2.0.0,>=0.3.75->langchain-community) (4.15.0)\n",
            "Requirement already satisfied: packaging<26.0.0,>=23.2.0 in /usr/local/lib/python3.12/dist-packages (from langchain-core<2.0.0,>=0.3.75->langchain-community) (25.0)\n",
            "Requirement already satisfied: httpx<1,>=0.23.0 in /usr/local/lib/python3.12/dist-packages (from langsmith<1.0.0,>=0.1.125->langchain-community) (0.28.1)\n",
            "Requirement already satisfied: orjson>=3.9.14 in /usr/local/lib/python3.12/dist-packages (from langsmith<1.0.0,>=0.1.125->langchain-community) (3.11.3)\n",
            "Requirement already satisfied: requests-toolbelt>=1.0.0 in /usr/local/lib/python3.12/dist-packages (from langsmith<1.0.0,>=0.1.125->langchain-community) (1.0.0)\n",
            "Requirement already satisfied: zstandard>=0.23.0 in /usr/local/lib/python3.12/dist-packages (from langsmith<1.0.0,>=0.1.125->langchain-community) (0.25.0)\n",
            "Requirement already satisfied: python-dotenv>=0.21.0 in /usr/local/lib/python3.12/dist-packages (from pydantic-settings<3.0.0,>=2.10.1->langchain-community) (1.1.1)\n",
            "Requirement already satisfied: typing-inspection>=0.4.0 in /usr/local/lib/python3.12/dist-packages (from pydantic-settings<3.0.0,>=2.10.1->langchain-community) (0.4.2)\n",
            "Requirement already satisfied: charset_normalizer<4,>=2 in /usr/local/lib/python3.12/dist-packages (from requests<3.0.0,>=2.32.5->langchain-community) (3.4.3)\n",
            "Requirement already satisfied: idna<4,>=2.5 in /usr/local/lib/python3.12/dist-packages (from requests<3.0.0,>=2.32.5->langchain-community) (3.10)\n",
            "Requirement already satisfied: urllib3<3,>=1.21.1 in /usr/local/lib/python3.12/dist-packages (from requests<3.0.0,>=2.32.5->langchain-community) (2.5.0)\n",
            "Requirement already satisfied: certifi>=2017.4.17 in /usr/local/lib/python3.12/dist-packages (from requests<3.0.0,>=2.32.5->langchain-community) (2025.8.3)\n",
            "Requirement already satisfied: greenlet>=1 in /usr/local/lib/python3.12/dist-packages (from SQLAlchemy<3.0.0,>=1.4.0->langchain-community) (3.2.4)\n",
            "Requirement already satisfied: anyio in /usr/local/lib/python3.12/dist-packages (from httpx<1,>=0.23.0->langsmith<1.0.0,>=0.1.125->langchain-community) (4.11.0)\n",
            "Requirement already satisfied: httpcore==1.* in /usr/local/lib/python3.12/dist-packages (from httpx<1,>=0.23.0->langsmith<1.0.0,>=0.1.125->langchain-community) (1.0.9)\n",
            "Requirement already satisfied: h11>=0.16 in /usr/local/lib/python3.12/dist-packages (from httpcore==1.*->httpx<1,>=0.23.0->langsmith<1.0.0,>=0.1.125->langchain-community) (0.16.0)\n",
            "Requirement already satisfied: jsonpointer>=1.9 in /usr/local/lib/python3.12/dist-packages (from jsonpatch<2.0.0,>=1.33.0->langchain-core<2.0.0,>=0.3.75->langchain-community) (3.0.0)\n",
            "Requirement already satisfied: annotated-types>=0.6.0 in /usr/local/lib/python3.12/dist-packages (from pydantic<3.0.0,>=2.7.4->langchain<2.0.0,>=0.3.27->langchain-community) (0.7.0)\n",
            "Requirement already satisfied: pydantic-core==2.33.2 in /usr/local/lib/python3.12/dist-packages (from pydantic<3.0.0,>=2.7.4->langchain<2.0.0,>=0.3.27->langchain-community) (2.33.2)\n",
            "Collecting mypy-extensions>=0.3.0 (from typing-inspect<1,>=0.4.0->dataclasses-json<0.7.0,>=0.6.7->langchain-community)\n",
            "  Downloading mypy_extensions-1.1.0-py3-none-any.whl.metadata (1.1 kB)\n",
            "Requirement already satisfied: sniffio>=1.1 in /usr/local/lib/python3.12/dist-packages (from anyio->httpx<1,>=0.23.0->langsmith<1.0.0,>=0.1.125->langchain-community) (1.3.1)\n",
            "Downloading langchain_community-0.3.30-py3-none-any.whl (2.5 MB)\n",
            "\u001b[2K   \u001b[90m━━━━━━━━━━━━━━━━━━━━━━━━━━━━━━━━━━━━━━━━\u001b[0m \u001b[32m2.5/2.5 MB\u001b[0m \u001b[31m28.5 MB/s\u001b[0m eta \u001b[36m0:00:00\u001b[0m\n",
            "\u001b[?25hDownloading dataclasses_json-0.6.7-py3-none-any.whl (28 kB)\n",
            "Downloading requests-2.32.5-py3-none-any.whl (64 kB)\n",
            "\u001b[2K   \u001b[90m━━━━━━━━━━━━━━━━━━━━━━━━━━━━━━━━━━━━━━━━\u001b[0m \u001b[32m64.7/64.7 kB\u001b[0m \u001b[31m5.4 MB/s\u001b[0m eta \u001b[36m0:00:00\u001b[0m\n",
            "\u001b[?25hDownloading marshmallow-3.26.1-py3-none-any.whl (50 kB)\n",
            "\u001b[2K   \u001b[90m━━━━━━━━━━━━━━━━━━━━━━━━━━━━━━━━━━━━━━━━\u001b[0m \u001b[32m50.9/50.9 kB\u001b[0m \u001b[31m3.5 MB/s\u001b[0m eta \u001b[36m0:00:00\u001b[0m\n",
            "\u001b[?25hDownloading typing_inspect-0.9.0-py3-none-any.whl (8.8 kB)\n",
            "Downloading mypy_extensions-1.1.0-py3-none-any.whl (5.0 kB)\n",
            "Installing collected packages: requests, mypy-extensions, marshmallow, typing-inspect, dataclasses-json, langchain-community\n",
            "  Attempting uninstall: requests\n",
            "    Found existing installation: requests 2.32.4\n",
            "    Uninstalling requests-2.32.4:\n",
            "      Successfully uninstalled requests-2.32.4\n",
            "\u001b[31mERROR: pip's dependency resolver does not currently take into account all the packages that are installed. This behaviour is the source of the following dependency conflicts.\n",
            "google-colab 1.0.0 requires requests==2.32.4, but you have requests 2.32.5 which is incompatible.\u001b[0m\u001b[31m\n",
            "\u001b[0mSuccessfully installed dataclasses-json-0.6.7 langchain-community-0.3.30 marshmallow-3.26.1 mypy-extensions-1.1.0 requests-2.32.5 typing-inspect-0.9.0\n"
          ]
        },
        {
          "output_type": "display_data",
          "data": {
            "application/vnd.colab-display-data+json": {
              "pip_warning": {
                "packages": [
                  "requests"
                ]
              },
              "id": "cfe79220d6b441dca0204f0a1665ee52"
            }
          },
          "metadata": {}
        }
      ]
    },
    {
      "cell_type": "code",
      "source": [
        "pip install langchain-huggingface"
      ],
      "metadata": {
        "colab": {
          "base_uri": "https://localhost:8080/"
        },
        "id": "-GdILE6aN3R2",
        "outputId": "c266f9cb-1e0c-4ee4-8048-970cc5975c87"
      },
      "execution_count": null,
      "outputs": [
        {
          "output_type": "stream",
          "name": "stdout",
          "text": [
            "Collecting langchain-huggingface\n",
            "  Downloading langchain_huggingface-0.3.1-py3-none-any.whl.metadata (996 bytes)\n",
            "Requirement already satisfied: langchain-core<1.0.0,>=0.3.70 in /usr/local/lib/python3.12/dist-packages (from langchain-huggingface) (0.3.77)\n",
            "Requirement already satisfied: tokenizers>=0.19.1 in /usr/local/lib/python3.12/dist-packages (from langchain-huggingface) (0.22.1)\n",
            "Requirement already satisfied: huggingface-hub>=0.33.4 in /usr/local/lib/python3.12/dist-packages (from langchain-huggingface) (0.35.3)\n",
            "Requirement already satisfied: filelock in /usr/local/lib/python3.12/dist-packages (from huggingface-hub>=0.33.4->langchain-huggingface) (3.19.1)\n",
            "Requirement already satisfied: fsspec>=2023.5.0 in /usr/local/lib/python3.12/dist-packages (from huggingface-hub>=0.33.4->langchain-huggingface) (2025.3.0)\n",
            "Requirement already satisfied: packaging>=20.9 in /usr/local/lib/python3.12/dist-packages (from huggingface-hub>=0.33.4->langchain-huggingface) (25.0)\n",
            "Requirement already satisfied: pyyaml>=5.1 in /usr/local/lib/python3.12/dist-packages (from huggingface-hub>=0.33.4->langchain-huggingface) (6.0.3)\n",
            "Requirement already satisfied: requests in /usr/local/lib/python3.12/dist-packages (from huggingface-hub>=0.33.4->langchain-huggingface) (2.32.5)\n",
            "Requirement already satisfied: tqdm>=4.42.1 in /usr/local/lib/python3.12/dist-packages (from huggingface-hub>=0.33.4->langchain-huggingface) (4.67.1)\n",
            "Requirement already satisfied: typing-extensions>=3.7.4.3 in /usr/local/lib/python3.12/dist-packages (from huggingface-hub>=0.33.4->langchain-huggingface) (4.15.0)\n",
            "Requirement already satisfied: hf-xet<2.0.0,>=1.1.3 in /usr/local/lib/python3.12/dist-packages (from huggingface-hub>=0.33.4->langchain-huggingface) (1.1.10)\n",
            "Requirement already satisfied: langsmith<1.0.0,>=0.3.45 in /usr/local/lib/python3.12/dist-packages (from langchain-core<1.0.0,>=0.3.70->langchain-huggingface) (0.4.31)\n",
            "Requirement already satisfied: tenacity!=8.4.0,<10.0.0,>=8.1.0 in /usr/local/lib/python3.12/dist-packages (from langchain-core<1.0.0,>=0.3.70->langchain-huggingface) (8.5.0)\n",
            "Requirement already satisfied: jsonpatch<2.0.0,>=1.33.0 in /usr/local/lib/python3.12/dist-packages (from langchain-core<1.0.0,>=0.3.70->langchain-huggingface) (1.33)\n",
            "Requirement already satisfied: pydantic<3.0.0,>=2.7.4 in /usr/local/lib/python3.12/dist-packages (from langchain-core<1.0.0,>=0.3.70->langchain-huggingface) (2.11.9)\n",
            "Requirement already satisfied: jsonpointer>=1.9 in /usr/local/lib/python3.12/dist-packages (from jsonpatch<2.0.0,>=1.33.0->langchain-core<1.0.0,>=0.3.70->langchain-huggingface) (3.0.0)\n",
            "Requirement already satisfied: httpx<1,>=0.23.0 in /usr/local/lib/python3.12/dist-packages (from langsmith<1.0.0,>=0.3.45->langchain-core<1.0.0,>=0.3.70->langchain-huggingface) (0.28.1)\n",
            "Requirement already satisfied: orjson>=3.9.14 in /usr/local/lib/python3.12/dist-packages (from langsmith<1.0.0,>=0.3.45->langchain-core<1.0.0,>=0.3.70->langchain-huggingface) (3.11.3)\n",
            "Requirement already satisfied: requests-toolbelt>=1.0.0 in /usr/local/lib/python3.12/dist-packages (from langsmith<1.0.0,>=0.3.45->langchain-core<1.0.0,>=0.3.70->langchain-huggingface) (1.0.0)\n",
            "Requirement already satisfied: zstandard>=0.23.0 in /usr/local/lib/python3.12/dist-packages (from langsmith<1.0.0,>=0.3.45->langchain-core<1.0.0,>=0.3.70->langchain-huggingface) (0.25.0)\n",
            "Requirement already satisfied: annotated-types>=0.6.0 in /usr/local/lib/python3.12/dist-packages (from pydantic<3.0.0,>=2.7.4->langchain-core<1.0.0,>=0.3.70->langchain-huggingface) (0.7.0)\n",
            "Requirement already satisfied: pydantic-core==2.33.2 in /usr/local/lib/python3.12/dist-packages (from pydantic<3.0.0,>=2.7.4->langchain-core<1.0.0,>=0.3.70->langchain-huggingface) (2.33.2)\n",
            "Requirement already satisfied: typing-inspection>=0.4.0 in /usr/local/lib/python3.12/dist-packages (from pydantic<3.0.0,>=2.7.4->langchain-core<1.0.0,>=0.3.70->langchain-huggingface) (0.4.2)\n",
            "Requirement already satisfied: charset_normalizer<4,>=2 in /usr/local/lib/python3.12/dist-packages (from requests->huggingface-hub>=0.33.4->langchain-huggingface) (3.4.3)\n",
            "Requirement already satisfied: idna<4,>=2.5 in /usr/local/lib/python3.12/dist-packages (from requests->huggingface-hub>=0.33.4->langchain-huggingface) (3.10)\n",
            "Requirement already satisfied: urllib3<3,>=1.21.1 in /usr/local/lib/python3.12/dist-packages (from requests->huggingface-hub>=0.33.4->langchain-huggingface) (2.5.0)\n",
            "Requirement already satisfied: certifi>=2017.4.17 in /usr/local/lib/python3.12/dist-packages (from requests->huggingface-hub>=0.33.4->langchain-huggingface) (2025.8.3)\n",
            "Requirement already satisfied: anyio in /usr/local/lib/python3.12/dist-packages (from httpx<1,>=0.23.0->langsmith<1.0.0,>=0.3.45->langchain-core<1.0.0,>=0.3.70->langchain-huggingface) (4.11.0)\n",
            "Requirement already satisfied: httpcore==1.* in /usr/local/lib/python3.12/dist-packages (from httpx<1,>=0.23.0->langsmith<1.0.0,>=0.3.45->langchain-core<1.0.0,>=0.3.70->langchain-huggingface) (1.0.9)\n",
            "Requirement already satisfied: h11>=0.16 in /usr/local/lib/python3.12/dist-packages (from httpcore==1.*->httpx<1,>=0.23.0->langsmith<1.0.0,>=0.3.45->langchain-core<1.0.0,>=0.3.70->langchain-huggingface) (0.16.0)\n",
            "Requirement already satisfied: sniffio>=1.1 in /usr/local/lib/python3.12/dist-packages (from anyio->httpx<1,>=0.23.0->langsmith<1.0.0,>=0.3.45->langchain-core<1.0.0,>=0.3.70->langchain-huggingface) (1.3.1)\n",
            "Downloading langchain_huggingface-0.3.1-py3-none-any.whl (27 kB)\n",
            "Installing collected packages: langchain-huggingface\n",
            "Successfully installed langchain-huggingface-0.3.1\n"
          ]
        }
      ]
    },
    {
      "cell_type": "code",
      "metadata": {
        "colab": {
          "base_uri": "https://localhost:8080/"
        },
        "id": "4df997fa",
        "outputId": "76ed71e5-eb8a-4ec7-bd7d-ff7b89e8b892"
      },
      "source": [
        "!pip install faiss-cpu"
      ],
      "execution_count": null,
      "outputs": [
        {
          "output_type": "stream",
          "name": "stdout",
          "text": [
            "Collecting faiss-cpu\n",
            "  Downloading faiss_cpu-1.12.0-cp312-cp312-manylinux_2_27_x86_64.manylinux_2_28_x86_64.whl.metadata (5.1 kB)\n",
            "Requirement already satisfied: numpy<3.0,>=1.25.0 in /usr/local/lib/python3.12/dist-packages (from faiss-cpu) (2.0.2)\n",
            "Requirement already satisfied: packaging in /usr/local/lib/python3.12/dist-packages (from faiss-cpu) (25.0)\n",
            "Downloading faiss_cpu-1.12.0-cp312-cp312-manylinux_2_27_x86_64.manylinux_2_28_x86_64.whl (31.4 MB)\n",
            "\u001b[2K   \u001b[90m━━━━━━━━━━━━━━━━━━━━━━━━━━━━━━━━━━━━━━━━\u001b[0m \u001b[32m31.4/31.4 MB\u001b[0m \u001b[31m36.5 MB/s\u001b[0m eta \u001b[36m0:00:00\u001b[0m\n",
            "\u001b[?25hInstalling collected packages: faiss-cpu\n",
            "Successfully installed faiss-cpu-1.12.0\n"
          ]
        }
      ]
    },
    {
      "cell_type": "code",
      "source": [
        "import os\n",
        "\n",
        "import numpy as np\n",
        "import pandas as pd\n",
        "import matplotlib.pyplot as plt\n",
        "import random\n",
        "\n",
        "import math\n",
        "import json\n",
        "\n",
        "from time import sleep\n",
        "\n",
        "import docx\n",
        "from docx import Document\n",
        "from docx.text.paragraph import Paragraph\n",
        "\n",
        "from tqdm import tqdm\n",
        "\n",
        "random.seed(42)"
      ],
      "metadata": {
        "id": "hCUy9jlhKh8C"
      },
      "execution_count": null,
      "outputs": []
    },
    {
      "cell_type": "markdown",
      "source": [
        "# Задание 1"
      ],
      "metadata": {
        "id": "ybdzOiZMIBaV"
      }
    },
    {
      "cell_type": "markdown",
      "source": [
        "Спарсите любой сайт / телеграм канал / другой текстовый источник, на котором вы бы\n",
        "хотели протестировать инструменты для чанкинга"
      ],
      "metadata": {
        "id": "moSFXcFEIDHR"
      }
    },
    {
      "cell_type": "code",
      "execution_count": null,
      "metadata": {
        "colab": {
          "base_uri": "https://localhost:8080/",
          "height": 89
        },
        "id": "UwsazhE8Hol3",
        "outputId": "bcf19f6e-d180-4e1a-8acc-e8e418fe20eb"
      },
      "outputs": [
        {
          "output_type": "execute_result",
          "data": {
            "text/plain": [
              "Empty DataFrame\n",
              "Columns: [Header, Text, CleanText]\n",
              "Index: []"
            ],
            "text/html": [
              "\n",
              "  <div id=\"df-931c3662-1efd-4ddf-bb6d-d8aafef7c039\" class=\"colab-df-container\">\n",
              "    <div>\n",
              "<style scoped>\n",
              "    .dataframe tbody tr th:only-of-type {\n",
              "        vertical-align: middle;\n",
              "    }\n",
              "\n",
              "    .dataframe tbody tr th {\n",
              "        vertical-align: top;\n",
              "    }\n",
              "\n",
              "    .dataframe thead th {\n",
              "        text-align: right;\n",
              "    }\n",
              "</style>\n",
              "<table border=\"1\" class=\"dataframe\">\n",
              "  <thead>\n",
              "    <tr style=\"text-align: right;\">\n",
              "      <th></th>\n",
              "      <th>Header</th>\n",
              "      <th>Text</th>\n",
              "      <th>CleanText</th>\n",
              "    </tr>\n",
              "  </thead>\n",
              "  <tbody>\n",
              "  </tbody>\n",
              "</table>\n",
              "</div>\n",
              "    <div class=\"colab-df-buttons\">\n",
              "\n",
              "  <div class=\"colab-df-container\">\n",
              "    <button class=\"colab-df-convert\" onclick=\"convertToInteractive('df-931c3662-1efd-4ddf-bb6d-d8aafef7c039')\"\n",
              "            title=\"Convert this dataframe to an interactive table.\"\n",
              "            style=\"display:none;\">\n",
              "\n",
              "  <svg xmlns=\"http://www.w3.org/2000/svg\" height=\"24px\" viewBox=\"0 -960 960 960\">\n",
              "    <path d=\"M120-120v-720h720v720H120Zm60-500h600v-160H180v160Zm220 220h160v-160H400v160Zm0 220h160v-160H400v160ZM180-400h160v-160H180v160Zm440 0h160v-160H620v160ZM180-180h160v-160H180v160Zm440 0h160v-160H620v160Z\"/>\n",
              "  </svg>\n",
              "    </button>\n",
              "\n",
              "  <style>\n",
              "    .colab-df-container {\n",
              "      display:flex;\n",
              "      gap: 12px;\n",
              "    }\n",
              "\n",
              "    .colab-df-convert {\n",
              "      background-color: #E8F0FE;\n",
              "      border: none;\n",
              "      border-radius: 50%;\n",
              "      cursor: pointer;\n",
              "      display: none;\n",
              "      fill: #1967D2;\n",
              "      height: 32px;\n",
              "      padding: 0 0 0 0;\n",
              "      width: 32px;\n",
              "    }\n",
              "\n",
              "    .colab-df-convert:hover {\n",
              "      background-color: #E2EBFA;\n",
              "      box-shadow: 0px 1px 2px rgba(60, 64, 67, 0.3), 0px 1px 3px 1px rgba(60, 64, 67, 0.15);\n",
              "      fill: #174EA6;\n",
              "    }\n",
              "\n",
              "    .colab-df-buttons div {\n",
              "      margin-bottom: 4px;\n",
              "    }\n",
              "\n",
              "    [theme=dark] .colab-df-convert {\n",
              "      background-color: #3B4455;\n",
              "      fill: #D2E3FC;\n",
              "    }\n",
              "\n",
              "    [theme=dark] .colab-df-convert:hover {\n",
              "      background-color: #434B5C;\n",
              "      box-shadow: 0px 1px 3px 1px rgba(0, 0, 0, 0.15);\n",
              "      filter: drop-shadow(0px 1px 2px rgba(0, 0, 0, 0.3));\n",
              "      fill: #FFFFFF;\n",
              "    }\n",
              "  </style>\n",
              "\n",
              "    <script>\n",
              "      const buttonEl =\n",
              "        document.querySelector('#df-931c3662-1efd-4ddf-bb6d-d8aafef7c039 button.colab-df-convert');\n",
              "      buttonEl.style.display =\n",
              "        google.colab.kernel.accessAllowed ? 'block' : 'none';\n",
              "\n",
              "      async function convertToInteractive(key) {\n",
              "        const element = document.querySelector('#df-931c3662-1efd-4ddf-bb6d-d8aafef7c039');\n",
              "        const dataTable =\n",
              "          await google.colab.kernel.invokeFunction('convertToInteractive',\n",
              "                                                    [key], {});\n",
              "        if (!dataTable) return;\n",
              "\n",
              "        const docLinkHtml = 'Like what you see? Visit the ' +\n",
              "          '<a target=\"_blank\" href=https://colab.research.google.com/notebooks/data_table.ipynb>data table notebook</a>'\n",
              "          + ' to learn more about interactive tables.';\n",
              "        element.innerHTML = '';\n",
              "        dataTable['output_type'] = 'display_data';\n",
              "        await google.colab.output.renderOutput(dataTable, element);\n",
              "        const docLink = document.createElement('div');\n",
              "        docLink.innerHTML = docLinkHtml;\n",
              "        element.appendChild(docLink);\n",
              "      }\n",
              "    </script>\n",
              "  </div>\n",
              "\n",
              "\n",
              "  <div id=\"id_1346ae11-a827-46de-ac1e-d4edfd8a445a\">\n",
              "    <style>\n",
              "      .colab-df-generate {\n",
              "        background-color: #E8F0FE;\n",
              "        border: none;\n",
              "        border-radius: 50%;\n",
              "        cursor: pointer;\n",
              "        display: none;\n",
              "        fill: #1967D2;\n",
              "        height: 32px;\n",
              "        padding: 0 0 0 0;\n",
              "        width: 32px;\n",
              "      }\n",
              "\n",
              "      .colab-df-generate:hover {\n",
              "        background-color: #E2EBFA;\n",
              "        box-shadow: 0px 1px 2px rgba(60, 64, 67, 0.3), 0px 1px 3px 1px rgba(60, 64, 67, 0.15);\n",
              "        fill: #174EA6;\n",
              "      }\n",
              "\n",
              "      [theme=dark] .colab-df-generate {\n",
              "        background-color: #3B4455;\n",
              "        fill: #D2E3FC;\n",
              "      }\n",
              "\n",
              "      [theme=dark] .colab-df-generate:hover {\n",
              "        background-color: #434B5C;\n",
              "        box-shadow: 0px 1px 3px 1px rgba(0, 0, 0, 0.15);\n",
              "        filter: drop-shadow(0px 1px 2px rgba(0, 0, 0, 0.3));\n",
              "        fill: #FFFFFF;\n",
              "      }\n",
              "    </style>\n",
              "    <button class=\"colab-df-generate\" onclick=\"generateWithVariable('data')\"\n",
              "            title=\"Generate code using this dataframe.\"\n",
              "            style=\"display:none;\">\n",
              "\n",
              "  <svg xmlns=\"http://www.w3.org/2000/svg\" height=\"24px\"viewBox=\"0 0 24 24\"\n",
              "       width=\"24px\">\n",
              "    <path d=\"M7,19H8.4L18.45,9,17,7.55,7,17.6ZM5,21V16.75L18.45,3.32a2,2,0,0,1,2.83,0l1.4,1.43a1.91,1.91,0,0,1,.58,1.4,1.91,1.91,0,0,1-.58,1.4L9.25,21ZM18.45,9,17,7.55Zm-12,3A5.31,5.31,0,0,0,4.9,8.1,5.31,5.31,0,0,0,1,6.5,5.31,5.31,0,0,0,4.9,4.9,5.31,5.31,0,0,0,6.5,1,5.31,5.31,0,0,0,8.1,4.9,5.31,5.31,0,0,0,12,6.5,5.46,5.46,0,0,0,6.5,12Z\"/>\n",
              "  </svg>\n",
              "    </button>\n",
              "    <script>\n",
              "      (() => {\n",
              "      const buttonEl =\n",
              "        document.querySelector('#id_1346ae11-a827-46de-ac1e-d4edfd8a445a button.colab-df-generate');\n",
              "      buttonEl.style.display =\n",
              "        google.colab.kernel.accessAllowed ? 'block' : 'none';\n",
              "\n",
              "      buttonEl.onclick = () => {\n",
              "        google.colab.notebook.generateWithVariable('data');\n",
              "      }\n",
              "      })();\n",
              "    </script>\n",
              "  </div>\n",
              "\n",
              "    </div>\n",
              "  </div>\n"
            ],
            "application/vnd.google.colaboratory.intrinsic+json": {
              "type": "dataframe",
              "variable_name": "data",
              "repr_error": "Out of range float values are not JSON compliant: nan"
            }
          },
          "metadata": {},
          "execution_count": 50
        }
      ],
      "source": [
        "data = pd.DataFrame(columns=['Header','Text', 'CleanText'])\n",
        "data"
      ]
    },
    {
      "cell_type": "code",
      "source": [
        "def save_to_dataframe(file_path):\n",
        "    global data\n",
        "\n",
        "    doc = Document(file_path)\n",
        "    tab_cnt = 0\n",
        "    curr_par_len = 0\n",
        "    chapters = []\n",
        "\n",
        "    lvl = 0\n",
        "    number_arr = [0, 0, 0, 0, 0, 0, 0, 0, 0, 0]\n",
        "\n",
        "    for el in doc.element.body:\n",
        "        if el.tag.endswith('p'):\n",
        "\n",
        "            paragraph = Paragraph(el, doc)\n",
        "            style = paragraph.style.name\n",
        "\n",
        "            if \"Heading\" in style:\n",
        "\n",
        "                hd_parts = style.split()\n",
        "                curr_lvl = int(hd_parts[-1]) - 1\n",
        "                number_arr[curr_lvl] += 1\n",
        "\n",
        "                # Проверим на заполнение номеров предыдущих уровней\n",
        "                for level in range(curr_lvl):\n",
        "                    if not number_arr[level]:\n",
        "                        number_arr[level] = 1\n",
        "\n",
        "                number = \"\"\n",
        "                for i in range(curr_lvl+1):\n",
        "                    if number:\n",
        "                        number += \".\"\n",
        "                    number += str(number_arr[i])\n",
        "\n",
        "                while curr_lvl < lvl:\n",
        "                    number_arr[lvl] = 0\n",
        "                    lvl -= 1\n",
        "\n",
        "                lvl = curr_lvl\n",
        "\n",
        "                print(f\"Добавлена глава: {number} {el.text.strip()}\")\n",
        "                # print(\"  \"*curr_lvl + number + \" \" + el.text.strip())\n",
        "\n",
        "                curr_par_len = 0\n",
        "\n",
        "                header = el.text.strip()\n",
        "                if type(header) == type(0.0):\n",
        "                    header = \"\"\n",
        "                chapters.append([number + \" \" + header, \"\"])\n",
        "\n",
        "            elif paragraph.text:\n",
        "                curr_par_len += len(paragraph.text)\n",
        "                if len(chapters):\n",
        "                    chapters[-1][-1] += paragraph.text\n",
        "                else:\n",
        "                    chapters.append([paragraph.text[:20], paragraph.text]) # текст до первого заголовка\n",
        "\n",
        "        elif el.tag.endswith('tbl'):\n",
        "            tab_cnt += 1\n",
        "\n",
        "            table_data = []\n",
        "            for row in doc.tables[tab_cnt-1].rows:\n",
        "                row_data = [cell.text.strip() for cell in row.cells]\n",
        "                table_data.append(row_data)\n",
        "\n",
        "            if len(chapters):\n",
        "                chapters[-1][-1] += str(table_data)\n",
        "            else:\n",
        "                chapters.append([str(table_data)[:20], str(table_data)])    # таблица до первого заголовка\n",
        "\n",
        "    for chapter in chapters:\n",
        "        new_row = {'Header': chapter[0], 'Text': chapter[1], 'CleanText': '', 'HTML': ''}\n",
        "        data = pd.concat([data,\n",
        "                          pd.DataFrame([new_row], columns=data.columns)],\n",
        "                         ignore_index = True)\n",
        "    return data"
      ],
      "metadata": {
        "id": "P_7QCW1xKuqa"
      },
      "execution_count": null,
      "outputs": []
    },
    {
      "cell_type": "code",
      "source": [
        "data = save_to_dataframe(\"/content/merged_cr.docx\")"
      ],
      "metadata": {
        "colab": {
          "base_uri": "https://localhost:8080/"
        },
        "id": "bIFSMd1fKwOU",
        "outputId": "fcc0b76b-0834-42d9-aabd-1309672eca82"
      },
      "execution_count": null,
      "outputs": [
        {
          "output_type": "stream",
          "name": "stdout",
          "text": [
            "Добавлена глава: 1 Назначение программного модуля CAD\n",
            "Добавлена глава: 2 Условия выполнения программного модуля CAD\n",
            "Добавлена глава: 3 Выполнение программного модуля CAD\n",
            "Добавлена глава: 3.1 Запуск программного модуля CAD\n",
            "Добавлена глава: 3.2 Управление приложениями\n",
            "Добавлена глава: 3.3 Работа с документами\n",
            "Добавлена глава: 3.3.1 Создание нового документа\n",
            "Добавлена глава: 3.3.2 Открытие документов\n",
            "Добавлена глава: 3.3.3 Сохранение документов\n",
            "Добавлена глава: 3.3.4 Закрытие документа\n",
            "Добавлена глава: 3.3.5 Настройка документов\n",
            "Добавлена глава: 3.3.5.1 Свойства документа\n",
            "Добавлена глава: 3.3.5.2 Атрибуты документа\n",
            "Добавлена глава: 3.3.5.3 История документа\n",
            "Добавлена глава: 3.3.5.4 Стили объектов\n",
            "Добавлена глава: 3.4 Справочная система\n",
            "Добавлена глава: 4 Интерфейс\n",
            "Добавлена глава: 4.1 Окна программного модуля CAD\n",
            "Добавлена глава: 4.1.1 Рабочие окна\n",
            "Добавлена глава: 4.1.2 Вспомогательные окна\n",
            "Добавлена глава: 4.2 Инструментальные панели\n",
            "Добавлена глава: 4.2.1 Панель «Лента»\n",
            "Добавлена глава: 4.2.2 Панель быстрого доступа\n",
            "Добавлена глава: 4.2.3 Панель опций\n",
            "Добавлена глава: 4.2.4 Меню «Файл»\n",
            "Добавлена глава: 4.2.5 Инструментальные панели рабочего окна\n",
            "Добавлена глава: 4.2.6 Контекстное меню\n",
            "Добавлена глава: 4.2.7 Динамическая панель и контекстное меню кнопок\n",
            "Добавлена глава: 4.2.8 Настройка интерфейса\n",
            "Добавлена глава: 4.3 Диалог параметров команд\n",
            "Добавлена глава: 4.4 Установки\n",
            "Добавлена глава: 5 Моделирование\n",
            "Добавлена глава: 5.1 Сервисные функции\n",
            "Добавлена глава: 5.1.1 Регистрация действий по изменению модели\n",
            "Добавлена глава: 5.1.2 Регенерация модели\n",
            "Добавлена глава: 5.1.3 Удаление объектов модели\n",
            "Добавлена глава: 5.1.4 Диагностика состояния\n",
            "Добавлена глава: 5.1.5 Структура модели и история построения\n",
            "Добавлена глава: 5.1.6 Свойства объектов\n",
            "Добавлена глава: 5.1.7 Сведения об объекте\n",
            "Добавлена глава: 5.1.8 Управление объектами через слои\n",
            "Добавлена глава: 5.1.9 Управление приоритетом объектов\n",
            "Добавлена глава: 5.1.10 Сцены\n",
            "Добавлена глава: 5.1.11 Управление представлениями\n"
          ]
        }
      ]
    },
    {
      "cell_type": "code",
      "source": [
        "data.info()"
      ],
      "metadata": {
        "colab": {
          "base_uri": "https://localhost:8080/"
        },
        "id": "uREeIC1xNsCr",
        "outputId": "e849c64a-2c08-4903-c203-5c906d280748"
      },
      "execution_count": null,
      "outputs": [
        {
          "output_type": "stream",
          "name": "stdout",
          "text": [
            "<class 'pandas.core.frame.DataFrame'>\n",
            "RangeIndex: 44 entries, 0 to 43\n",
            "Data columns (total 3 columns):\n",
            " #   Column     Non-Null Count  Dtype \n",
            "---  ------     --------------  ----- \n",
            " 0   Header     44 non-null     object\n",
            " 1   Text       44 non-null     object\n",
            " 2   CleanText  44 non-null     object\n",
            "dtypes: object(3)\n",
            "memory usage: 1.2+ KB\n"
          ]
        }
      ]
    },
    {
      "cell_type": "code",
      "source": [
        "data.head()"
      ],
      "metadata": {
        "colab": {
          "base_uri": "https://localhost:8080/",
          "height": 293
        },
        "id": "SZU391WTVX2i",
        "outputId": "67c1ed39-12c3-4b41-e743-c9b3db975ccf"
      },
      "execution_count": null,
      "outputs": [
        {
          "output_type": "execute_result",
          "data": {
            "text/plain": [
              "                                         Header  \\\n",
              "0          1 Назначение программного модуля CAD   \n",
              "1  2 Условия выполнения программного модуля CAD   \n",
              "2          3 Выполнение программного модуля CAD   \n",
              "3            3.1 Запуск программного модуля CAD   \n",
              "4                   3.2 Управление приложениями   \n",
              "\n",
              "                                                Text CleanText  \n",
              "0  Программный модуль CAD разработан на базе инте...            \n",
              "1  Достаточными условиями выполнения программного...            \n",
              "2                                                               \n",
              "3  Загрузка и запуск программного модуля CAD осущ...            \n",
              "4  Данное окно предназначено для осуществления уп...            "
            ],
            "text/html": [
              "\n",
              "  <div id=\"df-69769c02-40af-4bb8-85d6-a49a46d48c16\" class=\"colab-df-container\">\n",
              "    <div>\n",
              "<style scoped>\n",
              "    .dataframe tbody tr th:only-of-type {\n",
              "        vertical-align: middle;\n",
              "    }\n",
              "\n",
              "    .dataframe tbody tr th {\n",
              "        vertical-align: top;\n",
              "    }\n",
              "\n",
              "    .dataframe thead th {\n",
              "        text-align: right;\n",
              "    }\n",
              "</style>\n",
              "<table border=\"1\" class=\"dataframe\">\n",
              "  <thead>\n",
              "    <tr style=\"text-align: right;\">\n",
              "      <th></th>\n",
              "      <th>Header</th>\n",
              "      <th>Text</th>\n",
              "      <th>CleanText</th>\n",
              "    </tr>\n",
              "  </thead>\n",
              "  <tbody>\n",
              "    <tr>\n",
              "      <th>0</th>\n",
              "      <td>1 Назначение программного модуля CAD</td>\n",
              "      <td>Программный модуль CAD разработан на базе инте...</td>\n",
              "      <td></td>\n",
              "    </tr>\n",
              "    <tr>\n",
              "      <th>1</th>\n",
              "      <td>2 Условия выполнения программного модуля CAD</td>\n",
              "      <td>Достаточными условиями выполнения программного...</td>\n",
              "      <td></td>\n",
              "    </tr>\n",
              "    <tr>\n",
              "      <th>2</th>\n",
              "      <td>3 Выполнение программного модуля CAD</td>\n",
              "      <td></td>\n",
              "      <td></td>\n",
              "    </tr>\n",
              "    <tr>\n",
              "      <th>3</th>\n",
              "      <td>3.1 Запуск программного модуля CAD</td>\n",
              "      <td>Загрузка и запуск программного модуля CAD осущ...</td>\n",
              "      <td></td>\n",
              "    </tr>\n",
              "    <tr>\n",
              "      <th>4</th>\n",
              "      <td>3.2 Управление приложениями</td>\n",
              "      <td>Данное окно предназначено для осуществления уп...</td>\n",
              "      <td></td>\n",
              "    </tr>\n",
              "  </tbody>\n",
              "</table>\n",
              "</div>\n",
              "    <div class=\"colab-df-buttons\">\n",
              "\n",
              "  <div class=\"colab-df-container\">\n",
              "    <button class=\"colab-df-convert\" onclick=\"convertToInteractive('df-69769c02-40af-4bb8-85d6-a49a46d48c16')\"\n",
              "            title=\"Convert this dataframe to an interactive table.\"\n",
              "            style=\"display:none;\">\n",
              "\n",
              "  <svg xmlns=\"http://www.w3.org/2000/svg\" height=\"24px\" viewBox=\"0 -960 960 960\">\n",
              "    <path d=\"M120-120v-720h720v720H120Zm60-500h600v-160H180v160Zm220 220h160v-160H400v160Zm0 220h160v-160H400v160ZM180-400h160v-160H180v160Zm440 0h160v-160H620v160ZM180-180h160v-160H180v160Zm440 0h160v-160H620v160Z\"/>\n",
              "  </svg>\n",
              "    </button>\n",
              "\n",
              "  <style>\n",
              "    .colab-df-container {\n",
              "      display:flex;\n",
              "      gap: 12px;\n",
              "    }\n",
              "\n",
              "    .colab-df-convert {\n",
              "      background-color: #E8F0FE;\n",
              "      border: none;\n",
              "      border-radius: 50%;\n",
              "      cursor: pointer;\n",
              "      display: none;\n",
              "      fill: #1967D2;\n",
              "      height: 32px;\n",
              "      padding: 0 0 0 0;\n",
              "      width: 32px;\n",
              "    }\n",
              "\n",
              "    .colab-df-convert:hover {\n",
              "      background-color: #E2EBFA;\n",
              "      box-shadow: 0px 1px 2px rgba(60, 64, 67, 0.3), 0px 1px 3px 1px rgba(60, 64, 67, 0.15);\n",
              "      fill: #174EA6;\n",
              "    }\n",
              "\n",
              "    .colab-df-buttons div {\n",
              "      margin-bottom: 4px;\n",
              "    }\n",
              "\n",
              "    [theme=dark] .colab-df-convert {\n",
              "      background-color: #3B4455;\n",
              "      fill: #D2E3FC;\n",
              "    }\n",
              "\n",
              "    [theme=dark] .colab-df-convert:hover {\n",
              "      background-color: #434B5C;\n",
              "      box-shadow: 0px 1px 3px 1px rgba(0, 0, 0, 0.15);\n",
              "      filter: drop-shadow(0px 1px 2px rgba(0, 0, 0, 0.3));\n",
              "      fill: #FFFFFF;\n",
              "    }\n",
              "  </style>\n",
              "\n",
              "    <script>\n",
              "      const buttonEl =\n",
              "        document.querySelector('#df-69769c02-40af-4bb8-85d6-a49a46d48c16 button.colab-df-convert');\n",
              "      buttonEl.style.display =\n",
              "        google.colab.kernel.accessAllowed ? 'block' : 'none';\n",
              "\n",
              "      async function convertToInteractive(key) {\n",
              "        const element = document.querySelector('#df-69769c02-40af-4bb8-85d6-a49a46d48c16');\n",
              "        const dataTable =\n",
              "          await google.colab.kernel.invokeFunction('convertToInteractive',\n",
              "                                                    [key], {});\n",
              "        if (!dataTable) return;\n",
              "\n",
              "        const docLinkHtml = 'Like what you see? Visit the ' +\n",
              "          '<a target=\"_blank\" href=https://colab.research.google.com/notebooks/data_table.ipynb>data table notebook</a>'\n",
              "          + ' to learn more about interactive tables.';\n",
              "        element.innerHTML = '';\n",
              "        dataTable['output_type'] = 'display_data';\n",
              "        await google.colab.output.renderOutput(dataTable, element);\n",
              "        const docLink = document.createElement('div');\n",
              "        docLink.innerHTML = docLinkHtml;\n",
              "        element.appendChild(docLink);\n",
              "      }\n",
              "    </script>\n",
              "  </div>\n",
              "\n",
              "\n",
              "    <div id=\"df-4a712158-3ff2-43a6-9a90-17745cf875d1\">\n",
              "      <button class=\"colab-df-quickchart\" onclick=\"quickchart('df-4a712158-3ff2-43a6-9a90-17745cf875d1')\"\n",
              "                title=\"Suggest charts\"\n",
              "                style=\"display:none;\">\n",
              "\n",
              "<svg xmlns=\"http://www.w3.org/2000/svg\" height=\"24px\"viewBox=\"0 0 24 24\"\n",
              "     width=\"24px\">\n",
              "    <g>\n",
              "        <path d=\"M19 3H5c-1.1 0-2 .9-2 2v14c0 1.1.9 2 2 2h14c1.1 0 2-.9 2-2V5c0-1.1-.9-2-2-2zM9 17H7v-7h2v7zm4 0h-2V7h2v10zm4 0h-2v-4h2v4z\"/>\n",
              "    </g>\n",
              "</svg>\n",
              "      </button>\n",
              "\n",
              "<style>\n",
              "  .colab-df-quickchart {\n",
              "      --bg-color: #E8F0FE;\n",
              "      --fill-color: #1967D2;\n",
              "      --hover-bg-color: #E2EBFA;\n",
              "      --hover-fill-color: #174EA6;\n",
              "      --disabled-fill-color: #AAA;\n",
              "      --disabled-bg-color: #DDD;\n",
              "  }\n",
              "\n",
              "  [theme=dark] .colab-df-quickchart {\n",
              "      --bg-color: #3B4455;\n",
              "      --fill-color: #D2E3FC;\n",
              "      --hover-bg-color: #434B5C;\n",
              "      --hover-fill-color: #FFFFFF;\n",
              "      --disabled-bg-color: #3B4455;\n",
              "      --disabled-fill-color: #666;\n",
              "  }\n",
              "\n",
              "  .colab-df-quickchart {\n",
              "    background-color: var(--bg-color);\n",
              "    border: none;\n",
              "    border-radius: 50%;\n",
              "    cursor: pointer;\n",
              "    display: none;\n",
              "    fill: var(--fill-color);\n",
              "    height: 32px;\n",
              "    padding: 0;\n",
              "    width: 32px;\n",
              "  }\n",
              "\n",
              "  .colab-df-quickchart:hover {\n",
              "    background-color: var(--hover-bg-color);\n",
              "    box-shadow: 0 1px 2px rgba(60, 64, 67, 0.3), 0 1px 3px 1px rgba(60, 64, 67, 0.15);\n",
              "    fill: var(--button-hover-fill-color);\n",
              "  }\n",
              "\n",
              "  .colab-df-quickchart-complete:disabled,\n",
              "  .colab-df-quickchart-complete:disabled:hover {\n",
              "    background-color: var(--disabled-bg-color);\n",
              "    fill: var(--disabled-fill-color);\n",
              "    box-shadow: none;\n",
              "  }\n",
              "\n",
              "  .colab-df-spinner {\n",
              "    border: 2px solid var(--fill-color);\n",
              "    border-color: transparent;\n",
              "    border-bottom-color: var(--fill-color);\n",
              "    animation:\n",
              "      spin 1s steps(1) infinite;\n",
              "  }\n",
              "\n",
              "  @keyframes spin {\n",
              "    0% {\n",
              "      border-color: transparent;\n",
              "      border-bottom-color: var(--fill-color);\n",
              "      border-left-color: var(--fill-color);\n",
              "    }\n",
              "    20% {\n",
              "      border-color: transparent;\n",
              "      border-left-color: var(--fill-color);\n",
              "      border-top-color: var(--fill-color);\n",
              "    }\n",
              "    30% {\n",
              "      border-color: transparent;\n",
              "      border-left-color: var(--fill-color);\n",
              "      border-top-color: var(--fill-color);\n",
              "      border-right-color: var(--fill-color);\n",
              "    }\n",
              "    40% {\n",
              "      border-color: transparent;\n",
              "      border-right-color: var(--fill-color);\n",
              "      border-top-color: var(--fill-color);\n",
              "    }\n",
              "    60% {\n",
              "      border-color: transparent;\n",
              "      border-right-color: var(--fill-color);\n",
              "    }\n",
              "    80% {\n",
              "      border-color: transparent;\n",
              "      border-right-color: var(--fill-color);\n",
              "      border-bottom-color: var(--fill-color);\n",
              "    }\n",
              "    90% {\n",
              "      border-color: transparent;\n",
              "      border-bottom-color: var(--fill-color);\n",
              "    }\n",
              "  }\n",
              "</style>\n",
              "\n",
              "      <script>\n",
              "        async function quickchart(key) {\n",
              "          const quickchartButtonEl =\n",
              "            document.querySelector('#' + key + ' button');\n",
              "          quickchartButtonEl.disabled = true;  // To prevent multiple clicks.\n",
              "          quickchartButtonEl.classList.add('colab-df-spinner');\n",
              "          try {\n",
              "            const charts = await google.colab.kernel.invokeFunction(\n",
              "                'suggestCharts', [key], {});\n",
              "          } catch (error) {\n",
              "            console.error('Error during call to suggestCharts:', error);\n",
              "          }\n",
              "          quickchartButtonEl.classList.remove('colab-df-spinner');\n",
              "          quickchartButtonEl.classList.add('colab-df-quickchart-complete');\n",
              "        }\n",
              "        (() => {\n",
              "          let quickchartButtonEl =\n",
              "            document.querySelector('#df-4a712158-3ff2-43a6-9a90-17745cf875d1 button');\n",
              "          quickchartButtonEl.style.display =\n",
              "            google.colab.kernel.accessAllowed ? 'block' : 'none';\n",
              "        })();\n",
              "      </script>\n",
              "    </div>\n",
              "\n",
              "    </div>\n",
              "  </div>\n"
            ],
            "application/vnd.google.colaboratory.intrinsic+json": {
              "type": "dataframe",
              "variable_name": "data",
              "summary": "{\n  \"name\": \"data\",\n  \"rows\": 44,\n  \"fields\": [\n    {\n      \"column\": \"Header\",\n      \"properties\": {\n        \"dtype\": \"string\",\n        \"num_unique_values\": 44,\n        \"samples\": [\n          \"5.1.5 \\u0421\\u0442\\u0440\\u0443\\u043a\\u0442\\u0443\\u0440\\u0430 \\u043c\\u043e\\u0434\\u0435\\u043b\\u0438 \\u0438 \\u0438\\u0441\\u0442\\u043e\\u0440\\u0438\\u044f \\u043f\\u043e\\u0441\\u0442\\u0440\\u043e\\u0435\\u043d\\u0438\\u044f\",\n          \"4.2.4 \\u041c\\u0435\\u043d\\u044e \\u00ab\\u0424\\u0430\\u0439\\u043b\\u00bb\",\n          \"4.2.5 \\u0418\\u043d\\u0441\\u0442\\u0440\\u0443\\u043c\\u0435\\u043d\\u0442\\u0430\\u043b\\u044c\\u043d\\u044b\\u0435 \\u043f\\u0430\\u043d\\u0435\\u043b\\u0438 \\u0440\\u0430\\u0431\\u043e\\u0447\\u0435\\u0433\\u043e \\u043e\\u043a\\u043d\\u0430\"\n        ],\n        \"semantic_type\": \"\",\n        \"description\": \"\"\n      }\n    },\n    {\n      \"column\": \"Text\",\n      \"properties\": {\n        \"dtype\": \"string\",\n        \"num_unique_values\": 41,\n        \"samples\": [\n          \"\\u0412 \\u0440\\u0430\\u0431\\u043e\\u0447\\u0435\\u043c \\u043e\\u043a\\u043d\\u0435 \\u043f\\u0440\\u0435\\u0434\\u0443\\u0441\\u043c\\u043e\\u0442\\u0440\\u0435\\u043d\\u044b \\u0434\\u0432\\u0435 \\u0438\\u043d\\u0441\\u0442\\u0440\\u0443\\u043c\\u0435\\u043d\\u0442\\u0430\\u043b\\u044c\\u043d\\u044b\\u0435 \\u043f\\u0430\\u043d\\u0435\\u043b\\u0438:\\u043a\\u043e\\u043d\\u0442\\u0435\\u043a\\u0441\\u0442\\u043d\\u043e-\\u0437\\u0430\\u0432\\u0438\\u0441\\u0438\\u043c\\u0430\\u044f \\u043f\\u0430\\u043d\\u0435\\u043b\\u044c \\u00ab\\u0412\\u0438\\u0434\\u00bb, \\u0441\\u043e\\u0434\\u0435\\u0440\\u0436\\u0430\\u0449\\u0430\\u044f \\u0444\\u0443\\u043d\\u043a\\u0446\\u0438\\u0438 \\u0443\\u043f\\u0440\\u0430\\u0432\\u043b\\u0435\\u043d\\u0438\\u044f \\u0442\\u0435\\u043a\\u0443\\u0449\\u0438\\u043c \\u0432\\u0438\\u0434\\u043e\\u043c, \\u0432\\u0438\\u0437\\u0443\\u0430\\u043b\\u0438\\u0437\\u0430\\u0446\\u0438\\u0435\\u0439 \\u043c\\u043e\\u0434\\u0435\\u043b\\u0438, \\u0430 \\u0442\\u0430\\u043a\\u0436\\u0435 \\u0441\\u0440\\u0435\\u0434\\u0441\\u0442\\u0432\\u0430\\u043c\\u0438 \\u0432\\u044b\\u0431\\u043e\\u0440\\u0430 \\u043e\\u0431\\u044a\\u0435\\u043a\\u0442\\u043e\\u0432 (\\u0440\\u0438\\u0441.\\u00a0#);\\u0421\\u043f\\u0435\\u0446\\u0438\\u0430\\u043b\\u044c\\u043d\\u0430\\u044f \\u043f\\u0430\\u043d\\u0435\\u043b\\u044c \\u0432\\u0438\\u0434\\u043e\\u0432\\u0420\\u0438\\u0441\\u0443\\u043d\\u043e\\u043a \\u043f\\u0430\\u043d\\u0435\\u043b\\u044c \\u0444\\u0438\\u043b\\u044c\\u0442\\u0440\\u043e\\u0432, \\u043e\\u043f\\u0440\\u0435\\u0434\\u0435\\u043b\\u044f\\u044e\\u0449\\u0430\\u044f \\u0432\\u044b\\u0431\\u043e\\u0440 \\u043e\\u0431\\u044a\\u0435\\u043a\\u0442\\u043e\\u0432 \\u0432 \\u0437\\u0430\\u0432\\u0438\\u0441\\u0438\\u043c\\u043e\\u0441\\u0442\\u0438 \\u043e\\u0442 \\u0438\\u0445 \\u0442\\u0438\\u043f\\u0430 (\\u0440\\u0438\\u0441.\\u00a0#).\\u0421\\u043f\\u0435\\u0446\\u0438\\u0430\\u043b\\u044c\\u043d\\u0430\\u044f \\u043f\\u0430\\u043d\\u0435\\u043b\\u044c \\u0444\\u0438\\u043b\\u044c\\u0442\\u0440\\u043e\\u0432\\u0420\\u0438\\u0441\\u0443\\u043d\\u043e\\u043a \\u0412 \\u043f\\u0440\\u0435\\u0434\\u0435\\u043b\\u0430\\u0445 \\u0440\\u0430\\u0431\\u043e\\u0447\\u0435\\u0433\\u043e \\u043e\\u043a\\u043d\\u0430 \\u0434\\u043e\\u043f\\u0443\\u0441\\u043a\\u0430\\u0435\\u0442\\u0441\\u044f \\u0440\\u0430\\u0437\\u043c\\u0435\\u0449\\u0430\\u0442\\u044c \\u0438\\u043d\\u0441\\u0442\\u0440\\u0443\\u043c\\u0435\\u043d\\u0442\\u0430\\u043b\\u044c\\u043d\\u0443\\u044e \\u043f\\u0430\\u043d\\u0435\\u043b\\u044c \\u00ab\\u0412\\u0438\\u0434\\u00bb \\u0438 \\u043f\\u0430\\u043d\\u0435\\u043b\\u044c \\u0444\\u0438\\u043b\\u044c\\u0442\\u0440\\u043e\\u0432 \\u043f\\u043e \\u0443\\u0441\\u043c\\u043e\\u0442\\u0440\\u0435\\u043d\\u0438\\u044e \\u043f\\u043e\\u043b\\u044c\\u0437\\u043e\\u0432\\u0430\\u0442\\u0435\\u043b\\u044f. \\u0414\\u043b\\u044f \\u044d\\u0442\\u043e\\u0433\\u043e \\u0441\\u043b\\u0435\\u0434\\u0443\\u0435\\u0442 \\u0432\\u044b\\u0437\\u0432\\u0430\\u0442\\u044c \\u043a\\u043e\\u043d\\u0442\\u0435\\u043a\\u0441\\u0442\\u043d\\u043e\\u0435 \\u043c\\u0435\\u043d\\u044e \\u0438 \\u0443\\u043a\\u0430\\u0437\\u0430\\u0442\\u044c \\u043d\\u0435\\u043e\\u0431\\u0445\\u043e\\u0434\\u0438\\u043c\\u043e\\u0435 \\u043f\\u043e\\u043b\\u043e\\u0436\\u0435\\u043d\\u0438\\u0435. \\u041f\\u0440\\u0438 \\u043d\\u0435\\u043e\\u0431\\u0445\\u043e\\u0434\\u0438\\u043c\\u043e\\u0441\\u0442\\u0438 \\u043f\\u0430\\u043d\\u0435\\u043b\\u0438 \\u043c\\u043e\\u0436\\u043d\\u043e \\u0441\\u043a\\u0440\\u044b\\u0442\\u044c (\\u0440\\u0438\\u0441.\\u00a0\\u0420\\u0438\\u0441\\u0443\\u043d\\u043e\\u043a).\\u0420\\u0430\\u0437\\u043c\\u0435\\u0449\\u0435\\u043d\\u0438\\u0435 \\u0438\\u043d\\u0441\\u0442\\u0440\\u0443\\u043c\\u0435\\u043d\\u0442\\u0430\\u043b\\u044c\\u043d\\u044b\\u0445 \\u043f\\u0430\\u043d\\u0435\\u043b\\u0435\\u0439\\u0420\\u0438\\u0441\\u0443\\u043d\\u043e\\u043a \\u0420\\u0430\\u0437\\u043c\\u0435\\u0440 \\u0438\\u043a\\u043e\\u043d\\u043e\\u043a \\u043f\\u0430\\u043d\\u0435\\u043b\\u0435\\u0439 \\u043e\\u043f\\u0440\\u0435\\u0434\\u0435\\u043b\\u044f\\u0435\\u0442\\u0441\\u044f \\u0441\\u043e\\u043e\\u0442\\u0432\\u0435\\u0442\\u0441\\u0442\\u0432\\u0443\\u044e\\u0449\\u0438\\u043c\\u0438 \\u043f\\u0430\\u0440\\u0430\\u043c\\u0435\\u0442\\u0440\\u0430\\u043c\\u0438 \\u0432 \\u043e\\u043a\\u043d\\u0435 \\u0443\\u0441\\u0442\\u0430\\u043d\\u043e\\u0432\\u043e\\u043a \\u043f\\u0440\\u043e\\u0433\\u0440\\u0430\\u043c\\u043c\\u043d\\u043e\\u0433\\u043e \\u043c\\u043e\\u0434\\u0443\\u043b\\u044f CAD.\",\n          \"\\u041f\\u043e\\u0434 \\u0441\\u0442\\u0438\\u043b\\u0435\\u043c \\u0441\\u043b\\u0435\\u0434\\u0443\\u0435\\u0442 \\u043f\\u043e\\u043d\\u0438\\u043c\\u0430\\u0442\\u044c \\u043f\\u0440\\u0435\\u0434\\u0443\\u0441\\u0442\\u0430\\u043d\\u043e\\u0432\\u043b\\u0435\\u043d\\u043d\\u044b\\u0439 \\u043d\\u0430\\u0431\\u043e\\u0440 \\u0441\\u0432\\u043e\\u0439\\u0441\\u0442\\u0432 \\u043a\\u043e\\u043d\\u043a\\u0440\\u0435\\u0442\\u043d\\u043e\\u0433\\u043e \\u0442\\u0438\\u043f\\u0430 \\u043e\\u0431\\u044a\\u0435\\u043a\\u0442\\u043e\\u0432, \\u043e\\u043f\\u0440\\u0435\\u0434\\u0435\\u043b\\u044f\\u044e\\u0449\\u0438\\u0445 \\u0435\\u0433\\u043e \\u043e\\u0442\\u043e\\u0431\\u0440\\u0430\\u0436\\u0435\\u043d\\u0438\\u0435, \\u0445\\u0430\\u0440\\u0430\\u043a\\u0442\\u0435\\u0440\\u0438\\u0441\\u0442\\u0438\\u043a\\u0438, \\u043d\\u0430\\u0437\\u043d\\u0430\\u0447\\u0435\\u043d\\u0438\\u0435 \\u0438 \\u0434\\u0440\\u0443\\u0433\\u0438\\u0435 \\u0445\\u0430\\u0440\\u0430\\u043a\\u0442\\u0435\\u0440\\u043d\\u044b\\u0435 \\u0430\\u0442\\u0440\\u0438\\u0431\\u0443\\u0442\\u044b. \\u0414\\u043b\\u044f \\u0441\\u043e\\u0437\\u0434\\u0430\\u043d\\u0438\\u044f \\u0441\\u0442\\u0438\\u043b\\u0435\\u0439 \\u043f\\u0440\\u0435\\u0434\\u0443\\u0441\\u043c\\u043e\\u0442\\u0440\\u0435\\u043d\\u0430 \\u0441\\u043f\\u0435\\u0446\\u0438\\u0430\\u043b\\u044c\\u043d\\u0430\\u044f \\u043a\\u043e\\u043c\\u0430\\u043d\\u0434\\u0430.\\u0412\\u044b\\u0437\\u043e\\u0432 \\u043a\\u043e\\u043c\\u0430\\u043d\\u0434\\u044b \\u00ab\\u0421\\u043e\\u0437\\u0434\\u0430\\u0442\\u044c \\u0441\\u0442\\u0438\\u043b\\u044c\\u00bb  \\u043e\\u0441\\u0443\\u0449\\u0435\\u0441\\u0442\\u0432\\u043b\\u044f\\u0435\\u0442\\u0441\\u044f \\u0438\\u0437 \\u043f\\u0430\\u043d\\u0435\\u043b\\u0438 \\u00ab\\u041b\\u0435\\u043d\\u0442\\u0430\\u00bb\\u00a0(\\u0432\\u043a\\u043b\\u0430\\u0434\\u043a\\u0438 \\u00ab\\u041c\\u043e\\u0434\\u0435\\u043b\\u044c\\u00bb, \\u00ab\\u0427\\u0435\\u0440\\u0442\\u0451\\u0436\\u00bb, \\u0433\\u0440\\u0443\\u043f\\u043f\\u0430 \\u00ab\\u0414\\u043e\\u043f\\u043e\\u043b\\u043d\\u0438\\u0442\\u0435\\u043b\\u044c\\u043d\\u043e\\u00bb). \\u041f\\u043e\\u0441\\u043b\\u0435 \\u0437\\u0430\\u043f\\u0443\\u0441\\u043a\\u0430 \\u043f\\u043e\\u044f\\u0432\\u0438\\u0442\\u0441\\u044f \\u0434\\u0438\\u0430\\u043b\\u043e\\u0433 \\u043f\\u0430\\u0440\\u0430\\u043c\\u0435\\u0442\\u0440\\u043e\\u0432 (\\u0440\\u0438\\u0441. \\u0420\\u0438\\u0441\\u0443\\u043d\\u043e\\u043a).\\u0414\\u0438\\u0430\\u043b\\u043e\\u0433 \\u00ab\\u0421\\u043e\\u0437\\u0434\\u0430\\u0442\\u044c \\u0441\\u0442\\u0438\\u043b\\u044c\\u00bb\\u0420\\u0438\\u0441\\u0443\\u043d\\u043e\\u043a \\u0422\\u0438\\u043f \\u043e\\u0431\\u044a\\u0435\\u043a\\u0442\\u0430 \\u043c\\u043e\\u0434\\u0435\\u043b\\u0438, \\u0434\\u043b\\u044f \\u043a\\u043e\\u0442\\u043e\\u0440\\u043e\\u0433\\u043e \\u043d\\u0435\\u043e\\u0431\\u0445\\u043e\\u0434\\u0438\\u043c\\u043e \\u0441\\u043e\\u0437\\u0434\\u0430\\u0442\\u044c \\u0441\\u0442\\u0438\\u043b\\u044c, \\u043e\\u043f\\u0440\\u0435\\u0434\\u0435\\u043b\\u044f\\u0435\\u0442\\u0441\\u044f \\u043f\\u0430\\u0440\\u0430\\u043c\\u0435\\u0442\\u0440\\u043e\\u043c \\u00ab\\u0422\\u0438\\u043f \\u0441\\u0442\\u0438\\u043b\\u044f\\u00bb. \\u0414\\u043e\\u0441\\u0442\\u0443\\u043f\\u043d\\u044b \\u0441\\u043b\\u0435\\u0434\\u0443\\u044e\\u0449\\u0438\\u0435 \\u0442\\u0438\\u043f\\u044b \\u0441\\u0442\\u0438\\u043b\\u0435\\u0439:\\u00ab\\u0412\\u0438\\u0437\\u0443\\u0430\\u043b\\u044c\\u043d\\u044b\\u0435 \\u0441\\u0432\\u043e\\u0439\\u0441\\u0442\\u0432\\u0430\\u00bb;\\u00ab\\u0421\\u0442\\u0438\\u043b\\u044c \\u043b\\u0438\\u043d\\u0438\\u0438\\u00bb;\\u00ab\\u0421\\u0442\\u0438\\u043b\\u044c \\u0437\\u0430\\u043f\\u043e\\u043b\\u043d\\u0435\\u043d\\u0438\\u044f\\u00bb;\\u00ab\\u0421\\u0442\\u0438\\u043b\\u044c 2D\\u0442\\u043e\\u0447\\u043a\\u0438\\u00bb;\\u00ab\\u0421\\u0442\\u0438\\u043b\\u044c 3D\\u0442\\u043e\\u0447\\u043a\\u0438\\u00bb;\\u00ab\\u0421\\u0442\\u0438\\u043b\\u044c \\u041b\\u0421\\u041a\\u00bb;\\u00ab\\u0421\\u0442\\u0438\\u043b\\u044c \\u0420\\u041f\\u00bb;\\u00ab\\u0421\\u0442\\u0438\\u043b\\u044c \\u0442\\u0435\\u043a\\u0441\\u0442\\u0430\\u00bb;\\u00ab\\u041f\\u0430\\u0440\\u0430\\u043c\\u0435\\u0442\\u0440\\u044b \\u0441\\u0435\\u0442\\u043a\\u0438\\u00bb;\\u00ab\\u041c\\u0430\\u0442\\u0435\\u0440\\u0438\\u0430\\u043b\\u00bb.\\u041f\\u043e\\u043b\\u0435 \\u00ab\\u0411\\u0430\\u0437\\u043e\\u0432\\u044b\\u0439 \\u0441\\u0442\\u0438\\u043b\\u044c\\u00bb \\u043f\\u0440\\u0435\\u0434\\u0443\\u0441\\u043c\\u043e\\u0442\\u0440\\u0435\\u043d\\u043e \\u0434\\u043b\\u044f \\u0432\\u044b\\u0431\\u043e\\u0440\\u0430 \\u0441\\u0443\\u0449\\u0435\\u0441\\u0442\\u0432\\u0443\\u044e\\u0449\\u0435\\u0433\\u043e \\u0441\\u0442\\u0438\\u043b\\u044f, \\u043d\\u0430 \\u043e\\u0441\\u043d\\u043e\\u0432\\u0435 \\u043a\\u043e\\u0442\\u043e\\u0440\\u043e\\u0433\\u043e \\u043d\\u0435\\u043e\\u0431\\u0445\\u043e\\u0434\\u0438\\u043c\\u043e \\u0441\\u043e\\u0437\\u0434\\u0430\\u0442\\u044c \\u043d\\u043e\\u0432\\u044b\\u0439, \\u043b\\u0438\\u0431\\u043e \\u0443\\u043a\\u0430\\u0437\\u0430\\u043d\\u0438\\u044f \\u043e \\u0441\\u043e\\u0437\\u0434\\u0430\\u043d\\u0438\\u0438 \\u043d\\u043e\\u0432\\u043e\\u0433\\u043e \\u0441\\u0442\\u0438\\u043b\\u044f.\\u0418\\u043c\\u044f \\u0432\\u043d\\u043e\\u0432\\u044c \\u0441\\u043e\\u0437\\u0434\\u0430\\u0432\\u0430\\u0435\\u043c\\u043e\\u0433\\u043e \\u0441\\u0442\\u0438\\u043b\\u044f \\u0443\\u043a\\u0430\\u0437\\u044b\\u0432\\u0430\\u0435\\u0442\\u0441\\u044f \\u0432 \\u0441\\u043e\\u043e\\u0442\\u0432\\u0435\\u0442\\u0441\\u0442\\u0432\\u0443\\u044e\\u0449\\u0435\\u043c \\u043f\\u043e\\u043b\\u0435 \\u0434\\u0438\\u0430\\u043b\\u043e\\u0433\\u0430 \\u043f\\u0430\\u0440\\u0430\\u043c\\u0435\\u0442\\u0440\\u043e\\u0432.\\u0423\\u043f\\u0440\\u0430\\u0432\\u043b\\u0435\\u043d\\u0438\\u0435 \\u0441\\u0432\\u043e\\u0439\\u0441\\u0442\\u0432\\u0430\\u043c\\u0438 \\u0432\\u043d\\u043e\\u0432\\u044c \\u0441\\u043e\\u0437\\u0434\\u0430\\u043d\\u043d\\u043e\\u0433\\u043e \\u0441\\u0442\\u0438\\u043b\\u044f \\u043e\\u0441\\u0443\\u0449\\u0435\\u0441\\u0442\\u0432\\u043b\\u044f\\u0435\\u0442\\u0441\\u044f \\u0432 \\u043e\\u043a\\u043d\\u0435 \\u00ab\\u0421\\u0432\\u043e\\u0439\\u0441\\u0442\\u0432\\u0430\\u00bb.\\u0420\\u0435\\u0436\\u0438\\u043c \\u00ab\\u041f\\u0440\\u043e\\u0434\\u043e\\u043b\\u0436\\u0438\\u0442\\u044c \\u0441\\u043e\\u0437\\u0434\\u0430\\u043d\\u0438\\u0435\\u00bb \\u043f\\u0440\\u0435\\u0434\\u043f\\u043e\\u043b\\u0430\\u0433\\u0430\\u0435\\u0442, \\u0447\\u0442\\u043e \\u043f\\u043e\\u0441\\u043b\\u0435 \\u043f\\u043e\\u0434\\u0442\\u0432\\u0435\\u0440\\u0436\\u0434\\u0435\\u043d\\u0438\\u044f \\u0441\\u043e\\u0437\\u0434\\u0430\\u043d\\u0438\\u044f \\u043e\\u0442\\u0440\\u0435\\u0437\\u043a\\u0430 \\u0441\\u0438\\u0441\\u0442\\u0435\\u043c\\u0430 \\u043f\\u0440\\u043e\\u0434\\u043e\\u043b\\u0436\\u0430\\u0435\\u0442 \\u0440\\u0430\\u0431\\u043e\\u0442\\u0443 \\u043a\\u043e\\u043c\\u0430\\u043d\\u0434\\u044b.\\u041f\\u043e\\u0434\\u0442\\u0432\\u0435\\u0440\\u0436\\u0434\\u0435\\u043d\\u0438\\u0435 \\u0441\\u043e\\u0437\\u0434\\u0430\\u043d\\u0438\\u044f \\u0441\\u0442\\u0438\\u043b\\u044f \\u043e\\u0441\\u0443\\u0449\\u0435\\u0441\\u0442\\u0432\\u043b\\u044f\\u0435\\u0442\\u0441\\u044f \\u043f\\u043e \\u043a\\u043d\\u043e\\u043f\\u043a\\u0435 \\u00ab\\u041e\\u043a\\u00bb\\u00a0; \\u043e\\u0442\\u043c\\u0435\\u043d\\u0430 \\u0441\\u043e\\u0437\\u0434\\u0430\\u043d\\u0438\\u044f \\u2013 \\u043f\\u043e \\u043a\\u043d\\u043e\\u043f\\u043a\\u0435 \\u00ab\\u041e\\u0442\\u043c\\u0435\\u043d\\u0430\\u00bb .\",\n          \"\\u041a\\u043e\\u043c\\u0430\\u043d\\u0434\\u0430 \\u00ab\\u0421\\u043e\\u0445\\u0440\\u0430\\u043d\\u0438\\u0442\\u044c\\u00bb  \\u0432\\u044b\\u043f\\u043e\\u043b\\u043d\\u044f\\u0435\\u0442 \\u0441\\u043e\\u0445\\u0440\\u0430\\u043d\\u0435\\u043d\\u0438\\u0435 \\u0442\\u0435\\u043a\\u0443\\u0449\\u0435\\u0433\\u043e \\u0430\\u043a\\u0442\\u0438\\u0432\\u043d\\u043e\\u0433\\u043e \\u0434\\u043e\\u043a\\u0443\\u043c\\u0435\\u043d\\u0442\\u0430. \\u0415\\u0441\\u043b\\u0438 \\u0434\\u043e\\u043a\\u0443\\u043c\\u0435\\u043d\\u0442 \\u0431\\u044b\\u043b \\u0441\\u043e\\u0437\\u0434\\u0430\\u043d \\u0440\\u0430\\u043d\\u0435\\u0435 \\u0438 \\u043d\\u0430\\u0445\\u043e\\u0434\\u0438\\u043b\\u0441\\u044f \\u043d\\u0430 \\u0440\\u0435\\u0434\\u0430\\u043a\\u0442\\u0438\\u0440\\u043e\\u0432\\u0430\\u043d\\u0438\\u0438, \\u0442\\u043e \\u043a\\u043e\\u043c\\u0430\\u043d\\u0434\\u0430 \\u0432\\u044b\\u043f\\u043e\\u043b\\u043d\\u0438\\u0442 \\u0441\\u043e\\u0445\\u0440\\u0430\\u043d\\u0435\\u043d\\u0438\\u0435 \\u044d\\u0442\\u043e\\u0433\\u043e \\u0434\\u043e\\u043a\\u0443\\u043c\\u0435\\u043d\\u0442\\u0430, \\u0430 \\u0435\\u0441\\u043b\\u0438 \\u0440\\u0430\\u0431\\u043e\\u0442\\u0430 \\u043f\\u0440\\u043e\\u0438\\u0441\\u0445\\u043e\\u0434\\u0438\\u043b\\u0430 \\u0432 \\u043d\\u043e\\u0432\\u043e\\u043c \\u0434\\u043e\\u043a\\u0443\\u043c\\u0435\\u043d\\u0442\\u0435, \\u0442\\u043e \\u0441\\u0438\\u0441\\u0442\\u0435\\u043c\\u0430 \\u043f\\u0440\\u0435\\u0434\\u043b\\u043e\\u0436\\u0438\\u0442 \\u0432\\u044b\\u0431\\u0440\\u0430\\u0442\\u044c \\u0434\\u0438\\u0440\\u0435\\u043a\\u0442\\u043e\\u0440\\u0438\\u044e \\u0434\\u043b\\u044f \\u0441\\u043e\\u0445\\u0440\\u0430\\u043d\\u0435\\u043d\\u0438\\u044f \\u0438 \\u0443\\u043a\\u0430\\u0437\\u0430\\u0442\\u044c \\u0438\\u043c\\u044f \\u0438 \\u0444\\u043e\\u0440\\u043c\\u0430\\u0442 \\u0444\\u0430\\u0439\\u043b\\u0430.\\u041a\\u043e\\u043c\\u0430\\u043d\\u0434\\u0430 \\u00ab\\u0421\\u043e\\u0445\\u0440\\u0430\\u043d\\u0438\\u0442\\u044c \\u043a\\u0430\\u043a\\u00bb  \\u0432\\u044b\\u0437\\u044b\\u0432\\u0430\\u0435\\u0442 \\u0441\\u0442\\u0430\\u043d\\u0434\\u0430\\u0440\\u0442\\u043d\\u044b\\u0439 \\u0434\\u0438\\u0430\\u043b\\u043e\\u0433 \\u0441\\u043e\\u0445\\u0440\\u0430\\u043d\\u0435\\u043d\\u0438\\u044f \\u0430\\u043a\\u0442\\u0438\\u0432\\u043d\\u043e\\u0433\\u043e \\u0434\\u043e\\u043a\\u0443\\u043c\\u0435\\u043d\\u0442\\u0430 \\u0432 \\u0444\\u0430\\u0439\\u043b \\u0441 \\u0432\\u043e\\u0437\\u043c\\u043e\\u0436\\u043d\\u043e\\u0441\\u0442\\u044c\\u044e \\u0432\\u044b\\u0431\\u043e\\u0440\\u0430 \\u0434\\u0438\\u0440\\u0435\\u043a\\u0442\\u043e\\u0440\\u0438\\u0438 \\u0441\\u043e\\u0445\\u0440\\u0430\\u043d\\u0435\\u043d\\u0438\\u044f, \\u0437\\u0430\\u0434\\u0430\\u043d\\u0438\\u044f \\u0438\\u043c\\u0435\\u043d\\u0438 \\u0438 \\u0442\\u0438\\u043f\\u0430 \\u0444\\u0430\\u0439\\u043b\\u0430.\\u041f\\u0440\\u0438 \\u043d\\u0435\\u043e\\u0431\\u0445\\u043e\\u0434\\u0438\\u043c\\u043e\\u0441\\u0442\\u0438 \\u0441\\u0438\\u0441\\u0442\\u0435\\u043c\\u0430 \\u043c\\u043e\\u0436\\u0435\\u0442 \\u0430\\u0432\\u0442\\u043e\\u043c\\u0430\\u0442\\u0438\\u0447\\u0435\\u0441\\u043a\\u0438 \\u0441\\u043e\\u0445\\u0440\\u0430\\u043d\\u044f\\u0442\\u044c \\u0434\\u043e\\u043a\\u0443\\u043c\\u0435\\u043d\\u0442 \\u0441 \\u0437\\u0430\\u0434\\u0430\\u043d\\u043d\\u044b\\u043c \\u0438\\u043d\\u0442\\u0435\\u0440\\u0432\\u0430\\u043b\\u043e\\u043c \\u043f\\u043e \\u0432\\u0440\\u0435\\u043c\\u0435\\u043d\\u0438. \\u0410\\u0432\\u0442\\u043e\\u0441\\u043e\\u0445\\u0440\\u0430\\u043d\\u0435\\u043d\\u0438\\u0435 \\u043f\\u043e\\u0437\\u0432\\u043e\\u043b\\u044f\\u0435\\u0442 \\u043c\\u0438\\u043d\\u0438\\u043c\\u0438\\u0437\\u0438\\u0440\\u043e\\u0432\\u0430\\u0442\\u044c \\u0440\\u0438\\u0441\\u043a \\u043f\\u043e\\u0442\\u0435\\u0440\\u0438 \\u0434\\u0430\\u043d\\u043d\\u044b\\u0445 \\u0432 \\u0440\\u0435\\u0437\\u0443\\u043b\\u044c\\u0442\\u0430\\u0442\\u0435 \\u043d\\u0435\\u0437\\u0430\\u043f\\u043b\\u0430\\u043d\\u0438\\u0440\\u043e\\u0432\\u0430\\u043d\\u043d\\u043e\\u0433\\u043e \\u0437\\u0430\\u043a\\u0440\\u044b\\u0442\\u0438\\u044f \\u0441\\u0438\\u0441\\u0442\\u0435\\u043c\\u044b. \\u0410\\u043a\\u0442\\u0438\\u0432\\u0430\\u0446\\u0438\\u0438 \\u0444\\u0443\\u043d\\u043a\\u0446\\u0438\\u0438 \\u0430\\u0432\\u0442\\u043e\\u043c\\u0430\\u0442\\u0438\\u0447\\u0435\\u0441\\u043a\\u043e\\u0433\\u043e \\u0441\\u043e\\u0445\\u0440\\u0430\\u043d\\u0435\\u043d\\u0438\\u044f \\u043e\\u0441\\u0443\\u0449\\u0435\\u0441\\u0442\\u0432\\u043b\\u044f\\u0435\\u0442\\u0441\\u044f \\u0432 \\u0434\\u0438\\u0430\\u043b\\u043e\\u0433\\u0435 \\u043f\\u0430\\u0440\\u0430\\u043c\\u0435\\u0442\\u0440\\u043e\\u0432 \\u0430\\u0432\\u0442\\u043e\\u0441\\u043e\\u0445\\u0440\\u0430\\u043d\\u0435\\u043d\\u0438\\u044f (\\u0440\\u0438\\u0441. \\u0420\\u0438\\u0441\\u0443\\u043d\\u043e\\u043a).\\u041f\\u0430\\u0440\\u0430\\u043c\\u0435\\u0442\\u0440\\u044b \\u0430\\u0432\\u0442\\u043e\\u0441\\u043e\\u0445\\u0440\\u0430\\u043d\\u0435\\u043d\\u0438\\u044f\\u0420\\u0438\\u0441\\u0443\\u043d\\u043e\\u043a \\u0424\\u043b\\u0430\\u0433 \\u00ab\\u0410\\u0432\\u0442\\u043e\\u0441\\u043e\\u0445\\u0440\\u0430\\u043d\\u0435\\u043d\\u0438\\u0435 \\u0434\\u043e\\u043a\\u0443\\u043c\\u0435\\u043d\\u0442\\u043e\\u0432\\u00bb \\u0432\\u043a\\u043b\\u044e\\u0447\\u0430\\u0435\\u0442 \\u0444\\u0443\\u043d\\u043a\\u0446\\u0438\\u044e \\u0430\\u0432\\u0442\\u043e\\u0441\\u043e\\u0445\\u0440\\u0430\\u043d\\u0435\\u043d\\u0438\\u044f.\\u041f\\u043e\\u043b\\u0435 \\u00ab\\u0418\\u043d\\u0442\\u0435\\u0440\\u0432\\u0430\\u043b \\u0441\\u043e\\u0445\\u0440\\u0430\\u043d\\u0435\\u043d\\u0438\\u044f\\u00bb \\u0437\\u0430\\u0434\\u0430\\u0435\\u0442 \\u0438\\u043d\\u0442\\u0435\\u0440\\u0432\\u0430\\u043b \\u0430\\u0432\\u0442\\u043e\\u043c\\u0430\\u0442\\u0438\\u0447\\u0435\\u0441\\u043a\\u043e\\u0433\\u043e \\u0441\\u043e\\u0445\\u0440\\u0430\\u043d\\u0435\\u043d\\u0438\\u044f \\u0432 \\u043c\\u0438\\u043d\\u0443\\u0442\\u0430\\u0445.\\u0424\\u043b\\u0430\\u0433 \\u00ab\\u0421\\u043e\\u0445\\u0440\\u0430\\u043d\\u044f\\u0442\\u044c \\u043a\\u0430\\u0436\\u0434\\u0443\\u044e \\u043a\\u043e\\u043f\\u0438\\u044e \\u0432 \\u043e\\u0442\\u0434\\u0435\\u043b\\u044c\\u043d\\u044b\\u0439 \\u0444\\u0430\\u0439\\u043b\\u00bb \\u043f\\u043e\\u0437\\u0432\\u043e\\u043b\\u044f\\u0435\\u0442 \\u0441\\u043e\\u0437\\u0434\\u0430\\u0432\\u0430\\u0442\\u044c \\u0434\\u043b\\u044f \\u043a\\u0430\\u0436\\u0434\\u043e\\u0439 \\u043a\\u043e\\u043f\\u0438\\u0438 \\u043e\\u0442\\u0434\\u0435\\u043b\\u044c\\u043d\\u044b\\u0439 \\u0434\\u043e\\u043a\\u0443\\u043c\\u0435\\u043d\\u0442. \\u0424\\u043b\\u0430\\u0433 \\u043c\\u043e\\u0436\\u0435\\u0442 \\u0431\\u044b\\u0442\\u044c \\u043f\\u043e\\u043b\\u0435\\u0437\\u0435\\u043d, \\u0435\\u0441\\u043b\\u0438 \\u043d\\u0435\\u043e\\u0431\\u0445\\u043e\\u0434\\u0438\\u043c\\u043e \\u0438\\u0437\\u0431\\u0435\\u0436\\u0430\\u0442\\u044c \\u043f\\u0435\\u0440\\u0435\\u0437\\u0430\\u043f\\u0438\\u0441\\u0438 \\u043a\\u043e\\u0440\\u0440\\u0435\\u043a\\u0442\\u043d\\u043e\\u0439 \\u0432\\u0435\\u0440\\u0441\\u0438\\u0438 \\u0444\\u0430\\u0439\\u043b\\u0430 \\u0432\\u0435\\u0440\\u0441\\u0438\\u0435\\u0439 \\u0441 \\u043e\\u0448\\u0438\\u0431\\u043a\\u043e\\u0439.\"\n        ],\n        \"semantic_type\": \"\",\n        \"description\": \"\"\n      }\n    },\n    {\n      \"column\": \"CleanText\",\n      \"properties\": {\n        \"dtype\": \"object\",\n        \"num_unique_values\": 1,\n        \"samples\": [\n          \"\"\n        ],\n        \"semantic_type\": \"\",\n        \"description\": \"\"\n      }\n    }\n  ]\n}"
            }
          },
          "metadata": {},
          "execution_count": 54
        }
      ]
    },
    {
      "cell_type": "markdown",
      "source": [
        "# Задание 2"
      ],
      "metadata": {
        "id": "mJZrc6pXII3k"
      }
    },
    {
      "cell_type": "markdown",
      "source": [
        "Проведите оценку полученных текстов — распределение длин текстов, ключевые слова, и\n",
        "тд. Напишите выводы о полученном корпусе"
      ],
      "metadata": {
        "id": "RvxnrvN6IVpD"
      }
    },
    {
      "cell_type": "code",
      "source": [
        "data['word_count'] = data['Text'].fillna('').str.split().str.len()"
      ],
      "metadata": {
        "id": "ivT9wpBRILPl"
      },
      "execution_count": null,
      "outputs": []
    },
    {
      "cell_type": "code",
      "source": [
        "plt.hist(data['word_count'].values)\n",
        "plt.title(\"Распределение количества слов в каждой главе\");"
      ],
      "metadata": {
        "colab": {
          "base_uri": "https://localhost:8080/",
          "height": 452
        },
        "id": "1fo5-pyLiEJP",
        "outputId": "70fd7348-ce47-45f7-b921-6e2a99ebfb25"
      },
      "execution_count": null,
      "outputs": [
        {
          "output_type": "display_data",
          "data": {
            "text/plain": [
              "<Figure size 640x480 with 1 Axes>"
            ],
            "image/png": "[encoded data removed]"
          },
          "metadata": {}
        }
      ]
    },
    {
      "cell_type": "code",
      "source": [
        "import re\n",
        "import nltk\n",
        "from nltk.corpus import stopwords\n",
        "\n",
        "from sklearn.feature_extraction.text import TfidfVectorizer, CountVectorizer\n",
        "from nltk.stem.snowball import SnowballStemmer\n",
        "\n",
        "from wordcloud import WordCloud"
      ],
      "metadata": {
        "id": "t42g47V6mCpE"
      },
      "execution_count": null,
      "outputs": []
    },
    {
      "cell_type": "code",
      "source": [
        "nltk.download('stopwords')\n",
        "russian_stopwords = set(stopwords.words('russian'))"
      ],
      "metadata": {
        "colab": {
          "base_uri": "https://localhost:8080/"
        },
        "id": "8wH5PDj2mD9N",
        "outputId": "108c4406-1987-467b-90cc-8f1b7a680057"
      },
      "execution_count": null,
      "outputs": [
        {
          "output_type": "stream",
          "name": "stderr",
          "text": [
            "[nltk_data] Downloading package stopwords to /root/nltk_data...\n",
            "[nltk_data]   Package stopwords is already up-to-date!\n"
          ]
        }
      ]
    },
    {
      "cell_type": "code",
      "metadata": {
        "id": "d3060373"
      },
      "source": [
        "def preprocess_text(text):\n",
        "    text = text.lower()\n",
        "    text = re.sub(r'[^\\w\\s]', '', text)\n",
        "    text = ' '.join([word for word in text.split() if word not in russian_stopwords])\n",
        "    return text"
      ],
      "execution_count": null,
      "outputs": []
    },
    {
      "cell_type": "code",
      "metadata": {
        "colab": {
          "base_uri": "https://localhost:8080/",
          "height": 467
        },
        "id": "WKrpZI0uj0MD",
        "outputId": "80fccb46-bdd1-43cc-ed82-874e31f88cbd"
      },
      "source": [
        "data['ProcessedText'] = data['Text'].apply(preprocess_text)\n",
        "display(data.head())"
      ],
      "execution_count": null,
      "outputs": [
        {
          "output_type": "display_data",
          "data": {
            "text/plain": [
              "                                         Header  \\\n",
              "0          1 Назначение программного модуля CAD   \n",
              "1  2 Условия выполнения программного модуля CAD   \n",
              "2          3 Выполнение программного модуля CAD   \n",
              "3            3.1 Запуск программного модуля CAD   \n",
              "4                   3.2 Управление приложениями   \n",
              "\n",
              "                                                Text  \\\n",
              "0  Программный модуль CAD разработан на базе инте...   \n",
              "1  Достаточными условиями выполнения программного...   \n",
              "2                                                      \n",
              "3  Загрузка и запуск программного модуля CAD осущ...   \n",
              "4  Данное окно предназначено для осуществления уп...   \n",
              "\n",
              "                                           CleanText  word_count  \\\n",
              "0  Программный модуль CAD разработан на базе инте...          55   \n",
              "1  Достаточными условиями выполнения программного...          52   \n",
              "2                                                              0   \n",
              "3                                                             89   \n",
              "4                                                            150   \n",
              "\n",
              "                                       ProcessedText  \n",
              "0  программный модуль cad разработан базе интегри...  \n",
              "1  достаточными условиями выполнения программного...  \n",
              "2                                                     \n",
              "3  загрузка запуск программного модуля cad осущес...  \n",
              "4  данное окно предназначено осуществления управл...  "
            ],
            "text/html": [
              "\n",
              "  <div id=\"df-6a90d8f8-5e3d-45e5-af73-9aaab1744f18\" class=\"colab-df-container\">\n",
              "    <div>\n",
              "<style scoped>\n",
              "    .dataframe tbody tr th:only-of-type {\n",
              "        vertical-align: middle;\n",
              "    }\n",
              "\n",
              "    .dataframe tbody tr th {\n",
              "        vertical-align: top;\n",
              "    }\n",
              "\n",
              "    .dataframe thead th {\n",
              "        text-align: right;\n",
              "    }\n",
              "</style>\n",
              "<table border=\"1\" class=\"dataframe\">\n",
              "  <thead>\n",
              "    <tr style=\"text-align: right;\">\n",
              "      <th></th>\n",
              "      <th>Header</th>\n",
              "      <th>Text</th>\n",
              "      <th>CleanText</th>\n",
              "      <th>word_count</th>\n",
              "      <th>ProcessedText</th>\n",
              "    </tr>\n",
              "  </thead>\n",
              "  <tbody>\n",
              "    <tr>\n",
              "      <th>0</th>\n",
              "      <td>1 Назначение программного модуля CAD</td>\n",
              "      <td>Программный модуль CAD разработан на базе инте...</td>\n",
              "      <td>Программный модуль CAD разработан на базе инте...</td>\n",
              "      <td>55</td>\n",
              "      <td>программный модуль cad разработан базе интегри...</td>\n",
              "    </tr>\n",
              "    <tr>\n",
              "      <th>1</th>\n",
              "      <td>2 Условия выполнения программного модуля CAD</td>\n",
              "      <td>Достаточными условиями выполнения программного...</td>\n",
              "      <td>Достаточными условиями выполнения программного...</td>\n",
              "      <td>52</td>\n",
              "      <td>достаточными условиями выполнения программного...</td>\n",
              "    </tr>\n",
              "    <tr>\n",
              "      <th>2</th>\n",
              "      <td>3 Выполнение программного модуля CAD</td>\n",
              "      <td></td>\n",
              "      <td></td>\n",
              "      <td>0</td>\n",
              "      <td></td>\n",
              "    </tr>\n",
              "    <tr>\n",
              "      <th>3</th>\n",
              "      <td>3.1 Запуск программного модуля CAD</td>\n",
              "      <td>Загрузка и запуск программного модуля CAD осущ...</td>\n",
              "      <td></td>\n",
              "      <td>89</td>\n",
              "      <td>загрузка запуск программного модуля cad осущес...</td>\n",
              "    </tr>\n",
              "    <tr>\n",
              "      <th>4</th>\n",
              "      <td>3.2 Управление приложениями</td>\n",
              "      <td>Данное окно предназначено для осуществления уп...</td>\n",
              "      <td></td>\n",
              "      <td>150</td>\n",
              "      <td>данное окно предназначено осуществления управл...</td>\n",
              "    </tr>\n",
              "  </tbody>\n",
              "</table>\n",
              "</div>\n",
              "    <div class=\"colab-df-buttons\">\n",
              "\n",
              "  <div class=\"colab-df-container\">\n",
              "    <button class=\"colab-df-convert\" onclick=\"convertToInteractive('df-6a90d8f8-5e3d-45e5-af73-9aaab1744f18')\"\n",
              "            title=\"Convert this dataframe to an interactive table.\"\n",
              "            style=\"display:none;\">\n",
              "\n",
              "  <svg xmlns=\"http://www.w3.org/2000/svg\" height=\"24px\" viewBox=\"0 -960 960 960\">\n",
              "    <path d=\"M120-120v-720h720v720H120Zm60-500h600v-160H180v160Zm220 220h160v-160H400v160Zm0 220h160v-160H400v160ZM180-400h160v-160H180v160Zm440 0h160v-160H620v160ZM180-180h160v-160H180v160Zm440 0h160v-160H620v160Z\"/>\n",
              "  </svg>\n",
              "    </button>\n",
              "\n",
              "  <style>\n",
              "    .colab-df-container {\n",
              "      display:flex;\n",
              "      gap: 12px;\n",
              "    }\n",
              "\n",
              "    .colab-df-convert {\n",
              "      background-color: #E8F0FE;\n",
              "      border: none;\n",
              "      border-radius: 50%;\n",
              "      cursor: pointer;\n",
              "      display: none;\n",
              "      fill: #1967D2;\n",
              "      height: 32px;\n",
              "      padding: 0 0 0 0;\n",
              "      width: 32px;\n",
              "    }\n",
              "\n",
              "    .colab-df-convert:hover {\n",
              "      background-color: #E2EBFA;\n",
              "      box-shadow: 0px 1px 2px rgba(60, 64, 67, 0.3), 0px 1px 3px 1px rgba(60, 64, 67, 0.15);\n",
              "      fill: #174EA6;\n",
              "    }\n",
              "\n",
              "    .colab-df-buttons div {\n",
              "      margin-bottom: 4px;\n",
              "    }\n",
              "\n",
              "    [theme=dark] .colab-df-convert {\n",
              "      background-color: #3B4455;\n",
              "      fill: #D2E3FC;\n",
              "    }\n",
              "\n",
              "    [theme=dark] .colab-df-convert:hover {\n",
              "      background-color: #434B5C;\n",
              "      box-shadow: 0px 1px 3px 1px rgba(0, 0, 0, 0.15);\n",
              "      filter: drop-shadow(0px 1px 2px rgba(0, 0, 0, 0.3));\n",
              "      fill: #FFFFFF;\n",
              "    }\n",
              "  </style>\n",
              "\n",
              "    <script>\n",
              "      const buttonEl =\n",
              "        document.querySelector('#df-6a90d8f8-5e3d-45e5-af73-9aaab1744f18 button.colab-df-convert');\n",
              "      buttonEl.style.display =\n",
              "        google.colab.kernel.accessAllowed ? 'block' : 'none';\n",
              "\n",
              "      async function convertToInteractive(key) {\n",
              "        const element = document.querySelector('#df-6a90d8f8-5e3d-45e5-af73-9aaab1744f18');\n",
              "        const dataTable =\n",
              "          await google.colab.kernel.invokeFunction('convertToInteractive',\n",
              "                                                    [key], {});\n",
              "        if (!dataTable) return;\n",
              "\n",
              "        const docLinkHtml = 'Like what you see? Visit the ' +\n",
              "          '<a target=\"_blank\" href=https://colab.research.google.com/notebooks/data_table.ipynb>data table notebook</a>'\n",
              "          + ' to learn more about interactive tables.';\n",
              "        element.innerHTML = '';\n",
              "        dataTable['output_type'] = 'display_data';\n",
              "        await google.colab.output.renderOutput(dataTable, element);\n",
              "        const docLink = document.createElement('div');\n",
              "        docLink.innerHTML = docLinkHtml;\n",
              "        element.appendChild(docLink);\n",
              "      }\n",
              "    </script>\n",
              "  </div>\n",
              "\n",
              "\n",
              "    <div id=\"df-870089f0-3f46-4dba-93a1-d183a7b2a733\">\n",
              "      <button class=\"colab-df-quickchart\" onclick=\"quickchart('df-870089f0-3f46-4dba-93a1-d183a7b2a733')\"\n",
              "                title=\"Suggest charts\"\n",
              "                style=\"display:none;\">\n",
              "\n",
              "<svg xmlns=\"http://www.w3.org/2000/svg\" height=\"24px\"viewBox=\"0 0 24 24\"\n",
              "     width=\"24px\">\n",
              "    <g>\n",
              "        <path d=\"M19 3H5c-1.1 0-2 .9-2 2v14c0 1.1.9 2 2 2h14c1.1 0 2-.9 2-2V5c0-1.1-.9-2-2-2zM9 17H7v-7h2v7zm4 0h-2V7h2v10zm4 0h-2v-4h2v4z\"/>\n",
              "    </g>\n",
              "</svg>\n",
              "      </button>\n",
              "\n",
              "<style>\n",
              "  .colab-df-quickchart {\n",
              "      --bg-color: #E8F0FE;\n",
              "      --fill-color: #1967D2;\n",
              "      --hover-bg-color: #E2EBFA;\n",
              "      --hover-fill-color: #174EA6;\n",
              "      --disabled-fill-color: #AAA;\n",
              "      --disabled-bg-color: #DDD;\n",
              "  }\n",
              "\n",
              "  [theme=dark] .colab-df-quickchart {\n",
              "      --bg-color: #3B4455;\n",
              "      --fill-color: #D2E3FC;\n",
              "      --hover-bg-color: #434B5C;\n",
              "      --hover-fill-color: #FFFFFF;\n",
              "      --disabled-bg-color: #3B4455;\n",
              "      --disabled-fill-color: #666;\n",
              "  }\n",
              "\n",
              "  .colab-df-quickchart {\n",
              "    background-color: var(--bg-color);\n",
              "    border: none;\n",
              "    border-radius: 50%;\n",
              "    cursor: pointer;\n",
              "    display: none;\n",
              "    fill: var(--fill-color);\n",
              "    height: 32px;\n",
              "    padding: 0;\n",
              "    width: 32px;\n",
              "  }\n",
              "\n",
              "  .colab-df-quickchart:hover {\n",
              "    background-color: var(--hover-bg-color);\n",
              "    box-shadow: 0 1px 2px rgba(60, 64, 67, 0.3), 0 1px 3px 1px rgba(60, 64, 67, 0.15);\n",
              "    fill: var(--button-hover-fill-color);\n",
              "  }\n",
              "\n",
              "  .colab-df-quickchart-complete:disabled,\n",
              "  .colab-df-quickchart-complete:disabled:hover {\n",
              "    background-color: var(--disabled-bg-color);\n",
              "    fill: var(--disabled-fill-color);\n",
              "    box-shadow: none;\n",
              "  }\n",
              "\n",
              "  .colab-df-spinner {\n",
              "    border: 2px solid var(--fill-color);\n",
              "    border-color: transparent;\n",
              "    border-bottom-color: var(--fill-color);\n",
              "    animation:\n",
              "      spin 1s steps(1) infinite;\n",
              "  }\n",
              "\n",
              "  @keyframes spin {\n",
              "    0% {\n",
              "      border-color: transparent;\n",
              "      border-bottom-color: var(--fill-color);\n",
              "      border-left-color: var(--fill-color);\n",
              "    }\n",
              "    20% {\n",
              "      border-color: transparent;\n",
              "      border-left-color: var(--fill-color);\n",
              "      border-top-color: var(--fill-color);\n",
              "    }\n",
              "    30% {\n",
              "      border-color: transparent;\n",
              "      border-left-color: var(--fill-color);\n",
              "      border-top-color: var(--fill-color);\n",
              "      border-right-color: var(--fill-color);\n",
              "    }\n",
              "    40% {\n",
              "      border-color: transparent;\n",
              "      border-right-color: var(--fill-color);\n",
              "      border-top-color: var(--fill-color);\n",
              "    }\n",
              "    60% {\n",
              "      border-color: transparent;\n",
              "      border-right-color: var(--fill-color);\n",
              "    }\n",
              "    80% {\n",
              "      border-color: transparent;\n",
              "      border-right-color: var(--fill-color);\n",
              "      border-bottom-color: var(--fill-color);\n",
              "    }\n",
              "    90% {\n",
              "      border-color: transparent;\n",
              "      border-bottom-color: var(--fill-color);\n",
              "    }\n",
              "  }\n",
              "</style>\n",
              "\n",
              "      <script>\n",
              "        async function quickchart(key) {\n",
              "          const quickchartButtonEl =\n",
              "            document.querySelector('#' + key + ' button');\n",
              "          quickchartButtonEl.disabled = true;  // To prevent multiple clicks.\n",
              "          quickchartButtonEl.classList.add('colab-df-spinner');\n",
              "          try {\n",
              "            const charts = await google.colab.kernel.invokeFunction(\n",
              "                'suggestCharts', [key], {});\n",
              "          } catch (error) {\n",
              "            console.error('Error during call to suggestCharts:', error);\n",
              "          }\n",
              "          quickchartButtonEl.classList.remove('colab-df-spinner');\n",
              "          quickchartButtonEl.classList.add('colab-df-quickchart-complete');\n",
              "        }\n",
              "        (() => {\n",
              "          let quickchartButtonEl =\n",
              "            document.querySelector('#df-870089f0-3f46-4dba-93a1-d183a7b2a733 button');\n",
              "          quickchartButtonEl.style.display =\n",
              "            google.colab.kernel.accessAllowed ? 'block' : 'none';\n",
              "        })();\n",
              "      </script>\n",
              "    </div>\n",
              "\n",
              "    </div>\n",
              "  </div>\n"
            ],
            "application/vnd.google.colaboratory.intrinsic+json": {
              "type": "dataframe",
              "summary": "{\n  \"name\": \"display(data\",\n  \"rows\": 5,\n  \"fields\": [\n    {\n      \"column\": \"Header\",\n      \"properties\": {\n        \"dtype\": \"string\",\n        \"num_unique_values\": 5,\n        \"samples\": [\n          \"2 \\u0423\\u0441\\u043b\\u043e\\u0432\\u0438\\u044f \\u0432\\u044b\\u043f\\u043e\\u043b\\u043d\\u0435\\u043d\\u0438\\u044f \\u043f\\u0440\\u043e\\u0433\\u0440\\u0430\\u043c\\u043c\\u043d\\u043e\\u0433\\u043e \\u043c\\u043e\\u0434\\u0443\\u043b\\u044f CAD\",\n          \"3.2 \\u0423\\u043f\\u0440\\u0430\\u0432\\u043b\\u0435\\u043d\\u0438\\u0435 \\u043f\\u0440\\u0438\\u043b\\u043e\\u0436\\u0435\\u043d\\u0438\\u044f\\u043c\\u0438\",\n          \"3 \\u0412\\u044b\\u043f\\u043e\\u043b\\u043d\\u0435\\u043d\\u0438\\u0435 \\u043f\\u0440\\u043e\\u0433\\u0440\\u0430\\u043c\\u043c\\u043d\\u043e\\u0433\\u043e \\u043c\\u043e\\u0434\\u0443\\u043b\\u044f CAD\"\n        ],\n        \"semantic_type\": \"\",\n        \"description\": \"\"\n      }\n    },\n    {\n      \"column\": \"Text\",\n      \"properties\": {\n        \"dtype\": \"string\",\n        \"num_unique_values\": 5,\n        \"samples\": [\n          \"\\u0414\\u043e\\u0441\\u0442\\u0430\\u0442\\u043e\\u0447\\u043d\\u044b\\u043c\\u0438 \\u0443\\u0441\\u043b\\u043e\\u0432\\u0438\\u044f\\u043c\\u0438 \\u0432\\u044b\\u043f\\u043e\\u043b\\u043d\\u0435\\u043d\\u0438\\u044f \\u043f\\u0440\\u043e\\u0433\\u0440\\u0430\\u043c\\u043c\\u043d\\u043e\\u0433\\u043e \\u043c\\u043e\\u0434\\u0443\\u043b\\u044f CAD \\u044f\\u0432\\u043b\\u044f\\u044e\\u0442\\u0441\\u044f \\u0441\\u0438\\u0441\\u0442\\u0435\\u043c\\u043d\\u044b\\u0435 \\u0442\\u0440\\u0435\\u0431\\u043e\\u0432\\u0430\\u043d\\u0438\\u044f:\\u041e\\u0421 \\u2013 Microsoft Windows \\u0432\\u0435\\u0440\\u0441\\u0438\\u0438 \\u043d\\u0435 \\u043d\\u0438\\u0436\\u0435 10, Astra Linux \\u0432\\u0435\\u0440\\u0441\\u0438\\u0438 1.7 \\u0438 \\u0432\\u044b\\u0448\\u0435;\\u043f\\u0440\\u043e\\u0446\\u0435\\u0441\\u0441\\u043e\\u0440 Intel Core i3 \\u0438\\u043b\\u0438 \\u0432\\u044b\\u0448\\u0435;\\u0432\\u0438\\u0434\\u0435\\u043e\\u043a\\u0430\\u0440\\u0442\\u0430 NVIDIA \\u0438\\u043b\\u0438 AMD \\u0441 \\u043f\\u0430\\u043c\\u044f\\u0442\\u044c\\u044e 1\\u0413\\u0411 \\u0438 \\u0432\\u044b\\u0448\\u0435;\\u041e\\u0417\\u0423 2 \\u0413\\u0411 \\u0438 \\u0431\\u043e\\u043b\\u0435\\u0435;\\u043e\\u0431\\u044a\\u0435\\u043c \\u0441\\u0432\\u043e\\u0431\\u043e\\u0434\\u043d\\u043e\\u0433\\u043e \\u043f\\u0440\\u043e\\u0441\\u0442\\u0440\\u0430\\u043d\\u0441\\u0442\\u0432\\u0430 \\u043d\\u0430 \\u0436\\u0435\\u0441\\u0442\\u043a\\u043e\\u043c \\u0434\\u0438\\u0441\\u043a\\u0435, \\u043d\\u0435\\u043e\\u0431\\u0445\\u043e\\u0434\\u0438\\u043c\\u043e\\u0433\\u043e \\u0434\\u043b\\u044f \\u0443\\u0441\\u0442\\u0430\\u043d\\u043e\\u0432\\u043a\\u0438 \\u2013 1 \\u0413\\u0411 \\u0438 \\u0431\\u043e\\u043b\\u0435\\u0435.\",\n          \"\\u0414\\u0430\\u043d\\u043d\\u043e\\u0435 \\u043e\\u043a\\u043d\\u043e \\u043f\\u0440\\u0435\\u0434\\u043d\\u0430\\u0437\\u043d\\u0430\\u0447\\u0435\\u043d\\u043e \\u0434\\u043b\\u044f \\u043e\\u0441\\u0443\\u0449\\u0435\\u0441\\u0442\\u0432\\u043b\\u0435\\u043d\\u0438\\u044f \\u0443\\u043f\\u0440\\u0430\\u0432\\u043b\\u0435\\u043d\\u0438\\u044f \\u0434\\u043e\\u043f\\u043e\\u043b\\u043d\\u0438\\u0442\\u0435\\u043b\\u044c\\u043d\\u044b\\u043c\\u0438 \\u043f\\u0440\\u043e\\u0433\\u0440\\u0430\\u043c\\u043c\\u043d\\u044b\\u043c\\u0438 \\u043a\\u043e\\u043c\\u043f\\u043e\\u043d\\u0435\\u043d\\u0442\\u0430\\u043c\\u0438. \\u0412\\u044b\\u0437\\u043e\\u0432 \\u043e\\u043a\\u043d\\u0430 \\u043e\\u0441\\u0443\\u0449\\u0435\\u0441\\u0442\\u0432\\u043b\\u044f\\u0435\\u0442\\u0441\\u044f \\u0441 \\u043f\\u043e\\u043c\\u043e\\u0449\\u044c\\u044e \\u043f\\u0438\\u043a\\u0442\\u043e\\u0433\\u0440\\u0430\\u043c\\u043c\\u044b \\u00ab\\u041f\\u0440\\u0438\\u043b\\u043e\\u0436\\u0435\\u043d\\u0438\\u044f\\u00bb  \\u0438\\u0437 \\u043f\\u0430\\u043d\\u0435\\u043b\\u0438 \\u00ab\\u041b\\u0435\\u043d\\u0442\\u0430\\u00bb (\\u0432\\u043a\\u043b\\u0430\\u0434\\u043a\\u0430 \\u00ab\\u0412\\u0438\\u0434\\u00bb, \\u0433\\u0440\\u0443\\u043f\\u043f\\u0430 \\u00ab\\u041d\\u0430\\u0441\\u0442\\u0440\\u043e\\u0439\\u043a\\u0438\\u00bb). \\u0422\\u0430\\u043a\\u0436\\u0435 \\u0434\\u0430\\u043d\\u043d\\u043e\\u0435 \\u043e\\u043a\\u043d\\u043e \\u043c\\u043e\\u0436\\u0435\\u0442 \\u0431\\u044b\\u0442\\u044c \\u0432\\u044b\\u0437\\u0432\\u0430\\u043d\\u043e \\u0438\\u0437 \\u0432\\u044b\\u043f\\u0430\\u0434\\u0430\\u044e\\u0449\\u0435\\u0433\\u043e \\u043c\\u0435\\u043d\\u044e \\u043d\\u0430\\u0441\\u0442\\u0440\\u043e\\u0435\\u043a \\u043f\\u0440\\u043e\\u0433\\u0440\\u0430\\u043c\\u043c\\u043d\\u043e\\u0433\\u043e \\u043c\\u043e\\u0434\\u0443\\u043b\\u044f CAD, \\u0440\\u0430\\u0441\\u043f\\u043e\\u043b\\u043e\\u0436\\u0435\\u043d\\u043d\\u043e\\u0433\\u043e \\u0432 \\u043f\\u0440\\u0430\\u0432\\u043e\\u043c \\u0432\\u0435\\u0440\\u0445\\u043d\\u0435\\u043c \\u0443\\u0433\\u043b\\u0443 \\u0433\\u043b\\u0430\\u0432\\u043d\\u043e\\u0433\\u043e \\u043e\\u043a\\u043d\\u0430.\\u0414\\u0438\\u0430\\u043b\\u043e\\u0433\\u043e\\u0432\\u043e\\u0435 \\u043e\\u043a\\u043d\\u043e (\\u0440\\u0438\\u0441.\\u00a0\\u0420\\u0438\\u0441\\u0443\\u043d\\u043e\\u043a) \\u0441\\u043e\\u0434\\u0435\\u0440\\u0436\\u0438\\u0442 \\u043f\\u0435\\u0440\\u0435\\u0447\\u0435\\u043d\\u044c \\u0438\\u043d\\u0442\\u0435\\u0433\\u0440\\u0438\\u0440\\u043e\\u0432\\u0430\\u043d\\u043d\\u044b\\u0445 \\u043c\\u043e\\u0434\\u0443\\u043b\\u0435\\u0439, \\u0438\\u0445 \\u0438\\u0434\\u0435\\u043d\\u0442\\u0438\\u0444\\u0438\\u043a\\u0430\\u0442\\u043e\\u0440\\u044b, \\u0442\\u0438\\u043f \\u0438 \\u0441\\u043e\\u0441\\u0442\\u043e\\u044f\\u043d\\u0438\\u0435 \\u0432 \\u0442\\u0435\\u043a\\u0443\\u0449\\u0435\\u043c \\u0441\\u0435\\u0430\\u043d\\u0441\\u0435 \\u0440\\u0430\\u0431\\u043e\\u0442\\u044b \\u043f\\u0440\\u043e\\u0433\\u0440\\u0430\\u043c\\u043c\\u043d\\u043e\\u0433\\u043e \\u043c\\u043e\\u0434\\u0443\\u043b\\u044f CAD.\\u041e\\u043a\\u043d\\u043e \\u0443\\u043f\\u0440\\u0430\\u0432\\u043b\\u0435\\u043d\\u0438\\u044f \\u043f\\u0440\\u0438\\u043b\\u043e\\u0436\\u0435\\u043d\\u0438\\u044f\\u043c\\u0438\\u0420\\u0438\\u0441\\u0443\\u043d\\u043e\\u043a \\u0418\\u043d\\u0442\\u0435\\u0433\\u0440\\u0430\\u0446\\u0438\\u044f \\u043c\\u043e\\u0434\\u0443\\u043b\\u044f \\u0432 \\u0441\\u0438\\u0441\\u0442\\u0435\\u043c\\u0443 \\u043e\\u0441\\u0443\\u0449\\u0435\\u0441\\u0442\\u0432\\u043b\\u044f\\u0435\\u0442\\u0441\\u044f \\u0441 \\u043f\\u043e\\u043c\\u043e\\u0449\\u044c\\u044e \\u043a\\u043d\\u043e\\u043f\\u043a\\u0438 \\u00ab\\u0414\\u043e\\u0431\\u0430\\u0432\\u0438\\u0442\\u044c\\u00bb, \\u043f\\u0440\\u0438 \\u043d\\u0430\\u0436\\u0430\\u0442\\u0438\\u0438 \\u043a\\u043e\\u0442\\u043e\\u0440\\u043e\\u0439 \\u043d\\u0430 \\u0440\\u0430\\u0431\\u043e\\u0447\\u0435\\u043c \\u0441\\u0442\\u043e\\u043b\\u0435 \\u0431\\u0443\\u0434\\u0435\\u0442 \\u043e\\u0442\\u043e\\u0431\\u0440\\u0430\\u0436\\u0435\\u043d \\u0441\\u0442\\u0430\\u043d\\u0434\\u0430\\u0440\\u0442\\u043d\\u044b\\u0439 \\u0434\\u0438\\u0430\\u043b\\u043e\\u0433 \\u043e\\u043f\\u0435\\u0440\\u0430\\u0446\\u0438\\u043e\\u043d\\u043d\\u043e\\u0439 \\u0441\\u0438\\u0441\\u0442\\u0435\\u043c\\u044b \\u00ab\\u041e\\u0442\\u043a\\u0440\\u044b\\u0442\\u044c\\u00bb.\\u041e\\u0442\\u043a\\u043b\\u044e\\u0447\\u0435\\u043d\\u0438\\u0435 \\u043c\\u043e\\u0434\\u0443\\u043b\\u044f \\u043e\\u0441\\u0443\\u0449\\u0435\\u0441\\u0442\\u0432\\u043b\\u044f\\u0435\\u0442\\u0441\\u044f \\u043f\\u043e\\u0441\\u043b\\u0435 \\u0435\\u0433\\u043e \\u0432\\u044b\\u0431\\u043e\\u0440\\u0430 \\u0432 \\u043f\\u0435\\u0440\\u0435\\u0447\\u043d\\u0435 \\u043f\\u043e\\u0434\\u043a\\u043b\\u044e\\u0447\\u0435\\u043d\\u043d\\u044b\\u0445 \\u0441 \\u043f\\u043e\\u043c\\u043e\\u0449\\u044c\\u044e \\u043a\\u043d\\u043e\\u043f\\u043a\\u0438 \\u00ab\\u0423\\u0434\\u0430\\u043b\\u0438\\u0442\\u044c\\u00bb.\\u0418\\u0437\\u043c\\u0435\\u043d\\u0435\\u043d\\u0438\\u0435 \\u0441\\u043e\\u0441\\u0442\\u043e\\u044f\\u043d\\u0438\\u044f \\u043c\\u043e\\u0434\\u0443\\u043b\\u0435\\u0439 \\u043f\\u0440\\u043e\\u0438\\u0441\\u0445\\u043e\\u0434\\u0438\\u0442 \\u043f\\u043e\\u0441\\u043b\\u0435 \\u043f\\u0435\\u0440\\u0435\\u0437\\u0430\\u0433\\u0440\\u0443\\u0437\\u043a\\u0438 \\u0441\\u0438\\u0441\\u0442\\u0435\\u043c\\u044b.\\u0414\\u043b\\u044f \\u0430\\u0432\\u0442\\u043e\\u043c\\u0430\\u0442\\u0438\\u0447\\u0435\\u0441\\u043a\\u043e\\u0433\\u043e \\u0437\\u0430\\u043f\\u0443\\u0441\\u043a\\u0430 \\u043f\\u0440\\u043e\\u0433\\u0440\\u0430\\u043c\\u043c\\u043d\\u043e\\u0433\\u043e \\u043a\\u043e\\u043c\\u043f\\u043e\\u043d\\u0435\\u043d\\u0442\\u0430 \\u0432\\u043c\\u0435\\u0441\\u0442\\u0435 \\u0441 \\u0441\\u0438\\u0441\\u0442\\u0435\\u043c\\u043e\\u0439, \\u043d\\u0435\\u043e\\u0431\\u0445\\u043e\\u0434\\u0438\\u043c\\u043e \\u0443\\u0441\\u0442\\u0430\\u043d\\u043e\\u0432\\u0438\\u0442\\u044c \\u0444\\u043b\\u0430\\u0433 \\u0432 \\u0433\\u0440\\u0430\\u0444\\u0435 \\u00ab\\u0410\\u0432\\u0442\\u043e\\u0437\\u0430\\u043f\\u0443\\u0441\\u043a\\u00bb \\u043d\\u0430\\u043f\\u0440\\u043e\\u0442\\u0438\\u0432 \\u043d\\u0435\\u043e\\u0431\\u0445\\u043e\\u0434\\u0438\\u043c\\u043e\\u0433\\u043e \\u043c\\u043e\\u0434\\u0443\\u043b\\u044f.\\u0417\\u0430\\u043a\\u0440\\u044b\\u0442\\u0438\\u0435 \\u043e\\u043a\\u043d\\u0430 \\u00ab\\u041f\\u0440\\u0438\\u043b\\u043e\\u0436\\u0435\\u043d\\u0438\\u044f\\u00bb \\u043e\\u0441\\u0443\\u0449\\u0435\\u0441\\u0442\\u0432\\u043b\\u044f\\u0435\\u0442\\u0441\\u044f \\u043f\\u0440\\u0438 \\u043f\\u043e\\u043c\\u043e\\u0449\\u0438 \\u043a\\u043d\\u043e\\u043f\\u043a\\u0438 \\u00ab\\u0417\\u0430\\u043a\\u0440\\u044b\\u0442\\u044c\\u00bb, \\u043f\\u0440\\u0438 \\u044d\\u0442\\u043e\\u043c \\u043f\\u0440\\u043e\\u0433\\u0440\\u0430\\u043c\\u043c\\u043d\\u044b\\u0439 \\u043c\\u043e\\u0434\\u0443\\u043b\\u044c CAD \\u0437\\u0430\\u043f\\u043e\\u043c\\u0438\\u043d\\u0430\\u0435\\u0442 \\u0441\\u043e\\u0441\\u0442\\u043e\\u044f\\u043d\\u0438\\u0435 \\u043c\\u043e\\u0434\\u0443\\u043b\\u0435\\u0439 \\u0442\\u0435\\u043a\\u0443\\u0449\\u0435\\u0433\\u043e \\u0441\\u0435\\u0430\\u043d\\u0441\\u0430 \\u0440\\u0430\\u0431\\u043e\\u0442\\u044b. \\u041e\\u043a\\u043d\\u043e \\u0442\\u0435\\u0445\\u043d\\u043e\\u043b\\u043e\\u0433\\u0438\\u0447\\u0435\\u0441\\u043a\\u043e\\u0439 \\u043f\\u043b\\u0430\\u0442\\u0444\\u043e\\u0440\\u043c\\u044b \\u043f\\u0440\\u0435\\u0434\\u0441\\u0442\\u0430\\u0432\\u043b\\u0435\\u043d\\u043e \\u043d\\u0430 \\u0440\\u0438\\u0441.\\u00a03. \\u0413\\u043b\\u0430\\u0432\\u043d\\u043e\\u0435 \\u043e\\u043a\\u043d\\u043e \\u0442\\u0435\\u0445\\u043d\\u043e\\u043b\\u043e\\u0433\\u0438\\u0447\\u0435\\u0441\\u043a\\u043e\\u0439 \\u043f\\u043b\\u0430\\u0442\\u0444\\u043e\\u0440\\u043c\\u044b\\u0420\\u0438\\u0441\\u0443\\u043d\\u043e\\u043a 3\",\n          \"\"\n        ],\n        \"semantic_type\": \"\",\n        \"description\": \"\"\n      }\n    },\n    {\n      \"column\": \"CleanText\",\n      \"properties\": {\n        \"dtype\": \"string\",\n        \"num_unique_values\": 3,\n        \"samples\": [\n          \"\\u041f\\u0440\\u043e\\u0433\\u0440\\u0430\\u043c\\u043c\\u043d\\u044b\\u0439 \\u043c\\u043e\\u0434\\u0443\\u043b\\u044c CAD \\u0440\\u0430\\u0437\\u0440\\u0430\\u0431\\u043e\\u0442\\u0430\\u043d \\u043d\\u0430 \\u0431\\u0430\\u0437\\u0435 \\u0438\\u043d\\u0442\\u0435\\u0433\\u0440\\u0438\\u0440\\u043e\\u0432\\u0430\\u043d\\u043d\\u043e\\u0439 \\u0438\\u043d\\u0436\\u0435\\u043d\\u0435\\u0440\\u043d\\u043e\\u0439 \\u043f\\u0440\\u043e\\u0433\\u0440\\u0430\\u043c\\u043c\\u043d\\u043e\\u0439 \\u043f\\u043b\\u0430\\u0442\\u0444\\u043e\\u0440\\u043c\\u044b \\u0438 \\u043f\\u0440\\u043e\\u0433\\u0440\\u0430\\u043c\\u043c\\u043d\\u043e-\\u043c\\u0430\\u0442\\u0435\\u043c\\u0430\\u0442\\u0438\\u0447\\u0435\\u0441\\u043a\\u043e\\u0433\\u043e \\u044f\\u0434\\u0440\\u0430 \\u0442\\u0440\\u0435\\u0445\\u043c\\u0435\\u0440\\u043d\\u043e\\u0433\\u043e \\u043c\\u043e\\u0434\\u0435\\u043b\\u0438\\u0440\\u043e\\u0432\\u0430\\u043d\\u0438\\u044f RGK. \\u0424\\u0443\\u043d\\u043a\\u0446\\u0438\\u043e\\u043d\\u0430\\u043b\\u044c\\u043d\\u043e\\u0435 \\u043d\\u0430\\u0437\\u043d\\u0430\\u0447\\u0435\\u043d\\u0438\\u0435 \\u043f\\u0440\\u043e\\u0433\\u0440\\u0430\\u043c\\u043c\\u043d\\u043e\\u0433\\u043e \\u043c\\u043e\\u0434\\u0443\\u043b\\u044f CAD: \\u0441\\u043e\\u0437\\u0434\\u0430\\u043d\\u0438\\u0435 \\u0438 \\u0440\\u0435\\u0434\\u0430\\u043a\\u0442\\u0438\\u0440\\u043e\\u0432\\u0430\\u043d\\u0438\\u0435 \\u0433\\u0435\\u043e\\u043c\\u0435\\u0442\\u0440\\u0438\\u0447\\u0435\\u0441\\u043a\\u043e\\u0439 \\u043c\\u043e\\u0434\\u0435\\u043b\\u0438 \\u043e\\u0431\\u044a\\u0435\\u043a\\u0442\\u043e\\u0432 \\u043f\\u0440\\u043e\\u0435\\u043a\\u0442\\u0438\\u0440\\u043e\\u0432\\u0430\\u043d\\u0438\\u044f, \\u0432\\u043a\\u043b\\u044e\\u0447\\u0430\\u044f 3D- \\u0438 2D-\\u043f\\u0440\\u0435\\u0434\\u0441\\u0442\\u0430\\u0432\\u043b\\u0435\\u043d\\u0438\\u044f; \\u0437\\u0430\\u0434\\u0430\\u043d\\u0438\\u0435 \\u0430\\u0442\\u0440\\u0438\\u0431\\u0443\\u0442\\u0438\\u0432\\u043d\\u043e\\u0439 \\u0438\\u043d\\u0444\\u043e\\u0440\\u043c\\u0430\\u0446\\u0438\\u0438, \\u0441\\u0432\\u044f\\u0437\\u0430\\u043d\\u043d\\u043e\\u0439 \\u0441 \\u0442\\u043e\\u0447\\u043d\\u043e\\u0441\\u0442\\u043d\\u044b\\u043c\\u0438, \\u0440\\u0430\\u0437\\u043c\\u0435\\u0440\\u043d\\u044b\\u043c\\u0438, \\u0442\\u0435\\u0445\\u043d\\u043e\\u043b\\u043e\\u0433\\u0438\\u0447\\u0435\\u0441\\u043a\\u0438\\u043c\\u0438 \\u043f\\u0430\\u0440\\u0430\\u043c\\u0435\\u0442\\u0440\\u0430\\u043c\\u0438 \\u043e\\u0431\\u044a\\u0435\\u043a\\u0442\\u043e\\u0432 \\u043f\\u0440\\u043e\\u0435\\u043a\\u0442\\u0438\\u0440\\u043e\\u0432\\u0430\\u043d\\u0438\\u044f (PMI); \\u043e\\u0444\\u043e\\u0440\\u043c\\u043b\\u0435\\u043d\\u0438\\u0435 \\u0433\\u0440\\u0430\\u0444\\u0438\\u0447\\u0435\\u0441\\u043a\\u043e\\u0439 \\u0434\\u043e\\u043a\\u0443\\u043c\\u0435\\u043d\\u0442\\u0430\\u0446\\u0438\\u0438 \\u0432 \\u0441\\u043e\\u043e\\u0442\\u0432\\u0435\\u0442\\u0441\\u0442\\u0432\\u0438\\u0438 \\u0441 \\u0442\\u0440\\u0435\\u0431\\u043e\\u0432\\u0430\\u043d\\u0438\\u044f\\u043c\\u0438 \\u0441\\u0442\\u0430\\u043d\\u0434\\u0430\\u0440\\u0442\\u043e\\u0432 (\\u0415\\u0421\\u041a\\u0414); \\u0432\\u0438\\u0437\\u0443\\u0430\\u043b\\u0438\\u0437\\u0430\\u0446\\u0438\\u044f \\u043e\\u0431\\u044a\\u0435\\u043a\\u0442\\u043e\\u0432 \\u043f\\u0440\\u043e\\u0435\\u043a\\u0442\\u0438\\u0440\\u043e\\u0432\\u0430\\u043d\\u0438\\u044f \\u0441 \\u0440\\u0430\\u0437\\u043b\\u0438\\u0447\\u043d\\u044b\\u043c\\u0438 \\u043f\\u0430\\u0440\\u0430\\u043c\\u0435\\u0442\\u0440\\u0430\\u043c\\u0438 \\u043e\\u0442\\u043e\\u0431\\u0440\\u0430\\u0436\\u0435\\u043d\\u0438\\u044f.\",\n          \"\\u0414\\u043e\\u0441\\u0442\\u0430\\u0442\\u043e\\u0447\\u043d\\u044b\\u043c\\u0438 \\u0443\\u0441\\u043b\\u043e\\u0432\\u0438\\u044f\\u043c\\u0438 \\u0432\\u044b\\u043f\\u043e\\u043b\\u043d\\u0435\\u043d\\u0438\\u044f \\u043f\\u0440\\u043e\\u0433\\u0440\\u0430\\u043c\\u043c\\u043d\\u043e\\u0433\\u043e \\u043c\\u043e\\u0434\\u0443\\u043b\\u044f CAD \\u044f\\u0432\\u043b\\u044f\\u044e\\u0442\\u0441\\u044f \\u0441\\u0438\\u0441\\u0442\\u0435\\u043c\\u043d\\u044b\\u0435 \\u0442\\u0440\\u0435\\u0431\\u043e\\u0432\\u0430\\u043d\\u0438\\u044f: \\u041e\\u0421 Microsoft Windows \\u0432\\u0435\\u0440\\u0441\\u0438\\u0438 \\u043d\\u0435 \\u043d\\u0438\\u0436\\u0435 10, Astra Linux \\u0432\\u0435\\u0440\\u0441\\u0438\\u0438 1.7 \\u0438 \\u0432\\u044b\\u0448\\u0435; \\u043f\\u0440\\u043e\\u0446\\u0435\\u0441\\u0441\\u043e\\u0440 Intel Core i3 \\u0438\\u043b\\u0438 \\u0432\\u044b\\u0448\\u0435; \\u0432\\u0438\\u0434\\u0435\\u043e\\u043a\\u0430\\u0440\\u0442\\u0430 NVIDIA \\u0438\\u043b\\u0438 AMD \\u0441 \\u043f\\u0430\\u043c\\u044f\\u0442\\u044c\\u044e 1 \\u0413\\u0411 \\u0438 \\u0432\\u044b\\u0448\\u0435; \\u041e\\u0417\\u0423 2 \\u0413\\u0411 \\u0438 \\u0431\\u043e\\u043b\\u0435\\u0435; \\u043e\\u0431\\u044a\\u0435\\u043c \\u0441\\u0432\\u043e\\u0431\\u043e\\u0434\\u043d\\u043e\\u0433\\u043e \\u043f\\u0440\\u043e\\u0441\\u0442\\u0440\\u0430\\u043d\\u0441\\u0442\\u0432\\u0430 \\u043d\\u0430 \\u0436\\u0435\\u0441\\u0442\\u043a\\u043e\\u043c \\u0434\\u0438\\u0441\\u043a\\u0435, \\u043d\\u0435\\u043e\\u0431\\u0445\\u043e\\u0434\\u0438\\u043c\\u043e\\u0433\\u043e \\u0434\\u043b\\u044f \\u0443\\u0441\\u0442\\u0430\\u043d\\u043e\\u0432\\u043a\\u0438 1 \\u0413\\u0411 \\u0438 \\u0431\\u043e\\u043b\\u0435\\u0435.\",\n          \"\"\n        ],\n        \"semantic_type\": \"\",\n        \"description\": \"\"\n      }\n    },\n    {\n      \"column\": \"word_count\",\n      \"properties\": {\n        \"dtype\": \"number\",\n        \"std\": 55,\n        \"min\": 0,\n        \"max\": 150,\n        \"num_unique_values\": 5,\n        \"samples\": [\n          52,\n          150,\n          0\n        ],\n        \"semantic_type\": \"\",\n        \"description\": \"\"\n      }\n    },\n    {\n      \"column\": \"ProcessedText\",\n      \"properties\": {\n        \"dtype\": \"string\",\n        \"num_unique_values\": 5,\n        \"samples\": [\n          \"\\u0434\\u043e\\u0441\\u0442\\u0430\\u0442\\u043e\\u0447\\u043d\\u044b\\u043c\\u0438 \\u0443\\u0441\\u043b\\u043e\\u0432\\u0438\\u044f\\u043c\\u0438 \\u0432\\u044b\\u043f\\u043e\\u043b\\u043d\\u0435\\u043d\\u0438\\u044f \\u043f\\u0440\\u043e\\u0433\\u0440\\u0430\\u043c\\u043c\\u043d\\u043e\\u0433\\u043e \\u043c\\u043e\\u0434\\u0443\\u043b\\u044f cad \\u044f\\u0432\\u043b\\u044f\\u044e\\u0442\\u0441\\u044f \\u0441\\u0438\\u0441\\u0442\\u0435\\u043c\\u043d\\u044b\\u0435 \\u0442\\u0440\\u0435\\u0431\\u043e\\u0432\\u0430\\u043d\\u0438\\u044f\\u043e\\u0441 microsoft windows \\u0432\\u0435\\u0440\\u0441\\u0438\\u0438 \\u043d\\u0438\\u0436\\u0435 10 astra linux \\u0432\\u0435\\u0440\\u0441\\u0438\\u0438 17 \\u0432\\u044b\\u0448\\u0435\\u043f\\u0440\\u043e\\u0446\\u0435\\u0441\\u0441\\u043e\\u0440 intel core i3 \\u0432\\u044b\\u0448\\u0435\\u0432\\u0438\\u0434\\u0435\\u043e\\u043a\\u0430\\u0440\\u0442\\u0430 nvidia amd \\u043f\\u0430\\u043c\\u044f\\u0442\\u044c\\u044e 1\\u0433\\u0431 \\u0432\\u044b\\u0448\\u0435\\u043e\\u0437\\u0443 2 \\u0433\\u0431 \\u0431\\u043e\\u043b\\u0435\\u0435\\u043e\\u0431\\u044a\\u0435\\u043c \\u0441\\u0432\\u043e\\u0431\\u043e\\u0434\\u043d\\u043e\\u0433\\u043e \\u043f\\u0440\\u043e\\u0441\\u0442\\u0440\\u0430\\u043d\\u0441\\u0442\\u0432\\u0430 \\u0436\\u0435\\u0441\\u0442\\u043a\\u043e\\u043c \\u0434\\u0438\\u0441\\u043a\\u0435 \\u043d\\u0435\\u043e\\u0431\\u0445\\u043e\\u0434\\u0438\\u043c\\u043e\\u0433\\u043e \\u0443\\u0441\\u0442\\u0430\\u043d\\u043e\\u0432\\u043a\\u0438 1 \\u0433\\u0431\",\n          \"\\u0434\\u0430\\u043d\\u043d\\u043e\\u0435 \\u043e\\u043a\\u043d\\u043e \\u043f\\u0440\\u0435\\u0434\\u043d\\u0430\\u0437\\u043d\\u0430\\u0447\\u0435\\u043d\\u043e \\u043e\\u0441\\u0443\\u0449\\u0435\\u0441\\u0442\\u0432\\u043b\\u0435\\u043d\\u0438\\u044f \\u0443\\u043f\\u0440\\u0430\\u0432\\u043b\\u0435\\u043d\\u0438\\u044f \\u0434\\u043e\\u043f\\u043e\\u043b\\u043d\\u0438\\u0442\\u0435\\u043b\\u044c\\u043d\\u044b\\u043c\\u0438 \\u043f\\u0440\\u043e\\u0433\\u0440\\u0430\\u043c\\u043c\\u043d\\u044b\\u043c\\u0438 \\u043a\\u043e\\u043c\\u043f\\u043e\\u043d\\u0435\\u043d\\u0442\\u0430\\u043c\\u0438 \\u0432\\u044b\\u0437\\u043e\\u0432 \\u043e\\u043a\\u043d\\u0430 \\u043e\\u0441\\u0443\\u0449\\u0435\\u0441\\u0442\\u0432\\u043b\\u044f\\u0435\\u0442\\u0441\\u044f \\u043f\\u043e\\u043c\\u043e\\u0449\\u044c\\u044e \\u043f\\u0438\\u043a\\u0442\\u043e\\u0433\\u0440\\u0430\\u043c\\u043c\\u044b \\u043f\\u0440\\u0438\\u043b\\u043e\\u0436\\u0435\\u043d\\u0438\\u044f \\u043f\\u0430\\u043d\\u0435\\u043b\\u0438 \\u043b\\u0435\\u043d\\u0442\\u0430 \\u0432\\u043a\\u043b\\u0430\\u0434\\u043a\\u0430 \\u0432\\u0438\\u0434 \\u0433\\u0440\\u0443\\u043f\\u043f\\u0430 \\u043d\\u0430\\u0441\\u0442\\u0440\\u043e\\u0439\\u043a\\u0438 \\u0442\\u0430\\u043a\\u0436\\u0435 \\u0434\\u0430\\u043d\\u043d\\u043e\\u0435 \\u043e\\u043a\\u043d\\u043e \\u0432\\u044b\\u0437\\u0432\\u0430\\u043d\\u043e \\u0432\\u044b\\u043f\\u0430\\u0434\\u0430\\u044e\\u0449\\u0435\\u0433\\u043e \\u043c\\u0435\\u043d\\u044e \\u043d\\u0430\\u0441\\u0442\\u0440\\u043e\\u0435\\u043a \\u043f\\u0440\\u043e\\u0433\\u0440\\u0430\\u043c\\u043c\\u043d\\u043e\\u0433\\u043e \\u043c\\u043e\\u0434\\u0443\\u043b\\u044f cad \\u0440\\u0430\\u0441\\u043f\\u043e\\u043b\\u043e\\u0436\\u0435\\u043d\\u043d\\u043e\\u0433\\u043e \\u043f\\u0440\\u0430\\u0432\\u043e\\u043c \\u0432\\u0435\\u0440\\u0445\\u043d\\u0435\\u043c \\u0443\\u0433\\u043b\\u0443 \\u0433\\u043b\\u0430\\u0432\\u043d\\u043e\\u0433\\u043e \\u043e\\u043a\\u043d\\u0430\\u0434\\u0438\\u0430\\u043b\\u043e\\u0433\\u043e\\u0432\\u043e\\u0435 \\u043e\\u043a\\u043d\\u043e \\u0440\\u0438\\u0441 \\u0440\\u0438\\u0441\\u0443\\u043d\\u043e\\u043a \\u0441\\u043e\\u0434\\u0435\\u0440\\u0436\\u0438\\u0442 \\u043f\\u0435\\u0440\\u0435\\u0447\\u0435\\u043d\\u044c \\u0438\\u043d\\u0442\\u0435\\u0433\\u0440\\u0438\\u0440\\u043e\\u0432\\u0430\\u043d\\u043d\\u044b\\u0445 \\u043c\\u043e\\u0434\\u0443\\u043b\\u0435\\u0439 \\u0438\\u0434\\u0435\\u043d\\u0442\\u0438\\u0444\\u0438\\u043a\\u0430\\u0442\\u043e\\u0440\\u044b \\u0442\\u0438\\u043f \\u0441\\u043e\\u0441\\u0442\\u043e\\u044f\\u043d\\u0438\\u0435 \\u0442\\u0435\\u043a\\u0443\\u0449\\u0435\\u043c \\u0441\\u0435\\u0430\\u043d\\u0441\\u0435 \\u0440\\u0430\\u0431\\u043e\\u0442\\u044b \\u043f\\u0440\\u043e\\u0433\\u0440\\u0430\\u043c\\u043c\\u043d\\u043e\\u0433\\u043e \\u043c\\u043e\\u0434\\u0443\\u043b\\u044f cad\\u043e\\u043a\\u043d\\u043e \\u0443\\u043f\\u0440\\u0430\\u0432\\u043b\\u0435\\u043d\\u0438\\u044f \\u043f\\u0440\\u0438\\u043b\\u043e\\u0436\\u0435\\u043d\\u0438\\u044f\\u043c\\u0438\\u0440\\u0438\\u0441\\u0443\\u043d\\u043e\\u043a \\u0438\\u043d\\u0442\\u0435\\u0433\\u0440\\u0430\\u0446\\u0438\\u044f \\u043c\\u043e\\u0434\\u0443\\u043b\\u044f \\u0441\\u0438\\u0441\\u0442\\u0435\\u043c\\u0443 \\u043e\\u0441\\u0443\\u0449\\u0435\\u0441\\u0442\\u0432\\u043b\\u044f\\u0435\\u0442\\u0441\\u044f \\u043f\\u043e\\u043c\\u043e\\u0449\\u044c\\u044e \\u043a\\u043d\\u043e\\u043f\\u043a\\u0438 \\u0434\\u043e\\u0431\\u0430\\u0432\\u0438\\u0442\\u044c \\u043d\\u0430\\u0436\\u0430\\u0442\\u0438\\u0438 \\u043a\\u043e\\u0442\\u043e\\u0440\\u043e\\u0439 \\u0440\\u0430\\u0431\\u043e\\u0447\\u0435\\u043c \\u0441\\u0442\\u043e\\u043b\\u0435 \\u043e\\u0442\\u043e\\u0431\\u0440\\u0430\\u0436\\u0435\\u043d \\u0441\\u0442\\u0430\\u043d\\u0434\\u0430\\u0440\\u0442\\u043d\\u044b\\u0439 \\u0434\\u0438\\u0430\\u043b\\u043e\\u0433 \\u043e\\u043f\\u0435\\u0440\\u0430\\u0446\\u0438\\u043e\\u043d\\u043d\\u043e\\u0439 \\u0441\\u0438\\u0441\\u0442\\u0435\\u043c\\u044b \\u043e\\u0442\\u043a\\u0440\\u044b\\u0442\\u044c\\u043e\\u0442\\u043a\\u043b\\u044e\\u0447\\u0435\\u043d\\u0438\\u0435 \\u043c\\u043e\\u0434\\u0443\\u043b\\u044f \\u043e\\u0441\\u0443\\u0449\\u0435\\u0441\\u0442\\u0432\\u043b\\u044f\\u0435\\u0442\\u0441\\u044f \\u0432\\u044b\\u0431\\u043e\\u0440\\u0430 \\u043f\\u0435\\u0440\\u0435\\u0447\\u043d\\u0435 \\u043f\\u043e\\u0434\\u043a\\u043b\\u044e\\u0447\\u0435\\u043d\\u043d\\u044b\\u0445 \\u043f\\u043e\\u043c\\u043e\\u0449\\u044c\\u044e \\u043a\\u043d\\u043e\\u043f\\u043a\\u0438 \\u0443\\u0434\\u0430\\u043b\\u0438\\u0442\\u044c\\u0438\\u0437\\u043c\\u0435\\u043d\\u0435\\u043d\\u0438\\u0435 \\u0441\\u043e\\u0441\\u0442\\u043e\\u044f\\u043d\\u0438\\u044f \\u043c\\u043e\\u0434\\u0443\\u043b\\u0435\\u0439 \\u043f\\u0440\\u043e\\u0438\\u0441\\u0445\\u043e\\u0434\\u0438\\u0442 \\u043f\\u0435\\u0440\\u0435\\u0437\\u0430\\u0433\\u0440\\u0443\\u0437\\u043a\\u0438 \\u0441\\u0438\\u0441\\u0442\\u0435\\u043c\\u044b\\u0434\\u043b\\u044f \\u0430\\u0432\\u0442\\u043e\\u043c\\u0430\\u0442\\u0438\\u0447\\u0435\\u0441\\u043a\\u043e\\u0433\\u043e \\u0437\\u0430\\u043f\\u0443\\u0441\\u043a\\u0430 \\u043f\\u0440\\u043e\\u0433\\u0440\\u0430\\u043c\\u043c\\u043d\\u043e\\u0433\\u043e \\u043a\\u043e\\u043c\\u043f\\u043e\\u043d\\u0435\\u043d\\u0442\\u0430 \\u0432\\u043c\\u0435\\u0441\\u0442\\u0435 \\u0441\\u0438\\u0441\\u0442\\u0435\\u043c\\u043e\\u0439 \\u043d\\u0435\\u043e\\u0431\\u0445\\u043e\\u0434\\u0438\\u043c\\u043e \\u0443\\u0441\\u0442\\u0430\\u043d\\u043e\\u0432\\u0438\\u0442\\u044c \\u0444\\u043b\\u0430\\u0433 \\u0433\\u0440\\u0430\\u0444\\u0435 \\u0430\\u0432\\u0442\\u043e\\u0437\\u0430\\u043f\\u0443\\u0441\\u043a \\u043d\\u0430\\u043f\\u0440\\u043e\\u0442\\u0438\\u0432 \\u043d\\u0435\\u043e\\u0431\\u0445\\u043e\\u0434\\u0438\\u043c\\u043e\\u0433\\u043e \\u043c\\u043e\\u0434\\u0443\\u043b\\u044f\\u0437\\u0430\\u043a\\u0440\\u044b\\u0442\\u0438\\u0435 \\u043e\\u043a\\u043d\\u0430 \\u043f\\u0440\\u0438\\u043b\\u043e\\u0436\\u0435\\u043d\\u0438\\u044f \\u043e\\u0441\\u0443\\u0449\\u0435\\u0441\\u0442\\u0432\\u043b\\u044f\\u0435\\u0442\\u0441\\u044f \\u043f\\u043e\\u043c\\u043e\\u0449\\u0438 \\u043a\\u043d\\u043e\\u043f\\u043a\\u0438 \\u0437\\u0430\\u043a\\u0440\\u044b\\u0442\\u044c \\u043f\\u0440\\u043e\\u0433\\u0440\\u0430\\u043c\\u043c\\u043d\\u044b\\u0439 \\u043c\\u043e\\u0434\\u0443\\u043b\\u044c cad \\u0437\\u0430\\u043f\\u043e\\u043c\\u0438\\u043d\\u0430\\u0435\\u0442 \\u0441\\u043e\\u0441\\u0442\\u043e\\u044f\\u043d\\u0438\\u0435 \\u043c\\u043e\\u0434\\u0443\\u043b\\u0435\\u0439 \\u0442\\u0435\\u043a\\u0443\\u0449\\u0435\\u0433\\u043e \\u0441\\u0435\\u0430\\u043d\\u0441\\u0430 \\u0440\\u0430\\u0431\\u043e\\u0442\\u044b \\u043e\\u043a\\u043d\\u043e \\u0442\\u0435\\u0445\\u043d\\u043e\\u043b\\u043e\\u0433\\u0438\\u0447\\u0435\\u0441\\u043a\\u043e\\u0439 \\u043f\\u043b\\u0430\\u0442\\u0444\\u043e\\u0440\\u043c\\u044b \\u043f\\u0440\\u0435\\u0434\\u0441\\u0442\\u0430\\u0432\\u043b\\u0435\\u043d\\u043e \\u0440\\u0438\\u0441 3 \\u0433\\u043b\\u0430\\u0432\\u043d\\u043e\\u0435 \\u043e\\u043a\\u043d\\u043e \\u0442\\u0435\\u0445\\u043d\\u043e\\u043b\\u043e\\u0433\\u0438\\u0447\\u0435\\u0441\\u043a\\u043e\\u0439 \\u043f\\u043b\\u0430\\u0442\\u0444\\u043e\\u0440\\u043c\\u044b\\u0440\\u0438\\u0441\\u0443\\u043d\\u043e\\u043a 3\",\n          \"\"\n        ],\n        \"semantic_type\": \"\",\n        \"description\": \"\"\n      }\n    }\n  ]\n}"
            }
          },
          "metadata": {}
        }
      ]
    },
    {
      "cell_type": "code",
      "metadata": {
        "colab": {
          "base_uri": "https://localhost:8080/"
        },
        "id": "7a876a9b",
        "outputId": "ea197cb0-47f4-4d70-c9c2-7f18951199a2"
      },
      "source": [
        "tfidf_vectorizer = TfidfVectorizer(max_features=1000, ngram_range=(1, 2))\n",
        "tfidf_matrix = tfidf_vectorizer.fit_transform(data['ProcessedText'].fillna(''))\n",
        "feature_names = tfidf_vectorizer.get_feature_names_out()\n",
        "\n",
        "print(\"Топ слов по TF-IDF в первом документе:\")\n",
        "feature_scores = zip(feature_names, tfidf_matrix[0].toarray()[0])\n",
        "sorted_features = sorted(feature_scores, key=lambda x: x[1], reverse=True)\n",
        "for feature, score in sorted_features[:10]:\n",
        "    print(f\"{feature}: {score:.4f}\")"
      ],
      "execution_count": null,
      "outputs": [
        {
          "output_type": "stream",
          "name": "stdout",
          "text": [
            "Топ слов по TF-IDF в первом документе:\n",
            "объектов проектирования: 0.5575\n",
            "проектирования: 0.5575\n",
            "параметрами: 0.2585\n",
            "объектов: 0.2099\n",
            "параметрами объектов: 0.1675\n",
            "различными: 0.1675\n",
            "3d: 0.1545\n",
            "соответствии: 0.1545\n",
            "моделирования: 0.1444\n",
            "информации: 0.1362\n"
          ]
        }
      ]
    },
    {
      "cell_type": "code",
      "source": [
        "count_vectorizer = CountVectorizer(max_features=1000, ngram_range=(1, 2))\n",
        "count_matrix = count_vectorizer.fit_transform(data['ProcessedText'].fillna(''))\n",
        "count_feature_names = count_vectorizer.get_feature_names_out()\n",
        "\n",
        "print(\"\\nТоп слов по CountVectorizer в первом документе:\")\n",
        "count_feature_scores = zip(count_feature_names, count_matrix[0].toarray()[0])\n",
        "sorted_count_features = sorted(count_feature_scores, key=lambda x: x[1], reverse=True)\n",
        "for feature, score in sorted_count_features[:10]:\n",
        "    print(f\"{feature}: {score}\")"
      ],
      "metadata": {
        "colab": {
          "base_uri": "https://localhost:8080/"
        },
        "id": "1CyY-8n7myBC",
        "outputId": "c03e839e-ff32-4816-9d76-69d09551fdf3"
      },
      "execution_count": null,
      "outputs": [
        {
          "output_type": "stream",
          "name": "stdout",
          "text": [
            "\n",
            "Топ слов по CountVectorizer в первом документе:\n",
            "объектов: 3\n",
            "объектов проектирования: 3\n",
            "проектирования: 3\n",
            "параметрами: 2\n",
            "3d: 1\n",
            "cad: 1\n",
            "информации: 1\n",
            "модели: 1\n",
            "моделирования: 1\n",
            "модуль: 1\n"
          ]
        }
      ]
    },
    {
      "cell_type": "code",
      "metadata": {
        "colab": {
          "base_uri": "https://localhost:8080/",
          "height": 360
        },
        "id": "651b268c",
        "outputId": "9b847dfa-f755-4c8d-d507-36688b90de94"
      },
      "source": [
        "all_text = ' '.join(data['ProcessedText'].fillna(''))\n",
        "\n",
        "wordcloud = WordCloud(width=800, height=400, background_color='white', max_words=100, colormap='viridis').generate(all_text)\n",
        "\n",
        "plt.figure(figsize=(10, 5))\n",
        "plt.imshow(wordcloud, interpolation='bilinear')\n",
        "plt.axis(\"off\")\n",
        "plt.show()"
      ],
      "execution_count": null,
      "outputs": [
        {
          "output_type": "display_data",
          "data": {
            "text/plain": [
              "<Figure size 1000x500 with 1 Axes>"
            ],
            "image/png": "[encoded data removed]"
          },
          "metadata": {}
        }
      ]
    },
    {
      "cell_type": "markdown",
      "source": [
        "# Задание 3"
      ],
      "metadata": {
        "id": "Ns9fqQJUIXdI"
      }
    },
    {
      "cell_type": "markdown",
      "source": [
        "Протестируйте чанкеры из chonkie, сделайте выводы о чанкерах, и какие из них оказались\n",
        "наиболее полезными для конкретно ваших данных"
      ],
      "metadata": {
        "id": "mtSc5SycIe9N"
      }
    },
    {
      "cell_type": "code",
      "source": [
        "from chonkie import TokenChunker, SentenceChunker, RecursiveChunker, RecursiveRules, SemanticChunker"
      ],
      "metadata": {
        "id": "ZxCEOYK4IZoo"
      },
      "execution_count": null,
      "outputs": []
    },
    {
      "cell_type": "markdown",
      "source": [
        "## TokenChunker"
      ],
      "metadata": {
        "id": "J1ngpSBrq-XQ"
      }
    },
    {
      "cell_type": "code",
      "source": [
        "token_chunker = TokenChunker(\n",
        "    tokenizer=\"sergeyzh/rubert-mini-frida\",\n",
        "    chunk_size=256,\n",
        "    chunk_overlap=64\n",
        ")"
      ],
      "metadata": {
        "colab": {
          "base_uri": "https://localhost:8080/",
          "height": 49,
          "referenced_widgets": [
            "888bf5a320c844d2a93b5170bd8396c5",
            "0f87477d3faa4ec2aa5dd9e550126bcb",
            "2af00e847ee846458cfbf67548c470b1",
            "409b92ad551f41348d1b03c2618f0491",
            "4a4866625fed4cfcaa408805dee87a28",
            "ff95cb64d2da495993aae6fab78b742d",
            "a93944cc878343ecb1e86ad992f8bfe0",
            "6149bca5509147d88b8e2f697b68a0ba",
            "971819df81c3408794ee3d0bd2f919d1",
            "6f6c4ad17d1f418786a533786d38aeee",
            "66deba543b6743b2929878a1178d0b4d"
          ]
        },
        "id": "llJX1cmQoqTm",
        "outputId": "4216fb33-67f9-4348-8099-38faeaa5a12d"
      },
      "execution_count": null,
      "outputs": [
        {
          "output_type": "display_data",
          "data": {
            "text/plain": [
              "tokenizer.json: 0.00B [00:00, ?B/s]"
            ],
            "application/vnd.jupyter.widget-view+json": {
              "version_major": 2,
              "version_minor": 0,
              "model_id": "888bf5a320c844d2a93b5170bd8396c5"
            }
          },
          "metadata": {}
        }
      ]
    },
    {
      "cell_type": "code",
      "source": [
        "data.ProcessedText[0]"
      ],
      "metadata": {
        "colab": {
          "base_uri": "https://localhost:8080/",
          "height": 140
        },
        "id": "dSBy4yTIo74s",
        "outputId": "c4fd7225-745f-4780-f4ad-2d2e0acd286f"
      },
      "execution_count": null,
      "outputs": [
        {
          "output_type": "execute_result",
          "data": {
            "text/plain": [
              "'программный модуль cad разработан базе интегрированной инженерной программной платформы программноматематического ядра трехмерного моделирования rgkфункциональное назначение программного модуля cadсоздание редактирование геометрической модели объектов проектирования включая 3d 2dпредставлениязадание атрибутивной информации связанной точностными размерными технологическими параметрами объектов проектирования pmiоформление графической документации соответствии требованиями стандартов ескдвизуализация объектов проектирования различными параметрами отображения'"
            ],
            "application/vnd.google.colaboratory.intrinsic+json": {
              "type": "string"
            }
          },
          "metadata": {},
          "execution_count": 120
        }
      ]
    },
    {
      "cell_type": "code",
      "source": [
        "chunked = token_chunker.chunk_batch(data.ProcessedText)"
      ],
      "metadata": {
        "colab": {
          "base_uri": "https://localhost:8080/"
        },
        "id": "iFU4oemCpwqs",
        "outputId": "20d49d25-bdc2-4554-d512-6bbe74b11c1e"
      },
      "execution_count": null,
      "outputs": [
        {
          "output_type": "stream",
          "name": "stderr",
          "text": [
            "🦛 choooooooooooooooooooonk 100% • 44/44 batches chunked [00:00<00:00, 494.80batch/s] 🌱\n"
          ]
        }
      ]
    },
    {
      "cell_type": "code",
      "source": [
        "for i, text in enumerate(chunked[34:]):\n",
        "    if data.iloc[i][\"Text\"]:\n",
        "        print(f\"Текст номер {i + 1}:\")\n",
        "        for chunk in text:\n",
        "            print(f\"Размер чанка: {chunk.token_count}\")\n",
        "            print(f\"Текст чанка: {chunk.text}\")\n",
        "            print()\n",
        "        print(\"=\"*20)\n",
        "\n",
        "    # if i >= 10:\n",
        "    #     break"
      ],
      "metadata": {
        "colab": {
          "base_uri": "https://localhost:8080/"
        },
        "id": "zkfUqhK4pC8q",
        "outputId": "999d1688-7003-4737-ed70-be1a881f0abe"
      },
      "execution_count": null,
      "outputs": [
        {
          "output_type": "stream",
          "name": "stdout",
          "text": [
            "Текст номер 1:\n",
            "Размер чанка: 256\n",
            "Текст чанка: ходе создания модели объектами могут возникать всевозможные связи которые будут иметь различный характер зависимости последовательности действий изменению состава параметров связей объектами формируется иерархическая структура зависимостей объектамиокно зависимости содержит информацию взаимосвязях выбранного объекта моделис родительскими объектами которых зависит выбранный объектс дочерними объектами которые зависят выбранного объектав очередь каждый родительский объект зависеть других объектов каждый дочерний иметь зависимые наличие зависимостей свидетельствует пиктограмма рядом объектом нажатии которой раскрывается цепочка зависимостей рис рисунок повторное нажатие пиктограммы сворачивает цепочку зависимостейдерево зависимостейрисунок управление родительскими дочерними объектами осуществляется помощью контекстного менювызов функции пересчёт осуществляется панели рабочего окна видпиктограмма вызова функции пересчёт имеет раскрывающийся список содержащий несколько вариантов актуализации объектов связей рис рисунокпиктограмма пересчетарисунок опция пересчитать вариант котором программный модуль cad анализирует какие объекты изменены последнего пересчёта актуализирует изменённые объекты потомкиопция полный пересчёт вариант котором программный модуль cad проводит актуализацию объектов модели связей ними соответствии выбираемыми пунктами появившемся диалоге рис рисунокполное обновление объектов обновляются объекты активного документа согласно сделанным данном документе изменениямобновление внешних ссылок актуализируются объекты изменения которых поступают ссылке например объектом модели является компонентобновление сеток обновление сеток кэ изменении исходных объектовпересчёт задачопция\n",
            "\n",
            "Размер чанка: 84\n",
            "Текст чанка: актуализацию объектов модели связей ними соответствии выбираемыми пунктами появившемся диалоге рис рисунокполное обновление объектов обновляются объекты активного документа согласно сделанным данном документе изменениямобновление внешних ссылок актуализируются объекты изменения которых поступают ссылке например объектом модели является компонентобновление сеток обновление сеток кэ изменении исходных объектовпересчёт задачопция полного пересчётарисунок режим автоматический пересчёт предполагает автоматическую актуализацию объектов связей каждого действия\n",
            "\n",
            "====================\n",
            "Текст номер 2:\n",
            "Размер чанка: 87\n",
            "Текст чанка: общем случае удаление объектов модели осуществляется помощи команды контекстного меню удалить вызываемого нажатии пкм объекту рабочем окне вспомогательном окне навигатор модели также выборе объекта последующим нажатием клавиши delete появляется специальный диалог удаления котором представлено несколько сценариевпо умолчанию программный модуль cad предлагает удалить выбранный объект всем потомственными объектами которых удаётся разорвать связи родительским рис рисунок опция также удалить зависимые объекты позволяет удалить цепочку зависимых объектов выбраннымудаление объектов моделирисунок\n",
            "\n",
            "====================\n",
            "Текст номер 4:\n",
            "Размер чанка: 256\n",
            "Текст чанка: удобства работы моделью её структура имеет вид иерархического дерева включающего объекты модели отображающаяся вспомогательном окне навигатор моделиокно навигатор модели вызывается панели лента вкладка вид группа инструменты также окно вызвать выпадающего меню опциив окне отображаются тела вспомогательная геометрия сцены страницы стили материалы физические свойства история операций цифровой модели текущего документа рис рисунококно навигатора модели рисунок тела это геометрические объекты являющиеся результатом различных генераторов операций моделирования импорта тдвспомогательные это группа объединяющая вспомогательные объекты системы координат рабочие плоскости 3dточки сопряжения тдсцены это группа объединяющая объекты сцена объекты предназначены группировки объектов различных целяхстраницы группа включающая созданные документе 2dстраницыстили это группа объединяющая наборы параметров свойств отвечающих визуализацию различных объектов цифровой моделиматериал группа включающая примененные модели материалысборка группа содержащая вставленные файл компоненты сборки рядом именем компонента указано имя файлаистория операций это группа содержащая выполненные документе операциипапки навигатора модели отмечены специализированными иконками могут открыты отдельных боковых вкладках помощью команды открыть отдельной вкладке контекстном меню папки рис рисунок открытые вкладки сохраняются документе поэтому могут заранее созданы прототипе документа последующего использования новых документах создаваемых основе этих прототиповпапки навигатора моделирисунок папки навигатором модели могут скрыты вызовите контекстное меню папки выберите скрыть рис рисунок видимость скрытой папки восстановить\n",
            "\n",
            "Размер чанка: 256\n",
            "Текст чанка: боковых вкладках помощью команды открыть отдельной вкладке контекстном меню папки рис рисунок открытые вкладки сохраняются документе поэтому могут заранее созданы прототипе документа последующего использования новых документах создаваемых основе этих прототиповпапки навигатора моделирисунок папки навигатором модели могут скрыты вызовите контекстное меню папки выберите скрыть рис рисунок видимость скрытой папки восстановить вызовите контекстное меню пустом месте навигатора выберите показать укажите имя папки которую следует восстановить восстановите скрытые папки опцией показать всёкоманда скрыть рисунок удобства работе большими моделями папке история операций создавать дополнительные папки это позволяет разнести операции логическим блокам упростить навигацию моделидля добавления первой операции дополнительную папку используются команда контекстного меню сгруппировать папку рис рисунок папка создана именем умолчанию задания другого имени используется команда переименоватькоманда сгруппировать папкурисунок добавления последующих операций достаточно перетянуть папку зажатой лкмдля удаления группы высвобождения входящих неё операций используется команда разгруппировать папкумодель навигаторе представлена виде дерева позволяет показать зависимости объектов друг друга например создана пользовательская рабочая плоскость которой начерчена окружность навигаторе виде дерева показано данной рабочей плоскости зависит линия окружности центром радиусом объекты участвующие сопряжении отображаются разворачивании соответствующего сопряжения навигатореотображением вложенности навигатором модели управлять опция раскрыть элементы навигатора раскрывает папки объекты определённого уровня вложенности уровень настраивается\n",
            "\n",
            "Размер чанка: 128\n",
            "Текст чанка: друг друга например создана пользовательская рабочая плоскость которой начерчена окружность навигаторе виде дерева показано данной рабочей плоскости зависит линия окружности центром радиусом объекты участвующие сопряжении отображаются разворачивании соответствующего сопряжения навигатореотображением вложенности навигатором модели управлять опция раскрыть элементы навигатора раскрывает папки объекты определённого уровня вложенности уровень настраивается выпадающем меню настройка вложенности элементов навигатора переключатель меню позволяет выбрать уровень 1 5 которого будут раскрыты объекты навигатором модели также доступен флаг максимум активирующий уровень 5объекты выбирать прямо дерева цифровой модели выбранный объект подсвечен сцене обратное действие также доступно выбранный сцене объект подсвечен навигаторе цифровой моделивсе объекты навигатора модели могут\n",
            "\n",
            "====================\n",
            "Текст номер 5:\n",
            "Размер чанка: 256\n",
            "Текст чанка: окно свойства содержит информацию обо свойствах выбранного объекта числе свойствах материалаокно свойства вызывается панели лента вкладка вид группа инструменты также окно вызвать выпадающего меню опции окно свойств выбранного объекта вызвать контекстного менюпо умолчанию окно пустое размещается нижнем правом углу экрана окне отобразятся свойства объекта выбран 3dсцене навигатором модели рис рисунок окно свойстврисунок зависимости типа выбранного объекта количество наименование полей окна разным общем случае окно содержит следующий набор полейимя поле отображающее имя объекта заданное пользователемпрозрачность параметр задания прозрачности границвет параметр назначения произвольного цвета грани либо ребрусистемные свойства раздел содержащий набор системных параметровпоказывать корне навигатора модели параметр отображения выбранного объекта тела грани ребра вершины навигатором моделивидимый параметр управления видимостью выбранного объекта сцене 3dвида также 2dвида принимать значения 0 1флаг управляющий параметрфлаг вспомогательный позволяющий использовать объект моделирования объект результатом моделированияпараметры сетки набор параметров отвечающих качество отображения объектов различных видах рабочего окнавизуальные свойства набор параметров отвечающих визуализацию физического вещества присвоенного объектуматериал набор параметров характеризующих физические свойства назначенного материаламасса умолчанию определяется программным модулем cad основании геометрического объема объекта плотности заданного материала необходимости допускается ввод пользовательского значениясистемное свойство запрет удаление доступно объектов модели попытке удалить объект запретом удаление программный модуль cad выдаст сообщение\n",
            "\n",
            "Размер чанка: 187\n",
            "Текст чанка: ##альные свойства набор параметров отвечающих визуализацию физического вещества присвоенного объектуматериал набор параметров характеризующих физические свойства назначенного материаламасса умолчанию определяется программным модулем cad основании геометрического объема объекта плотности заданного материала необходимости допускается ввод пользовательского значениясистемное свойство запрет удаление доступно объектов модели попытке удалить объект запретом удаление программный модуль cad выдаст сообщение удаление невозможно умолчанию новом документе защищены удаления основные рабочие плоскостиполя содержащие пиктограмму раскрывать такие поля содержат набор параметров которые очередь могут состоять нескольких вложенных параметров см рис рисунок подход обеспечивает древовидную структуру свойству операции доступно свойство цвет образованных граней рис рисунок которое позволяет назначить граням созданным результате выбранной операции цвет системной библиотеки цветовсвойство цвет образованных гранейрисунок свойствах твёрдых тел указана масса которая рассчитывается учётом геометрии назначенного материала умолчанию программный модуль cad определяет массу автоматически однако пользователь ввести поле своё значение данного параметрапри изменении какоголибо параметра помечен звёздочкой сброса значения параметра следует нажать принятия изменений необходимо нажать отмены\n",
            "\n",
            "====================\n",
            "Текст номер 6:\n",
            "Размер чанка: 74\n",
            "Текст чанка: сведения выбранном объекте наборе объектов модели отображаются вспомогательном окне информация основными данными объекта являются имя тип идентификатор также ряд параметров характерных типу рис рисунокинформация объектерисунок просмотра информации одном выбранных объектов необходимо нажать ссылку лкм возврат перечню выбранных объектов осуществляется нажатию ссылку назадокно информация вызывается панели лента вкладка вид группа инструменты также окно вызвать выпадающего меню опции\n",
            "\n",
            "====================\n",
            "Текст номер 7:\n",
            "Размер чанка: 256\n",
            "Текст чанка: слой параметр каждого геометрического объекта который определяет принадлежность какойлибо группе элементов моделивызов навигатора слоёв осуществляется панели лента вкладка вид группа инструменты рис рисунококно слоирисунок слоям группам слоёв могут назначены пользовательские имена переименования слоя дважды кликните лкм имени введите поле новое имя слоянавигатор слоёв содержит список слоёв документа набор команд управления имикоманда добавить новый слой позволяет создать новый слой нажатии кнопки создается слой которому автоматически присваивается название которое допускается изменитькоманда установить текущий слой делает выбранный слой текущим будут помещаться вновь создаваемые объекты моделикоманда удалить слойгруппу слоёв удаляет выбранный слой группу слоёвкоманда перенести объекты слой позволяет назначить предварительно выбранным объектам модели выбранный слойкоманда добавить стиль слоя назначает определенный стиль объектам выбранном слое существуют следующие варианты выбора стилей материал стиль линии стиль заполнения стиль 2dточки стиль 3dточки стиль рп стиль лск стиль текста параметры сетки выборе одного перечисленных вариантов происходит заимствование стиля присвоение объектам выбранного слоя стиля слоя существует набор стандартных команд свойства зависимости редактировать удалитькоманда удалить стиль слоя позволяет удалить стиль созданный ранее командой добавить новый стиль текущий слой удалении одного заимствованных стилей программный модуль cad запросит подтверждение также предложит удалить зависимые объектыкоманда свойства слоягруппы слоёв открывает окно свойств параметрами выбранного слоя группы слоёв доступно свойство цвет пометки назначающее\n",
            "\n",
            "Размер чанка: 256\n",
            "Текст чанка: набор стандартных команд свойства зависимости редактировать удалитькоманда удалить стиль слоя позволяет удалить стиль созданный ранее командой добавить новый стиль текущий слой удалении одного заимствованных стилей программный модуль cad запросит подтверждение также предложит удалить зависимые объектыкоманда свойства слоягруппы слоёв открывает окно свойств параметрами выбранного слоя группы слоёв доступно свойство цвет пометки назначающее выбранный цвет объектам слоякоманда создать группу слоёв создает группу которая позволяет комплесно управлять входящими неё слоями атрибуты назначенные группе распространяются входящие неё слои рис рисунок окно слоирисунок группу включаются те слои которые выбраны списке момент запуска команды создания группыслои выбирать помощью клавиш shift ctrlдобавить слой существующую группу перетащив строку именем группы настройка атрибутов управляет видимостью колонок атрибутами навигаторе слоёв каждый слой обладает своими атрибутами видимый управляет видимостью объектов слое замороженный блокирует возможность выбора редактирования объектов слое экранный управляет разрешением вывода печать невидимый вставке сборку управляет видимостью элементов вставке сборку видимый вставке сборку управляет видимостью элементов вставке сборку стили слоя отображает стили заимствованные командой добавить новый стиль текущий слойназначить атрибуты установив флаг напротив требуемого атрибута также изменить атрибуты нескольких слоев одновременно необходимо выделить несколько слоев выбрать необходимые атрибутыу слоёв групп контекстное меню нем доступны некоторые команды навигатора слоёв также команда зависимости которая вызывает окно зависимости выбранного слоя группы слоёв рис рисунокок\n",
            "\n",
            "Размер чанка: 70\n",
            "Текст чанка: ##ке сборку стили слоя отображает стили заимствованные командой добавить новый стиль текущий слойназначить атрибуты установив флаг напротив требуемого атрибута также изменить атрибуты нескольких слоев одновременно необходимо выделить несколько слоев выбрать необходимые атрибутыу слоёв групп контекстное меню нем доступны некоторые команды навигатора слоёв также команда зависимости которая вызывает окно зависимости выбранного слоя группы слоёв рис рисунококно слоирисунок\n",
            "\n",
            "====================\n",
            "Текст номер 8:\n",
            "Размер чанка: 230\n",
            "Текст чанка: умолчанию очерёдность отображения перекрывающихся объектов определяется автоматически зависимости типов программный модуль cad предусматривает возможность ручного управления очерёдности счёт назначения приоритетовпод приоритетом следует понимать порядковый номер прорисовки 2dобъекта таким образом объекты высоким значением приоритета перекрывают объекты низким значением текущее значение приоритета объекта отображается окне свойств умолчанию значение приоритета равно 0для управления приоритетом объектов предусмотрена команда порядок объектов данная команда предусматривает шесть режимовна переднийзадний план текущий объект отображается надпод остальными перекрывающимися объектами рис рисунок объекту назначается максимальное либо минимальное значение приоритета соответственнорежим переднийзадний планрисунок переместить вперёдназад текущий объект перемещается уровень вышениже рис рисунок значение приоритета увеличивается либо уменьшается единицу соответственнорежим переместить вперёдназадрисунок передза объектом текущий объект отображается надпод целевым объектом рис рисунок объекту присваивается значение приоритета единицу либо меньше относительно целевогорежим передза объектомрисунок каждому режиму соответствует уникальная пиктограмма диалоге командывыбор объектов редактирования осуществляется непосредственно рабочем окне либо навигатором модели выбранные объекты отображаются одноимённом списке диалога целевой объект актуален режимов передза объектом отображается отдельном поле рис рисуноксписок объектов окне диалога функциирисунок\n",
            "\n",
            "====================\n",
            "Текст номер 9:\n",
            "Размер чанка: 114\n",
            "Текст чанка: команда создать сцену предназначена создания модели новой 3dсценыкоманда запускается контекстного меню вызванного объекте сцена навигатором модели запуска откроется диалог параметров рис рисунокдиалоговое окно создания сценырисунок параметр базовая сцена предназначен выбора сцены основе которой создана новая сценаблоки исключаемые объекты добавляемые объекты предназначены выбора объектов тел компонентов сборки которые должны исключены сцены добавлены неёблок модифицируемые объекты предназначен выбора тел компонентов которые должны трансформированы сцене задания трансформации справа поля выбора объектов находится пиктограмма одноименной командыв блоке параметры содержатся настройки визуализации новой сценыфлаг активировать сцену позволяет сделать созданную сцену активной создания\n",
            "\n",
            "====================\n",
            "Текст номер 10:\n",
            "Размер чанка: 256\n",
            "Текст чанка: управление представлениями рабочего окна предполагает следующие манипуляциивращение 3dпредставления сцены относительно некоторой точки осуществляющееся счёт перемещения курсора пределах рабочего графического окна захвате пкм момент захвата сцены курсором находится геометрический объект центром вращения сцены пересечение луча проходящего точку захвата перпендикулярно плоскости экрана данным объектом такая точка маркирована пиктограммой противном случае качестве центра вращения выступать центр сценыперемещение представления 2d 3d плоскости экрана осуществляющееся счёт перемещения курсора пределах рабочего графического окна захвате скммасштабирование представления 2d 3d осуществляющееся скм масштабирование происходит относительно текущего положения курсора рабочем графическом окне изменение направления прокрутки колеса мыши осуществляется счёт параметра обратное направление колеса мыши окне установок программного модуля cadдля управления 3dсценой графическом окне дополнительно предусмотрен специальный инструмент видовой куб расположенный правом верхнем углу рабочего окна рис рисунокспециальный инструмент видовой кубрисунок ориентация соответствует ориентации объектов пространстве выбор одного элементов куба вершина ребро грань определяет положение точки обзора сцены пиктограмма позволяет сориентировать модель согласно базовому положению пиктограммы позволяют поворачивать сцену плоскости рабочего окна часовой против часовой стрелки соответственно пиктограммы позволяют масштабировать изображение объектов сценыпомимо штатных инструментов управление 3dсценой осуществляться помощью 3dманипулятора типа spacemouse необходимо включить соответствующий модуль окне приложений\n",
            "\n",
            "====================\n"
          ]
        }
      ]
    },
    {
      "cell_type": "markdown",
      "source": [
        "## SentenceChunker"
      ],
      "metadata": {
        "id": "mlkBk4-lrCR3"
      }
    },
    {
      "cell_type": "code",
      "source": [
        "sentence_chunker = SentenceChunker(\n",
        "    chunk_size=350,\n",
        "    chunk_overlap=50\n",
        ")"
      ],
      "metadata": {
        "id": "7WwETXMRrG99"
      },
      "execution_count": null,
      "outputs": []
    },
    {
      "cell_type": "code",
      "source": [
        "chunked = sentence_chunker.chunk_batch(data.Text)"
      ],
      "metadata": {
        "colab": {
          "base_uri": "https://localhost:8080/"
        },
        "id": "rDfAuKsOrzBX",
        "outputId": "b605530a-1e2e-4629-8f82-92e08b69edb6"
      },
      "execution_count": null,
      "outputs": [
        {
          "output_type": "stream",
          "name": "stderr",
          "text": [
            "🦛 choooooooooooooooooooonk 100% • 44/44 docs chunked [00:00<00:00, 2325.06doc/s] 🌱\n"
          ]
        }
      ]
    },
    {
      "cell_type": "code",
      "source": [
        "for i, text in enumerate(chunked[34:]):\n",
        "    if data.iloc[i][\"Text\"]:\n",
        "        print(f\"Текст номер {i + 1}:\")\n",
        "        for chunk in text:\n",
        "            print(f\"Размер чанка: {chunk.token_count}\")\n",
        "            print(f\"Текст чанка: {chunk.text}\")\n",
        "            print()\n",
        "        print(\"=\"*20)\n"
      ],
      "metadata": {
        "colab": {
          "base_uri": "https://localhost:8080/"
        },
        "id": "4z0LZ9RKsTHx",
        "outputId": "2c0fee4d-ad72-47d3-d718-53d1093cac99"
      },
      "execution_count": null,
      "outputs": [
        {
          "output_type": "stream",
          "name": "stdout",
          "text": [
            "Текст номер 1:\n",
            "Размер чанка: 115\n",
            "Текст чанка: В ходе создания модели между объектами могут возникать всевозможные связи, которые будут иметь различный характер. \n",
            "\n",
            "Размер чанка: 493\n",
            "Текст чанка: В зависимости от последовательности действий по изменению состава, параметров и связей между объектами формируется иерархическая структура зависимостей между объектами.Окно «Зависимости» содержит информацию о взаимосвязях выбранного объекта модели:с родительскими объектами (от которых зависит выбранный объект);с дочерними объектами (которые зависят от выбранного объекта).В свою очередь, каждый родительский объект может зависеть от других объектов, а каждый дочерний может иметь зависимые. \n",
            "\n",
            "Размер чанка: 140\n",
            "Текст чанка: О наличие зависимостей свидетельствует пиктограмма  рядом с объектом, при нажатии которой раскрывается цепочка зависимостей (рис. Рисунок). \n",
            "\n",
            "Размер чанка: 1317\n",
            "Текст чанка: Повторное нажатие пиктограммы сворачивает цепочку зависимостей.Дерево зависимостейРисунок Управление родительскими и дочерними объектами осуществляется с помощью контекстного меню.Вызов функции «Пересчёт»  осуществляется из панели рабочего окна «Вид».Пиктограмма вызова функции «Пересчёт» имеет раскрывающийся список, содержащий несколько вариантов актуализации объектов и связей (рис. Рисунок).Пиктограмма пересчетаРисунок Опция «Пересчитать» – вариант, при котором программный модуль CAD анализирует, какие объекты были изменены после последнего пересчёта и актуализирует только изменённые объекты и их потомки.Опция «Полный пересчёт» – вариант, при котором программный модуль CAD проводит актуализацию объектов модели и связей между ними в соответствии с выбираемыми пунктами в появившемся диалоге (рис. Рисунок):полное обновление объектов (обновляются все объекты активного документа согласно сделанным в данном документе изменениям);обновление внешних ссылок (актуализируются объекты, изменения для которых поступают по ссылке – например, когда объектом модели является компонент);обновление сеток (обновление сеток КЭ при изменении исходных объектов);пересчёт задач.Опция полного пересчётаРисунок Режим «Автоматический пересчёт» предполагает автоматическую актуализацию объектов и связей после каждого действия.\n",
            "\n",
            "====================\n",
            "Текст номер 2:\n",
            "Размер чанка: 274\n",
            "Текст чанка: В общем случае удаление объектов модели осуществляется при помощи команды контекстного меню «Удалить» , вызываемого при нажатии ПКМ по объекту в рабочем окне или во вспомогательном окне «Навигатор модели», а также при выборе объекта с последующим нажатием клавиши <Delete>. \n",
            "\n",
            "Размер чанка: 268\n",
            "Текст чанка: При этом появляется специальный диалог удаления, в котором представлено несколько сценариев.По умолчанию программный модуль CAD предлагает удалить выбранный объект со всем потомственными объектами, для которых не удаётся разорвать связи с родительским (рис. Рисунок). \n",
            "\n",
            "Размер чанка: 133\n",
            "Текст чанка: Опция «Также удалить зависимые объекты» позволяет удалить всю цепочку зависимых объектов с выбранным.Удаление объектов моделиРисунок \n",
            "\n",
            "====================\n",
            "Текст номер 4:\n",
            "Размер чанка: 266\n",
            "Текст чанка: Для удобства работы с моделью её структура имеет вид иерархического дерева, включающего в себя все объекты модели, отображающаяся во вспомогательном окне «Навигатор модели».Окно «Навигатор модели»  вызывается из панели «Лента» (вкладка «Вид», группа «Инструменты»). \n",
            "\n",
            "Размер чанка: 221\n",
            "Текст чанка: Также окно можно вызвать из выпадающего меню «Опции».В окне отображаются тела, вспомогательная геометрия, сцены, страницы, стили, материалы, физические свойства и история операций цифровой модели текущего документа (рис. \n",
            "\n",
            "Размер чанка: 351\n",
            "Текст чанка: Рисунок).Окно «Навигатора модели» Рисунок Тела – это все геометрические объекты, являющиеся результатом различных генераторов (операций моделирования, импорта и т.д.).Вспомогательные – это группа, объединяющая вспомогательные объекты (системы координат, рабочие плоскости, 3Dточки, сопряжения и т.д.).Сцены – это группа, объединяющая объекты «Сцена». \n",
            "\n",
            "Размер чанка: 383\n",
            "Текст чанка: Эти объекты предназначены для группировки объектов в различных целях.Страницы – группа, включающая созданные в документе 2Dстраницы.Стили – это группа, объединяющая наборы параметров и свойств, отвечающих за визуализацию различных объектов цифровой модели.Материал – группа, включающая примененные в модели материалы.Сборка – группа, содержащая вставленные в файл компоненты сборки. \n",
            "\n",
            "Размер чанка: 331\n",
            "Текст чанка: Рядом с именем компонента указано имя его файла.История операций – это группа, содержащая в себе все выполненные в документе операции.Папки «Навигатора модели» отмечены специализированными иконками. Они могут быть открыты на отдельных боковых вкладках с помощью команды «Открыть в отдельной вкладке» в контекстном меню папки (рис. \n",
            "\n",
            "Размер чанка: 347\n",
            "Текст чанка: Рисунок). Открытые вкладки сохраняются в документе, поэтому могут быть заранее созданы в прототипе документа для последующего использования в новых документах, создаваемых на основе этих прототипов.Папки «Навигатора модели»Рисунок Папки в «Навигатором модели» могут быть скрыты. Для этого вызовите контекстное меню папки и выберите «Скрыть» (рис. \n",
            "\n",
            "Размер чанка: 369\n",
            "Текст чанка: Рисунок). Видимость скрытой папки можно восстановить: вызовите контекстное меню в пустом месте Навигатора, выберите «Показать» и укажите имя папки, которую следует восстановить, или восстановите все скрытые папки опцией «Показать всё».Команда «Скрыть» Рисунок Для удобства при работе с большими моделями в папке «История операций» можно создавать дополнительные папки. \n",
            "\n",
            "Размер чанка: 261\n",
            "Текст чанка: Это позволяет разнести операции по логическим блокам и упростить навигацию по модели.Для добавления первой операции в дополнительную папку используются команда контекстного меню «Сгруппировать в папку» (рис. Рисунок). Папка будет создана с именем по умолчанию. \n",
            "\n",
            "Размер чанка: 405\n",
            "Текст чанка: Для задания ей другого имени используется команда «Переименовать».Команда «Сгруппировать в папку»Рисунок  Для добавления последующих операций достаточно «перетянуть» их в папку с зажатой ЛКМ.Для удаления группы и «высвобождения» входящих в неё операций используется команда «Разгруппировать папку».Модель в навигаторе представлена в виде дерева, что позволяет показать зависимости объектов друг от друга. \n",
            "\n",
            "Размер чанка: 209\n",
            "Текст чанка: Например, создана пользовательская рабочая плоскость, на которой начерчена окружность. В навигаторе в виде дерева будет показано, что от данной рабочей плоскости зависит линия окружности с центром и радиусом. \n",
            "\n",
            "Размер чанка: 284\n",
            "Текст чанка: Объекты, участвующие в сопряжении, отображаются при «разворачивании» соответствующего сопряжения в навигаторе.Отображением вложенности в «Навигатором модели» можно управлять. Опция «Раскрыть все элементы навигатора» раскрывает все папки и объекты до определённого уровня вложенности. \n",
            "\n",
            "Размер чанка: 205\n",
            "Текст чанка: Уровень настраивается в выпадающем меню «Настройка вложенности элементов навигатора». Переключатель в меню позволяет выбрать уровень (от 1 до 5), до которого будут раскрыты объекты в «Навигатором модели». \n",
            "\n",
            "Размер чанка: 324\n",
            "Текст чанка: Также доступен флаг «Максимум», активирующий уровень 5.Объекты можно выбирать прямо из дерева цифровой модели, при этом выбранный объект будет подсвечен в сцене. Обратное действие также доступно: выбранный в сцене объект будет подсвечен в навигаторе цифровой модели.Все объекты «Навигатора модели» могут быть переименованы. \n",
            "\n",
            "Размер чанка: 312\n",
            "Текст чанка: Для этого следует вызвать контекстное меню объекта, в нём выбрать пункт «Свойства» и в поле параметра «Имя» ввести требуемое наименование. До подтверждения изменений параметр «Имя» будет помечен красной звёздочкой.Для поиска объекта в навигаторе следует ввести его имя в верхней строке диалога и нажать <Enter>. \n",
            "\n",
            "Размер чанка: 342\n",
            "Текст чанка: Если объект (объекты) с таким именем существует, то группа, содержащая его, раскроется, и объект будет подсвечен в навигаторе. Если найдено несколько объектов с введённым именем, станут активны пиктограммы  ,  для переключения между объектами.Колонка  предназначена для управления видимостью объектов модели. По умолчанию все объекты видимы. \n",
            "\n",
            "Размер чанка: 288\n",
            "Текст чанка: По умолчанию все объекты видимы. Если необходимо скрыть объект, следует кликнуть на иконке  рядом с ним. Объекты с отключенной видимость отмечены пиктограммой .Колонка  предназначена для подавления объектов. Подавленный объект исключается из пересчёта модели и не отображается в 3Dсцене. \n",
            "\n",
            "Размер чанка: 316\n",
            "Текст чанка: Пиктограмма в верхней части окна управляет видимостью колонок в поле навигатора. Для скрытия колонки необходимо снять флаг рядом с ее наименованием.Любая операция или объект могут быть отредактированы из «Навигатора модели». Для этого её необходимо выбрать, открыть контекстное меню и выбрать пункт «Редактировать». \n",
            "\n",
            "Размер чанка: 175\n",
            "Текст чанка: В результате запустится диалог соответствующей команды, в котором можно внести изменения в операцию.Изменения, которые вносятся в документ, отражаются в «Навигатором модели». \n",
            "\n",
            "Размер чанка: 376\n",
            "Текст чанка: Например, если в некоторое тело была добавлена операция, то данная операция будет включена в состав тела в дереве модели.Если в ходе создания либо редактирования модели возникают ошибки, проблемные объекты и операции маркируются восклицательным знаком, а в окне диагностики появляются соответствующие сообщения.Можно менять порядок операций в дереве модели при необходимости. \n",
            "\n",
            "Размер чанка: 340\n",
            "Текст чанка: Для этого необходимо выделить операцию в папке «История операций» и, удерживая левую кнопку мыши, переместить ее выше или ниже в порядке построений. Если перемещение на выбранный этап построения возможен, рядом с названием перемещаемой операции будет отображаться ее иконка, а ее будущее «место» в дереве будет отмечено черной линией (рис. \n",
            "\n",
            "Размер чанка: 331\n",
            "Текст чанка: Рисунок). Если при перемещении рядом с названием операции отображается красная пиктограмма, перемещение на данный этап построения невозможен.Вкладка историй операцийРисунок Существует возможность откатить модель до одной из ранее выполненных операций. Это полезно, когда необходимо произвести доработку в «середине» дерева модели. \n",
            "\n",
            "Размер чанка: 131\n",
            "Текст чанка: Для отката модели до определенной операции необходимо выбрать эту операцию в истории и в контекстном меню выбрать  «Откат модели». \n",
            "\n",
            "Размер чанка: 347\n",
            "Текст чанка: Все операции, созданные после выбранной, скроются в 3D-сцене и станут недоступными для выбора, при этом в навигаторе их имена будут отмечены серым шрифтом (рис. Рисунок).Вкладка историй операцийРисунок «Точка» отката отмечается в истории операций пиктограммой . По умолчанию она располагается в конце истории, а новые операции добавляются до неё. \n",
            "\n",
            "Размер чанка: 334\n",
            "Текст чанка: Эта пиктограмма также позволяет откатить модель до нужного этапа. Достаточно «перетянуть» ее в нужное место в истории операций.Все элементы и операции, созданные в режиме отката, автоматически встраиваются в «Навигатор модели» между операцией, до которой произведён откат, и последующими операциями, заблокированными в режиме отката. \n",
            "\n",
            "Размер чанка: 349\n",
            "Текст чанка: Для выхода из режима отката достаточно выбрать пункт  «Завершить откат» в контекстном меню любого объекта в истории операций. Также для этого можно «перетащить» пиктограмму  в конец истории операций.Твёрдые и поверхностные тела, операции, точки и кривые могут быть скопированы через буфер обмена, и их можно вставить в тот же документ или в другой. \n",
            "\n",
            "Размер чанка: 340\n",
            "Текст чанка: Ассоциативная связь при этом не сохранится. Для этого в контекстном меню объектов в «Навигатором модели» и 3D-сцене представлены команды «Копировать»   и «Вставить» . При вставке объект-копия сохранит свое положение относительно абсолютной СК документа.Объект или папка «Навигатора модели» для удобства могут быть открыты в отдельном окне. \n",
            "\n",
            "Размер чанка: 81\n",
            "Текст чанка: Для этого в их контекстном меню нужно вызвать команду «Открыть в отдельном окне».\n",
            "\n",
            "====================\n",
            "Текст номер 5:\n",
            "Размер чанка: 250\n",
            "Текст чанка: Окно «Свойства» содержит информацию обо всех свойствах выбранного объекта, в том числе и о свойствах материала.Окно «Свойства»  вызывается из панели «Лента» (вкладка «Вид», группа «Инструменты»). Также окно можно вызвать из выпадающего меню «Опции». \n",
            "\n",
            "Размер чанка: 241\n",
            "Текст чанка: Окно свойств выбранного объекта можно вызвать из его контекстного меню.По умолчанию окно пустое и размещается в нижнем правом углу экрана. В окне отобразятся свойства объекта, когда он будет выбран в 3Dсцене или в «Навигатором модели» (рис. \n",
            "\n",
            "Размер чанка: 127\n",
            "Текст чанка: Рисунок). Окно свойствРисунок В зависимости от типа выбранного объекта количество и наименование полей окна может быть разным. \n",
            "\n",
            "Размер чанка: 1317\n",
            "Текст чанка: В общем случае окно содержит следующий набор полей:«Имя» – поле, отображающее имя объекта, заданное пользователем;«Прозрачность» – параметр задания прозрачности грани;«Цвет» – параметр для назначения произвольного цвета грани либо ребру;«Системные свойства» – раздел, содержащий набор системных параметров;«Показывать в корне «Навигатора модели»» – параметр отображения выбранного объекта (тела, грани, ребра, вершины) в «Навигатором модели»;«Видимый» – параметр управления видимостью выбранного объекта в сцене 3Dвида, а также 2Dвида (может принимать значения 0 и 1);флаг «Управляющий параметр»;флаг «Вспомогательный», позволяющий использовать объект для моделирования, при этом сам объект не будет результатом моделирования;«Параметры сетки» – набор параметров, отвечающих за качество отображения объектов в различных видах рабочего окна;«Визуальные свойства» – набор параметров, отвечающих за визуализацию физического вещества, присвоенного объекту;«Материал» – набор параметров, характеризующих физические свойства назначенного материала;«Масса» – по умолчанию определяется программным модулем CAD на основании геометрического объема объекта и плотности заданного материала (при необходимости допускается ввод пользовательского значения).Системное свойство «Запрет на удаление» доступно для всех объектов модели. \n",
            "\n",
            "Размер чанка: 250\n",
            "Текст чанка: При попытке удалить объект с запретом на удаление программный модуль CAD выдаст сообщение о том, что удаление невозможно. По умолчанию в новом документе защищены от удаления основные рабочие плоскости.Поля, содержащие пиктограмму , можно раскрывать. \n",
            "\n",
            "Размер чанка: 256\n",
            "Текст чанка: Такие поля содержат набор параметров, которые, в свою очередь, тоже могут состоять из нескольких вложенных параметров (см. рис. Рисунок). Такой подход обеспечивает древовидную структуру свойств.У операции доступно свойство «Цвет образованных граней» (рис. \n",
            "\n",
            "Размер чанка: 278\n",
            "Текст чанка: Рисунок), которое позволяет назначить граням, созданным в результате выбранной операции, цвет из системной библиотеки цветов.Свойство «Цвет образованных граней»Рисунок В свойствах твёрдых тел указана их масса, которая рассчитывается с учётом геометрии и назначенного материала. \n",
            "\n",
            "Размер чанка: 316\n",
            "Текст чанка: По умолчанию программный модуль CAD определяет массу автоматически, однако пользователь может ввести в поле своё значение для данного параметра.При изменении какого-либо параметра он будет помечен звёздочкой. Для сброса значения параметра следует нажать . Для принятия изменений необходимо нажать на , для отмены - .\n",
            "\n",
            "====================\n",
            "Текст номер 6:\n",
            "Размер чанка: 107\n",
            "Текст чанка: Сведения о выбранном объекте или наборе объектов модели отображаются во вспомогательном окне «Информация». \n",
            "\n",
            "Размер чанка: 246\n",
            "Текст чанка: Основными данными объекта являются имя, его тип, идентификатор, а также ряд параметров, характерных его типу (рис. Рисунок).Информация об объектеРисунок Для просмотра информации об одном из выбранных объектов необходимо нажать на его ссылку ЛКМ. \n",
            "\n",
            "Размер чанка: 221\n",
            "Текст чанка: Возврат к перечню выбранных объектов осуществляется по нажатию на ссылку «Назад».Окно «Информация»  вызывается из панели «Лента» (Вкладка «Вид», группа «Инструменты»). Также окно можно вызвать из выпадающего меню «Опции».\n",
            "\n",
            "====================\n",
            "Текст номер 7:\n",
            "Размер чанка: 320\n",
            "Текст чанка: Слой – параметр каждого геометрического объекта, который определяет его принадлежность какой-либо группе элементов модели.Вызов «Навигатора слоёв»  осуществляется из панели «Лента» (вкладка «Вид», группа «Инструменты» (рис. Рисунок)).Окно «Слои»Рисунок Слоям и группам слоёв могут быть назначены пользовательские имена. \n",
            "\n",
            "Размер чанка: 234\n",
            "Текст чанка: Для переименования слоя дважды кликните ЛКМ по его имени и введите в поле новое имя слоя.«Навигатор слоёв» содержит список слоёв документа и набор команд для управления ими.Команда  «Добавить новый слой» позволяет создать новый слой. \n",
            "\n",
            "Размер чанка: 513\n",
            "Текст чанка: При нажатии кнопки создается слой, которому автоматически присваивается название, которое допускается изменить.Команда  «Установить текущий слой» делает выбранный слой текущим: на него будут помещаться вновь создаваемые объекты модели.Команда  «Удалить слой/группу слоёв» удаляет выбранный слой или группу слоёв.Команда  «Перенести объекты на слой» позволяет назначить предварительно выбранным объектам модели выбранный слой.Команда  «Добавить стиль слоя» назначает определенный стиль объектам на выбранном слое. \n",
            "\n",
            "Размер чанка: 305\n",
            "Текст чанка: Существуют следующие варианты выбора стилей: «Материал», «Стиль линии», «Стиль заполнения», «Стиль 2Dточки», «Стиль 3Dточки», «Стиль РП», «Стиль ЛСК», «Стиль текста», «Параметры сетки». При выборе одного из перечисленных вариантов происходит заимствование его стиля и присвоение объектам выбранного слоя. \n",
            "\n",
            "Размер чанка: 225\n",
            "Текст чанка: Для стиля слоя существует набор стандартных команд: «Свойства», «Зависимости», «Редактировать», «Удалить».Команда  «Удалить стиль слоя» позволяет удалить стиль, созданный ранее командой «Добавить новый стиль в текущий слой». \n",
            "\n",
            "Размер чанка: 245\n",
            "Текст чанка: При удалении одного из заимствованных стилей программный модуль CAD запросит подтверждение, а также предложит удалить зависимые объекты.Команда  «Свойства слоя/группы слоёв» открывает окно свойств с параметрами выбранного слоя или группы слоёв. \n",
            "\n",
            "Размер чанка: 265\n",
            "Текст чанка: Доступно свойство «Цвет пометки», назначающее выбранный цвет объектам слоя.Команда  «Создать группу слоёв» создает группу, которая позволяет комплесно управлять входящими в неё слоями: атрибуты, назначенные группе, распространяются на все входящие в неё слои (рис. \n",
            "\n",
            "Размер чанка: 349\n",
            "Текст чанка: Рисунок). Окно «Слои»Рисунок В группу включаются те слои, которые были выбраны в списке в момент запуска команды создания группыСлои можно выбирать с помощью клавиш <Shift> и <Ctrl>.Добавить слой в существующую группу можно, перетащив его в строку с именем группы. «Настройка атрибутов» управляет видимостью колонок с атрибутами в Навигаторе слоёв. \n",
            "\n",
            "Размер чанка: 558\n",
            "Текст чанка: Каждый слой обладает своими атрибутами: «Видимый» управляет видимостью объектов на слое; «Замороженный» блокирует возможность выбора и редактирования объектов на слое; «Экранный» управляет разрешением вывода на печать; «Невидимый при вставке в сборку» управляет видимостью элементов при вставке в сборку; «Видимый только при вставке в сборку» управляет видимостью элементов при вставке сборку; «Стили слоя» отображает стили, заимствованные командой «Добавить новый стиль в текущий слой».Назначить атрибуты можно, установив флаг напротив требуемого атрибута. \n",
            "\n",
            "Размер чанка: 343\n",
            "Текст чанка: Также можно изменить атрибуты нескольких слоев одновременно. Для этого необходимо выделить несколько слоев и выбрать необходимые атрибуты.У слоёв и их групп есть контекстное меню. В нем доступны некоторые команды «Навигатора слоёв», а также команда «Зависимости», которая вызывает окно «Зависимости» для выбранного слоя или группы слоёв (рис. \n",
            "\n",
            "Размер чанка: 28\n",
            "Текст чанка: Рисунок).Окно «Слои»Рисунок \n",
            "\n",
            "====================\n",
            "Текст номер 8:\n",
            "Размер чанка: 310\n",
            "Текст чанка: По умолчанию очерёдность отображения перекрывающихся объектов определяется автоматически в зависимости от их типов. При этом программный модуль CAD предусматривает возможность ручного управления очерёдности за счёт назначения приоритетов.Под приоритетом следует понимать порядковый номер прорисовки 2Dобъекта. \n",
            "\n",
            "Размер чанка: 289\n",
            "Текст чанка: Таким образом объекты с более высоким значением приоритета перекрывают объекты с более низким значением. Текущее значение приоритета объекта отображается в окне свойств. По умолчанию значение приоритета равно 0.Для управления приоритетом объектов предусмотрена команда «Порядок объектов». \n",
            "\n",
            "Размер чанка: 163\n",
            "Текст чанка: Данная команда предусматривает шесть режимов:«На передний/задний план» – текущий объект отображается над/под остальными перекрывающимися объектами (рис. Рисунок). \n",
            "\n",
            "Размер чанка: 430\n",
            "Текст чанка: Объекту назначается максимальное либо минимальное значение приоритета соответственно;Режим «На передний/задний план»Рисунок «Переместить вперёд/назад» – текущий объект перемещается на один уровень выше/ниже (рис. Рисунок) Значение приоритета увеличивается либо уменьшается на единицу соответственно;Режим «Переместить вперёд/назад»Рисунок «Перед/за объектом» – текущий объект отображается над/под целевым объектом (рис. Рисунок). \n",
            "\n",
            "Размер чанка: 306\n",
            "Текст чанка: Объекту присваивается значение приоритета на единицу больше либо меньше относительно целевого.Режим «Перед/за объектом»Рисунок Каждому режиму соответствует уникальная пиктограмма в диалоге команды.Выбор объектов для редактирования осуществляется непосредственно в рабочем окне либо в «Навигатором модели». \n",
            "\n",
            "Размер чанка: 214\n",
            "Текст чанка: Все выбранные объекты отображаются в одноимённом списке диалога. Целевой объект (актуален для режимов «Перед/за объектом») отображается в отдельном поле (рис. Рисунок).Список объектов в окне диалога функцииРисунок \n",
            "\n",
            "====================\n",
            "Текст номер 9:\n",
            "Размер чанка: 219\n",
            "Текст чанка: Команда «Создать сцену» предназначена для создания в модели новой 3D-сцены.Команда запускается из контекстного меню, вызванного на объекте «Сцена» в «Навигатором модели». После запуска откроется диалог параметров (рис. \n",
            "\n",
            "Размер чанка: 48\n",
            "Текст чанка: После запуска откроется диалог параметров (рис. \n",
            "\n",
            "Размер чанка: 439\n",
            "Текст чанка: Рисунок).Диалоговое окно создания сценыРисунок Параметр «Базовая сцена» предназначен для выбора сцены, на основе которой будет создана новая сцена.Блоки «Исключаемые объекты» и «Добавляемые объекты» предназначены для выбора объектов (тел и компонентов сборки), которые должны быть исключены из сцены или добавлены в неё.Блок «Модифицируемые объекты» предназначен для выбора тел и компонентов, которые должны быть трансформированы в сцене. \n",
            "\n",
            "Размер чанка: 250\n",
            "Текст чанка: Для задания трансформации справа от поля выбора объектов находится пиктограмма одноименной команды.В блоке «Параметры» содержатся настройки визуализации новой сцены.Флаг «Активировать сцену» позволяет сделать созданную сцену активной после создания. \n",
            "\n",
            "====================\n",
            "Текст номер 10:\n",
            "Размер чанка: 451\n",
            "Текст чанка: Управление представлениями рабочего окна предполагает следующие манипуляции:вращение 3Dпредставления (сцены) относительно некоторой точки, осуществляющееся за счёт перемещения курсора в пределах рабочего графического окна при захвате ПКМ (если в момент захвата сцены под курсором находится геометрический объект, тогда центром вращения сцены будет пересечение луча, проходящего через точку захвата перпендикулярно плоскости экрана, с данным объектом. \n",
            "\n",
            "Размер чанка: 45\n",
            "Текст чанка: Такая точка будет маркирована пиктограммой . \n",
            "\n",
            "Размер чанка: 397\n",
            "Текст чанка: В противном случае в качестве центра вращения будет выступать центр сцены);перемещение представления (2D и 3D) в плоскости экрана, осуществляющееся за счёт перемещения курсора в пределах рабочего графического окна при захвате СКМ;масштабирование представления (2D и 3D), осуществляющееся СКМ, при этом масштабирование происходит относительно текущего положения курсора в рабочем графическом окне. \n",
            "\n",
            "Размер чанка: 317\n",
            "Текст чанка: Изменение направления прокрутки колеса мыши осуществляется за счёт параметра «Обратное направление колеса мыши» в окне установок программного модуля CAD.Для управления 3Dсценой в графическом окне дополнительно предусмотрен специальный инструмент «Видовой куб», расположенный в правом верхнем углу рабочего окна (рис. \n",
            "\n",
            "Размер чанка: 291\n",
            "Текст чанка: Рисунок).Специальный инструмент «Видовой куб»Рисунок Его ориентация соответствует ориентации объектов в пространстве. Выбор одного из элементов куба (вершина, ребро или грань) определяет положение точки обзора сцены. Пиктограмма  позволяет сориентировать модель согласно базовому положению. \n",
            "\n",
            "Размер чанка: 303\n",
            "Текст чанка: Пиктограммы  и  позволяют поворачивать сцену в плоскости рабочего окна по часовой и против часовой стрелки соответственно. Пиктограммы  и  позволяют масштабировать изображение объектов сцены.Помимо штатных инструментов, управление 3Dсценой может осуществляться с помощью 3Dманипулятора типа SpaceMouse. \n",
            "\n",
            "Размер чанка: 71\n",
            "Текст чанка: Для этого необходимо включить соответствующий модуль в окне приложений.\n",
            "\n",
            "====================\n"
          ]
        }
      ]
    },
    {
      "cell_type": "markdown",
      "source": [
        "## RecursiveChunker"
      ],
      "metadata": {
        "id": "ViOjxRM4rHU7"
      }
    },
    {
      "cell_type": "code",
      "source": [
        "recursive_chunker = RecursiveChunker(\n",
        "    tokenizer_or_token_counter=\"sergeyzh/rubert-mini-frida\",\n",
        "    chunk_size=256,\n",
        "    rules=RecursiveRules(),\n",
        "    min_characters_per_chunk=24,\n",
        ")"
      ],
      "metadata": {
        "id": "57njf3b0rnQ3"
      },
      "execution_count": null,
      "outputs": []
    },
    {
      "cell_type": "code",
      "source": [
        "chunked = recursive_chunker.chunk_batch(data.Text)"
      ],
      "metadata": {
        "colab": {
          "base_uri": "https://localhost:8080/"
        },
        "id": "76C5hEuFtd6Q",
        "outputId": "769474fc-224c-450a-93dc-ca50ffaddc3a"
      },
      "execution_count": null,
      "outputs": [
        {
          "output_type": "stream",
          "name": "stderr",
          "text": [
            "🦛 choooooooooooooooooooonk 100% • 44/44 docs chunked [00:05<00:00,  8.28doc/s] 🌱\n"
          ]
        }
      ]
    },
    {
      "cell_type": "code",
      "source": [
        "for i, text in enumerate(chunked[34:]):\n",
        "    if data.iloc[i][\"Text\"]:\n",
        "        print(f\"Текст номер {i + 1}:\")\n",
        "        for chunk in text:\n",
        "            print(f\"Размер чанка: {chunk.token_count}\")\n",
        "            print(f\"Текст чанка: {chunk.text}\")\n",
        "            print()\n",
        "        print(\"=\"*20)"
      ],
      "metadata": {
        "colab": {
          "base_uri": "https://localhost:8080/"
        },
        "id": "lRvrtX89tdxB",
        "outputId": "998f9c6f-f038-4e41-a59a-b53eb8478df8"
      },
      "execution_count": null,
      "outputs": [
        {
          "output_type": "stream",
          "name": "stdout",
          "text": [
            "Текст номер 1:\n",
            "Размер чанка: 130\n",
            "Текст чанка: В ходе создания модели между объектами могут возникать всевозможные связи, которые будут иметь различный характер. В зависимости от последовательности действий по изменению состава, параметров и связей между объектами формируется иерархическая структура зависимостей между объектами.Окно «Зависимости» содержит информацию о взаимосвязях выбранного объекта модели:с родительскими объектами (от которых зависит выбранный объект);с дочерними объектами (которые зависят от выбранного объекта).В свою очередь, каждый родительский объект может зависеть от других объектов, а каждый дочерний может иметь зависимые. О наличие зависимостей свидетельствует пиктограмма  рядом с объектом, при нажатии которой раскрывается цепочка зависимостей (рис. Рисунок). \n",
            "\n",
            "Размер чанка: 255\n",
            "Текст чанка: Повторное нажатие пиктограммы сворачивает цепочку зависимостей.Дерево зависимостейРисунок Управление родительскими и дочерними объектами осуществляется с помощью контекстного меню.Вызов функции «Пересчёт»  осуществляется из панели рабочего окна «Вид».Пиктограмма вызова функции «Пересчёт» имеет раскрывающийся список, содержащий несколько вариантов актуализации объектов и связей (рис. Рисунок).Пиктограмма пересчетаРисунок Опция «Пересчитать» – вариант, при котором программный модуль CAD анализирует, какие объекты были изменены после последнего пересчёта и актуализирует только изменённые объекты и их потомки.Опция «Полный пересчёт» – вариант, при котором программный модуль CAD проводит актуализацию объектов модели и связей между ними в соответствии с выбираемыми пунктами в появившемся диалоге (рис. Рисунок):полное обновление объектов (обновляются все объекты активного документа согласно сделанным в данном документе изменениям);обновление внешних ссылок (актуализируются объекты, изменения для которых поступают по ссылке – например, когда объектом модели является компонент);обновление сеток (обновление сеток КЭ при изменении исходных объектов);пересчёт задач.Опция полного пересчётаРисунок Режим «Автоматический пересчёт» предполагает автоматическую актуализацию объектов и связей после каждого действия.\n",
            "\n",
            "====================\n",
            "Текст номер 2:\n",
            "Размер чанка: 127\n",
            "Текст чанка: В общем случае удаление объектов модели осуществляется при помощи команды контекстного меню «Удалить» , вызываемого при нажатии ПКМ по объекту в рабочем окне или во вспомогательном окне «Навигатор модели», а также при выборе объекта с последующим нажатием клавиши <Delete>. При этом появляется специальный диалог удаления, в котором представлено несколько сценариев.По умолчанию программный модуль CAD предлагает удалить выбранный объект со всем потомственными объектами, для которых не удаётся разорвать связи с родительским (рис. Рисунок). Опция «Также удалить зависимые объекты» позволяет удалить всю цепочку зависимых объектов с выбранным.Удаление объектов моделиРисунок \n",
            "\n",
            "====================\n",
            "Текст номер 4:\n",
            "Размер чанка: 186\n",
            "Текст чанка: Для удобства работы с моделью её структура имеет вид иерархического дерева, включающего в себя все объекты модели, отображающаяся во вспомогательном окне «Навигатор модели».Окно «Навигатор модели»  вызывается из панели «Лента» (вкладка «Вид», группа «Инструменты»). Также окно можно вызвать из выпадающего меню «Опции».В окне отображаются тела, вспомогательная геометрия, сцены, страницы, стили, материалы, физические свойства и история операций цифровой модели текущего документа (рис. Рисунок).Окно «Навигатора модели» Рисунок Тела – это все геометрические объекты, являющиеся результатом различных генераторов (операций моделирования, импорта и т.д.).Вспомогательные – это группа, объединяющая вспомогательные объекты (системы координат, рабочие плоскости, 3Dточки, сопряжения и т.д.).Сцены – это группа, объединяющая объекты «Сцена». \n",
            "\n",
            "Размер чанка: 210\n",
            "Текст чанка: Эти объекты предназначены для группировки объектов в различных целях.Страницы – группа, включающая созданные в документе 2Dстраницы.Стили – это группа, объединяющая наборы параметров и свойств, отвечающих за визуализацию различных объектов цифровой модели.Материал – группа, включающая примененные в модели материалы.Сборка – группа, содержащая вставленные в файл компоненты сборки. Рядом с именем компонента указано имя его файла.История операций – это группа, содержащая в себе все выполненные в документе операции.Папки «Навигатора модели» отмечены специализированными иконками. Они могут быть открыты на отдельных боковых вкладках с помощью команды «Открыть в отдельной вкладке» в контекстном меню папки (рис. Рисунок). Открытые вкладки сохраняются в документе, поэтому могут быть заранее созданы в прототипе документа для последующего использования в новых документах, создаваемых на основе этих прототипов.Папки «Навигатора модели»Рисунок Папки в «Навигатором модели» могут быть скрыты. Для этого вызовите контекстное меню папки и выберите «Скрыть» (рис. \n",
            "\n",
            "Размер чанка: 247\n",
            "Текст чанка: Рисунок). Видимость скрытой папки можно восстановить: вызовите контекстное меню в пустом месте Навигатора, выберите «Показать» и укажите имя папки, которую следует восстановить, или восстановите все скрытые папки опцией «Показать всё».Команда «Скрыть» Рисунок Для удобства при работе с большими моделями в папке «История операций» можно создавать дополнительные папки. Это позволяет разнести операции по логическим блокам и упростить навигацию по модели.Для добавления первой операции в дополнительную папку используются команда контекстного меню «Сгруппировать в папку» (рис. Рисунок). Папка будет создана с именем по умолчанию. Для задания ей другого имени используется команда «Переименовать».Команда «Сгруппировать в папку»Рисунок  Для добавления последующих операций достаточно «перетянуть» их в папку с зажатой ЛКМ.Для удаления группы и «высвобождения» входящих в неё операций используется команда «Разгруппировать папку».Модель в навигаторе представлена в виде дерева, что позволяет показать зависимости объектов друг от друга. Например, создана пользовательская рабочая плоскость, на которой начерчена окружность. В навигаторе в виде дерева будет показано, что от данной рабочей плоскости зависит линия окружности с центром и радиусом. \n",
            "\n",
            "Размер чанка: 232\n",
            "Текст чанка: Объекты, участвующие в сопряжении, отображаются при «разворачивании» соответствующего сопряжения в навигаторе.Отображением вложенности в «Навигатором модели» можно управлять. Опция «Раскрыть все элементы навигатора» раскрывает все папки и объекты до определённого уровня вложенности. Уровень настраивается в выпадающем меню «Настройка вложенности элементов навигатора». Переключатель в меню позволяет выбрать уровень (от 1 до 5), до которого будут раскрыты объекты в «Навигатором модели». Также доступен флаг «Максимум», активирующий уровень 5.Объекты можно выбирать прямо из дерева цифровой модели, при этом выбранный объект будет подсвечен в сцене. Обратное действие также доступно: выбранный в сцене объект будет подсвечен в навигаторе цифровой модели.Все объекты «Навигатора модели» могут быть переименованы. Для этого следует вызвать контекстное меню объекта, в нём выбрать пункт «Свойства» и в поле параметра «Имя» ввести требуемое наименование. До подтверждения изменений параметр «Имя» будет помечен красной звёздочкой.Для поиска объекта в навигаторе следует ввести его имя в верхней строке диалога и нажать <Enter>. \n",
            "\n",
            "Размер чанка: 212\n",
            "Текст чанка: Если объект (объекты) с таким именем существует, то группа, содержащая его, раскроется, и объект будет подсвечен в навигаторе. Если найдено несколько объектов с введённым именем, станут активны пиктограммы  ,  для переключения между объектами.Колонка  предназначена для управления видимостью объектов модели. По умолчанию все объекты видимы. Если необходимо скрыть объект, следует кликнуть на иконке  рядом с ним. Объекты с отключенной видимость отмечены пиктограммой .Колонка  предназначена для подавления объектов. Подавленный объект исключается из пересчёта модели и не отображается в 3Dсцене. Пиктограмма в верхней части окна управляет видимостью колонок в поле навигатора. Для скрытия колонки необходимо снять флаг рядом с ее наименованием.Любая операция или объект могут быть отредактированы из «Навигатора модели». Для этого её необходимо выбрать, открыть контекстное меню и выбрать пункт «Редактировать». В результате запустится диалог соответствующей команды, в котором можно внести изменения в операцию.Изменения, которые вносятся в документ, отражаются в «Навигатором модели». \n",
            "\n",
            "Размер чанка: 210\n",
            "Текст чанка: Например, если в некоторое тело была добавлена операция, то данная операция будет включена в состав тела в дереве модели.Если в ходе создания либо редактирования модели возникают ошибки, проблемные объекты и операции маркируются восклицательным знаком, а в окне диагностики появляются соответствующие сообщения.Можно менять порядок операций в дереве модели при необходимости. Для этого необходимо выделить операцию в папке «История операций» и, удерживая левую кнопку мыши, переместить ее выше или ниже в порядке построений. Если перемещение на выбранный этап построения возможен, рядом с названием перемещаемой операции будет отображаться ее иконка, а ее будущее «место» в дереве будет отмечено черной линией (рис. Рисунок). Если при перемещении рядом с названием операции отображается красная пиктограмма, перемещение на данный этап построения невозможен.Вкладка историй операцийРисунок Существует возможность откатить модель до одной из ранее выполненных операций. Это полезно, когда необходимо произвести доработку в «середине» дерева модели. Для отката модели до определенной операции необходимо выбрать эту операцию в истории и в контекстном меню выбрать  «Откат модели». \n",
            "\n",
            "Размер чанка: 226\n",
            "Текст чанка: Все операции, созданные после выбранной, скроются в 3D-сцене и станут недоступными для выбора, при этом в навигаторе их имена будут отмечены серым шрифтом (рис. Рисунок).Вкладка историй операцийРисунок «Точка» отката отмечается в истории операций пиктограммой . По умолчанию она располагается в конце истории, а новые операции добавляются до неё. Эта пиктограмма также позволяет откатить модель до нужного этапа. Достаточно «перетянуть» ее в нужное место в истории операций.Все элементы и операции, созданные в режиме отката, автоматически встраиваются в «Навигатор модели» между операцией, до которой произведён откат, и последующими операциями, заблокированными в режиме отката. Для выхода из режима отката достаточно выбрать пункт  «Завершить откат» в контекстном меню любого объекта в истории операций. Также для этого можно «перетащить» пиктограмму  в конец истории операций.Твёрдые и поверхностные тела, операции, точки и кривые могут быть скопированы через буфер обмена, и их можно вставить в тот же документ или в другой. Ассоциативная связь при этом не сохранится. \n",
            "\n",
            "Размер чанка: 82\n",
            "Текст чанка: Для этого в контекстном меню объектов в «Навигатором модели» и 3D-сцене представлены команды «Копировать»   и «Вставить» . При вставке объект-копия сохранит свое положение относительно абсолютной СК документа.Объект или папка «Навигатора модели» для удобства могут быть открыты в отдельном окне. Для этого в их контекстном меню нужно вызвать команду «Открыть в отдельном окне».\n",
            "\n",
            "====================\n",
            "Текст номер 5:\n",
            "Размер чанка: 139\n",
            "Текст чанка: Окно «Свойства» содержит информацию обо всех свойствах выбранного объекта, в том числе и о свойствах материала.Окно «Свойства»  вызывается из панели «Лента» (вкладка «Вид», группа «Инструменты»). Также окно можно вызвать из выпадающего меню «Опции». Окно свойств выбранного объекта можно вызвать из его контекстного меню.По умолчанию окно пустое и размещается в нижнем правом углу экрана. В окне отобразятся свойства объекта, когда он будет выбран в 3Dсцене или в «Навигатором модели» (рис. Рисунок). Окно свойствРисунок В зависимости от типа выбранного объекта количество и наименование полей окна может быть разным. \n",
            "\n",
            "Размер чанка: 242\n",
            "Текст чанка: В общем случае окно содержит следующий набор полей:«Имя» – поле, отображающее имя объекта, заданное пользователем;«Прозрачность» – параметр задания прозрачности грани;«Цвет» – параметр для назначения произвольного цвета грани либо ребру;«Системные свойства» – раздел, содержащий набор системных параметров;«Показывать в корне «Навигатора модели»» – параметр отображения выбранного объекта (тела, грани, ребра, вершины) в «Навигатором модели»;«Видимый» – параметр управления видимостью выбранного объекта в сцене 3Dвида, а также 2Dвида (может принимать значения 0 и 1);флаг «Управляющий параметр»;флаг «Вспомогательный», позволяющий использовать объект для моделирования, при этом сам объект не будет результатом моделирования;«Параметры сетки» – набор параметров, отвечающих за качество отображения объектов в различных видах рабочего окна;«Визуальные свойства» – набор параметров, отвечающих за визуализацию физического вещества, присвоенного объекту;«Материал» – набор параметров, характеризующих физические свойства назначенного материала;«Масса» – по умолчанию определяется программным модулем CAD на основании геометрического объема объекта и плотности заданного материала (при необходимости допускается ввод пользовательского значения)\n",
            "\n",
            "Размер чанка: 15\n",
            "Текст чанка: .Системное свойство «Запрет на удаление» доступно для всех объектов модели. \n",
            "\n",
            "Размер чанка: 194\n",
            "Текст чанка: При попытке удалить объект с запретом на удаление программный модуль CAD выдаст сообщение о том, что удаление невозможно. По умолчанию в новом документе защищены от удаления основные рабочие плоскости.Поля, содержащие пиктограмму , можно раскрывать. Такие поля содержат набор параметров, которые, в свою очередь, тоже могут состоять из нескольких вложенных параметров (см. рис. Рисунок). Такой подход обеспечивает древовидную структуру свойств.У операции доступно свойство «Цвет образованных граней» (рис. Рисунок), которое позволяет назначить граням, созданным в результате выбранной операции, цвет из системной библиотеки цветов.Свойство «Цвет образованных граней»Рисунок В свойствах твёрдых тел указана их масса, которая рассчитывается с учётом геометрии и назначенного материала. По умолчанию программный модуль CAD определяет массу автоматически, однако пользователь может ввести в поле своё значение для данного параметра.При изменении какого-либо параметра он будет помечен звёздочкой. Для сброса значения параметра следует нажать . Для принятия изменений необходимо нажать на , для отмены - .\n",
            "\n",
            "====================\n",
            "Текст номер 6:\n",
            "Размер чанка: 125\n",
            "Текст чанка: Сведения о выбранном объекте или наборе объектов модели отображаются во вспомогательном окне «Информация». Основными данными объекта являются имя, его тип, идентификатор, а также ряд параметров, характерных его типу (рис. Рисунок).Информация об объектеРисунок Для просмотра информации об одном из выбранных объектов необходимо нажать на его ссылку ЛКМ. Возврат к перечню выбранных объектов осуществляется по нажатию на ссылку «Назад».Окно «Информация»  вызывается из панели «Лента» (Вкладка «Вид», группа «Инструменты»). Также окно можно вызвать из выпадающего меню «Опции».\n",
            "\n",
            "====================\n",
            "Текст номер 7:\n",
            "Размер чанка: 211\n",
            "Текст чанка: Слой – параметр каждого геометрического объекта, который определяет его принадлежность какой-либо группе элементов модели.Вызов «Навигатора слоёв»  осуществляется из панели «Лента» (вкладка «Вид», группа «Инструменты» (рис. Рисунок)).Окно «Слои»Рисунок Слоям и группам слоёв могут быть назначены пользовательские имена. Для переименования слоя дважды кликните ЛКМ по его имени и введите в поле новое имя слоя.«Навигатор слоёв» содержит список слоёв документа и набор команд для управления ими.Команда  «Добавить новый слой» позволяет создать новый слой. При нажатии кнопки создается слой, которому автоматически присваивается название, которое допускается изменить.Команда  «Установить текущий слой» делает выбранный слой текущим: на него будут помещаться вновь создаваемые объекты модели.Команда  «Удалить слой/группу слоёв» удаляет выбранный слой или группу слоёв.Команда  «Перенести объекты на слой» позволяет назначить предварительно выбранным объектам модели выбранный слой.Команда  «Добавить стиль слоя» назначает определенный стиль объектам на выбранном слое. \n",
            "\n",
            "Размер чанка: 218\n",
            "Текст чанка: Существуют следующие варианты выбора стилей: «Материал», «Стиль линии», «Стиль заполнения», «Стиль 2Dточки», «Стиль 3Dточки», «Стиль РП», «Стиль ЛСК», «Стиль текста», «Параметры сетки». При выборе одного из перечисленных вариантов происходит заимствование его стиля и присвоение объектам выбранного слоя. Для стиля слоя существует набор стандартных команд: «Свойства», «Зависимости», «Редактировать», «Удалить».Команда  «Удалить стиль слоя» позволяет удалить стиль, созданный ранее командой «Добавить новый стиль в текущий слой». При удалении одного из заимствованных стилей программный модуль CAD запросит подтверждение, а также предложит удалить зависимые объекты.Команда  «Свойства слоя/группы слоёв» открывает окно свойств с параметрами выбранного слоя или группы слоёв. Доступно свойство «Цвет пометки», назначающее выбранный цвет объектам слоя.Команда  «Создать группу слоёв» создает группу, которая позволяет комплесно управлять входящими в неё слоями: атрибуты, назначенные группе, распространяются на все входящие в неё слои (рис. \n",
            "\n",
            "Размер чанка: 226\n",
            "Текст чанка: Рисунок). Окно «Слои»Рисунок В группу включаются те слои, которые были выбраны в списке в момент запуска команды создания группыСлои можно выбирать с помощью клавиш <Shift> и <Ctrl>.Добавить слой в существующую группу можно, перетащив его в строку с именем группы. «Настройка атрибутов» управляет видимостью колонок с атрибутами в Навигаторе слоёв. Каждый слой обладает своими атрибутами: «Видимый» управляет видимостью объектов на слое; «Замороженный» блокирует возможность выбора и редактирования объектов на слое; «Экранный» управляет разрешением вывода на печать; «Невидимый при вставке в сборку» управляет видимостью элементов при вставке в сборку; «Видимый только при вставке в сборку» управляет видимостью элементов при вставке сборку; «Стили слоя» отображает стили, заимствованные командой «Добавить новый стиль в текущий слой».Назначить атрибуты можно, установив флаг напротив требуемого атрибута. Также можно изменить атрибуты нескольких слоев одновременно. Для этого необходимо выделить несколько слоев и выбрать необходимые атрибуты.У слоёв и их групп есть контекстное меню. \n",
            "\n",
            "Размер чанка: 46\n",
            "Текст чанка: В нем доступны некоторые команды «Навигатора слоёв», а также команда «Зависимости», которая вызывает окно «Зависимости» для выбранного слоя или группы слоёв (рис. Рисунок).Окно «Слои»Рисунок \n",
            "\n",
            "====================\n",
            "Текст номер 8:\n",
            "Размер чанка: 207\n",
            "Текст чанка: По умолчанию очерёдность отображения перекрывающихся объектов определяется автоматически в зависимости от их типов. При этом программный модуль CAD предусматривает возможность ручного управления очерёдности за счёт назначения приоритетов.Под приоритетом следует понимать порядковый номер прорисовки 2Dобъекта. Таким образом объекты с более высоким значением приоритета перекрывают объекты с более низким значением. Текущее значение приоритета объекта отображается в окне свойств. По умолчанию значение приоритета равно 0.Для управления приоритетом объектов предусмотрена команда «Порядок объектов». Данная команда предусматривает шесть режимов:«На передний/задний план» – текущий объект отображается над/под остальными перекрывающимися объектами (рис. Рисунок). Объекту назначается максимальное либо минимальное значение приоритета соответственно;Режим «На передний/задний план»Рисунок «Переместить вперёд/назад» – текущий объект перемещается на один уровень выше/ниже (рис. Рисунок) Значение приоритета увеличивается либо уменьшается на единицу соответственно;Режим «Переместить вперёд/назад»Рисунок «Перед/за объектом» – текущий объект отображается над/под целевым объектом (рис. Рисунок). \n",
            "\n",
            "Размер чанка: 96\n",
            "Текст чанка: Объекту присваивается значение приоритета на единицу больше либо меньше относительно целевого.Режим «Перед/за объектом»Рисунок Каждому режиму соответствует уникальная пиктограмма в диалоге команды.Выбор объектов для редактирования осуществляется непосредственно в рабочем окне либо в «Навигатором модели». Все выбранные объекты отображаются в одноимённом списке диалога. Целевой объект (актуален для режимов «Перед/за объектом») отображается в отдельном поле (рис. Рисунок).Список объектов в окне диалога функцииРисунок \n",
            "\n",
            "====================\n",
            "Текст номер 9:\n",
            "Размер чанка: 174\n",
            "Текст чанка: Команда «Создать сцену» предназначена для создания в модели новой 3D-сцены.Команда запускается из контекстного меню, вызванного на объекте «Сцена» в «Навигатором модели». После запуска откроется диалог параметров (рис. Рисунок).Диалоговое окно создания сценыРисунок Параметр «Базовая сцена» предназначен для выбора сцены, на основе которой будет создана новая сцена.Блоки «Исключаемые объекты» и «Добавляемые объекты» предназначены для выбора объектов (тел и компонентов сборки), которые должны быть исключены из сцены или добавлены в неё.Блок «Модифицируемые объекты» предназначен для выбора тел и компонентов, которые должны быть трансформированы в сцене. Для задания трансформации справа от поля выбора объектов находится пиктограмма одноименной команды.В блоке «Параметры» содержатся настройки визуализации новой сцены.Флаг «Активировать сцену» позволяет сделать созданную сцену активной после создания. \n",
            "\n",
            "====================\n",
            "Текст номер 10:\n",
            "Размер чанка: 247\n",
            "Текст чанка: Управление представлениями рабочего окна предполагает следующие манипуляции:вращение 3Dпредставления (сцены) относительно некоторой точки, осуществляющееся за счёт перемещения курсора в пределах рабочего графического окна при захвате ПКМ (если в момент захвата сцены под курсором находится геометрический объект, тогда центром вращения сцены будет пересечение луча, проходящего через точку захвата перпендикулярно плоскости экрана, с данным объектом. Такая точка будет маркирована пиктограммой . В противном случае в качестве центра вращения будет выступать центр сцены);перемещение представления (2D и 3D) в плоскости экрана, осуществляющееся за счёт перемещения курсора в пределах рабочего графического окна при захвате СКМ;масштабирование представления (2D и 3D), осуществляющееся СКМ, при этом масштабирование происходит относительно текущего положения курсора в рабочем графическом окне. Изменение направления прокрутки колеса мыши осуществляется за счёт параметра «Обратное направление колеса мыши» в окне установок программного модуля CAD.Для управления 3Dсценой в графическом окне дополнительно предусмотрен специальный инструмент «Видовой куб», расположенный в правом верхнем углу рабочего окна (рис. Рисунок).Специальный инструмент «Видовой куб»Рисунок Его ориентация соответствует ориентации объектов в пространстве. Выбор одного из элементов куба (вершина, ребро или грань) определяет положение точки обзора сцены. \n",
            "\n",
            "Размер чанка: 75\n",
            "Текст чанка: Пиктограмма  позволяет сориентировать модель согласно базовому положению. Пиктограммы  и  позволяют поворачивать сцену в плоскости рабочего окна по часовой и против часовой стрелки соответственно. Пиктограммы  и  позволяют масштабировать изображение объектов сцены.Помимо штатных инструментов, управление 3Dсценой может осуществляться с помощью 3Dманипулятора типа SpaceMouse. Для этого необходимо включить соответствующий модуль в окне приложений.\n",
            "\n",
            "====================\n"
          ]
        }
      ]
    },
    {
      "cell_type": "markdown",
      "source": [
        "## SemanticChunker"
      ],
      "metadata": {
        "id": "erdboREbroFp"
      }
    },
    {
      "cell_type": "code",
      "source": [
        "semantic_chunker = SemanticChunker(\n",
        "    embedding_model=\"minishlab/potion-base-32M\",  # Default model\n",
        "    threshold=0.8,                               # Similarity threshold (0-1)\n",
        "    chunk_size=2048,                             # Maximum tokens per chunk\n",
        "    similarity_window=3,                         # Window for similarity calculation\n",
        "    skip_window=0                                # Skip-and-merge window (0=disabled)\n",
        ")"
      ],
      "metadata": {
        "colab": {
          "base_uri": "https://localhost:8080/",
          "height": 269,
          "referenced_widgets": [
            "a60115cb83cd4acaa26d84001f42a5d5",
            "acd8dfd2f5ab4c4bb7f1e41cad3da134",
            "c3219e94e7f448f0a98ae89a487e0b14",
            "ec52f670a0334d1ba1915a81f7b3b750",
            "942ddf7371664a6d92785a1861384ec6",
            "ab5711ec1aed49e18661de1f587fb0c8",
            "ed6bf0b7472546b88c6a48339c7f7bde",
            "72d6259fc1294b27be4742a5e99800a6",
            "e4ff933ce9454b34b57ea14e60db1c04",
            "bdd6b99b33604d5fae592bed724df32e",
            "c45c73f019db43b396a0f145ce1ef0b5",
            "6072018e7171410e9c75040360e4feda",
            "724c08f7bfb9423e8951623b33e4b2e3",
            "37ef73ca637c4239883e6faab7b07402",
            "9fecf9a569c74b70bcc41bd7f272bb0a",
            "6ed83ed519fa4549a38f4069a2689109",
            "c1fe13e95b7d49f8bae37054e37e2edf",
            "e3bbb5b396254344a73478b9f87bd55e",
            "20d103678c5945c680a83698d7b39d4a",
            "489fd6f37eb94395bf4989385059c19f",
            "a47efa2846284043959504ec593a2527",
            "527aa6db431b4e6eade86db0710d1870",
            "73662b49c7a340789d6b20a4fd3f706e",
            "e4c42bc1c25f48d7b1726a7ddedc0e58",
            "d3aa38436da344d486453c7686f9dd4b",
            "91fbd37f3bfa4236b784faeb33f082e8",
            "471873ea6f584a66921b172648e52913",
            "543b5c1e03f241d39934cb2d93faacab",
            "8ad0193634f54cbcb9ed51becf506f3e",
            "25cf5756c7c4487ea7a9723fe487a349",
            "31ee1faa710e40aa973fe6e2cef77402",
            "14ce94cd889f40bcbe8ad1ce87e6edf7",
            "523a6ea1194b4486a17b5a0bdeab7878",
            "71e15f1107484f16b43deaa6239bdd5f",
            "a0f6d7e6d414483d9f67c22918852a06",
            "d0f200cb2aad48c9b2439f5aa28a66d1",
            "30c1b832e7bc44939e4a3c6b6e0cb048",
            "ccdd8c48e2dd4449a31b61b818f9648e",
            "65db03696b3b43ec9770ddc6a909cdfb",
            "986083ddbf6f43298ac1132111d53a40",
            "52cecb39a1fc4b298320c448e391a5da",
            "0578470c15da40b0a0cbf8c2c2803268",
            "ef1d6a44ccc0453daeff309f91f27867",
            "218155ae541c48d3a76610fda388ee45"
          ]
        },
        "id": "UAxdPOZqrnnw",
        "outputId": "4802cd61-aae4-4c1c-9993-33cf70e319a1"
      },
      "execution_count": null,
      "outputs": [
        {
          "output_type": "stream",
          "name": "stderr",
          "text": [
            "/usr/local/lib/python3.12/dist-packages/chonkie/embeddings/auto.py:87: UserWarning: Failed to load minishlab/potion-base-32M with Model2VecEmbeddings: model2vec is not available. Please install it via `pip install chonkie[model2vec]`\n",
            "Falling back to loading default provider model.\n",
            "  warnings.warn(\n",
            "/usr/local/lib/python3.12/dist-packages/chonkie/embeddings/auto.py:95: UserWarning: Failed to load the default model for Model2VecEmbeddings: model2vec is not available. Please install it via `pip install chonkie[model2vec]`\n",
            "Falling back to SentenceTransformerEmbeddings.\n",
            "  warnings.warn(\n"
          ]
        },
        {
          "output_type": "display_data",
          "data": {
            "text/plain": [
              "modules.json:   0%|          | 0.00/278 [00:00<?, ?B/s]"
            ],
            "application/vnd.jupyter.widget-view+json": {
              "version_major": 2,
              "version_minor": 0,
              "model_id": "a60115cb83cd4acaa26d84001f42a5d5"
            }
          },
          "metadata": {}
        },
        {
          "output_type": "display_data",
          "data": {
            "text/plain": [
              "README.md: 0.00B [00:00, ?B/s]"
            ],
            "application/vnd.jupyter.widget-view+json": {
              "version_major": 2,
              "version_minor": 0,
              "model_id": "6072018e7171410e9c75040360e4feda"
            }
          },
          "metadata": {}
        },
        {
          "output_type": "display_data",
          "data": {
            "text/plain": [
              "tokenizer.json: 0.00B [00:00, ?B/s]"
            ],
            "application/vnd.jupyter.widget-view+json": {
              "version_major": 2,
              "version_minor": 0,
              "model_id": "73662b49c7a340789d6b20a4fd3f706e"
            }
          },
          "metadata": {}
        },
        {
          "output_type": "display_data",
          "data": {
            "text/plain": [
              "./model.safetensors:   0%|          | 0.00/129M [00:00<?, ?B/s]"
            ],
            "application/vnd.jupyter.widget-view+json": {
              "version_major": 2,
              "version_minor": 0,
              "model_id": "71e15f1107484f16b43deaa6239bdd5f"
            }
          },
          "metadata": {}
        }
      ]
    },
    {
      "cell_type": "code",
      "source": [
        "chunked = semantic_chunker.chunk_batch(data.Text)"
      ],
      "metadata": {
        "colab": {
          "base_uri": "https://localhost:8080/"
        },
        "id": "FSdq4bltu1pA",
        "outputId": "1733b3ba-2b79-4f42-b1e4-906803d3a0de"
      },
      "execution_count": null,
      "outputs": [
        {
          "output_type": "stream",
          "name": "stderr",
          "text": [
            "🦛 choooooooooooooooooooonk 100% • 44/44 docs chunked [00:00<00:00, 68.09doc/s] 🌱\n"
          ]
        }
      ]
    },
    {
      "cell_type": "code",
      "source": [
        "for i, text in enumerate(chunked[34:]):\n",
        "    if data.iloc[i][\"Text\"]:\n",
        "        print(f\"Текст номер {i + 1}:\")\n",
        "        for chunk in text:\n",
        "            print(f\"Размер чанка: {chunk.token_count}\")\n",
        "            print(f\"Текст чанка: {chunk.text}\")\n",
        "            print()\n",
        "        print(\"=\"*20)"
      ],
      "metadata": {
        "colab": {
          "base_uri": "https://localhost:8080/"
        },
        "id": "qenhb3xhub19",
        "outputId": "8db946a6-a4d9-490a-f507-6ab40c63d620"
      },
      "execution_count": null,
      "outputs": [
        {
          "output_type": "stream",
          "name": "stdout",
          "text": [
            "Текст номер 1:\n",
            "Размер чанка: 1729\n",
            "Текст чанка: В ходе создания модели между объектами могут возникать всевозможные связи, которые будут иметь различный характер. В зависимости от последовательности действий по изменению состава, параметров и связей между объектами формируется иерархическая структура зависимостей между объектами.Окно «Зависимости» содержит информацию о взаимосвязях выбранного объекта модели:с родительскими объектами (от которых зависит выбранный объект);с дочерними объектами (которые зависят от выбранного объекта).В свою очередь, каждый родительский объект может зависеть от других объектов, а каждый дочерний может иметь зависимые. О наличие зависимостей свидетельствует пиктограмма  рядом с объектом, при нажатии которой раскрывается цепочка зависимостей (рис. Рисунок). Повторное нажатие пиктограммы сворачивает цепочку зависимостей.Дерево зависимостейРисунок Управление родительскими и дочерними объектами осуществляется с помощью контекстного меню.Вызов функции «Пересчёт»  осуществляется из панели рабочего окна «Вид».Пиктограмма вызова функции «Пересчёт» имеет раскрывающийся список, содержащий несколько вариантов актуализации объектов и связей (рис. Рисунок).Пиктограмма пересчетаРисунок Опция «Пересчитать» – вариант, при котором программный модуль CAD анализирует, какие объекты были изменены после последнего пересчёта и актуализирует только изменённые объекты и их потомки.Опция «Полный пересчёт» – вариант, при котором программный модуль CAD проводит актуализацию объектов модели и связей между ними в соответствии с выбираемыми пунктами в появившемся диалоге (рис. Рисунок):полное обновление объектов (обновляются все объекты активного документа согласно сделанным в данном документе изменениям);обновление внешних ссылок (актуализируются объекты, изменения для которых поступают по ссылке – например, когда объектом модели является компонент);обновление сеток (обновление сеток КЭ при изменении исходных объектов);пересчёт задач.Опция полного пересчётаРисунок Режим «Автоматический пересчёт» предполагает автоматическую актуализацию объектов и связей после каждого действия.\n",
            "\n",
            "====================\n",
            "Текст номер 2:\n",
            "Размер чанка: 552\n",
            "Текст чанка: В общем случае удаление объектов модели осуществляется при помощи команды контекстного меню «Удалить» , вызываемого при нажатии ПКМ по объекту в рабочем окне или во вспомогательном окне «Навигатор модели», а также при выборе объекта с последующим нажатием клавиши <Delete>. При этом появляется специальный диалог удаления, в котором представлено несколько сценариев.По умолчанию программный модуль CAD предлагает удалить выбранный объект со всем потомственными объектами, для которых не удаётся разорвать связи с родительским (рис. Рисунок). Опция «Также удалить зависимые объекты» позволяет удалить всю цепочку зависимых объектов с выбранным.Удаление объектов моделиРисунок \n",
            "\n",
            "====================\n",
            "Текст номер 4:\n",
            "Размер чанка: 1193\n",
            "Текст чанка: Для удобства работы с моделью её структура имеет вид иерархического дерева, включающего в себя все объекты модели, отображающаяся во вспомогательном окне «Навигатор модели».Окно «Навигатор модели»  вызывается из панели «Лента» (вкладка «Вид», группа «Инструменты»). Также окно можно вызвать из выпадающего меню «Опции».В окне отображаются тела, вспомогательная геометрия, сцены, страницы, стили, материалы, физические свойства и история операций цифровой модели текущего документа (рис. Рисунок).Окно «Навигатора модели» Рисунок Тела – это все геометрические объекты, являющиеся результатом различных генераторов (операций моделирования, импорта и т.д.).Вспомогательные – это группа, объединяющая вспомогательные объекты (системы координат, рабочие плоскости, 3Dточки, сопряжения и т.д.).Сцены – это группа, объединяющая объекты «Сцена». Эти объекты предназначены для группировки объектов в различных целях.Страницы – группа, включающая созданные в документе 2Dстраницы.Стили – это группа, объединяющая наборы параметров и свойств, отвечающих за визуализацию различных объектов цифровой модели.Материал – группа, включающая примененные в модели материалы.Сборка – группа, содержащая вставленные в файл компоненты сборки. Рядом с именем компонента указано имя его файла.История операций – это группа, содержащая в себе все выполненные в документе операции.Папки «Навигатора модели» отмечены специализированными иконками. \n",
            "\n",
            "Размер чанка: 107\n",
            "Текст чанка: Они могут быть открыты на отдельных боковых вкладках с помощью команды «Открыть в отдельной вкладке» в контекстном меню папки (рис. \n",
            "\n",
            "Размер чанка: 753\n",
            "Текст чанка: Рисунок). Открытые вкладки сохраняются в документе, поэтому могут быть заранее созданы в прототипе документа для последующего использования в новых документах, создаваемых на основе этих прототипов.Папки «Навигатора модели»Рисунок Папки в «Навигатором модели» могут быть скрыты. Для этого вызовите контекстное меню папки и выберите «Скрыть» (рис. Рисунок). Видимость скрытой папки можно восстановить: вызовите контекстное меню в пустом месте Навигатора, выберите «Показать» и укажите имя папки, которую следует восстановить, или восстановите все скрытые папки опцией «Показать всё».Команда «Скрыть» Рисунок Для удобства при работе с большими моделями в папке «История операций» можно создавать дополнительные папки. Это позволяет разнести операции по логическим блокам и упростить навигацию по модели.Для добавления первой операции в дополнительную папку используются команда контекстного меню «Сгруппировать в папку» (рис. \n",
            "\n",
            "Размер чанка: 434\n",
            "Текст чанка: Рисунок). Папка будет создана с именем по умолчанию. Для задания ей другого имени используется команда «Переименовать».Команда «Сгруппировать в папку»Рисунок  Для добавления последующих операций достаточно «перетянуть» их в папку с зажатой ЛКМ.Для удаления группы и «высвобождения» входящих в неё операций используется команда «Разгруппировать папку».Модель в навигаторе представлена в виде дерева, что позволяет показать зависимости объектов друг от друга. Например, создана пользовательская рабочая плоскость, на которой начерчена окружность. \n",
            "\n",
            "Размер чанка: 405\n",
            "Текст чанка: В навигаторе в виде дерева будет показано, что от данной рабочей плоскости зависит линия окружности с центром и радиусом. Объекты, участвующие в сопряжении, отображаются при «разворачивании» соответствующего сопряжения в навигаторе.Отображением вложенности в «Навигатором модели» можно управлять. Опция «Раскрыть все элементы навигатора» раскрывает все папки и объекты до определённого уровня вложенности. Уровень настраивается в выпадающем меню «Настройка вложенности элементов навигатора». \n",
            "\n",
            "Размер чанка: 98\n",
            "Текст чанка: Переключатель в меню позволяет выбрать уровень (от 1 до 5), до которого будут раскрыты объекты в «Навигатором модели». \n",
            "\n",
            "Размер чанка: 620\n",
            "Текст чанка: Также доступен флаг «Максимум», активирующий уровень 5.Объекты можно выбирать прямо из дерева цифровой модели, при этом выбранный объект будет подсвечен в сцене. Обратное действие также доступно: выбранный в сцене объект будет подсвечен в навигаторе цифровой модели.Все объекты «Навигатора модели» могут быть переименованы. Для этого следует вызвать контекстное меню объекта, в нём выбрать пункт «Свойства» и в поле параметра «Имя» ввести требуемое наименование. До подтверждения изменений параметр «Имя» будет помечен красной звёздочкой.Для поиска объекта в навигаторе следует ввести его имя в верхней строке диалога и нажать <Enter>. Если объект (объекты) с таким именем существует, то группа, содержащая его, раскроется, и объект будет подсвечен в навигаторе. \n",
            "\n",
            "Размер чанка: 143\n",
            "Текст чанка: Если найдено несколько объектов с введённым именем, станут активны пиктограммы  ,  для переключения между объектами.Колонка  предназначена для управления видимостью объектов модели. \n",
            "\n",
            "Размер чанка: 164\n",
            "Текст чанка: По умолчанию все объекты видимы. Если необходимо скрыть объект, следует кликнуть на иконке  рядом с ним. Объекты с отключенной видимость отмечены пиктограммой .Колонка  предназначена для подавления объектов. \n",
            "\n",
            "Размер чанка: 65\n",
            "Текст чанка: Подавленный объект исключается из пересчёта модели и не отображается в 3Dсцене. \n",
            "\n",
            "Размер чанка: 180\n",
            "Текст чанка: Пиктограмма в верхней части окна управляет видимостью колонок в поле навигатора. Для скрытия колонки необходимо снять флаг рядом с ее наименованием.Любая операция или объект могут быть отредактированы из «Навигатора модели». \n",
            "\n",
            "Размер чанка: 75\n",
            "Текст чанка: Для этого её необходимо выбрать, открыть контекстное меню и выбрать пункт «Редактировать». \n",
            "\n",
            "Размер чанка: 453\n",
            "Текст чанка: В результате запустится диалог соответствующей команды, в котором можно внести изменения в операцию.Изменения, которые вносятся в документ, отражаются в «Навигатором модели». Например, если в некоторое тело была добавлена операция, то данная операция будет включена в состав тела в дереве модели.Если в ходе создания либо редактирования модели возникают ошибки, проблемные объекты и операции маркируются восклицательным знаком, а в окне диагностики появляются соответствующие сообщения.Можно менять порядок операций в дереве модели при необходимости. \n",
            "\n",
            "Размер чанка: 481\n",
            "Текст чанка: Для этого необходимо выделить операцию в папке «История операций» и, удерживая левую кнопку мыши, переместить ее выше или ниже в порядке построений. Если перемещение на выбранный этап построения возможен, рядом с названием перемещаемой операции будет отображаться ее иконка, а ее будущее «место» в дереве будет отмечено черной линией (рис. Рисунок). Если при перемещении рядом с названием операции отображается красная пиктограмма, перемещение на данный этап построения невозможен.Вкладка историй операцийРисунок Существует возможность откатить модель до одной из ранее выполненных операций. \n",
            "\n",
            "Размер чанка: 67\n",
            "Текст чанка: Это полезно, когда необходимо произвести доработку в «середине» дерева модели. \n",
            "\n",
            "Размер чанка: 311\n",
            "Текст чанка: Для отката модели до определенной операции необходимо выбрать эту операцию в истории и в контекстном меню выбрать  «Откат модели». Все операции, созданные после выбранной, скроются в 3D-сцене и станут недоступными для выбора, при этом в навигаторе их имена будут отмечены серым шрифтом (рис. Рисунок).Вкладка историй операцийРисунок «Точка» отката отмечается в истории операций пиктограммой . \n",
            "\n",
            "Размер чанка: 65\n",
            "Текст чанка: По умолчанию она располагается в конце истории, а новые операции добавляются до неё. \n",
            "\n",
            "Размер чанка: 552\n",
            "Текст чанка: Эта пиктограмма также позволяет откатить модель до нужного этапа. Достаточно «перетянуть» ее в нужное место в истории операций.Все элементы и операции, созданные в режиме отката, автоматически встраиваются в «Навигатор модели» между операцией, до которой произведён откат, и последующими операциями, заблокированными в режиме отката. Для выхода из режима отката достаточно выбрать пункт  «Завершить откат» в контекстном меню любого объекта в истории операций. Также для этого можно «перетащить» пиктограмму  в конец истории операций.Твёрдые и поверхностные тела, операции, точки и кривые могут быть скопированы через буфер обмена, и их можно вставить в тот же документ или в другой. \n",
            "\n",
            "Размер чанка: 35\n",
            "Текст чанка: Ассоциативная связь при этом не сохранится. \n",
            "\n",
            "Размер чанка: 241\n",
            "Текст чанка: Для этого в контекстном меню объектов в «Навигатором модели» и 3D-сцене представлены команды «Копировать»   и «Вставить» . При вставке объект-копия сохранит свое положение относительно абсолютной СК документа.Объект или папка «Навигатора модели» для удобства могут быть открыты в отдельном окне. \n",
            "\n",
            "Размер чанка: 66\n",
            "Текст чанка: Для этого в их контекстном меню нужно вызвать команду «Открыть в отдельном окне».\n",
            "\n",
            "====================\n",
            "Текст номер 5:\n",
            "Размер чанка: 322\n",
            "Текст чанка: Окно «Свойства» содержит информацию обо всех свойствах выбранного объекта, в том числе и о свойствах материала.Окно «Свойства»  вызывается из панели «Лента» (вкладка «Вид», группа «Инструменты»). Также окно можно вызвать из выпадающего меню «Опции». Окно свойств выбранного объекта можно вызвать из его контекстного меню.По умолчанию окно пустое и размещается в нижнем правом углу экрана. \n",
            "\n",
            "Размер чанка: 186\n",
            "Текст чанка: В окне отобразятся свойства объекта, когда он будет выбран в 3Dсцене или в «Навигатором модели» (рис. Рисунок). Окно свойствРисунок В зависимости от типа выбранного объекта количество и наименование полей окна может быть разным. \n",
            "\n",
            "Размер чанка: 1398\n",
            "Текст чанка: В общем случае окно содержит следующий набор полей:«Имя» – поле, отображающее имя объекта, заданное пользователем;«Прозрачность» – параметр задания прозрачности грани;«Цвет» – параметр для назначения произвольного цвета грани либо ребру;«Системные свойства» – раздел, содержащий набор системных параметров;«Показывать в корне «Навигатора модели»» – параметр отображения выбранного объекта (тела, грани, ребра, вершины) в «Навигатором модели»;«Видимый» – параметр управления видимостью выбранного объекта в сцене 3Dвида, а также 2Dвида (может принимать значения 0 и 1);флаг «Управляющий параметр»;флаг «Вспомогательный», позволяющий использовать объект для моделирования, при этом сам объект не будет результатом моделирования;«Параметры сетки» – набор параметров, отвечающих за качество отображения объектов в различных видах рабочего окна;«Визуальные свойства» – набор параметров, отвечающих за визуализацию физического вещества, присвоенного объекту;«Материал» – набор параметров, характеризующих физические свойства назначенного материала;«Масса» – по умолчанию определяется программным модулем CAD на основании геометрического объема объекта и плотности заданного материала (при необходимости допускается ввод пользовательского значения).Системное свойство «Запрет на удаление» доступно для всех объектов модели. При попытке удалить объект с запретом на удаление программный модуль CAD выдаст сообщение о том, что удаление невозможно. По умолчанию в новом документе защищены от удаления основные рабочие плоскости.Поля, содержащие пиктограмму , можно раскрывать. Такие поля содержат набор параметров, которые, в свою очередь, тоже могут состоять из нескольких вложенных параметров (см. рис. Рисунок). \n",
            "\n",
            "Размер чанка: 493\n",
            "Текст чанка: Такой подход обеспечивает древовидную структуру свойств.У операции доступно свойство «Цвет образованных граней» (рис. Рисунок), которое позволяет назначить граням, созданным в результате выбранной операции, цвет из системной библиотеки цветов.Свойство «Цвет образованных граней»Рисунок В свойствах твёрдых тел указана их масса, которая рассчитывается с учётом геометрии и назначенного материала. По умолчанию программный модуль CAD определяет массу автоматически, однако пользователь может ввести в поле своё значение для данного параметра.При изменении какого-либо параметра он будет помечен звёздочкой. \n",
            "\n",
            "Размер чанка: 35\n",
            "Текст чанка: Для сброса значения параметра следует нажать . \n",
            "\n",
            "Размер чанка: 40\n",
            "Текст чанка: Для принятия изменений необходимо нажать на , для отмены - .\n",
            "\n",
            "====================\n",
            "Текст номер 6:\n",
            "Размер чанка: 469\n",
            "Текст чанка: Сведения о выбранном объекте или наборе объектов модели отображаются во вспомогательном окне «Информация». Основными данными объекта являются имя, его тип, идентификатор, а также ряд параметров, характерных его типу (рис. Рисунок).Информация об объектеРисунок Для просмотра информации об одном из выбранных объектов необходимо нажать на его ссылку ЛКМ. Возврат к перечню выбранных объектов осуществляется по нажатию на ссылку «Назад».Окно «Информация»  вызывается из панели «Лента» (Вкладка «Вид», группа «Инструменты»). Также окно можно вызвать из выпадающего меню «Опции».\n",
            "\n",
            "====================\n",
            "Текст номер 7:\n",
            "Размер чанка: 872\n",
            "Текст чанка: Слой – параметр каждого геометрического объекта, который определяет его принадлежность какой-либо группе элементов модели.Вызов «Навигатора слоёв»  осуществляется из панели «Лента» (вкладка «Вид», группа «Инструменты» (рис. Рисунок)).Окно «Слои»Рисунок Слоям и группам слоёв могут быть назначены пользовательские имена. Для переименования слоя дважды кликните ЛКМ по его имени и введите в поле новое имя слоя.«Навигатор слоёв» содержит список слоёв документа и набор команд для управления ими.Команда  «Добавить новый слой» позволяет создать новый слой. При нажатии кнопки создается слой, которому автоматически присваивается название, которое допускается изменить.Команда  «Установить текущий слой» делает выбранный слой текущим: на него будут помещаться вновь создаваемые объекты модели.Команда  «Удалить слой/группу слоёв» удаляет выбранный слой или группу слоёв.Команда  «Перенести объекты на слой» позволяет назначить предварительно выбранным объектам модели выбранный слой.Команда  «Добавить стиль слоя» назначает определенный стиль объектам на выбранном слое. \n",
            "\n",
            "Размер чанка: 158\n",
            "Текст чанка: Существуют следующие варианты выбора стилей: «Материал», «Стиль линии», «Стиль заполнения», «Стиль 2Dточки», «Стиль 3Dточки», «Стиль РП», «Стиль ЛСК», «Стиль текста», «Параметры сетки». \n",
            "\n",
            "Размер чанка: 700\n",
            "Текст чанка: При выборе одного из перечисленных вариантов происходит заимствование его стиля и присвоение объектам выбранного слоя. Для стиля слоя существует набор стандартных команд: «Свойства», «Зависимости», «Редактировать», «Удалить».Команда  «Удалить стиль слоя» позволяет удалить стиль, созданный ранее командой «Добавить новый стиль в текущий слой». При удалении одного из заимствованных стилей программный модуль CAD запросит подтверждение, а также предложит удалить зависимые объекты.Команда  «Свойства слоя/группы слоёв» открывает окно свойств с параметрами выбранного слоя или группы слоёв. Доступно свойство «Цвет пометки», назначающее выбранный цвет объектам слоя.Команда  «Создать группу слоёв» создает группу, которая позволяет комплесно управлять входящими в неё слоями: атрибуты, назначенные группе, распространяются на все входящие в неё слои (рис. \n",
            "\n",
            "Размер чанка: 747\n",
            "Текст чанка: Рисунок). Окно «Слои»Рисунок В группу включаются те слои, которые были выбраны в списке в момент запуска команды создания группыСлои можно выбирать с помощью клавиш <Shift> и <Ctrl>.Добавить слой в существующую группу можно, перетащив его в строку с именем группы. «Настройка атрибутов» управляет видимостью колонок с атрибутами в Навигаторе слоёв. Каждый слой обладает своими атрибутами: «Видимый» управляет видимостью объектов на слое; «Замороженный» блокирует возможность выбора и редактирования объектов на слое; «Экранный» управляет разрешением вывода на печать; «Невидимый при вставке в сборку» управляет видимостью элементов при вставке в сборку; «Видимый только при вставке в сборку» управляет видимостью элементов при вставке сборку; «Стили слоя» отображает стили, заимствованные командой «Добавить новый стиль в текущий слой».Назначить атрибуты можно, установив флаг напротив требуемого атрибута. \n",
            "\n",
            "Размер чанка: 279\n",
            "Текст чанка: Также можно изменить атрибуты нескольких слоев одновременно. Для этого необходимо выделить несколько слоев и выбрать необходимые атрибуты.У слоёв и их групп есть контекстное меню. В нем доступны некоторые команды «Навигатора слоёв», а также команда «Зависимости», которая вызывает окно «Зависимости» для выбранного слоя или группы слоёв (рис. \n",
            "\n",
            "Размер чанка: 26\n",
            "Текст чанка: Рисунок).Окно «Слои»Рисунок \n",
            "\n",
            "====================\n",
            "Текст номер 8:\n",
            "Размер чанка: 1256\n",
            "Текст чанка: По умолчанию очерёдность отображения перекрывающихся объектов определяется автоматически в зависимости от их типов. При этом программный модуль CAD предусматривает возможность ручного управления очерёдности за счёт назначения приоритетов.Под приоритетом следует понимать порядковый номер прорисовки 2Dобъекта. Таким образом объекты с более высоким значением приоритета перекрывают объекты с более низким значением. Текущее значение приоритета объекта отображается в окне свойств. По умолчанию значение приоритета равно 0.Для управления приоритетом объектов предусмотрена команда «Порядок объектов». Данная команда предусматривает шесть режимов:«На передний/задний план» – текущий объект отображается над/под остальными перекрывающимися объектами (рис. Рисунок). Объекту назначается максимальное либо минимальное значение приоритета соответственно;Режим «На передний/задний план»Рисунок «Переместить вперёд/назад» – текущий объект перемещается на один уровень выше/ниже (рис. Рисунок) Значение приоритета увеличивается либо уменьшается на единицу соответственно;Режим «Переместить вперёд/назад»Рисунок «Перед/за объектом» – текущий объект отображается над/под целевым объектом (рис. Рисунок). Объекту присваивается значение приоритета на единицу больше либо меньше относительно целевого.Режим «Перед/за объектом»Рисунок Каждому режиму соответствует уникальная пиктограмма в диалоге команды.Выбор объектов для редактирования осуществляется непосредственно в рабочем окне либо в «Навигатором модели». \n",
            "\n",
            "Размер чанка: 54\n",
            "Текст чанка: Все выбранные объекты отображаются в одноимённом списке диалога. \n",
            "\n",
            "Размер чанка: 124\n",
            "Текст чанка: Целевой объект (актуален для режимов «Перед/за объектом») отображается в отдельном поле (рис. Рисунок).Список объектов в окне диалога функцииРисунок \n",
            "\n",
            "====================\n",
            "Текст номер 9:\n",
            "Размер чанка: 726\n",
            "Текст чанка: Команда «Создать сцену» предназначена для создания в модели новой 3D-сцены.Команда запускается из контекстного меню, вызванного на объекте «Сцена» в «Навигатором модели». После запуска откроется диалог параметров (рис. Рисунок).Диалоговое окно создания сценыРисунок Параметр «Базовая сцена» предназначен для выбора сцены, на основе которой будет создана новая сцена.Блоки «Исключаемые объекты» и «Добавляемые объекты» предназначены для выбора объектов (тел и компонентов сборки), которые должны быть исключены из сцены или добавлены в неё.Блок «Модифицируемые объекты» предназначен для выбора тел и компонентов, которые должны быть трансформированы в сцене. Для задания трансформации справа от поля выбора объектов находится пиктограмма одноименной команды.В блоке «Параметры» содержатся настройки визуализации новой сцены.Флаг «Активировать сцену» позволяет сделать созданную сцену активной после создания. \n",
            "\n",
            "====================\n",
            "Текст номер 10:\n",
            "Размер чанка: 1111\n",
            "Текст чанка: Управление представлениями рабочего окна предполагает следующие манипуляции:вращение 3Dпредставления (сцены) относительно некоторой точки, осуществляющееся за счёт перемещения курсора в пределах рабочего графического окна при захвате ПКМ (если в момент захвата сцены под курсором находится геометрический объект, тогда центром вращения сцены будет пересечение луча, проходящего через точку захвата перпендикулярно плоскости экрана, с данным объектом. Такая точка будет маркирована пиктограммой . В противном случае в качестве центра вращения будет выступать центр сцены);перемещение представления (2D и 3D) в плоскости экрана, осуществляющееся за счёт перемещения курсора в пределах рабочего графического окна при захвате СКМ;масштабирование представления (2D и 3D), осуществляющееся СКМ, при этом масштабирование происходит относительно текущего положения курсора в рабочем графическом окне. Изменение направления прокрутки колеса мыши осуществляется за счёт параметра «Обратное направление колеса мыши» в окне установок программного модуля CAD.Для управления 3Dсценой в графическом окне дополнительно предусмотрен специальный инструмент «Видовой куб», расположенный в правом верхнем углу рабочего окна (рис. Рисунок).Специальный инструмент «Видовой куб»Рисунок Его ориентация соответствует ориентации объектов в пространстве. \n",
            "\n",
            "Размер чанка: 80\n",
            "Текст чанка: Выбор одного из элементов куба (вершина, ребро или грань) определяет положение точки обзора сцены. \n",
            "\n",
            "Размер чанка: 304\n",
            "Текст чанка: Пиктограмма  позволяет сориентировать модель согласно базовому положению. Пиктограммы  и  позволяют поворачивать сцену в плоскости рабочего окна по часовой и против часовой стрелки соответственно. Пиктограммы  и  позволяют масштабировать изображение объектов сцены.Помимо штатных инструментов, управление 3Dсценой может осуществляться с помощью 3Dманипулятора типа SpaceMouse. \n",
            "\n",
            "Размер чанка: 58\n",
            "Текст чанка: Для этого необходимо включить соответствующий модуль в окне приложений.\n",
            "\n",
            "====================\n"
          ]
        }
      ]
    },
    {
      "cell_type": "markdown",
      "source": [
        "Использование методов\n",
        "\n",
        "* TokenChunker - Очень полезен для управления размером окна контекста\n",
        "\n",
        "* SentenceChunker - Аккуратное разбиение по предложениям (если они нормально оформлены)\n",
        "\n",
        "* RecursiveChunker - Использую для разбиения глав на чанки. Реализует иерархию разбиений. сначала можно разделить по переносам, потом по знакам препинания\n",
        "\n",
        "* SemanticChunker - Идея очень хорошая - разбить по смыслу, но очень сильно зависит от содержания текста и можно получить очень разные по размеру и содержанию фрагменты. На практике чаще приходится разбивать по границам разделов"
      ],
      "metadata": {
        "id": "uQ6R8rPSqq5Z"
      }
    },
    {
      "cell_type": "markdown",
      "source": [
        "# Задание 4"
      ],
      "metadata": {
        "id": "hn98ATSrIiIG"
      }
    },
    {
      "cell_type": "markdown",
      "source": [
        "Поэкспериментируйте с ParentDocument Retriever, сделайте вывод о применимости и как\n",
        "различные размеры чанков влияют на результат"
      ],
      "metadata": {
        "id": "arS2LPe0ImCD"
      }
    },
    {
      "cell_type": "code",
      "source": [
        "from langchain.retrievers import ParentDocumentRetriever\n",
        "from langchain.storage import InMemoryStore\n",
        "from langchain_community.vectorstores import FAISS\n",
        "from langchain_huggingface import HuggingFaceEmbeddings\n",
        "from langchain.schema import Document as LangchainDocument\n",
        "from langchain_text_splitters import RecursiveCharacterTextSplitter"
      ],
      "metadata": {
        "id": "TDoLUS_AIlKy"
      },
      "execution_count": 75,
      "outputs": []
    },
    {
      "cell_type": "code",
      "source": [
        "data = pd.read_csv(\"/content/parsed.csv\")"
      ],
      "metadata": {
        "id": "vLZTjBfRNglV"
      },
      "execution_count": 76,
      "outputs": []
    },
    {
      "cell_type": "code",
      "source": [
        "data.info()"
      ],
      "metadata": {
        "colab": {
          "base_uri": "https://localhost:8080/"
        },
        "id": "qOAQM2mdO7in",
        "outputId": "d923c917-ae30-45ad-be76-2c14b4dffb3d"
      },
      "execution_count": 77,
      "outputs": [
        {
          "output_type": "stream",
          "name": "stdout",
          "text": [
            "<class 'pandas.core.frame.DataFrame'>\n",
            "RangeIndex: 44 entries, 0 to 43\n",
            "Data columns (total 3 columns):\n",
            " #   Column     Non-Null Count  Dtype \n",
            "---  ------     --------------  ----- \n",
            " 0   Header     44 non-null     object\n",
            " 1   Text       40 non-null     object\n",
            " 2   CleanText  21 non-null     object\n",
            "dtypes: object(3)\n",
            "memory usage: 1.2+ KB\n"
          ]
        }
      ]
    },
    {
      "cell_type": "code",
      "source": [
        "data = data.fillna(\"\")"
      ],
      "metadata": {
        "id": "mFPKHyvfPD5Q"
      },
      "execution_count": 78,
      "outputs": []
    },
    {
      "cell_type": "code",
      "source": [
        "data.info()"
      ],
      "metadata": {
        "colab": {
          "base_uri": "https://localhost:8080/"
        },
        "id": "okn5PLXxPIEf",
        "outputId": "5352b3b7-5d64-48f8-e19a-2dae0a606bbb"
      },
      "execution_count": 91,
      "outputs": [
        {
          "output_type": "stream",
          "name": "stdout",
          "text": [
            "<class 'pandas.core.frame.DataFrame'>\n",
            "RangeIndex: 44 entries, 0 to 43\n",
            "Data columns (total 3 columns):\n",
            " #   Column     Non-Null Count  Dtype \n",
            "---  ------     --------------  ----- \n",
            " 0   Header     44 non-null     object\n",
            " 1   Text       44 non-null     object\n",
            " 2   CleanText  44 non-null     object\n",
            "dtypes: object(3)\n",
            "memory usage: 1.2+ KB\n"
          ]
        }
      ]
    },
    {
      "cell_type": "code",
      "source": [
        "embeddings = HuggingFaceEmbeddings(\n",
        "    model_name=\"sergeyzh/rubert-mini-frida\",\n",
        "    model_kwargs={'device': 'cpu'},\n",
        "    encode_kwargs={'normalize_embeddings': True}\n",
        ")"
      ],
      "metadata": {
        "colab": {
          "base_uri": "https://localhost:8080/"
        },
        "id": "KeIg10tzPfgL",
        "outputId": "5ee5369f-0f91-423e-f0df-88ed3e6e1494"
      },
      "execution_count": 81,
      "outputs": [
        {
          "output_type": "stream",
          "name": "stderr",
          "text": [
            "WARNING:sentence_transformers.SentenceTransformer:Default prompt name is set to 'Classification'. This prompt will be applied to all `encode()` calls, except if `encode()` is called with `prompt` or `prompt_name` parameters.\n"
          ]
        }
      ]
    },
    {
      "cell_type": "code",
      "source": [
        "parent_documents = []\n",
        "child_documents = []"
      ],
      "metadata": {
        "id": "94HU5L0icAs3"
      },
      "execution_count": 98,
      "outputs": []
    },
    {
      "cell_type": "code",
      "source": [
        "child_splitter = RecursiveCharacterTextSplitter(\n",
        "    chunk_size=300,\n",
        "    chunk_overlap=50,\n",
        "    length_function=len,\n",
        "    separators=[\"\\n\\n\", \"\\n\", \". \", \"! \", \"? \", \" \", \"\"]\n",
        ")"
      ],
      "metadata": {
        "id": "D_sHWQp6cFWq"
      },
      "execution_count": 99,
      "outputs": []
    },
    {
      "cell_type": "code",
      "source": [
        "for idx, row in data.iterrows():\n",
        "    if not row['Text'] or pd.isna(row['Text']) or len(row['Text']) == 0:\n",
        "        continue\n",
        "\n",
        "    parent_doc = LangchainDocument(\n",
        "        page_content=row['Text'],\n",
        "        metadata={\n",
        "            'header': row['Header'],\n",
        "            'source': 'document',\n",
        "            'parent_id': f\"parent_{idx}\",\n",
        "            'doc_id': f\"parent_{idx}\",\n",
        "            'original_length': len(row['Text'])\n",
        "        }\n",
        "    )\n",
        "    parent_documents.append(parent_doc)\n",
        "\n",
        "    child_chunks = child_splitter.split_text(row['Text'])\n",
        "\n",
        "    for chunk_idx, chunk_text in enumerate(child_chunks):\n",
        "        child_doc = LangchainDocument(\n",
        "            page_content=chunk_text,\n",
        "            metadata={\n",
        "                'header': row['Header'],\n",
        "                'chunk_id': f\"chunk_{idx}_{chunk_idx}\",\n",
        "                'parent_id': f\"parent_{idx}\",\n",
        "                'chunk_index': chunk_idx,\n",
        "                'total_chunks': len(child_chunks),\n",
        "                'char_length': len(chunk_text)\n",
        "            }\n",
        "        )\n",
        "        child_documents.append(child_doc)"
      ],
      "metadata": {
        "id": "HzcjxlmNcFOt"
      },
      "execution_count": 100,
      "outputs": []
    },
    {
      "cell_type": "code",
      "source": [
        "len(parent_documents), len(child_documents)"
      ],
      "metadata": {
        "colab": {
          "base_uri": "https://localhost:8080/"
        },
        "id": "TWanKyBxcaca",
        "outputId": "7e2ee031-6e2e-46f9-e140-8413faa268f2"
      },
      "execution_count": 101,
      "outputs": [
        {
          "output_type": "execute_result",
          "data": {
            "text/plain": [
              "(40, 340)"
            ]
          },
          "metadata": {},
          "execution_count": 101
        }
      ]
    },
    {
      "cell_type": "code",
      "source": [
        "vectorstore = FAISS.from_documents(child_documents, embeddings)\n",
        "docstore = InMemoryStore()"
      ],
      "metadata": {
        "id": "5nKE7pw1cgWx"
      },
      "execution_count": 102,
      "outputs": []
    },
    {
      "cell_type": "code",
      "source": [
        "parent_id_to_doc = {}\n",
        "for parent_doc in parent_documents:\n",
        "    parent_id = parent_doc.metadata['parent_id']\n",
        "    parent_id_to_doc[parent_id] = parent_doc\n",
        "\n",
        "docstore.mset(list(parent_id_to_doc.items()))\n",
        "\n",
        "print(f\"Сохранено: {len(parent_id_to_doc)}\")"
      ],
      "metadata": {
        "colab": {
          "base_uri": "https://localhost:8080/"
        },
        "id": "OM-om-v6dAuC",
        "outputId": "de48a6ef-6f3b-4b88-b7b2-111cdc4ad971"
      },
      "execution_count": 103,
      "outputs": [
        {
          "output_type": "stream",
          "name": "stdout",
          "text": [
            "Сохранено: 40\n"
          ]
        }
      ]
    },
    {
      "cell_type": "code",
      "source": [
        "retriever = ParentDocumentRetriever(\n",
        "    vectorstore=vectorstore,\n",
        "    docstore=docstore,\n",
        "    child_splitter=child_splitter,\n",
        "    parent_splitter=None,\n",
        "    search_kwargs={\"k\": 5}\n",
        ")"
      ],
      "metadata": {
        "id": "59F_zcHddKpb"
      },
      "execution_count": 109,
      "outputs": []
    },
    {
      "cell_type": "code",
      "source": [
        "query = \"Какие есть окна?\""
      ],
      "metadata": {
        "id": "t9_LT6bdYAS8"
      },
      "execution_count": 110,
      "outputs": []
    },
    {
      "cell_type": "code",
      "source": [
        "relevant_docs = vectorstore.similarity_search(query, k=3)\n",
        "\n",
        "for i, doc in enumerate(relevant_docs):\n",
        "    print(f\"Результат {i+1}:\")\n",
        "    print(f\"Заголовок: {doc.metadata.get('header', 'N/A')}\")\n",
        "    print(f\"Текст: {doc.page_content[:150]}\")\n",
        "    print(f\"Длина: {len(doc.page_content)}\")\n",
        "    print(\"=\"*20)"
      ],
      "metadata": {
        "colab": {
          "base_uri": "https://localhost:8080/"
        },
        "id": "xSvg8BsdWaJL",
        "outputId": "ce8c6f1d-3dd8-48d8-acb4-f0750cdd6a86"
      },
      "execution_count": 111,
      "outputs": [
        {
          "output_type": "stream",
          "name": "stdout",
          "text": [
            "Результат 1:\n",
            "Заголовок: 5.1.6 Свойства объектов\n",
            "Текст: . Рисунок). Окно свойствРисунок В зависимости от типа выбранного объекта количество и наименование полей окна может быть разным\n",
            "Длина: 127\n",
            "====================\n",
            "Результат 2:\n",
            "Заголовок: 4.1.1 Рабочие окна\n",
            "Текст: . Основными типами рабочих окон являются:«3Dвид» – предназначен для отображения сцены с 3Dобъектами модели;«2Dвид» – предназначен для отображения 2Dоб\n",
            "Длина: 298\n",
            "====================\n",
            "Результат 3:\n",
            "Заголовок: 4.1.1 Рабочие окна\n",
            "Текст: рабочего окнаРисунок Каждое рабочее окно может содержать несколько видов с собственным типом и составом отображаемых объектов\n",
            "Длина: 125\n",
            "====================\n"
          ]
        }
      ]
    },
    {
      "cell_type": "code",
      "source": [
        "relevant_docs = retriever.invoke(query)\n",
        "\n",
        "for i, doc in enumerate(relevant_docs):\n",
        "    print(f\"Результат {i+1}:\")\n",
        "    print(f\"Заголовок: {doc.metadata.get('header', 'N/A')}\")\n",
        "    print(f\"Текст: {doc.page_content[:150]}\")\n",
        "    print(f\"Длина: {len(doc.page_content)}\")\n",
        "    print(\"=\"*20)"
      ],
      "metadata": {
        "id": "oDFQ7liuYQxs"
      },
      "execution_count": 114,
      "outputs": []
    },
    {
      "cell_type": "markdown",
      "source": [
        "# Задание 5"
      ],
      "metadata": {
        "id": "LHP-JD5pIvFq"
      }
    },
    {
      "cell_type": "markdown",
      "source": [
        "Попробуйте провести дополнительную обработку чанков и/или текстов при помощи\n",
        "LLM (суммаризация, генерация вопросов, и так далее), сделайте выводы"
      ],
      "metadata": {
        "id": "QDIo2JUkI6gm"
      }
    },
    {
      "cell_type": "code",
      "source": [
        "from openai import OpenAI\n",
        "\n",
        "from google.colab import userdata\n",
        "\n",
        "MODEL_CONFIG = {\n",
        "    \"base_url\": \"https://api.vsegpt.ru/v1\",\n",
        "    \"api_key\": userdata.get('OPENAI_API_KEY'),\n",
        "    \"model_name\": \"openai/gpt-5-mini\", # \"openai/gpt-5-nano\"\n",
        "    \"temperature\": 0.1,\n",
        "    \"top_p\": 0.9\n",
        "}"
      ],
      "metadata": {
        "id": "Ne0kaboDIxTj"
      },
      "execution_count": null,
      "outputs": []
    },
    {
      "cell_type": "code",
      "source": [
        "# llm = OpenAI(base_url=MODEL_CONFIG[\"base_url\"], api_key=MODEL_CONFIG[\"api_key\"])"
      ],
      "metadata": {
        "id": "xYcr6oJ3L_tn"
      },
      "execution_count": null,
      "outputs": []
    },
    {
      "cell_type": "code",
      "source": [
        "class LLM:\n",
        "    def __init__(self):\n",
        "        self.llm = OpenAI(base_url=MODEL_CONFIG[\"base_url\"], api_key=MODEL_CONFIG[\"api_key\"])\n",
        "        self.system_prompt = \"Ты выполняеешь задание пользователя. Не добавляй лишних слов, выводи только результат\"\n",
        "\n",
        "    def set_system_prompt(self, system_prompt: str):\n",
        "        \"\"\"Установка системного промпта\"\"\"\n",
        "        self.system_prompt = system_prompt\n",
        "\n",
        "    def generate_answer(self, question: str) -> str:\n",
        "        \"\"\"Генерация ответа модели\"\"\"\n",
        "\n",
        "        # no_think = \"/no_think\\n\"\n",
        "        messages = []\n",
        "        messages.append({\"role\": \"system\", \"content\": self.system_prompt})\n",
        "        messages.append({\"role\": \"user\", \"content\": question}) # no_think +\n",
        "\n",
        "        reply = self.llm.chat.completions.create(\n",
        "            model=MODEL_CONFIG[\"model_name\"],\n",
        "            messages=messages,\n",
        "            temperature=MODEL_CONFIG[\"temperature\"],\n",
        "            top_p=MODEL_CONFIG[\"top_p\"],\n",
        "            stream=False\n",
        "        )\n",
        "\n",
        "        return reply.choices[0].message.content #[19:]"
      ],
      "metadata": {
        "id": "GUNd6_ilVmZj"
      },
      "execution_count": null,
      "outputs": []
    },
    {
      "cell_type": "code",
      "source": [
        "llm = LLM()"
      ],
      "metadata": {
        "id": "SYoAPn-3Vqi-"
      },
      "execution_count": null,
      "outputs": []
    },
    {
      "cell_type": "code",
      "source": [
        "llm.generate_answer(\"Напиши последовательно числа от 1 до 10\")"
      ],
      "metadata": {
        "colab": {
          "base_uri": "https://localhost:8080/",
          "height": 35
        },
        "id": "e8ozTa7sVtx-",
        "outputId": "bddcb4f8-031d-4a92-b597-dad2d6998b2a"
      },
      "execution_count": null,
      "outputs": [
        {
          "output_type": "execute_result",
          "data": {
            "text/plain": [
              "'1 2 3 4 5 6 7 8 9 10'"
            ],
            "application/vnd.google.colaboratory.intrinsic+json": {
              "type": "string"
            }
          },
          "metadata": {},
          "execution_count": 110
        }
      ]
    },
    {
      "cell_type": "code",
      "source": [
        "llm.generate_answer(\"Ответь на Главный вопрос Жизни, Вселенной и всего такого\")"
      ],
      "metadata": {
        "colab": {
          "base_uri": "https://localhost:8080/",
          "height": 35
        },
        "id": "lFKQxzW-Vtfi",
        "outputId": "96e91d33-007b-4292-ba3a-d8d723265fec"
      },
      "execution_count": null,
      "outputs": [
        {
          "output_type": "execute_result",
          "data": {
            "text/plain": [
              "'42'"
            ],
            "application/vnd.google.colaboratory.intrinsic+json": {
              "type": "string"
            }
          },
          "metadata": {},
          "execution_count": 111
        }
      ]
    },
    {
      "cell_type": "code",
      "source": [
        "llm.set_system_prompt(\n",
        "            \"Ты профессионально работаешь с текстом и выполняешь роль корректора. \"\n",
        "            \"Исправляй опечатки, восстанавливай пропущенные пробелы и пунктуацию. \"\n",
        "            \"Не добавляй лишних слов, выводи только результат\"\n",
        "        )"
      ],
      "metadata": {
        "id": "xVjrEdnfXIbk"
      },
      "execution_count": null,
      "outputs": []
    },
    {
      "cell_type": "code",
      "source": [
        "BORDER = 2000"
      ],
      "metadata": {
        "id": "xyLDyANBXY-J"
      },
      "execution_count": null,
      "outputs": []
    },
    {
      "cell_type": "code",
      "source": [
        "for i in tqdm(range(data.shape[0])):\n",
        "    if data.iloc[i][\"Text\"]:\n",
        "        prompt = (\n",
        "            f\"Исправь опечатки в документе. Вставь пробелы где необходимо. \"\n",
        "            f\"Удали служебные символы. Убери лишние переносы строк. \"\n",
        "            f\"Выведи только исправленный текст документа. \"\n",
        "            f\"Документ:\\n\\n{data.iloc[i]['Text'][:BORDER]}\"\n",
        "        )\n",
        "\n",
        "        data.loc[i, 'CleanText'] = llm.generate_answer(prompt)"
      ],
      "metadata": {
        "colab": {
          "base_uri": "https://localhost:8080/"
        },
        "id": "cyuWSHatXPMU",
        "outputId": "657c6a01-841c-4ea2-ecc5-61477e8800d8"
      },
      "execution_count": null,
      "outputs": [
        {
          "output_type": "stream",
          "name": "stderr",
          "text": [
            "100%|██████████| 44/44 [29:24<00:00, 40.11s/it]\n"
          ]
        }
      ]
    },
    {
      "cell_type": "code",
      "source": [
        "data.info()"
      ],
      "metadata": {
        "colab": {
          "base_uri": "https://localhost:8080/"
        },
        "id": "CIDYjEPjXk8e",
        "outputId": "0dc840f6-2048-4a5d-9c71-841ff5b2da20"
      },
      "execution_count": null,
      "outputs": [
        {
          "output_type": "stream",
          "name": "stdout",
          "text": [
            "<class 'pandas.core.frame.DataFrame'>\n",
            "RangeIndex: 44 entries, 0 to 43\n",
            "Data columns (total 3 columns):\n",
            " #   Column     Non-Null Count  Dtype \n",
            "---  ------     --------------  ----- \n",
            " 0   Header     44 non-null     object\n",
            " 1   Text       44 non-null     object\n",
            " 2   CleanText  44 non-null     object\n",
            "dtypes: object(3)\n",
            "memory usage: 1.2+ KB\n"
          ]
        }
      ]
    },
    {
      "cell_type": "code",
      "source": [
        "data.head()"
      ],
      "metadata": {
        "colab": {
          "base_uri": "https://localhost:8080/",
          "height": 310
        },
        "id": "wq5HVC5VXoJF",
        "outputId": "82ca34d6-1c5a-467a-d8d6-669c72e4f3e7"
      },
      "execution_count": null,
      "outputs": [
        {
          "output_type": "execute_result",
          "data": {
            "text/plain": [
              "                                         Header  \\\n",
              "0          1 Назначение программного модуля CAD   \n",
              "1  2 Условия выполнения программного модуля CAD   \n",
              "2          3 Выполнение программного модуля CAD   \n",
              "3            3.1 Запуск программного модуля CAD   \n",
              "4                   3.2 Управление приложениями   \n",
              "\n",
              "                                                Text  \\\n",
              "0  Программный модуль CAD разработан на базе инте...   \n",
              "1  Достаточными условиями выполнения программного...   \n",
              "2                                                      \n",
              "3  Загрузка и запуск программного модуля CAD осущ...   \n",
              "4  Данное окно предназначено для осуществления уп...   \n",
              "\n",
              "                                           CleanText  \n",
              "0  Программный модуль CAD разработан на базе инте...  \n",
              "1  Достаточными условиями выполнения программного...  \n",
              "2                                                     \n",
              "3                                                     \n",
              "4                                                     "
            ],
            "text/html": [
              "\n",
              "  <div id=\"df-0110ac25-dea5-40af-86c9-18a7d5039c6a\" class=\"colab-df-container\">\n",
              "    <div>\n",
              "<style scoped>\n",
              "    .dataframe tbody tr th:only-of-type {\n",
              "        vertical-align: middle;\n",
              "    }\n",
              "\n",
              "    .dataframe tbody tr th {\n",
              "        vertical-align: top;\n",
              "    }\n",
              "\n",
              "    .dataframe thead th {\n",
              "        text-align: right;\n",
              "    }\n",
              "</style>\n",
              "<table border=\"1\" class=\"dataframe\">\n",
              "  <thead>\n",
              "    <tr style=\"text-align: right;\">\n",
              "      <th></th>\n",
              "      <th>Header</th>\n",
              "      <th>Text</th>\n",
              "      <th>CleanText</th>\n",
              "    </tr>\n",
              "  </thead>\n",
              "  <tbody>\n",
              "    <tr>\n",
              "      <th>0</th>\n",
              "      <td>1 Назначение программного модуля CAD</td>\n",
              "      <td>Программный модуль CAD разработан на базе инте...</td>\n",
              "      <td>Программный модуль CAD разработан на базе инте...</td>\n",
              "    </tr>\n",
              "    <tr>\n",
              "      <th>1</th>\n",
              "      <td>2 Условия выполнения программного модуля CAD</td>\n",
              "      <td>Достаточными условиями выполнения программного...</td>\n",
              "      <td>Достаточными условиями выполнения программного...</td>\n",
              "    </tr>\n",
              "    <tr>\n",
              "      <th>2</th>\n",
              "      <td>3 Выполнение программного модуля CAD</td>\n",
              "      <td></td>\n",
              "      <td></td>\n",
              "    </tr>\n",
              "    <tr>\n",
              "      <th>3</th>\n",
              "      <td>3.1 Запуск программного модуля CAD</td>\n",
              "      <td>Загрузка и запуск программного модуля CAD осущ...</td>\n",
              "      <td></td>\n",
              "    </tr>\n",
              "    <tr>\n",
              "      <th>4</th>\n",
              "      <td>3.2 Управление приложениями</td>\n",
              "      <td>Данное окно предназначено для осуществления уп...</td>\n",
              "      <td></td>\n",
              "    </tr>\n",
              "  </tbody>\n",
              "</table>\n",
              "</div>\n",
              "    <div class=\"colab-df-buttons\">\n",
              "\n",
              "  <div class=\"colab-df-container\">\n",
              "    <button class=\"colab-df-convert\" onclick=\"convertToInteractive('df-0110ac25-dea5-40af-86c9-18a7d5039c6a')\"\n",
              "            title=\"Convert this dataframe to an interactive table.\"\n",
              "            style=\"display:none;\">\n",
              "\n",
              "  <svg xmlns=\"http://www.w3.org/2000/svg\" height=\"24px\" viewBox=\"0 -960 960 960\">\n",
              "    <path d=\"M120-120v-720h720v720H120Zm60-500h600v-160H180v160Zm220 220h160v-160H400v160Zm0 220h160v-160H400v160ZM180-400h160v-160H180v160Zm440 0h160v-160H620v160ZM180-180h160v-160H180v160Zm440 0h160v-160H620v160Z\"/>\n",
              "  </svg>\n",
              "    </button>\n",
              "\n",
              "  <style>\n",
              "    .colab-df-container {\n",
              "      display:flex;\n",
              "      gap: 12px;\n",
              "    }\n",
              "\n",
              "    .colab-df-convert {\n",
              "      background-color: #E8F0FE;\n",
              "      border: none;\n",
              "      border-radius: 50%;\n",
              "      cursor: pointer;\n",
              "      display: none;\n",
              "      fill: #1967D2;\n",
              "      height: 32px;\n",
              "      padding: 0 0 0 0;\n",
              "      width: 32px;\n",
              "    }\n",
              "\n",
              "    .colab-df-convert:hover {\n",
              "      background-color: #E2EBFA;\n",
              "      box-shadow: 0px 1px 2px rgba(60, 64, 67, 0.3), 0px 1px 3px 1px rgba(60, 64, 67, 0.15);\n",
              "      fill: #174EA6;\n",
              "    }\n",
              "\n",
              "    .colab-df-buttons div {\n",
              "      margin-bottom: 4px;\n",
              "    }\n",
              "\n",
              "    [theme=dark] .colab-df-convert {\n",
              "      background-color: #3B4455;\n",
              "      fill: #D2E3FC;\n",
              "    }\n",
              "\n",
              "    [theme=dark] .colab-df-convert:hover {\n",
              "      background-color: #434B5C;\n",
              "      box-shadow: 0px 1px 3px 1px rgba(0, 0, 0, 0.15);\n",
              "      filter: drop-shadow(0px 1px 2px rgba(0, 0, 0, 0.3));\n",
              "      fill: #FFFFFF;\n",
              "    }\n",
              "  </style>\n",
              "\n",
              "    <script>\n",
              "      const buttonEl =\n",
              "        document.querySelector('#df-0110ac25-dea5-40af-86c9-18a7d5039c6a button.colab-df-convert');\n",
              "      buttonEl.style.display =\n",
              "        google.colab.kernel.accessAllowed ? 'block' : 'none';\n",
              "\n",
              "      async function convertToInteractive(key) {\n",
              "        const element = document.querySelector('#df-0110ac25-dea5-40af-86c9-18a7d5039c6a');\n",
              "        const dataTable =\n",
              "          await google.colab.kernel.invokeFunction('convertToInteractive',\n",
              "                                                    [key], {});\n",
              "        if (!dataTable) return;\n",
              "\n",
              "        const docLinkHtml = 'Like what you see? Visit the ' +\n",
              "          '<a target=\"_blank\" href=https://colab.research.google.com/notebooks/data_table.ipynb>data table notebook</a>'\n",
              "          + ' to learn more about interactive tables.';\n",
              "        element.innerHTML = '';\n",
              "        dataTable['output_type'] = 'display_data';\n",
              "        await google.colab.output.renderOutput(dataTable, element);\n",
              "        const docLink = document.createElement('div');\n",
              "        docLink.innerHTML = docLinkHtml;\n",
              "        element.appendChild(docLink);\n",
              "      }\n",
              "    </script>\n",
              "  </div>\n",
              "\n",
              "\n",
              "    <div id=\"df-9ee144df-ac49-4372-8f76-3a33906803b5\">\n",
              "      <button class=\"colab-df-quickchart\" onclick=\"quickchart('df-9ee144df-ac49-4372-8f76-3a33906803b5')\"\n",
              "                title=\"Suggest charts\"\n",
              "                style=\"display:none;\">\n",
              "\n",
              "<svg xmlns=\"http://www.w3.org/2000/svg\" height=\"24px\"viewBox=\"0 0 24 24\"\n",
              "     width=\"24px\">\n",
              "    <g>\n",
              "        <path d=\"M19 3H5c-1.1 0-2 .9-2 2v14c0 1.1.9 2 2 2h14c1.1 0 2-.9 2-2V5c0-1.1-.9-2-2-2zM9 17H7v-7h2v7zm4 0h-2V7h2v10zm4 0h-2v-4h2v4z\"/>\n",
              "    </g>\n",
              "</svg>\n",
              "      </button>\n",
              "\n",
              "<style>\n",
              "  .colab-df-quickchart {\n",
              "      --bg-color: #E8F0FE;\n",
              "      --fill-color: #1967D2;\n",
              "      --hover-bg-color: #E2EBFA;\n",
              "      --hover-fill-color: #174EA6;\n",
              "      --disabled-fill-color: #AAA;\n",
              "      --disabled-bg-color: #DDD;\n",
              "  }\n",
              "\n",
              "  [theme=dark] .colab-df-quickchart {\n",
              "      --bg-color: #3B4455;\n",
              "      --fill-color: #D2E3FC;\n",
              "      --hover-bg-color: #434B5C;\n",
              "      --hover-fill-color: #FFFFFF;\n",
              "      --disabled-bg-color: #3B4455;\n",
              "      --disabled-fill-color: #666;\n",
              "  }\n",
              "\n",
              "  .colab-df-quickchart {\n",
              "    background-color: var(--bg-color);\n",
              "    border: none;\n",
              "    border-radius: 50%;\n",
              "    cursor: pointer;\n",
              "    display: none;\n",
              "    fill: var(--fill-color);\n",
              "    height: 32px;\n",
              "    padding: 0;\n",
              "    width: 32px;\n",
              "  }\n",
              "\n",
              "  .colab-df-quickchart:hover {\n",
              "    background-color: var(--hover-bg-color);\n",
              "    box-shadow: 0 1px 2px rgba(60, 64, 67, 0.3), 0 1px 3px 1px rgba(60, 64, 67, 0.15);\n",
              "    fill: var(--button-hover-fill-color);\n",
              "  }\n",
              "\n",
              "  .colab-df-quickchart-complete:disabled,\n",
              "  .colab-df-quickchart-complete:disabled:hover {\n",
              "    background-color: var(--disabled-bg-color);\n",
              "    fill: var(--disabled-fill-color);\n",
              "    box-shadow: none;\n",
              "  }\n",
              "\n",
              "  .colab-df-spinner {\n",
              "    border: 2px solid var(--fill-color);\n",
              "    border-color: transparent;\n",
              "    border-bottom-color: var(--fill-color);\n",
              "    animation:\n",
              "      spin 1s steps(1) infinite;\n",
              "  }\n",
              "\n",
              "  @keyframes spin {\n",
              "    0% {\n",
              "      border-color: transparent;\n",
              "      border-bottom-color: var(--fill-color);\n",
              "      border-left-color: var(--fill-color);\n",
              "    }\n",
              "    20% {\n",
              "      border-color: transparent;\n",
              "      border-left-color: var(--fill-color);\n",
              "      border-top-color: var(--fill-color);\n",
              "    }\n",
              "    30% {\n",
              "      border-color: transparent;\n",
              "      border-left-color: var(--fill-color);\n",
              "      border-top-color: var(--fill-color);\n",
              "      border-right-color: var(--fill-color);\n",
              "    }\n",
              "    40% {\n",
              "      border-color: transparent;\n",
              "      border-right-color: var(--fill-color);\n",
              "      border-top-color: var(--fill-color);\n",
              "    }\n",
              "    60% {\n",
              "      border-color: transparent;\n",
              "      border-right-color: var(--fill-color);\n",
              "    }\n",
              "    80% {\n",
              "      border-color: transparent;\n",
              "      border-right-color: var(--fill-color);\n",
              "      border-bottom-color: var(--fill-color);\n",
              "    }\n",
              "    90% {\n",
              "      border-color: transparent;\n",
              "      border-bottom-color: var(--fill-color);\n",
              "    }\n",
              "  }\n",
              "</style>\n",
              "\n",
              "      <script>\n",
              "        async function quickchart(key) {\n",
              "          const quickchartButtonEl =\n",
              "            document.querySelector('#' + key + ' button');\n",
              "          quickchartButtonEl.disabled = true;  // To prevent multiple clicks.\n",
              "          quickchartButtonEl.classList.add('colab-df-spinner');\n",
              "          try {\n",
              "            const charts = await google.colab.kernel.invokeFunction(\n",
              "                'suggestCharts', [key], {});\n",
              "          } catch (error) {\n",
              "            console.error('Error during call to suggestCharts:', error);\n",
              "          }\n",
              "          quickchartButtonEl.classList.remove('colab-df-spinner');\n",
              "          quickchartButtonEl.classList.add('colab-df-quickchart-complete');\n",
              "        }\n",
              "        (() => {\n",
              "          let quickchartButtonEl =\n",
              "            document.querySelector('#df-9ee144df-ac49-4372-8f76-3a33906803b5 button');\n",
              "          quickchartButtonEl.style.display =\n",
              "            google.colab.kernel.accessAllowed ? 'block' : 'none';\n",
              "        })();\n",
              "      </script>\n",
              "    </div>\n",
              "\n",
              "    </div>\n",
              "  </div>\n"
            ],
            "application/vnd.google.colaboratory.intrinsic+json": {
              "type": "dataframe",
              "variable_name": "data",
              "summary": "{\n  \"name\": \"data\",\n  \"rows\": 44,\n  \"fields\": [\n    {\n      \"column\": \"Header\",\n      \"properties\": {\n        \"dtype\": \"string\",\n        \"num_unique_values\": 44,\n        \"samples\": [\n          \"5.1.5 \\u0421\\u0442\\u0440\\u0443\\u043a\\u0442\\u0443\\u0440\\u0430 \\u043c\\u043e\\u0434\\u0435\\u043b\\u0438 \\u0438 \\u0438\\u0441\\u0442\\u043e\\u0440\\u0438\\u044f \\u043f\\u043e\\u0441\\u0442\\u0440\\u043e\\u0435\\u043d\\u0438\\u044f\",\n          \"4.2.4 \\u041c\\u0435\\u043d\\u044e \\u00ab\\u0424\\u0430\\u0439\\u043b\\u00bb\",\n          \"4.2.5 \\u0418\\u043d\\u0441\\u0442\\u0440\\u0443\\u043c\\u0435\\u043d\\u0442\\u0430\\u043b\\u044c\\u043d\\u044b\\u0435 \\u043f\\u0430\\u043d\\u0435\\u043b\\u0438 \\u0440\\u0430\\u0431\\u043e\\u0447\\u0435\\u0433\\u043e \\u043e\\u043a\\u043d\\u0430\"\n        ],\n        \"semantic_type\": \"\",\n        \"description\": \"\"\n      }\n    },\n    {\n      \"column\": \"Text\",\n      \"properties\": {\n        \"dtype\": \"string\",\n        \"num_unique_values\": 41,\n        \"samples\": [\n          \"\\u0412 \\u0440\\u0430\\u0431\\u043e\\u0447\\u0435\\u043c \\u043e\\u043a\\u043d\\u0435 \\u043f\\u0440\\u0435\\u0434\\u0443\\u0441\\u043c\\u043e\\u0442\\u0440\\u0435\\u043d\\u044b \\u0434\\u0432\\u0435 \\u0438\\u043d\\u0441\\u0442\\u0440\\u0443\\u043c\\u0435\\u043d\\u0442\\u0430\\u043b\\u044c\\u043d\\u044b\\u0435 \\u043f\\u0430\\u043d\\u0435\\u043b\\u0438:\\u043a\\u043e\\u043d\\u0442\\u0435\\u043a\\u0441\\u0442\\u043d\\u043e-\\u0437\\u0430\\u0432\\u0438\\u0441\\u0438\\u043c\\u0430\\u044f \\u043f\\u0430\\u043d\\u0435\\u043b\\u044c \\u00ab\\u0412\\u0438\\u0434\\u00bb, \\u0441\\u043e\\u0434\\u0435\\u0440\\u0436\\u0430\\u0449\\u0430\\u044f \\u0444\\u0443\\u043d\\u043a\\u0446\\u0438\\u0438 \\u0443\\u043f\\u0440\\u0430\\u0432\\u043b\\u0435\\u043d\\u0438\\u044f \\u0442\\u0435\\u043a\\u0443\\u0449\\u0438\\u043c \\u0432\\u0438\\u0434\\u043e\\u043c, \\u0432\\u0438\\u0437\\u0443\\u0430\\u043b\\u0438\\u0437\\u0430\\u0446\\u0438\\u0435\\u0439 \\u043c\\u043e\\u0434\\u0435\\u043b\\u0438, \\u0430 \\u0442\\u0430\\u043a\\u0436\\u0435 \\u0441\\u0440\\u0435\\u0434\\u0441\\u0442\\u0432\\u0430\\u043c\\u0438 \\u0432\\u044b\\u0431\\u043e\\u0440\\u0430 \\u043e\\u0431\\u044a\\u0435\\u043a\\u0442\\u043e\\u0432 (\\u0440\\u0438\\u0441.\\u00a0#);\\u0421\\u043f\\u0435\\u0446\\u0438\\u0430\\u043b\\u044c\\u043d\\u0430\\u044f \\u043f\\u0430\\u043d\\u0435\\u043b\\u044c \\u0432\\u0438\\u0434\\u043e\\u0432\\u0420\\u0438\\u0441\\u0443\\u043d\\u043e\\u043a \\u043f\\u0430\\u043d\\u0435\\u043b\\u044c \\u0444\\u0438\\u043b\\u044c\\u0442\\u0440\\u043e\\u0432, \\u043e\\u043f\\u0440\\u0435\\u0434\\u0435\\u043b\\u044f\\u044e\\u0449\\u0430\\u044f \\u0432\\u044b\\u0431\\u043e\\u0440 \\u043e\\u0431\\u044a\\u0435\\u043a\\u0442\\u043e\\u0432 \\u0432 \\u0437\\u0430\\u0432\\u0438\\u0441\\u0438\\u043c\\u043e\\u0441\\u0442\\u0438 \\u043e\\u0442 \\u0438\\u0445 \\u0442\\u0438\\u043f\\u0430 (\\u0440\\u0438\\u0441.\\u00a0#).\\u0421\\u043f\\u0435\\u0446\\u0438\\u0430\\u043b\\u044c\\u043d\\u0430\\u044f \\u043f\\u0430\\u043d\\u0435\\u043b\\u044c \\u0444\\u0438\\u043b\\u044c\\u0442\\u0440\\u043e\\u0432\\u0420\\u0438\\u0441\\u0443\\u043d\\u043e\\u043a \\u0412 \\u043f\\u0440\\u0435\\u0434\\u0435\\u043b\\u0430\\u0445 \\u0440\\u0430\\u0431\\u043e\\u0447\\u0435\\u0433\\u043e \\u043e\\u043a\\u043d\\u0430 \\u0434\\u043e\\u043f\\u0443\\u0441\\u043a\\u0430\\u0435\\u0442\\u0441\\u044f \\u0440\\u0430\\u0437\\u043c\\u0435\\u0449\\u0430\\u0442\\u044c \\u0438\\u043d\\u0441\\u0442\\u0440\\u0443\\u043c\\u0435\\u043d\\u0442\\u0430\\u043b\\u044c\\u043d\\u0443\\u044e \\u043f\\u0430\\u043d\\u0435\\u043b\\u044c \\u00ab\\u0412\\u0438\\u0434\\u00bb \\u0438 \\u043f\\u0430\\u043d\\u0435\\u043b\\u044c \\u0444\\u0438\\u043b\\u044c\\u0442\\u0440\\u043e\\u0432 \\u043f\\u043e \\u0443\\u0441\\u043c\\u043e\\u0442\\u0440\\u0435\\u043d\\u0438\\u044e \\u043f\\u043e\\u043b\\u044c\\u0437\\u043e\\u0432\\u0430\\u0442\\u0435\\u043b\\u044f. \\u0414\\u043b\\u044f \\u044d\\u0442\\u043e\\u0433\\u043e \\u0441\\u043b\\u0435\\u0434\\u0443\\u0435\\u0442 \\u0432\\u044b\\u0437\\u0432\\u0430\\u0442\\u044c \\u043a\\u043e\\u043d\\u0442\\u0435\\u043a\\u0441\\u0442\\u043d\\u043e\\u0435 \\u043c\\u0435\\u043d\\u044e \\u0438 \\u0443\\u043a\\u0430\\u0437\\u0430\\u0442\\u044c \\u043d\\u0435\\u043e\\u0431\\u0445\\u043e\\u0434\\u0438\\u043c\\u043e\\u0435 \\u043f\\u043e\\u043b\\u043e\\u0436\\u0435\\u043d\\u0438\\u0435. \\u041f\\u0440\\u0438 \\u043d\\u0435\\u043e\\u0431\\u0445\\u043e\\u0434\\u0438\\u043c\\u043e\\u0441\\u0442\\u0438 \\u043f\\u0430\\u043d\\u0435\\u043b\\u0438 \\u043c\\u043e\\u0436\\u043d\\u043e \\u0441\\u043a\\u0440\\u044b\\u0442\\u044c (\\u0440\\u0438\\u0441.\\u00a0\\u0420\\u0438\\u0441\\u0443\\u043d\\u043e\\u043a).\\u0420\\u0430\\u0437\\u043c\\u0435\\u0449\\u0435\\u043d\\u0438\\u0435 \\u0438\\u043d\\u0441\\u0442\\u0440\\u0443\\u043c\\u0435\\u043d\\u0442\\u0430\\u043b\\u044c\\u043d\\u044b\\u0445 \\u043f\\u0430\\u043d\\u0435\\u043b\\u0435\\u0439\\u0420\\u0438\\u0441\\u0443\\u043d\\u043e\\u043a \\u0420\\u0430\\u0437\\u043c\\u0435\\u0440 \\u0438\\u043a\\u043e\\u043d\\u043e\\u043a \\u043f\\u0430\\u043d\\u0435\\u043b\\u0435\\u0439 \\u043e\\u043f\\u0440\\u0435\\u0434\\u0435\\u043b\\u044f\\u0435\\u0442\\u0441\\u044f \\u0441\\u043e\\u043e\\u0442\\u0432\\u0435\\u0442\\u0441\\u0442\\u0432\\u0443\\u044e\\u0449\\u0438\\u043c\\u0438 \\u043f\\u0430\\u0440\\u0430\\u043c\\u0435\\u0442\\u0440\\u0430\\u043c\\u0438 \\u0432 \\u043e\\u043a\\u043d\\u0435 \\u0443\\u0441\\u0442\\u0430\\u043d\\u043e\\u0432\\u043e\\u043a \\u043f\\u0440\\u043e\\u0433\\u0440\\u0430\\u043c\\u043c\\u043d\\u043e\\u0433\\u043e \\u043c\\u043e\\u0434\\u0443\\u043b\\u044f CAD.\",\n          \"\\u041f\\u043e\\u0434 \\u0441\\u0442\\u0438\\u043b\\u0435\\u043c \\u0441\\u043b\\u0435\\u0434\\u0443\\u0435\\u0442 \\u043f\\u043e\\u043d\\u0438\\u043c\\u0430\\u0442\\u044c \\u043f\\u0440\\u0435\\u0434\\u0443\\u0441\\u0442\\u0430\\u043d\\u043e\\u0432\\u043b\\u0435\\u043d\\u043d\\u044b\\u0439 \\u043d\\u0430\\u0431\\u043e\\u0440 \\u0441\\u0432\\u043e\\u0439\\u0441\\u0442\\u0432 \\u043a\\u043e\\u043d\\u043a\\u0440\\u0435\\u0442\\u043d\\u043e\\u0433\\u043e \\u0442\\u0438\\u043f\\u0430 \\u043e\\u0431\\u044a\\u0435\\u043a\\u0442\\u043e\\u0432, \\u043e\\u043f\\u0440\\u0435\\u0434\\u0435\\u043b\\u044f\\u044e\\u0449\\u0438\\u0445 \\u0435\\u0433\\u043e \\u043e\\u0442\\u043e\\u0431\\u0440\\u0430\\u0436\\u0435\\u043d\\u0438\\u0435, \\u0445\\u0430\\u0440\\u0430\\u043a\\u0442\\u0435\\u0440\\u0438\\u0441\\u0442\\u0438\\u043a\\u0438, \\u043d\\u0430\\u0437\\u043d\\u0430\\u0447\\u0435\\u043d\\u0438\\u0435 \\u0438 \\u0434\\u0440\\u0443\\u0433\\u0438\\u0435 \\u0445\\u0430\\u0440\\u0430\\u043a\\u0442\\u0435\\u0440\\u043d\\u044b\\u0435 \\u0430\\u0442\\u0440\\u0438\\u0431\\u0443\\u0442\\u044b. \\u0414\\u043b\\u044f \\u0441\\u043e\\u0437\\u0434\\u0430\\u043d\\u0438\\u044f \\u0441\\u0442\\u0438\\u043b\\u0435\\u0439 \\u043f\\u0440\\u0435\\u0434\\u0443\\u0441\\u043c\\u043e\\u0442\\u0440\\u0435\\u043d\\u0430 \\u0441\\u043f\\u0435\\u0446\\u0438\\u0430\\u043b\\u044c\\u043d\\u0430\\u044f \\u043a\\u043e\\u043c\\u0430\\u043d\\u0434\\u0430.\\u0412\\u044b\\u0437\\u043e\\u0432 \\u043a\\u043e\\u043c\\u0430\\u043d\\u0434\\u044b \\u00ab\\u0421\\u043e\\u0437\\u0434\\u0430\\u0442\\u044c \\u0441\\u0442\\u0438\\u043b\\u044c\\u00bb  \\u043e\\u0441\\u0443\\u0449\\u0435\\u0441\\u0442\\u0432\\u043b\\u044f\\u0435\\u0442\\u0441\\u044f \\u0438\\u0437 \\u043f\\u0430\\u043d\\u0435\\u043b\\u0438 \\u00ab\\u041b\\u0435\\u043d\\u0442\\u0430\\u00bb\\u00a0(\\u0432\\u043a\\u043b\\u0430\\u0434\\u043a\\u0438 \\u00ab\\u041c\\u043e\\u0434\\u0435\\u043b\\u044c\\u00bb, \\u00ab\\u0427\\u0435\\u0440\\u0442\\u0451\\u0436\\u00bb, \\u0433\\u0440\\u0443\\u043f\\u043f\\u0430 \\u00ab\\u0414\\u043e\\u043f\\u043e\\u043b\\u043d\\u0438\\u0442\\u0435\\u043b\\u044c\\u043d\\u043e\\u00bb). \\u041f\\u043e\\u0441\\u043b\\u0435 \\u0437\\u0430\\u043f\\u0443\\u0441\\u043a\\u0430 \\u043f\\u043e\\u044f\\u0432\\u0438\\u0442\\u0441\\u044f \\u0434\\u0438\\u0430\\u043b\\u043e\\u0433 \\u043f\\u0430\\u0440\\u0430\\u043c\\u0435\\u0442\\u0440\\u043e\\u0432 (\\u0440\\u0438\\u0441. \\u0420\\u0438\\u0441\\u0443\\u043d\\u043e\\u043a).\\u0414\\u0438\\u0430\\u043b\\u043e\\u0433 \\u00ab\\u0421\\u043e\\u0437\\u0434\\u0430\\u0442\\u044c \\u0441\\u0442\\u0438\\u043b\\u044c\\u00bb\\u0420\\u0438\\u0441\\u0443\\u043d\\u043e\\u043a \\u0422\\u0438\\u043f \\u043e\\u0431\\u044a\\u0435\\u043a\\u0442\\u0430 \\u043c\\u043e\\u0434\\u0435\\u043b\\u0438, \\u0434\\u043b\\u044f \\u043a\\u043e\\u0442\\u043e\\u0440\\u043e\\u0433\\u043e \\u043d\\u0435\\u043e\\u0431\\u0445\\u043e\\u0434\\u0438\\u043c\\u043e \\u0441\\u043e\\u0437\\u0434\\u0430\\u0442\\u044c \\u0441\\u0442\\u0438\\u043b\\u044c, \\u043e\\u043f\\u0440\\u0435\\u0434\\u0435\\u043b\\u044f\\u0435\\u0442\\u0441\\u044f \\u043f\\u0430\\u0440\\u0430\\u043c\\u0435\\u0442\\u0440\\u043e\\u043c \\u00ab\\u0422\\u0438\\u043f \\u0441\\u0442\\u0438\\u043b\\u044f\\u00bb. \\u0414\\u043e\\u0441\\u0442\\u0443\\u043f\\u043d\\u044b \\u0441\\u043b\\u0435\\u0434\\u0443\\u044e\\u0449\\u0438\\u0435 \\u0442\\u0438\\u043f\\u044b \\u0441\\u0442\\u0438\\u043b\\u0435\\u0439:\\u00ab\\u0412\\u0438\\u0437\\u0443\\u0430\\u043b\\u044c\\u043d\\u044b\\u0435 \\u0441\\u0432\\u043e\\u0439\\u0441\\u0442\\u0432\\u0430\\u00bb;\\u00ab\\u0421\\u0442\\u0438\\u043b\\u044c \\u043b\\u0438\\u043d\\u0438\\u0438\\u00bb;\\u00ab\\u0421\\u0442\\u0438\\u043b\\u044c \\u0437\\u0430\\u043f\\u043e\\u043b\\u043d\\u0435\\u043d\\u0438\\u044f\\u00bb;\\u00ab\\u0421\\u0442\\u0438\\u043b\\u044c 2D\\u0442\\u043e\\u0447\\u043a\\u0438\\u00bb;\\u00ab\\u0421\\u0442\\u0438\\u043b\\u044c 3D\\u0442\\u043e\\u0447\\u043a\\u0438\\u00bb;\\u00ab\\u0421\\u0442\\u0438\\u043b\\u044c \\u041b\\u0421\\u041a\\u00bb;\\u00ab\\u0421\\u0442\\u0438\\u043b\\u044c \\u0420\\u041f\\u00bb;\\u00ab\\u0421\\u0442\\u0438\\u043b\\u044c \\u0442\\u0435\\u043a\\u0441\\u0442\\u0430\\u00bb;\\u00ab\\u041f\\u0430\\u0440\\u0430\\u043c\\u0435\\u0442\\u0440\\u044b \\u0441\\u0435\\u0442\\u043a\\u0438\\u00bb;\\u00ab\\u041c\\u0430\\u0442\\u0435\\u0440\\u0438\\u0430\\u043b\\u00bb.\\u041f\\u043e\\u043b\\u0435 \\u00ab\\u0411\\u0430\\u0437\\u043e\\u0432\\u044b\\u0439 \\u0441\\u0442\\u0438\\u043b\\u044c\\u00bb \\u043f\\u0440\\u0435\\u0434\\u0443\\u0441\\u043c\\u043e\\u0442\\u0440\\u0435\\u043d\\u043e \\u0434\\u043b\\u044f \\u0432\\u044b\\u0431\\u043e\\u0440\\u0430 \\u0441\\u0443\\u0449\\u0435\\u0441\\u0442\\u0432\\u0443\\u044e\\u0449\\u0435\\u0433\\u043e \\u0441\\u0442\\u0438\\u043b\\u044f, \\u043d\\u0430 \\u043e\\u0441\\u043d\\u043e\\u0432\\u0435 \\u043a\\u043e\\u0442\\u043e\\u0440\\u043e\\u0433\\u043e \\u043d\\u0435\\u043e\\u0431\\u0445\\u043e\\u0434\\u0438\\u043c\\u043e \\u0441\\u043e\\u0437\\u0434\\u0430\\u0442\\u044c \\u043d\\u043e\\u0432\\u044b\\u0439, \\u043b\\u0438\\u0431\\u043e \\u0443\\u043a\\u0430\\u0437\\u0430\\u043d\\u0438\\u044f \\u043e \\u0441\\u043e\\u0437\\u0434\\u0430\\u043d\\u0438\\u0438 \\u043d\\u043e\\u0432\\u043e\\u0433\\u043e \\u0441\\u0442\\u0438\\u043b\\u044f.\\u0418\\u043c\\u044f \\u0432\\u043d\\u043e\\u0432\\u044c \\u0441\\u043e\\u0437\\u0434\\u0430\\u0432\\u0430\\u0435\\u043c\\u043e\\u0433\\u043e \\u0441\\u0442\\u0438\\u043b\\u044f \\u0443\\u043a\\u0430\\u0437\\u044b\\u0432\\u0430\\u0435\\u0442\\u0441\\u044f \\u0432 \\u0441\\u043e\\u043e\\u0442\\u0432\\u0435\\u0442\\u0441\\u0442\\u0432\\u0443\\u044e\\u0449\\u0435\\u043c \\u043f\\u043e\\u043b\\u0435 \\u0434\\u0438\\u0430\\u043b\\u043e\\u0433\\u0430 \\u043f\\u0430\\u0440\\u0430\\u043c\\u0435\\u0442\\u0440\\u043e\\u0432.\\u0423\\u043f\\u0440\\u0430\\u0432\\u043b\\u0435\\u043d\\u0438\\u0435 \\u0441\\u0432\\u043e\\u0439\\u0441\\u0442\\u0432\\u0430\\u043c\\u0438 \\u0432\\u043d\\u043e\\u0432\\u044c \\u0441\\u043e\\u0437\\u0434\\u0430\\u043d\\u043d\\u043e\\u0433\\u043e \\u0441\\u0442\\u0438\\u043b\\u044f \\u043e\\u0441\\u0443\\u0449\\u0435\\u0441\\u0442\\u0432\\u043b\\u044f\\u0435\\u0442\\u0441\\u044f \\u0432 \\u043e\\u043a\\u043d\\u0435 \\u00ab\\u0421\\u0432\\u043e\\u0439\\u0441\\u0442\\u0432\\u0430\\u00bb.\\u0420\\u0435\\u0436\\u0438\\u043c \\u00ab\\u041f\\u0440\\u043e\\u0434\\u043e\\u043b\\u0436\\u0438\\u0442\\u044c \\u0441\\u043e\\u0437\\u0434\\u0430\\u043d\\u0438\\u0435\\u00bb \\u043f\\u0440\\u0435\\u0434\\u043f\\u043e\\u043b\\u0430\\u0433\\u0430\\u0435\\u0442, \\u0447\\u0442\\u043e \\u043f\\u043e\\u0441\\u043b\\u0435 \\u043f\\u043e\\u0434\\u0442\\u0432\\u0435\\u0440\\u0436\\u0434\\u0435\\u043d\\u0438\\u044f \\u0441\\u043e\\u0437\\u0434\\u0430\\u043d\\u0438\\u044f \\u043e\\u0442\\u0440\\u0435\\u0437\\u043a\\u0430 \\u0441\\u0438\\u0441\\u0442\\u0435\\u043c\\u0430 \\u043f\\u0440\\u043e\\u0434\\u043e\\u043b\\u0436\\u0430\\u0435\\u0442 \\u0440\\u0430\\u0431\\u043e\\u0442\\u0443 \\u043a\\u043e\\u043c\\u0430\\u043d\\u0434\\u044b.\\u041f\\u043e\\u0434\\u0442\\u0432\\u0435\\u0440\\u0436\\u0434\\u0435\\u043d\\u0438\\u0435 \\u0441\\u043e\\u0437\\u0434\\u0430\\u043d\\u0438\\u044f \\u0441\\u0442\\u0438\\u043b\\u044f \\u043e\\u0441\\u0443\\u0449\\u0435\\u0441\\u0442\\u0432\\u043b\\u044f\\u0435\\u0442\\u0441\\u044f \\u043f\\u043e \\u043a\\u043d\\u043e\\u043f\\u043a\\u0435 \\u00ab\\u041e\\u043a\\u00bb\\u00a0; \\u043e\\u0442\\u043c\\u0435\\u043d\\u0430 \\u0441\\u043e\\u0437\\u0434\\u0430\\u043d\\u0438\\u044f \\u2013 \\u043f\\u043e \\u043a\\u043d\\u043e\\u043f\\u043a\\u0435 \\u00ab\\u041e\\u0442\\u043c\\u0435\\u043d\\u0430\\u00bb .\",\n          \"\\u041a\\u043e\\u043c\\u0430\\u043d\\u0434\\u0430 \\u00ab\\u0421\\u043e\\u0445\\u0440\\u0430\\u043d\\u0438\\u0442\\u044c\\u00bb  \\u0432\\u044b\\u043f\\u043e\\u043b\\u043d\\u044f\\u0435\\u0442 \\u0441\\u043e\\u0445\\u0440\\u0430\\u043d\\u0435\\u043d\\u0438\\u0435 \\u0442\\u0435\\u043a\\u0443\\u0449\\u0435\\u0433\\u043e \\u0430\\u043a\\u0442\\u0438\\u0432\\u043d\\u043e\\u0433\\u043e \\u0434\\u043e\\u043a\\u0443\\u043c\\u0435\\u043d\\u0442\\u0430. \\u0415\\u0441\\u043b\\u0438 \\u0434\\u043e\\u043a\\u0443\\u043c\\u0435\\u043d\\u0442 \\u0431\\u044b\\u043b \\u0441\\u043e\\u0437\\u0434\\u0430\\u043d \\u0440\\u0430\\u043d\\u0435\\u0435 \\u0438 \\u043d\\u0430\\u0445\\u043e\\u0434\\u0438\\u043b\\u0441\\u044f \\u043d\\u0430 \\u0440\\u0435\\u0434\\u0430\\u043a\\u0442\\u0438\\u0440\\u043e\\u0432\\u0430\\u043d\\u0438\\u0438, \\u0442\\u043e \\u043a\\u043e\\u043c\\u0430\\u043d\\u0434\\u0430 \\u0432\\u044b\\u043f\\u043e\\u043b\\u043d\\u0438\\u0442 \\u0441\\u043e\\u0445\\u0440\\u0430\\u043d\\u0435\\u043d\\u0438\\u0435 \\u044d\\u0442\\u043e\\u0433\\u043e \\u0434\\u043e\\u043a\\u0443\\u043c\\u0435\\u043d\\u0442\\u0430, \\u0430 \\u0435\\u0441\\u043b\\u0438 \\u0440\\u0430\\u0431\\u043e\\u0442\\u0430 \\u043f\\u0440\\u043e\\u0438\\u0441\\u0445\\u043e\\u0434\\u0438\\u043b\\u0430 \\u0432 \\u043d\\u043e\\u0432\\u043e\\u043c \\u0434\\u043e\\u043a\\u0443\\u043c\\u0435\\u043d\\u0442\\u0435, \\u0442\\u043e \\u0441\\u0438\\u0441\\u0442\\u0435\\u043c\\u0430 \\u043f\\u0440\\u0435\\u0434\\u043b\\u043e\\u0436\\u0438\\u0442 \\u0432\\u044b\\u0431\\u0440\\u0430\\u0442\\u044c \\u0434\\u0438\\u0440\\u0435\\u043a\\u0442\\u043e\\u0440\\u0438\\u044e \\u0434\\u043b\\u044f \\u0441\\u043e\\u0445\\u0440\\u0430\\u043d\\u0435\\u043d\\u0438\\u044f \\u0438 \\u0443\\u043a\\u0430\\u0437\\u0430\\u0442\\u044c \\u0438\\u043c\\u044f \\u0438 \\u0444\\u043e\\u0440\\u043c\\u0430\\u0442 \\u0444\\u0430\\u0439\\u043b\\u0430.\\u041a\\u043e\\u043c\\u0430\\u043d\\u0434\\u0430 \\u00ab\\u0421\\u043e\\u0445\\u0440\\u0430\\u043d\\u0438\\u0442\\u044c \\u043a\\u0430\\u043a\\u00bb  \\u0432\\u044b\\u0437\\u044b\\u0432\\u0430\\u0435\\u0442 \\u0441\\u0442\\u0430\\u043d\\u0434\\u0430\\u0440\\u0442\\u043d\\u044b\\u0439 \\u0434\\u0438\\u0430\\u043b\\u043e\\u0433 \\u0441\\u043e\\u0445\\u0440\\u0430\\u043d\\u0435\\u043d\\u0438\\u044f \\u0430\\u043a\\u0442\\u0438\\u0432\\u043d\\u043e\\u0433\\u043e \\u0434\\u043e\\u043a\\u0443\\u043c\\u0435\\u043d\\u0442\\u0430 \\u0432 \\u0444\\u0430\\u0439\\u043b \\u0441 \\u0432\\u043e\\u0437\\u043c\\u043e\\u0436\\u043d\\u043e\\u0441\\u0442\\u044c\\u044e \\u0432\\u044b\\u0431\\u043e\\u0440\\u0430 \\u0434\\u0438\\u0440\\u0435\\u043a\\u0442\\u043e\\u0440\\u0438\\u0438 \\u0441\\u043e\\u0445\\u0440\\u0430\\u043d\\u0435\\u043d\\u0438\\u044f, \\u0437\\u0430\\u0434\\u0430\\u043d\\u0438\\u044f \\u0438\\u043c\\u0435\\u043d\\u0438 \\u0438 \\u0442\\u0438\\u043f\\u0430 \\u0444\\u0430\\u0439\\u043b\\u0430.\\u041f\\u0440\\u0438 \\u043d\\u0435\\u043e\\u0431\\u0445\\u043e\\u0434\\u0438\\u043c\\u043e\\u0441\\u0442\\u0438 \\u0441\\u0438\\u0441\\u0442\\u0435\\u043c\\u0430 \\u043c\\u043e\\u0436\\u0435\\u0442 \\u0430\\u0432\\u0442\\u043e\\u043c\\u0430\\u0442\\u0438\\u0447\\u0435\\u0441\\u043a\\u0438 \\u0441\\u043e\\u0445\\u0440\\u0430\\u043d\\u044f\\u0442\\u044c \\u0434\\u043e\\u043a\\u0443\\u043c\\u0435\\u043d\\u0442 \\u0441 \\u0437\\u0430\\u0434\\u0430\\u043d\\u043d\\u044b\\u043c \\u0438\\u043d\\u0442\\u0435\\u0440\\u0432\\u0430\\u043b\\u043e\\u043c \\u043f\\u043e \\u0432\\u0440\\u0435\\u043c\\u0435\\u043d\\u0438. \\u0410\\u0432\\u0442\\u043e\\u0441\\u043e\\u0445\\u0440\\u0430\\u043d\\u0435\\u043d\\u0438\\u0435 \\u043f\\u043e\\u0437\\u0432\\u043e\\u043b\\u044f\\u0435\\u0442 \\u043c\\u0438\\u043d\\u0438\\u043c\\u0438\\u0437\\u0438\\u0440\\u043e\\u0432\\u0430\\u0442\\u044c \\u0440\\u0438\\u0441\\u043a \\u043f\\u043e\\u0442\\u0435\\u0440\\u0438 \\u0434\\u0430\\u043d\\u043d\\u044b\\u0445 \\u0432 \\u0440\\u0435\\u0437\\u0443\\u043b\\u044c\\u0442\\u0430\\u0442\\u0435 \\u043d\\u0435\\u0437\\u0430\\u043f\\u043b\\u0430\\u043d\\u0438\\u0440\\u043e\\u0432\\u0430\\u043d\\u043d\\u043e\\u0433\\u043e \\u0437\\u0430\\u043a\\u0440\\u044b\\u0442\\u0438\\u044f \\u0441\\u0438\\u0441\\u0442\\u0435\\u043c\\u044b. \\u0410\\u043a\\u0442\\u0438\\u0432\\u0430\\u0446\\u0438\\u0438 \\u0444\\u0443\\u043d\\u043a\\u0446\\u0438\\u0438 \\u0430\\u0432\\u0442\\u043e\\u043c\\u0430\\u0442\\u0438\\u0447\\u0435\\u0441\\u043a\\u043e\\u0433\\u043e \\u0441\\u043e\\u0445\\u0440\\u0430\\u043d\\u0435\\u043d\\u0438\\u044f \\u043e\\u0441\\u0443\\u0449\\u0435\\u0441\\u0442\\u0432\\u043b\\u044f\\u0435\\u0442\\u0441\\u044f \\u0432 \\u0434\\u0438\\u0430\\u043b\\u043e\\u0433\\u0435 \\u043f\\u0430\\u0440\\u0430\\u043c\\u0435\\u0442\\u0440\\u043e\\u0432 \\u0430\\u0432\\u0442\\u043e\\u0441\\u043e\\u0445\\u0440\\u0430\\u043d\\u0435\\u043d\\u0438\\u044f (\\u0440\\u0438\\u0441. \\u0420\\u0438\\u0441\\u0443\\u043d\\u043e\\u043a).\\u041f\\u0430\\u0440\\u0430\\u043c\\u0435\\u0442\\u0440\\u044b \\u0430\\u0432\\u0442\\u043e\\u0441\\u043e\\u0445\\u0440\\u0430\\u043d\\u0435\\u043d\\u0438\\u044f\\u0420\\u0438\\u0441\\u0443\\u043d\\u043e\\u043a \\u0424\\u043b\\u0430\\u0433 \\u00ab\\u0410\\u0432\\u0442\\u043e\\u0441\\u043e\\u0445\\u0440\\u0430\\u043d\\u0435\\u043d\\u0438\\u0435 \\u0434\\u043e\\u043a\\u0443\\u043c\\u0435\\u043d\\u0442\\u043e\\u0432\\u00bb \\u0432\\u043a\\u043b\\u044e\\u0447\\u0430\\u0435\\u0442 \\u0444\\u0443\\u043d\\u043a\\u0446\\u0438\\u044e \\u0430\\u0432\\u0442\\u043e\\u0441\\u043e\\u0445\\u0440\\u0430\\u043d\\u0435\\u043d\\u0438\\u044f.\\u041f\\u043e\\u043b\\u0435 \\u00ab\\u0418\\u043d\\u0442\\u0435\\u0440\\u0432\\u0430\\u043b \\u0441\\u043e\\u0445\\u0440\\u0430\\u043d\\u0435\\u043d\\u0438\\u044f\\u00bb \\u0437\\u0430\\u0434\\u0430\\u0435\\u0442 \\u0438\\u043d\\u0442\\u0435\\u0440\\u0432\\u0430\\u043b \\u0430\\u0432\\u0442\\u043e\\u043c\\u0430\\u0442\\u0438\\u0447\\u0435\\u0441\\u043a\\u043e\\u0433\\u043e \\u0441\\u043e\\u0445\\u0440\\u0430\\u043d\\u0435\\u043d\\u0438\\u044f \\u0432 \\u043c\\u0438\\u043d\\u0443\\u0442\\u0430\\u0445.\\u0424\\u043b\\u0430\\u0433 \\u00ab\\u0421\\u043e\\u0445\\u0440\\u0430\\u043d\\u044f\\u0442\\u044c \\u043a\\u0430\\u0436\\u0434\\u0443\\u044e \\u043a\\u043e\\u043f\\u0438\\u044e \\u0432 \\u043e\\u0442\\u0434\\u0435\\u043b\\u044c\\u043d\\u044b\\u0439 \\u0444\\u0430\\u0439\\u043b\\u00bb \\u043f\\u043e\\u0437\\u0432\\u043e\\u043b\\u044f\\u0435\\u0442 \\u0441\\u043e\\u0437\\u0434\\u0430\\u0432\\u0430\\u0442\\u044c \\u0434\\u043b\\u044f \\u043a\\u0430\\u0436\\u0434\\u043e\\u0439 \\u043a\\u043e\\u043f\\u0438\\u0438 \\u043e\\u0442\\u0434\\u0435\\u043b\\u044c\\u043d\\u044b\\u0439 \\u0434\\u043e\\u043a\\u0443\\u043c\\u0435\\u043d\\u0442. \\u0424\\u043b\\u0430\\u0433 \\u043c\\u043e\\u0436\\u0435\\u0442 \\u0431\\u044b\\u0442\\u044c \\u043f\\u043e\\u043b\\u0435\\u0437\\u0435\\u043d, \\u0435\\u0441\\u043b\\u0438 \\u043d\\u0435\\u043e\\u0431\\u0445\\u043e\\u0434\\u0438\\u043c\\u043e \\u0438\\u0437\\u0431\\u0435\\u0436\\u0430\\u0442\\u044c \\u043f\\u0435\\u0440\\u0435\\u0437\\u0430\\u043f\\u0438\\u0441\\u0438 \\u043a\\u043e\\u0440\\u0440\\u0435\\u043a\\u0442\\u043d\\u043e\\u0439 \\u0432\\u0435\\u0440\\u0441\\u0438\\u0438 \\u0444\\u0430\\u0439\\u043b\\u0430 \\u0432\\u0435\\u0440\\u0441\\u0438\\u0435\\u0439 \\u0441 \\u043e\\u0448\\u0438\\u0431\\u043a\\u043e\\u0439.\"\n        ],\n        \"semantic_type\": \"\",\n        \"description\": \"\"\n      }\n    },\n    {\n      \"column\": \"CleanText\",\n      \"properties\": {\n        \"dtype\": \"string\",\n        \"num_unique_values\": 22,\n        \"samples\": [\n          \"\\u041f\\u0440\\u043e\\u0433\\u0440\\u0430\\u043c\\u043c\\u043d\\u044b\\u0439 \\u043c\\u043e\\u0434\\u0443\\u043b\\u044c CAD \\u0440\\u0430\\u0437\\u0440\\u0430\\u0431\\u043e\\u0442\\u0430\\u043d \\u043d\\u0430 \\u0431\\u0430\\u0437\\u0435 \\u0438\\u043d\\u0442\\u0435\\u0433\\u0440\\u0438\\u0440\\u043e\\u0432\\u0430\\u043d\\u043d\\u043e\\u0439 \\u0438\\u043d\\u0436\\u0435\\u043d\\u0435\\u0440\\u043d\\u043e\\u0439 \\u043f\\u0440\\u043e\\u0433\\u0440\\u0430\\u043c\\u043c\\u043d\\u043e\\u0439 \\u043f\\u043b\\u0430\\u0442\\u0444\\u043e\\u0440\\u043c\\u044b \\u0438 \\u043f\\u0440\\u043e\\u0433\\u0440\\u0430\\u043c\\u043c\\u043d\\u043e-\\u043c\\u0430\\u0442\\u0435\\u043c\\u0430\\u0442\\u0438\\u0447\\u0435\\u0441\\u043a\\u043e\\u0433\\u043e \\u044f\\u0434\\u0440\\u0430 \\u0442\\u0440\\u0435\\u0445\\u043c\\u0435\\u0440\\u043d\\u043e\\u0433\\u043e \\u043c\\u043e\\u0434\\u0435\\u043b\\u0438\\u0440\\u043e\\u0432\\u0430\\u043d\\u0438\\u044f RGK. \\u0424\\u0443\\u043d\\u043a\\u0446\\u0438\\u043e\\u043d\\u0430\\u043b\\u044c\\u043d\\u043e\\u0435 \\u043d\\u0430\\u0437\\u043d\\u0430\\u0447\\u0435\\u043d\\u0438\\u0435 \\u043f\\u0440\\u043e\\u0433\\u0440\\u0430\\u043c\\u043c\\u043d\\u043e\\u0433\\u043e \\u043c\\u043e\\u0434\\u0443\\u043b\\u044f CAD: \\u0441\\u043e\\u0437\\u0434\\u0430\\u043d\\u0438\\u0435 \\u0438 \\u0440\\u0435\\u0434\\u0430\\u043a\\u0442\\u0438\\u0440\\u043e\\u0432\\u0430\\u043d\\u0438\\u0435 \\u0433\\u0435\\u043e\\u043c\\u0435\\u0442\\u0440\\u0438\\u0447\\u0435\\u0441\\u043a\\u043e\\u0439 \\u043c\\u043e\\u0434\\u0435\\u043b\\u0438 \\u043e\\u0431\\u044a\\u0435\\u043a\\u0442\\u043e\\u0432 \\u043f\\u0440\\u043e\\u0435\\u043a\\u0442\\u0438\\u0440\\u043e\\u0432\\u0430\\u043d\\u0438\\u044f, \\u0432\\u043a\\u043b\\u044e\\u0447\\u0430\\u044f 3D- \\u0438 2D-\\u043f\\u0440\\u0435\\u0434\\u0441\\u0442\\u0430\\u0432\\u043b\\u0435\\u043d\\u0438\\u044f; \\u0437\\u0430\\u0434\\u0430\\u043d\\u0438\\u0435 \\u0430\\u0442\\u0440\\u0438\\u0431\\u0443\\u0442\\u0438\\u0432\\u043d\\u043e\\u0439 \\u0438\\u043d\\u0444\\u043e\\u0440\\u043c\\u0430\\u0446\\u0438\\u0438, \\u0441\\u0432\\u044f\\u0437\\u0430\\u043d\\u043d\\u043e\\u0439 \\u0441 \\u0442\\u043e\\u0447\\u043d\\u043e\\u0441\\u0442\\u043d\\u044b\\u043c\\u0438, \\u0440\\u0430\\u0437\\u043c\\u0435\\u0440\\u043d\\u044b\\u043c\\u0438, \\u0442\\u0435\\u0445\\u043d\\u043e\\u043b\\u043e\\u0433\\u0438\\u0447\\u0435\\u0441\\u043a\\u0438\\u043c\\u0438 \\u043f\\u0430\\u0440\\u0430\\u043c\\u0435\\u0442\\u0440\\u0430\\u043c\\u0438 \\u043e\\u0431\\u044a\\u0435\\u043a\\u0442\\u043e\\u0432 \\u043f\\u0440\\u043e\\u0435\\u043a\\u0442\\u0438\\u0440\\u043e\\u0432\\u0430\\u043d\\u0438\\u044f (PMI); \\u043e\\u0444\\u043e\\u0440\\u043c\\u043b\\u0435\\u043d\\u0438\\u0435 \\u0433\\u0440\\u0430\\u0444\\u0438\\u0447\\u0435\\u0441\\u043a\\u043e\\u0439 \\u0434\\u043e\\u043a\\u0443\\u043c\\u0435\\u043d\\u0442\\u0430\\u0446\\u0438\\u0438 \\u0432 \\u0441\\u043e\\u043e\\u0442\\u0432\\u0435\\u0442\\u0441\\u0442\\u0432\\u0438\\u0438 \\u0441 \\u0442\\u0440\\u0435\\u0431\\u043e\\u0432\\u0430\\u043d\\u0438\\u044f\\u043c\\u0438 \\u0441\\u0442\\u0430\\u043d\\u0434\\u0430\\u0440\\u0442\\u043e\\u0432 (\\u0415\\u0421\\u041a\\u0414); \\u0432\\u0438\\u0437\\u0443\\u0430\\u043b\\u0438\\u0437\\u0430\\u0446\\u0438\\u044f \\u043e\\u0431\\u044a\\u0435\\u043a\\u0442\\u043e\\u0432 \\u043f\\u0440\\u043e\\u0435\\u043a\\u0442\\u0438\\u0440\\u043e\\u0432\\u0430\\u043d\\u0438\\u044f \\u0441 \\u0440\\u0430\\u0437\\u043b\\u0438\\u0447\\u043d\\u044b\\u043c\\u0438 \\u043f\\u0430\\u0440\\u0430\\u043c\\u0435\\u0442\\u0440\\u0430\\u043c\\u0438 \\u043e\\u0442\\u043e\\u0431\\u0440\\u0430\\u0436\\u0435\\u043d\\u0438\\u044f.\",\n          \"\\u041e\\u0434\\u043d\\u0438\\u043c \\u0438\\u0437 \\u043e\\u0441\\u043d\\u043e\\u0432\\u043d\\u044b\\u0445 \\u044d\\u043b\\u0435\\u043c\\u0435\\u043d\\u0442\\u043e\\u0432 \\u043f\\u043e\\u043b\\u044c\\u0437\\u043e\\u0432\\u0430\\u0442\\u0435\\u043b\\u044c\\u0441\\u043a\\u043e\\u0433\\u043e \\u0438\\u043d\\u0442\\u0435\\u0440\\u0444\\u0435\\u0439\\u0441\\u0430 \\u044f\\u0432\\u043b\\u044f\\u0435\\u0442\\u0441\\u044f \\u0441\\u0442\\u0440\\u0443\\u043a\\u0442\\u0443\\u0440\\u0438\\u0440\\u043e\\u0432\\u0430\\u043d\\u043d\\u0430\\u044f \\u0438\\u0435\\u0440\\u0430\\u0440\\u0445\\u0438\\u0447\\u0435\\u0441\\u043a\\u0430\\u044f \\u043f\\u0430\\u043d\\u0435\\u043b\\u044c \\u0438\\u043d\\u0441\\u0442\\u0440\\u0443\\u043c\\u0435\\u043d\\u0442\\u043e\\u0432 \\u00ab\\u041b\\u0435\\u043d\\u0442\\u0430\\u00bb, \\u043e\\u0431\\u043b\\u0430\\u0434\\u0430\\u044e\\u0449\\u0430\\u044f \\u0432\\u044b\\u0441\\u043e\\u043a\\u043e\\u0439 \\u0441\\u0442\\u0435\\u043f\\u0435\\u043d\\u044c\\u044e \\u043d\\u0430\\u0433\\u043b\\u044f\\u0434\\u043d\\u043e\\u0441\\u0442\\u0438 \\u0438 \\u0434\\u043e\\u0441\\u0442\\u0443\\u043f\\u043d\\u043e\\u0441\\u0442\\u0438 \\u043e\\u0441\\u043d\\u043e\\u0432\\u043d\\u044b\\u0445 \\u043a\\u043e\\u043c\\u0430\\u043d\\u0434. \\u041f\\u0430\\u043d\\u0435\\u043b\\u044c \\u00ab\\u041b\\u0435\\u043d\\u0442\\u0430\\u00bb \\u043f\\u0440\\u0435\\u0434\\u0441\\u0442\\u0430\\u0432\\u043b\\u044f\\u0435\\u0442 \\u0441\\u043e\\u0431\\u043e\\u0439 \\u0440\\u044f\\u0434 \\u0437\\u0430\\u043a\\u043b\\u0430\\u0434\\u043e\\u043a \\u0441 \\u043d\\u0430\\u0431\\u043e\\u0440\\u043e\\u043c \\u043e\\u0441\\u043d\\u043e\\u0432\\u043d\\u044b\\u0445 \\u0438 \\u0432\\u0441\\u043f\\u043e\\u043c\\u043e\\u0433\\u0430\\u0442\\u0435\\u043b\\u044c\\u043d\\u044b\\u0445 \\u043a\\u043e\\u043c\\u0430\\u043d\\u0434, \\u0430 \\u0442\\u0430\\u043a\\u0436\\u0435 \\u0438\\u043d\\u0442\\u0435\\u0433\\u0440\\u0438\\u0440\\u043e\\u0432\\u0430\\u043d\\u043d\\u044b\\u0445 \\u043f\\u0440\\u043e\\u0433\\u0440\\u0430\\u043c\\u043c\\u043d\\u044b\\u0445 \\u043a\\u043e\\u043c\\u043f\\u043e\\u043d\\u0435\\u043d\\u0442\\u043e\\u0432, \\u0447\\u0442\\u043e \\u043f\\u043e\\u0437\\u0432\\u043e\\u043b\\u044f\\u0435\\u0442 \\u043c\\u0430\\u043a\\u0441\\u0438\\u043c\\u0430\\u043b\\u044c\\u043d\\u043e \\u0431\\u044b\\u0441\\u0442\\u0440\\u043e \\u043f\\u043e\\u043b\\u0443\\u0447\\u0438\\u0442\\u044c \\u0434\\u043e\\u0441\\u0442\\u0443\\u043f \\u043a \\u043d\\u0430\\u0438\\u0431\\u043e\\u043b\\u0435\\u0435 \\u0447\\u0430\\u0441\\u0442\\u043e \\u0438\\u0441\\u043f\\u043e\\u043b\\u044c\\u0437\\u0443\\u0435\\u043c\\u044b\\u043c \\u043a\\u043e\\u043c\\u0430\\u043d\\u0434\\u0430\\u043c. \\u041f\\u0435\\u0440\\u0435\\u0447\\u0435\\u043d\\u044c \\u0434\\u043e\\u0441\\u0442\\u0443\\u043f\\u043d\\u044b\\u0445 \\u043a\\u043e\\u043c\\u0430\\u043d\\u0434 \\u043e\\u043f\\u0440\\u0435\\u0434\\u0435\\u043b\\u044f\\u0435\\u0442\\u0441\\u044f \\u043a\\u043e\\u043d\\u0442\\u0435\\u043a\\u0441\\u0442\\u043e\\u043c \\u0430\\u043a\\u0442\\u0438\\u0432\\u043d\\u043e\\u0433\\u043e \\u0434\\u043e\\u043a\\u0443\\u043c\\u0435\\u043d\\u0442\\u0430, \\u0430\\u043a\\u0442\\u0438\\u0432\\u043d\\u043e\\u0433\\u043e \\u043e\\u0431\\u044a\\u0435\\u043a\\u0442\\u0430 \\u043b\\u0438\\u0431\\u043e \\u0430\\u043a\\u0442\\u0438\\u0432\\u043d\\u043e\\u0433\\u043e \\u043f\\u0440\\u043e\\u0433\\u0440\\u0430\\u043c\\u043c\\u043d\\u043e\\u0433\\u043e \\u043c\\u043e\\u0434\\u0443\\u043b\\u044f. \\u041d\\u0430 \\u043a\\u0430\\u0436\\u0434\\u043e\\u0439 \\u0437\\u0430\\u043a\\u043b\\u0430\\u0434\\u043a\\u0435 \\u043a\\u043e\\u043c\\u0430\\u043d\\u0434\\u044b \\u0440\\u0430\\u0437\\u0431\\u0438\\u0442\\u044b \\u043f\\u043e \\u0441\\u043c\\u044b\\u0441\\u043b\\u043e\\u0432\\u044b\\u043c \\u0433\\u0440\\u0443\\u043f\\u043f\\u0430\\u043c. \\u0412 \\u0446\\u0435\\u043b\\u044f\\u0445 \\u044d\\u043a\\u043e\\u043d\\u043e\\u043c\\u0438\\u0438 \\u0440\\u0430\\u0431\\u043e\\u0447\\u0435\\u0433\\u043e \\u043f\\u0440\\u043e\\u0441\\u0442\\u0440\\u0430\\u043d\\u0441\\u0442\\u0432\\u0430 \\u043f\\u0440\\u043e\\u0433\\u0440\\u0430\\u043c\\u043c\\u043d\\u043e\\u0433\\u043e \\u043c\\u043e\\u0434\\u0443\\u043b\\u044f CAD \\u0434\\u043e\\u043f\\u0443\\u0441\\u043a\\u0430\\u0435\\u0442\\u0441\\u044f \\u043c\\u0438\\u043d\\u0438\\u043c\\u0438\\u0437\\u0438\\u0440\\u043e\\u0432\\u0430\\u0442\\u044c \\u043f\\u0430\\u043d\\u0435\\u043b\\u044c \\u00ab\\u041b\\u0435\\u043d\\u0442\\u0430\\u00bb. \\u0414\\u043b\\u044f \\u044d\\u0442\\u043e\\u0433\\u043e \\u043d\\u0435\\u043e\\u0431\\u0445\\u043e\\u0434\\u0438\\u043c\\u043e \\u0432\\u044b\\u0437\\u0432\\u0430\\u0442\\u044c \\u043a\\u043e\\u043d\\u0442\\u0435\\u043a\\u0441\\u0442\\u043d\\u043e\\u0435 \\u043c\\u0435\\u043d\\u044e \\u0432 \\u0435\\u0451 \\u043e\\u0431\\u043b\\u0430\\u0441\\u0442\\u0438 \\u0441 \\u043f\\u043e\\u0441\\u043b\\u0435\\u0434\\u0443\\u044e\\u0449\\u0438\\u043c \\u0432\\u044b\\u0431\\u043e\\u0440\\u043e\\u043c \\u043f\\u0443\\u043d\\u043a\\u0442\\u0430 \\u00ab\\u041c\\u0438\\u043d\\u0438\\u043c\\u0438\\u0437\\u0438\\u0440\\u043e\\u0432\\u0430\\u0442\\u044c \\u041b\\u0435\\u043d\\u0442\\u0443\\u00bb \\u043b\\u0438\\u0431\\u043e \\u0432\\u043e\\u0441\\u043f\\u043e\\u043b\\u044c\\u0437\\u043e\\u0432\\u0430\\u0442\\u044c\\u0441\\u044f \\u043a\\u043d\\u043e\\u043f\\u043a\\u043e\\u0439, \\u0440\\u0430\\u0441\\u043f\\u043e\\u043b\\u043e\\u0436\\u0435\\u043d\\u043d\\u043e\\u0439 \\u0432 \\u043f\\u0440\\u0430\\u0432\\u043e\\u043c \\u0432\\u0435\\u0440\\u0445\\u043d\\u0435\\u043c \\u0443\\u0433\\u043b\\u0443 \\u043f\\u0430\\u043d\\u0435\\u043b\\u0438. \\u0412 \\u0440\\u0435\\u0437\\u0443\\u043b\\u044c\\u0442\\u0430\\u0442\\u0435 \\u0431\\u0443\\u0434\\u0443\\u0442 \\u043e\\u0442\\u043e\\u0431\\u0440\\u0430\\u0436\\u0435\\u043d\\u044b \\u0442\\u043e\\u043b\\u044c\\u043a\\u043e \\u0432\\u043a\\u043b\\u0430\\u0434\\u043a\\u0438 \\u043f\\u0430\\u043d\\u0435\\u043b\\u0438, \\u043f\\u0440\\u0438 \\u0430\\u043a\\u0442\\u0438\\u0432\\u0430\\u0446\\u0438\\u0438 \\u043a\\u043e\\u0442\\u043e\\u0440\\u044b\\u0445 \\u0431\\u0443\\u0434\\u0435\\u0442 \\u0440\\u0430\\u0441\\u043a\\u0440\\u044b\\u0432\\u0430\\u0442\\u044c\\u0441\\u044f \\u0438\\u0445 \\u0441\\u043e\\u0434\\u0435\\u0440\\u0436\\u0438\\u043c\\u043e\\u0435 (\\u0440\\u0438\\u0441\\u0443\\u043d\\u043e\\u043a). \\u041f\\u0430\\u043d\\u0435\\u043b\\u044c \\u00ab\\u041b\\u0435\\u043d\\u0442\\u0430\\u00bb (\\u0440\\u0438\\u0441\\u0443\\u043d\\u043e\\u043a)\",\n          \"\\u0421\\u0438\\u0441\\u0442\\u0435\\u043c\\u0430 \\u0440\\u0435\\u0433\\u0438\\u0441\\u0442\\u0440\\u0438\\u0440\\u0443\\u0435\\u0442 \\u0432\\u0441\\u0435 \\u0434\\u0435\\u0439\\u0441\\u0442\\u0432\\u0438\\u044f \\u043f\\u043e \\u0438\\u0437\\u043c\\u0435\\u043d\\u0435\\u043d\\u0438\\u044e \\u0441\\u043e\\u0441\\u0442\\u0430\\u0432\\u0430, \\u043f\\u0430\\u0440\\u0430\\u043c\\u0435\\u0442\\u0440\\u043e\\u0432 \\u0438 \\u0441\\u0432\\u044f\\u0437\\u0435\\u0439 \\u043e\\u0431\\u044a\\u0435\\u043a\\u0442\\u043e\\u0432 \\u043c\\u043e\\u0434\\u0435\\u043b\\u0438. \\u042d\\u0442\\u043e \\u043f\\u043e\\u0437\\u0432\\u043e\\u043b\\u044f\\u0435\\u0442 \\u0432\\u0435\\u0441\\u0442\\u0438 \\u0438\\u0441\\u0442\\u043e\\u0440\\u0438\\u044e \\u0434\\u043e\\u043a\\u0443\\u043c\\u0435\\u043d\\u0442\\u0430 \\u0438 \\u043f\\u0440\\u043e\\u0442\\u043e\\u043a\\u043e\\u043b\\u0438\\u0440\\u043e\\u0432\\u0430\\u0442\\u044c \\u0438\\u0437\\u043c\\u0435\\u043d\\u0435\\u043d\\u0438\\u044f \\u0441 \\u0446\\u0435\\u043b\\u044c\\u044e \\u0438\\u0445 \\u043e\\u0442\\u043c\\u0435\\u043d\\u044b \\u0438\\u043b\\u0438 \\u0432\\u043e\\u0437\\u0432\\u0440\\u0430\\u0442\\u0430. \\u0418\\u043d\\u0444\\u043e\\u0440\\u043c\\u0430\\u0446\\u0438\\u044f \\u043e\\u0431 \\u0438\\u0441\\u0442\\u043e\\u0440\\u0438\\u0438 \\u0434\\u043e\\u043a\\u0443\\u043c\\u0435\\u043d\\u0442\\u0430 \\u043c\\u043e\\u0436\\u0435\\u0442 \\u0431\\u044b\\u0442\\u044c \\u043f\\u043e\\u043b\\u0443\\u0447\\u0435\\u043d\\u0430 \\u0438\\u0437 \\u043e\\u043a\\u043d\\u0430 \\u00ab\\u0418\\u0441\\u0442\\u043e\\u0440\\u0438\\u044f \\u0434\\u043e\\u043a\\u0443\\u043c\\u0435\\u043d\\u0442\\u0430\\u00bb (\\u0440\\u0438\\u0441. \\u0420\\u0438\\u0441\\u0443\\u043d\\u043e\\u043a), \\u043a\\u043e\\u0442\\u043e\\u0440\\u043e\\u0435 \\u0432\\u044b\\u0437\\u044b\\u0432\\u0430\\u0435\\u0442\\u0441\\u044f \\u0438\\u0437 \\u043c\\u0435\\u043d\\u044e \\u00ab\\u0424\\u0430\\u0439\\u043b\\u00bb. \\u041e\\u043a\\u043d\\u043e \\u00ab\\u0418\\u0441\\u0442\\u043e\\u0440\\u0438\\u044f \\u0434\\u043e\\u043a\\u0443\\u043c\\u0435\\u043d\\u0442\\u0430\\u00bb (\\u0440\\u0438\\u0441. \\u0420\\u0438\\u0441\\u0443\\u043d\\u043e\\u043a). \\u041e\\u043a\\u043d\\u043e \\u0441\\u043e\\u0434\\u0435\\u0440\\u0436\\u0438\\u0442 \\u0441\\u043b\\u0435\\u0434\\u0443\\u044e\\u0449\\u0438\\u0435 \\u0434\\u0430\\u043d\\u043d\\u044b\\u0435: \\u0434\\u0430\\u0442\\u0430 \\u0438 \\u0432\\u0440\\u0435\\u043c\\u044f \\u0441\\u043e\\u0437\\u0434\\u0430\\u043d\\u0438\\u044f \\u0434\\u043e\\u043a\\u0443\\u043c\\u0435\\u043d\\u0442\\u0430; \\u0434\\u0430\\u0442\\u0430 \\u0438 \\u0432\\u0440\\u0435\\u043c\\u044f \\u043f\\u043e\\u0441\\u043b\\u0435\\u0434\\u043d\\u0435\\u0433\\u043e \\u0441\\u043e\\u0445\\u0440\\u0430\\u043d\\u0435\\u043d\\u0438\\u044f \\u0434\\u043e\\u043a\\u0443\\u043c\\u0435\\u043d\\u0442\\u0430; \\u043a\\u043e\\u043d\\u0444\\u0438\\u0433\\u0443\\u0440\\u0430\\u0446\\u0438\\u044f \\u043f\\u0440\\u043e\\u0433\\u0440\\u0430\\u043c\\u043c\\u043d\\u043e\\u0433\\u043e \\u043c\\u043e\\u0434\\u0443\\u043b\\u044f CAD, \\u0432 \\u043a\\u043e\\u0442\\u043e\\u0440\\u043e\\u0439 \\u043f\\u0440\\u043e\\u0438\\u0437\\u0432\\u0435\\u0434\\u0435\\u043d\\u043e \\u043f\\u043e\\u0441\\u043b\\u0435\\u0434\\u043d\\u0435\\u0435 \\u0441\\u043e\\u0445\\u0440\\u0430\\u043d\\u0435\\u043d\\u0438\\u0435 \\u0434\\u043e\\u043a\\u0443\\u043c\\u0435\\u043d\\u0442\\u0430; \\u0434\\u0430\\u043d\\u043d\\u044b\\u0435 \\u043e \\u043f\\u043e\\u043b\\u044c\\u0437\\u043e\\u0432\\u0430\\u0442\\u0435\\u043b\\u0435; \\u0432\\u0435\\u0440\\u0441\\u0438\\u044f \\u0441\\u0438\\u0441\\u0442\\u0435\\u043c\\u044b, \\u0432 \\u043a\\u043e\\u0442\\u043e\\u0440\\u043e\\u0439 \\u0440\\u0435\\u0434\\u0430\\u043a\\u0442\\u0438\\u0440\\u043e\\u0432\\u0430\\u043b\\u0441\\u044f \\u0434\\u043e\\u043a\\u0443\\u043c\\u0435\\u043d\\u0442 \\u0432 \\u0434\\u0430\\u043d\\u043d\\u043e\\u0439 \\u0441\\u0435\\u0441\\u0441\\u0438\\u0438; \\u0438\\u0434\\u0435\\u043d\\u0442\\u0438\\u0444\\u0438\\u043a\\u0430\\u0442\\u043e\\u0440 \\u0441\\u0435\\u0441\\u0441\\u0438\\u0438 \\u0434\\u043e\\u043a\\u0443\\u043c\\u0435\\u043d\\u0442\\u0430. \\u041d\\u043e\\u043c\\u0435\\u0440 \\u0441\\u0435\\u0441\\u0441\\u0438\\u0439 \\u0441\\u043e\\u0437\\u0434\\u0430\\u043d\\u0438\\u044f \\u0438 \\u043f\\u043e\\u0441\\u043b\\u0435\\u0434\\u043d\\u0435\\u0433\\u043e \\u0440\\u0435\\u0434\\u0430\\u043a\\u0442\\u0438\\u0440\\u043e\\u0432\\u0430\\u043d\\u0438\\u044f \\u043e\\u0431\\u044a\\u0435\\u043a\\u0442\\u043e\\u0432 \\u0442\\u0430\\u043a\\u0436\\u0435 \\u043e\\u0442\\u043e\\u0431\\u0440\\u0430\\u0436\\u0430\\u0435\\u0442\\u0441\\u044f \\u0432 \\u043e\\u043a\\u043d\\u0435 \\u00ab\\u0421\\u0432\\u043e\\u0439\\u0441\\u0442\\u0432\\u0430 \\u0434\\u043e\\u043a\\u0443\\u043c\\u0435\\u043d\\u0442\\u0430\\u00bb \\u0432 \\u0440\\u0430\\u0437\\u0434\\u0435\\u043b\\u0435 \\u00ab\\u0421\\u0438\\u0441\\u0442\\u0435\\u043c\\u043d\\u044b\\u0435 \\u0441\\u0432\\u043e\\u0439\\u0441\\u0442\\u0432\\u0430\\u00bb. \\u041a\\u043d\\u043e\\u043f\\u043a\\u0438 \\u00ab\\u041f\\u043e\\u043a\\u0430\\u0437\\u0430\\u0442\\u044c \\u0441\\u043e\\u0437\\u0434\\u0430\\u043d\\u043d\\u044b\\u0435 \\u043e\\u0431\\u044a\\u0435\\u043a\\u0442\\u044b\\u00bb \\u0438 \\u00ab\\u041f\\u043e\\u043a\\u0430\\u0437\\u0430\\u0442\\u044c \\u043e\\u0442\\u0440\\u0435\\u0434\\u0430\\u043a\\u0442\\u0438\\u0440\\u043e\\u0432\\u0430\\u043d\\u043d\\u044b\\u0435 \\u043e\\u0431\\u044a\\u0435\\u043a\\u0442\\u044b\\u00bb \\u043c\\u0430\\u0440\\u043a\\u0438\\u0440\\u0443\\u044e\\u0442 \\u0432 3D-\\u0441\\u0446\\u0435\\u043d\\u0435 \\u0441\\u043e\\u043e\\u0442\\u0432\\u0435\\u0442\\u0441\\u0442\\u0432\\u0443\\u044e\\u0449\\u0438\\u0435 \\u0432\\u044b\\u0431\\u0440\\u0430\\u043d\\u043d\\u043e\\u043c\\u0443 \\u0441\\u0435\\u0430\\u043d\\u0441\\u0443 \\u044d\\u043b\\u0435\\u043c\\u0435\\u043d\\u0442\\u044b \\u043c\\u043e\\u0434\\u0435\\u043b\\u0438.\"\n        ],\n        \"semantic_type\": \"\",\n        \"description\": \"\"\n      }\n    }\n  ]\n}"
            }
          },
          "metadata": {},
          "execution_count": 92
        }
      ]
    },
    {
      "cell_type": "code",
      "source": [
        "data.to_csv(\"parsed.csv\", index=False)"
      ],
      "metadata": {
        "id": "qObPJBaAMADU"
      },
      "execution_count": null,
      "outputs": []
    },
    {
      "cell_type": "code",
      "source": [],
      "metadata": {
        "id": "hUk42YlzX4o7"
      },
      "execution_count": null,
      "outputs": []
    }
  ]
}