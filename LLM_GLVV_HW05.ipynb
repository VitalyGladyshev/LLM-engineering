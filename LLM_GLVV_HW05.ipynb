{
  "cells": [
    {
      "cell_type": "markdown",
      "metadata": {
        "id": "view-in-github",
        "colab_type": "text"
      },
      "source": [
        "<a href=\"https://colab.research.google.com/github/VitalyGladyshev/LLM-engineering/blob/main/LLM_GLVV_HW05.ipynb\" target=\"_parent\"><img src=\"https://colab.research.google.com/assets/colab-badge.svg\" alt=\"Open In Colab\"/></a>"
      ]
    },
    {
      "cell_type": "markdown",
      "metadata": {
        "id": "WgT6sEzCz-xi"
      },
      "source": [
        "# Уменьшение размеров модели"
      ]
    },
    {
      "cell_type": "markdown",
      "metadata": {
        "id": "pfNPvGyC-oiq"
      },
      "source": [
        "Эксперименты будут проводиться с моделью Gemma3 4b"
      ]
    },
    {
      "cell_type": "code",
      "execution_count": null,
      "metadata": {
        "id": "fG4P3D7wzd3e"
      },
      "outputs": [],
      "source": [
        "#pip install -q -U transformers accelerate bitsandbytes"
      ]
    },
    {
      "cell_type": "code",
      "execution_count": null,
      "metadata": {
        "id": "1gLvtDGq_trR"
      },
      "outputs": [],
      "source": [
        "#pip install -q -U torch"
      ]
    },
    {
      "cell_type": "code",
      "execution_count": null,
      "metadata": {
        "id": "pJ3Hb96R_2VW"
      },
      "outputs": [],
      "source": [
        "import pandas as pd\n",
        "from typing import Literal, Optional, List\n",
        "import time\n",
        "import gc\n",
        "\n",
        "import torch\n",
        "import torch.nn.functional as F\n",
        "import torch.profiler as profiler\n",
        "from torch.profiler import profile, ProfilerActivity, record_function, tensorboard_trace_handler\n",
        "import tensorboard\n",
        "\n",
        "from transformers import AutoModelForCausalLM, AutoTokenizer, BitsAndBytesConfig, set_seed\n",
        "\n",
        "set_seed(42)"
      ]
    },
    {
      "cell_type": "code",
      "execution_count": null,
      "metadata": {
        "id": "wZTQO_mhnm_A",
        "outputId": "af129ece-523f-439c-8281-b2573e6045fa"
      },
      "outputs": [
        {
          "name": "stdout",
          "output_type": "stream",
          "text": [
            "PyTorch: 2.6.0+cu126 | CUDA available: True\n",
            "GPU: NVIDIA GeForce RTX 3090 Ti, VRAM: 24.0 GB\n"
          ]
        }
      ],
      "source": [
        "print(f\"PyTorch: {torch.__version__} | CUDA available: {torch.cuda.is_available()}\")\n",
        "if torch.cuda.is_available():\n",
        "    dev = torch.cuda.get_device_name(0)\n",
        "    mem_total = torch.cuda.get_device_properties(0).total_memory / (1024**3)\n",
        "    print(f\"GPU: {dev}, VRAM: {mem_total:.1f} GB\")"
      ]
    },
    {
      "cell_type": "markdown",
      "metadata": {
        "id": "vRJqffv__7sS"
      },
      "source": [
        "## Базовый проход для полной модели"
      ]
    },
    {
      "cell_type": "code",
      "execution_count": null,
      "metadata": {
        "id": "Wy_xG0CEACgp"
      },
      "outputs": [],
      "source": [
        "class LLM:\n",
        "    \"\"\"\n",
        "    Универсальный класс для загрузки и использования больших языковых моделей (LLM).\n",
        "    Поддерживает полную и квантованную загрузку через Hugging Face Transformers.\n",
        "    \"\"\"\n",
        "\n",
        "    def __init__(self,\n",
        "                 model_name: str,\n",
        "                 load_type: Literal['full', 'quantized'] = 'full',\n",
        "                 quant_type: Optional[Literal['nf4', 'fp4']] = None):\n",
        "        \"\"\"\n",
        "        Инициализация LLM\n",
        "\n",
        "        Args:\n",
        "            model_name (str): Идентификатор модели на Hugging Face Hub.\n",
        "            load_type (str): 'full' для полной версии, 'quantized' для 4-битной квантованной.\n",
        "            quant_type (str, optional): 'nf4' или 'fp4'. Требуется при load_type='quantized'.\n",
        "        \"\"\"\n",
        "        self.model_name = model_name\n",
        "        self.load_type = load_type\n",
        "        self.quant_type = quant_type\n",
        "        self.device = \"cuda\" if torch.cuda.is_available() else \"cpu\"\n",
        "\n",
        "        # Валидация аргументов\n",
        "        if load_type == 'quantized' and quant_type is None:\n",
        "            raise ValueError(\"Для квантованной загрузки необходимо указать quant_type ('nf4' или 'fp4')\")\n",
        "\n",
        "        # Конфигурация квантования\n",
        "        quantization_config = None\n",
        "        if load_type == 'quantized':\n",
        "            quantization_config = BitsAndBytesConfig(\n",
        "                load_in_4bit=True,\n",
        "                bnb_4bit_quant_type=quant_type,\n",
        "                bnb_4bit_use_double_quant=True,\n",
        "                bnb_4bit_compute_dtype=torch.bfloat16\n",
        "            )\n",
        "\n",
        "        # Загрузка токенизатора\n",
        "        self.tokenizer = AutoTokenizer.from_pretrained(model_name)\n",
        "        if self.tokenizer.pad_token is None:\n",
        "            self.tokenizer.pad_token = self.tokenizer.eos_token\n",
        "\n",
        "        # Загрузка модели\n",
        "        if load_type == 'full':\n",
        "            self.model = AutoModelForCausalLM.from_pretrained(\n",
        "                model_name,\n",
        "                dtype=torch.bfloat16,\n",
        "                device_map=\"auto\" if self.device == \"cuda\" else None,\n",
        "            )\n",
        "        else:  # quantized\n",
        "            self.model = AutoModelForCausalLM.from_pretrained(\n",
        "                model_name,\n",
        "                quantization_config=quantization_config,\n",
        "                device_map=\"auto\",\n",
        "                dtype=torch.bfloat16,\n",
        "            )\n",
        "\n",
        "        self.model.eval()  # Переключение в режим inference\n",
        "\n",
        "    def tokenize(self, prompt: str) -> dict:\n",
        "        \"\"\"Токенизация промта с возвращением inputs.\"\"\"\n",
        "        inputs = self.tokenizer(prompt, return_tensors=\"pt\").to(self.device)\n",
        "        return inputs\n",
        "\n",
        "    def generate_with_inputs(self, inputs: dict, max_tokens: int = 100) -> torch.Tensor:\n",
        "        \"\"\"\n",
        "        Генерация на основе уже токенизированных inputs\n",
        "        для измерения метрик производительности.\n",
        "        \"\"\"\n",
        "        with torch.no_grad():\n",
        "            output = self.model.generate(\n",
        "                **inputs,\n",
        "                max_new_tokens=max_tokens,\n",
        "                do_sample=False,\n",
        "                pad_token_id=self.tokenizer.eos_token_id\n",
        "            )\n",
        "        return output\n",
        "\n",
        "    def generate(self, prompt: str, max_tokens: int = 100) -> str:\n",
        "        \"\"\"Генерация ответа на основе промта.\"\"\"\n",
        "        inputs = self.tokenize(prompt)\n",
        "        output = self.generate_with_inputs(inputs, max_tokens)\n",
        "        response_text = self.tokenizer.decode(output[0], skip_special_tokens=True)\n",
        "        return response_text\n",
        "\n",
        "    def profile_generation(self, inputs: dict, max_tokens: int, profiler_dir: str):\n",
        "        \"\"\"Выполняет генерацию с профилированием для анализа производительности.\"\"\"\n",
        "        with profile(\n",
        "            activities=[ProfilerActivity.CPU] +\n",
        "                     ([ProfilerActivity.CUDA] if torch.cuda.is_available() else []),\n",
        "            record_shapes=True,\n",
        "            profile_memory=True,\n",
        "            with_stack=True,\n",
        "            on_trace_ready=tensorboard_trace_handler(profiler_dir),\n",
        "        ) as prof:\n",
        "            # Prefill phase\n",
        "            with torch.no_grad():\n",
        "                out = self.model(**inputs, use_cache=True)\n",
        "                past_key_values = out.past_key_values\n",
        "                next_token = out.logits[:, -1, :].argmax(dim=-1, keepdim=True)\n",
        "\n",
        "            # Decode phases\n",
        "            for _ in range(max_tokens - 1):\n",
        "                with torch.no_grad():\n",
        "                    out = self.model(\n",
        "                        input_ids=next_token,\n",
        "                        past_key_values=past_key_values,\n",
        "                        use_cache=True\n",
        "                    )\n",
        "                    past_key_values = out.past_key_values\n",
        "                    next_token = out.logits[:, -1, :].argmax(dim=-1, keepdim=True)\n",
        "\n",
        "        print(prof.key_averages().table(\n",
        "            sort_by=\"self_cuda_time_total\" if torch.cuda.is_available() else \"self_cpu_time_total\",\n",
        "            row_limit=20\n",
        "        ))\n",
        "\n",
        "    def cleanup(self):\n",
        "        \"\"\"Освобождение памяти, занятой моделью\"\"\"\n",
        "        if hasattr(self, 'model'):\n",
        "            del self.model\n",
        "        if hasattr(self, 'tokenizer'):\n",
        "            del self.tokenizer\n",
        "\n",
        "        if torch.cuda.is_available():\n",
        "            torch.cuda.empty_cache()\n",
        "            torch.cuda.reset_peak_memory_stats()\n",
        "\n",
        "        gc.collect()"
      ]
    },
    {
      "cell_type": "code",
      "execution_count": null,
      "metadata": {
        "id": "8GTGshdIAgaE"
      },
      "outputs": [],
      "source": [
        "class Experiment:\n",
        "    \"\"\"\n",
        "    Класс экспериментов по измерению метрик производительности LLM.\n",
        "    \"\"\"\n",
        "\n",
        "    def __init__(self):\n",
        "        \"\"\"Инициализация эксперимента.\"\"\"\n",
        "        self.results_df = pd.DataFrame()\n",
        "\n",
        "    def measure_generation_metrics(self, model: LLM, prompt: str, max_tokens: int = 100) -> dict:\n",
        "        \"\"\"Измерение метрик генерации для данного промта.\"\"\"\n",
        "        # Токенизация промта\n",
        "        inputs = model.tokenize(prompt)\n",
        "        input_length = inputs['input_ids'].shape[1]\n",
        "\n",
        "        # Сброс статистики памяти\n",
        "        torch.cuda.reset_peak_memory_stats()\n",
        "\n",
        "        # Замер Time to First Token (TTFT)\n",
        "        start_time = time.time()\n",
        "        first_token_output = model.generate_with_inputs(inputs, max_tokens=1)\n",
        "        ttft = time.time() - start_time\n",
        "\n",
        "        # Замер полной генерации (E2E Latency)\n",
        "        start_time_full = time.time()\n",
        "        full_output = model.generate_with_inputs(inputs, max_tokens=max_tokens)\n",
        "        e2e_latency = time.time() - start_time_full\n",
        "\n",
        "        # Расчет метрик\n",
        "        generated_tokens = full_output[0, input_length:].numel()\n",
        "        generation_time = e2e_latency - ttft\n",
        "        tps = generated_tokens / generation_time if generation_time > 0 else 0\n",
        "\n",
        "        # Использование VRAM\n",
        "        vram_usage = torch.cuda.max_memory_allocated() / (1024 ** 3)  # в ГБ\n",
        "\n",
        "        # Декодирование ответа\n",
        "        response_text = model.tokenizer.decode(full_output[0], skip_special_tokens=True)\n",
        "\n",
        "        return {\n",
        "            'response_text': response_text,\n",
        "            'vram_usage': vram_usage,\n",
        "            'ttft': ttft,\n",
        "            'tps': tps,\n",
        "            'e2e_latency': e2e_latency,\n",
        "            'generated_tokens': generated_tokens\n",
        "        }\n",
        "\n",
        "    def run_experiment(self,\n",
        "                       model: LLM,\n",
        "                       prompts: List[str],\n",
        "                       num_runs: int = 5,\n",
        "                       max_tokens: int = 100) -> pd.DataFrame:\n",
        "        \"\"\"\n",
        "        Проведение серии экспериментов с различными длинами последовательностей.\n",
        "\n",
        "        Args:\n",
        "            model: LLM\n",
        "            prompts (List[str]): Промпты разной длины.\n",
        "            num_runs (int): Количество запусков для каждого эксперимента (первый отбрасывается).\n",
        "            max_tokens (int): Максимальное количество токенов для генерации.\n",
        "\n",
        "        Returns:\n",
        "            pd.DataFrame: DataFrame с результатами всех экспериментов.\n",
        "        \"\"\"\n",
        "        results = []\n",
        "\n",
        "        for prompt in prompts:\n",
        "            len_prompt = len(prompt)\n",
        "            print(f\"Проведение эксперимента с длиной последовательности L={len_prompt}...\")\n",
        "\n",
        "            run_metrics = []\n",
        "\n",
        "            # Несколько запусков для усреднения (первый отбрасывается)\n",
        "            for run in range(num_runs + 1):\n",
        "                metrics = self.measure_generation_metrics(model, prompt, max_tokens)\n",
        "\n",
        "                if run > 0:  # Первый запуск отбрасывается (прогрев)\n",
        "                    run_metrics.append(metrics)\n",
        "\n",
        "                time.sleep(1)\n",
        "\n",
        "            # Усреднение метрик по запускам\n",
        "            avg_metrics = {\n",
        "                'sequence_length': len_prompt,\n",
        "                'vram_usage_avg': sum(m['vram_usage'] for m in run_metrics) / len(run_metrics),\n",
        "                'ttft_avg': sum(m['ttft'] for m in run_metrics) / len(run_metrics),\n",
        "                'tps_avg': sum(m['tps'] for m in run_metrics) / len(run_metrics),\n",
        "                'e2e_latency_avg': sum(m['e2e_latency'] for m in run_metrics) / len(run_metrics),\n",
        "                'vram_usage_std': pd.Series([m['vram_usage'] for m in run_metrics]).std(),\n",
        "                'ttft_std': pd.Series([m['ttft'] for m in run_metrics]).std(),\n",
        "                'tps_std': pd.Series([m['tps'] for m in run_metrics]).std(),\n",
        "                'e2e_latency_std': pd.Series([m['e2e_latency'] for m in run_metrics]).std(),\n",
        "            }\n",
        "\n",
        "            results.append(avg_metrics)\n",
        "\n",
        "        # Сохранение результатов в DataFrame\n",
        "        self.results_df = pd.DataFrame(results)\n",
        "        return self.results_df\n",
        "\n",
        "    def save_results_to_csv(self, filename: str):\n",
        "        \"\"\"\n",
        "        Сохранение результатов эксперимента в CSV файл.\n",
        "\n",
        "        Args:\n",
        "            filename (str): Имя файла для сохранения.\n",
        "        \"\"\"\n",
        "        if not self.results_df.empty:\n",
        "            self.results_df.to_csv(filename, index=False, encoding='utf-8')\n",
        "            print(f\"Результаты сохранены в файл: {filename}\")\n",
        "        else:\n",
        "            print(\"Нет данных для сохранения.\")"
      ]
    },
    {
      "cell_type": "code",
      "execution_count": null,
      "metadata": {
        "id": "dIC9dCRRAVkc"
      },
      "outputs": [],
      "source": [
        "MODEL_NAME = \"google/gemma-3-4b-it\"\n",
        "NUM_RUNS = 5\n",
        "MAX_TOKENS = 100"
      ]
    },
    {
      "cell_type": "code",
      "execution_count": null,
      "metadata": {
        "id": "1JXTujzIDdWH"
      },
      "outputs": [],
      "source": [
        "prompt_36 = \"Что такое обучение с подкреплением?\"\n",
        "\n",
        "prompt_300 = \"Объясни концепцию трансформеров в глубоком обучении. \" \\\n",
        "\"Опиши ключевые компоненты архитектуры: механизм внимания, positional encoding, feed-forward сети. \" \\\n",
        "\"Кратко объясни, почему трансформеры revolutionized обработку естественного языка и какие \" \\\n",
        "\"преимущества они offer по сравнению с рекуррентными сетями.\"\n",
        "\n",
        "prompt_908 = \"\"\"Перенос обучения (Transfer Learning) — это метод машинного\n",
        "обучения, при котором модель, обученная на одной задаче, повторно используется\n",
        "для решения другой, но связанной задачи. Это особенно полезно в глубоком\n",
        "обучении, где обучение с нуля требует огромных вычислительных ресурсов и\n",
        "большого количества размеченных данных. Например, модели, предварительно\n",
        "обученные на большом наборе данных ImageNet, успешно используются для таких\n",
        "задач, как классификация изображений, обнаружение объектов и сегментация.\n",
        "Процесс обычно включает в себя заморозку первых нескольких слоев предобученной\n",
        "модели и дообучение последних слоев на целевом наборе данных. Объясни, почему\n",
        "заморозка начальных слоев является важным шагом? Какие существуют стратегии\n",
        "выбора количества замораживаемых слоев? Также опиши, как перенос обучения\n",
        "применяется в обработке естественного языка, например, с использованием BERT или GPT моделей.\"\"\""
      ]
    },
    {
      "cell_type": "code",
      "execution_count": null,
      "metadata": {
        "colab": {
          "base_uri": "https://localhost:8080/",
          "height": 70
        },
        "id": "nCCsJI33EOxT",
        "outputId": "f79a6e95-3291-473e-bc7e-75b57786f9e2"
      },
      "outputs": [
        {
          "data": {
            "text/plain": [
              "'Объясни концепцию трансформеров в глубоком обучении. Опиши ключевые компоненты архитектуры: механизм внимания, positional encoding, feed-forward сети. Кратко объясни, почему трансформеры revolutionized обработку естественного языка и какие преимущества они offer по сравнению с рекуррентными сетями.'"
            ]
          },
          "execution_count": 7,
          "metadata": {},
          "output_type": "execute_result"
        }
      ],
      "source": [
        "prompt_300"
      ]
    },
    {
      "cell_type": "code",
      "execution_count": null,
      "metadata": {
        "id": "PzKu6T1-FDQO"
      },
      "outputs": [],
      "source": [
        "prompts = [prompt_36, prompt_300, prompt_908]"
      ]
    },
    {
      "cell_type": "code",
      "execution_count": null,
      "metadata": {
        "colab": {
          "base_uri": "https://localhost:8080/",
          "height": 35
        },
        "id": "u813HkvjFIfA",
        "outputId": "a76f6aef-336d-4f42-d1e5-2e04048759ca"
      },
      "outputs": [
        {
          "data": {
            "text/plain": [
              "'Что такое обучение с подкреплением?'"
            ]
          },
          "execution_count": 9,
          "metadata": {},
          "output_type": "execute_result"
        }
      ],
      "source": [
        "prompts[0]"
      ]
    },
    {
      "cell_type": "code",
      "execution_count": null,
      "metadata": {
        "id": "mJ4hY9lbnm_D",
        "outputId": "28ff08df-cec8-4e17-f8bc-dabcc6c873b7"
      },
      "outputs": [
        {
          "data": {
            "text/plain": [
              "'cuda'"
            ]
          },
          "execution_count": 10,
          "metadata": {},
          "output_type": "execute_result"
        }
      ],
      "source": [
        "\"cuda\" if torch.cuda.is_available() else \"cpu\""
      ]
    },
    {
      "cell_type": "code",
      "execution_count": null,
      "metadata": {
        "id": "gF1axeAWF2PB",
        "outputId": "25c8f4cc-0e7b-4b16-878b-70222867ecf8",
        "colab": {
          "referenced_widgets": [
            "616baaec4fe1476cac0133b939872e56"
          ]
        }
      },
      "outputs": [
        {
          "name": "stdout",
          "output_type": "stream",
          "text": [
            "Эксперименты с полной моделью\n"
          ]
        },
        {
          "data": {
            "application/vnd.jupyter.widget-view+json": {
              "model_id": "616baaec4fe1476cac0133b939872e56",
              "version_major": 2,
              "version_minor": 0
            },
            "text/plain": [
              "Loading checkpoint shards:   0%|          | 0/2 [00:00<?, ?it/s]"
            ]
          },
          "metadata": {},
          "output_type": "display_data"
        },
        {
          "name": "stderr",
          "output_type": "stream",
          "text": [
            "The following generation flags are not valid and may be ignored: ['top_p', 'top_k']. Set `TRANSFORMERS_VERBOSITY=info` for more details.\n"
          ]
        },
        {
          "name": "stdout",
          "output_type": "stream",
          "text": [
            "Проведение эксперимента с длиной последовательности L=35...\n",
            "Проведение эксперимента с длиной последовательности L=299...\n",
            "Проведение эксперимента с длиной последовательности L=907...\n",
            "Результаты сохранены в файл: full_model_results.csv\n",
            "Освобождение памяти от полной модели...\n"
          ]
        }
      ],
      "source": [
        "experiment = Experiment()\n",
        "\n",
        "print(\"Эксперименты с полной моделью\")\n",
        "full_model = LLM(MODEL_NAME, load_type='full')\n",
        "\n",
        "full_results = experiment.run_experiment(\n",
        "    full_model, prompts, NUM_RUNS, MAX_TOKENS\n",
        ")\n",
        "experiment.save_results_to_csv('full_model_results.csv')\n",
        "\n",
        "print(\"Освобождение памяти от полной модели...\")\n",
        "full_model.cleanup()\n",
        "del full_model"
      ]
    },
    {
      "cell_type": "code",
      "execution_count": null,
      "metadata": {
        "id": "Tlz8Jy4PIW9J"
      },
      "outputs": [],
      "source": [
        "if torch.cuda.is_available():\n",
        "    torch.cuda.empty_cache()\n",
        "    torch.cuda.reset_peak_memory_stats()\n",
        "gc.collect()\n",
        "\n",
        "time.sleep(5)"
      ]
    },
    {
      "cell_type": "markdown",
      "metadata": {
        "id": "_DuGrLe3ADOg"
      },
      "source": [
        "## Базовый проход для квантованной модели"
      ]
    },
    {
      "cell_type": "code",
      "execution_count": null,
      "metadata": {
        "id": "k_cGXj8bnm_D"
      },
      "outputs": [],
      "source": [
        "full_results = pd.read_csv('full_model_results.csv')\n",
        "\n",
        "experiment = Experiment()"
      ]
    },
    {
      "cell_type": "code",
      "execution_count": null,
      "metadata": {
        "id": "j4S8l21unm_D",
        "outputId": "9790f369-2765-4967-ee5d-f36db14e3f13"
      },
      "outputs": [
        {
          "data": {
            "text/html": [
              "<div>\n",
              "<style scoped>\n",
              "    .dataframe tbody tr th:only-of-type {\n",
              "        vertical-align: middle;\n",
              "    }\n",
              "\n",
              "    .dataframe tbody tr th {\n",
              "        vertical-align: top;\n",
              "    }\n",
              "\n",
              "    .dataframe thead th {\n",
              "        text-align: right;\n",
              "    }\n",
              "</style>\n",
              "<table border=\"1\" class=\"dataframe\">\n",
              "  <thead>\n",
              "    <tr style=\"text-align: right;\">\n",
              "      <th></th>\n",
              "      <th>sequence_length</th>\n",
              "      <th>vram_usage_avg</th>\n",
              "      <th>ttft_avg</th>\n",
              "      <th>tps_avg</th>\n",
              "      <th>e2e_latency_avg</th>\n",
              "      <th>vram_usage_std</th>\n",
              "      <th>ttft_std</th>\n",
              "      <th>tps_std</th>\n",
              "      <th>e2e_latency_std</th>\n",
              "    </tr>\n",
              "  </thead>\n",
              "  <tbody>\n",
              "    <tr>\n",
              "      <th>0</th>\n",
              "      <td>35</td>\n",
              "      <td>7.950990</td>\n",
              "      <td>0.369671</td>\n",
              "      <td>6.446610</td>\n",
              "      <td>15.916129</td>\n",
              "      <td>0.0</td>\n",
              "      <td>0.046892</td>\n",
              "      <td>0.343752</td>\n",
              "      <td>0.842685</td>\n",
              "    </tr>\n",
              "    <tr>\n",
              "      <th>1</th>\n",
              "      <td>299</td>\n",
              "      <td>7.955415</td>\n",
              "      <td>0.413231</td>\n",
              "      <td>6.543944</td>\n",
              "      <td>15.712025</td>\n",
              "      <td>0.0</td>\n",
              "      <td>0.086460</td>\n",
              "      <td>0.248288</td>\n",
              "      <td>0.541444</td>\n",
              "    </tr>\n",
              "    <tr>\n",
              "      <th>2</th>\n",
              "      <td>907</td>\n",
              "      <td>7.968552</td>\n",
              "      <td>0.506723</td>\n",
              "      <td>6.870680</td>\n",
              "      <td>15.085689</td>\n",
              "      <td>0.0</td>\n",
              "      <td>0.085203</td>\n",
              "      <td>0.305845</td>\n",
              "      <td>0.690199</td>\n",
              "    </tr>\n",
              "  </tbody>\n",
              "</table>\n",
              "</div>"
            ],
            "text/plain": [
              "   sequence_length  vram_usage_avg  ttft_avg   tps_avg  e2e_latency_avg  \\\n",
              "0               35        7.950990  0.369671  6.446610        15.916129   \n",
              "1              299        7.955415  0.413231  6.543944        15.712025   \n",
              "2              907        7.968552  0.506723  6.870680        15.085689   \n",
              "\n",
              "   vram_usage_std  ttft_std   tps_std  e2e_latency_std  \n",
              "0             0.0  0.046892  0.343752         0.842685  \n",
              "1             0.0  0.086460  0.248288         0.541444  \n",
              "2             0.0  0.085203  0.305845         0.690199  "
            ]
          },
          "execution_count": 22,
          "metadata": {},
          "output_type": "execute_result"
        }
      ],
      "source": [
        "full_results"
      ]
    },
    {
      "cell_type": "code",
      "execution_count": null,
      "metadata": {
        "id": "4CTJuat8AIri",
        "outputId": "2cde696f-ca93-4cce-c3ad-ed350eed7ffd",
        "colab": {
          "referenced_widgets": [
            "d5cbb147cdd14c67954b0ec1255e67d0"
          ]
        }
      },
      "outputs": [
        {
          "name": "stdout",
          "output_type": "stream",
          "text": [
            "Эксперименты с квантованной моделью\n"
          ]
        },
        {
          "data": {
            "application/vnd.jupyter.widget-view+json": {
              "model_id": "d5cbb147cdd14c67954b0ec1255e67d0",
              "version_major": 2,
              "version_minor": 0
            },
            "text/plain": [
              "Loading checkpoint shards:   0%|          | 0/2 [00:00<?, ?it/s]"
            ]
          },
          "metadata": {},
          "output_type": "display_data"
        },
        {
          "name": "stderr",
          "output_type": "stream",
          "text": [
            "The following generation flags are not valid and may be ignored: ['top_p', 'top_k']. Set `TRANSFORMERS_VERBOSITY=info` for more details.\n"
          ]
        },
        {
          "name": "stdout",
          "output_type": "stream",
          "text": [
            "Проведение эксперимента с длиной последовательности L=35...\n",
            "Проведение эксперимента с длиной последовательности L=299...\n",
            "Проведение эксперимента с длиной последовательности L=907...\n",
            "Результаты сохранены в файл: quantized_model_results.csv\n"
          ]
        }
      ],
      "source": [
        "print(\"Эксперименты с квантованной моделью\")\n",
        "quantized_model = LLM(MODEL_NAME, load_type='quantized', quant_type='nf4')\n",
        "\n",
        "quantized_results = experiment.run_experiment(\n",
        "    quantized_model, prompts, NUM_RUNS, MAX_TOKENS\n",
        ")\n",
        "experiment.save_results_to_csv('quantized_model_results.csv')"
      ]
    },
    {
      "cell_type": "code",
      "execution_count": null,
      "metadata": {
        "id": "p3cMs-v7Is88",
        "outputId": "81af0ca6-11a8-45e4-9180-4fa2277e3ee7"
      },
      "outputs": [
        {
          "name": "stdout",
          "output_type": "stream",
          "text": [
            "Освобождение памяти от квантованной модели...\n"
          ]
        }
      ],
      "source": [
        "print(\"Освобождение памяти от квантованной модели...\")\n",
        "quantized_model.cleanup()\n",
        "del quantized_model"
      ]
    },
    {
      "cell_type": "code",
      "execution_count": null,
      "metadata": {
        "id": "fRVMETblnm_D"
      },
      "outputs": [],
      "source": [
        "if torch.cuda.is_available():\n",
        "    torch.cuda.empty_cache()\n",
        "    torch.cuda.reset_peak_memory_stats()\n",
        "gc.collect()\n",
        "\n",
        "time.sleep(5)"
      ]
    },
    {
      "cell_type": "code",
      "execution_count": null,
      "metadata": {
        "id": "KNjLwlCcIzwb"
      },
      "outputs": [],
      "source": [
        "comparison_df = pd.merge(\n",
        "    full_results.add_prefix('full_'),\n",
        "    quantized_results.add_prefix('quant_'),\n",
        "    left_on='full_sequence_length',\n",
        "    right_on='quant_sequence_length'\n",
        ")"
      ]
    },
    {
      "cell_type": "code",
      "execution_count": null,
      "metadata": {
        "id": "CNtE1s-gI5Ji"
      },
      "outputs": [],
      "source": [
        "comparison_df.to_csv('model_comparison.csv', index=False, encoding='utf-8')"
      ]
    },
    {
      "cell_type": "code",
      "execution_count": null,
      "metadata": {
        "id": "bcDVBROFnm_D",
        "outputId": "732ef3e7-90eb-4b2d-c8bb-9905d5253456"
      },
      "outputs": [
        {
          "data": {
            "text/html": [
              "<div>\n",
              "<style scoped>\n",
              "    .dataframe tbody tr th:only-of-type {\n",
              "        vertical-align: middle;\n",
              "    }\n",
              "\n",
              "    .dataframe tbody tr th {\n",
              "        vertical-align: top;\n",
              "    }\n",
              "\n",
              "    .dataframe thead th {\n",
              "        text-align: right;\n",
              "    }\n",
              "</style>\n",
              "<table border=\"1\" class=\"dataframe\">\n",
              "  <thead>\n",
              "    <tr style=\"text-align: right;\">\n",
              "      <th></th>\n",
              "      <th>full_sequence_length</th>\n",
              "      <th>full_vram_usage_avg</th>\n",
              "      <th>full_ttft_avg</th>\n",
              "      <th>full_tps_avg</th>\n",
              "      <th>full_e2e_latency_avg</th>\n",
              "      <th>full_vram_usage_std</th>\n",
              "      <th>full_ttft_std</th>\n",
              "      <th>full_tps_std</th>\n",
              "      <th>full_e2e_latency_std</th>\n",
              "      <th>quant_sequence_length</th>\n",
              "      <th>quant_vram_usage_avg</th>\n",
              "      <th>quant_ttft_avg</th>\n",
              "      <th>quant_tps_avg</th>\n",
              "      <th>quant_e2e_latency_avg</th>\n",
              "      <th>quant_vram_usage_std</th>\n",
              "      <th>quant_ttft_std</th>\n",
              "      <th>quant_tps_std</th>\n",
              "      <th>quant_e2e_latency_std</th>\n",
              "    </tr>\n",
              "  </thead>\n",
              "  <tbody>\n",
              "    <tr>\n",
              "      <th>0</th>\n",
              "      <td>35</td>\n",
              "      <td>7.950990</td>\n",
              "      <td>0.369671</td>\n",
              "      <td>6.446610</td>\n",
              "      <td>15.916129</td>\n",
              "      <td>0.0</td>\n",
              "      <td>0.046892</td>\n",
              "      <td>0.343752</td>\n",
              "      <td>0.842685</td>\n",
              "      <td>35</td>\n",
              "      <td>1.611302</td>\n",
              "      <td>0.418367</td>\n",
              "      <td>5.194739</td>\n",
              "      <td>19.686083</td>\n",
              "      <td>0.0</td>\n",
              "      <td>0.119699</td>\n",
              "      <td>0.171843</td>\n",
              "      <td>0.620459</td>\n",
              "    </tr>\n",
              "    <tr>\n",
              "      <th>1</th>\n",
              "      <td>299</td>\n",
              "      <td>7.955415</td>\n",
              "      <td>0.413231</td>\n",
              "      <td>6.543944</td>\n",
              "      <td>15.712025</td>\n",
              "      <td>0.0</td>\n",
              "      <td>0.086460</td>\n",
              "      <td>0.248288</td>\n",
              "      <td>0.541444</td>\n",
              "      <td>299</td>\n",
              "      <td>1.611305</td>\n",
              "      <td>0.535040</td>\n",
              "      <td>5.274823</td>\n",
              "      <td>19.661945</td>\n",
              "      <td>0.0</td>\n",
              "      <td>0.171330</td>\n",
              "      <td>0.551501</td>\n",
              "      <td>1.899401</td>\n",
              "    </tr>\n",
              "    <tr>\n",
              "      <th>2</th>\n",
              "      <td>907</td>\n",
              "      <td>7.968552</td>\n",
              "      <td>0.506723</td>\n",
              "      <td>6.870680</td>\n",
              "      <td>15.085689</td>\n",
              "      <td>0.0</td>\n",
              "      <td>0.085203</td>\n",
              "      <td>0.305845</td>\n",
              "      <td>0.690199</td>\n",
              "      <td>907</td>\n",
              "      <td>1.611311</td>\n",
              "      <td>0.482678</td>\n",
              "      <td>5.250654</td>\n",
              "      <td>19.662066</td>\n",
              "      <td>0.0</td>\n",
              "      <td>0.099180</td>\n",
              "      <td>0.469597</td>\n",
              "      <td>1.857467</td>\n",
              "    </tr>\n",
              "  </tbody>\n",
              "</table>\n",
              "</div>"
            ],
            "text/plain": [
              "   full_sequence_length  full_vram_usage_avg  full_ttft_avg  full_tps_avg  \\\n",
              "0                    35             7.950990       0.369671      6.446610   \n",
              "1                   299             7.955415       0.413231      6.543944   \n",
              "2                   907             7.968552       0.506723      6.870680   \n",
              "\n",
              "   full_e2e_latency_avg  full_vram_usage_std  full_ttft_std  full_tps_std  \\\n",
              "0             15.916129                  0.0       0.046892      0.343752   \n",
              "1             15.712025                  0.0       0.086460      0.248288   \n",
              "2             15.085689                  0.0       0.085203      0.305845   \n",
              "\n",
              "   full_e2e_latency_std  quant_sequence_length  quant_vram_usage_avg  \\\n",
              "0              0.842685                     35              1.611302   \n",
              "1              0.541444                    299              1.611305   \n",
              "2              0.690199                    907              1.611311   \n",
              "\n",
              "   quant_ttft_avg  quant_tps_avg  quant_e2e_latency_avg  quant_vram_usage_std  \\\n",
              "0        0.418367       5.194739              19.686083                   0.0   \n",
              "1        0.535040       5.274823              19.661945                   0.0   \n",
              "2        0.482678       5.250654              19.662066                   0.0   \n",
              "\n",
              "   quant_ttft_std  quant_tps_std  quant_e2e_latency_std  \n",
              "0        0.119699       0.171843               0.620459  \n",
              "1        0.171330       0.551501               1.899401  \n",
              "2        0.099180       0.469597               1.857467  "
            ]
          },
          "execution_count": 29,
          "metadata": {},
          "output_type": "execute_result"
        }
      ],
      "source": [
        "comparison_df"
      ]
    },
    {
      "cell_type": "code",
      "execution_count": null,
      "metadata": {
        "id": "j9GZf5StAunm"
      },
      "outputs": [],
      "source": [
        "def plot_comparison(results_df: pd.DataFrame):\n",
        "    \"\"\"\n",
        "    Построение графиков сравнения метрик полной и квантованной моделей.\n",
        "    \"\"\"\n",
        "    sns.set(style=\"whitegrid\")\n",
        "    fig, axes = plt.subplots(2, 2, figsize=(15, 12))\n",
        "\n",
        "    # Определяем маркеры для разных моделей\n",
        "    markers = {'Full Model': 'o', 'Quantized Model': 's'}\n",
        "\n",
        "    # VRAM Usage\n",
        "    sns.lineplot(data=results_df, x='full_sequence_length', y='full_vram_usage_avg',\n",
        "                 label='Full Model', ax=axes[0, 0], marker='o', markersize=8)\n",
        "    sns.lineplot(data=results_df, x='full_sequence_length', y='quant_vram_usage_avg',\n",
        "                 label='Quantized Model', ax=axes[0, 0], marker='s', markersize=8)\n",
        "    axes[0, 0].set_title('Использование VRAM')\n",
        "    axes[0, 0].set_xlabel('Sequence Length')\n",
        "    axes[0, 0].set_ylabel('VRAM Usage (GB)')\n",
        "    axes[0, 0].grid(True, linestyle='--', alpha=0.7)\n",
        "\n",
        "    # TTFT Comparison\n",
        "    sns.lineplot(data=results_df, x='full_sequence_length', y='full_ttft_avg',\n",
        "                 label='Full Model', ax=axes[0, 1], marker='o', markersize=8)\n",
        "    sns.lineplot(data=results_df, x='full_sequence_length', y='quant_ttft_avg',\n",
        "                 label='Quantized Model', ax=axes[0, 1], marker='s', markersize=8)\n",
        "    axes[0, 1].set_title('TTFT')\n",
        "    axes[0, 1].set_xlabel('Sequence Length')\n",
        "    axes[0, 1].set_ylabel('Time to First Token (s)')\n",
        "    axes[0, 1].grid(True, linestyle='--', alpha=0.7)\n",
        "\n",
        "    # TPS Comparison\n",
        "    sns.lineplot(data=results_df, x='full_sequence_length', y='full_tps_avg',\n",
        "                 label='Full Model', ax=axes[1, 0], marker='o', markersize=8)\n",
        "    sns.lineplot(data=results_df, x='full_sequence_length', y='quant_tps_avg',\n",
        "                 label='Quantized Model', ax=axes[1, 0], marker='s', markersize=8)\n",
        "    axes[1, 0].set_title('TPS')\n",
        "    axes[1, 0].set_xlabel('Sequence Length')\n",
        "    axes[1, 0].set_ylabel('Tokens Per Second')\n",
        "    axes[1, 0].grid(True, linestyle='--', alpha=0.7)\n",
        "\n",
        "    # E2E Latency Comparison\n",
        "    sns.lineplot(data=results_df, x='full_sequence_length', y='full_e2e_latency_avg',\n",
        "                 label='Full Model', ax=axes[1, 1], marker='o', markersize=8)\n",
        "    sns.lineplot(data=results_df, x='full_sequence_length', y='quant_e2e_latency_avg',\n",
        "                 label='Quantized Model', ax=axes[1, 1], marker='s', markersize=8)\n",
        "    axes[1, 1].set_title('E2E')\n",
        "    axes[1, 1].set_xlabel('Sequence Length')\n",
        "    axes[1, 1].set_ylabel('End-to-End Latency (s)')\n",
        "    axes[1, 1].grid(True, linestyle='--', alpha=0.7)\n",
        "\n",
        "    # Добавляем легенду на каждый график\n",
        "    for ax in axes.flat:\n",
        "        ax.legend()\n",
        "\n",
        "    plt.tight_layout()\n",
        "    plt.savefig('model_comparison_plots.png', dpi=300, bbox_inches='tight')\n",
        "    plt.show()"
      ]
    },
    {
      "cell_type": "code",
      "execution_count": null,
      "metadata": {
        "id": "kQ6KnJv-HEOR",
        "outputId": "5e9aa836-18dd-4865-fa3e-0dd6c75599ae"
      },
      "outputs": [
        {
          "data": {
            "image/png": "[encoded data removed]",
            "text/plain": [
              "<Figure size 1500x1200 with 4 Axes>"
            ]
          },
          "metadata": {},
          "output_type": "display_data"
        }
      ],
      "source": [
        "plot_comparison(comparison_df)"
      ]
    },
    {
      "cell_type": "markdown",
      "metadata": {
        "id": "J4L2UE2mnm_E"
      },
      "source": [
        "## Профилирование полной модели"
      ]
    },
    {
      "cell_type": "code",
      "execution_count": null,
      "metadata": {
        "id": "wwHKvOCDnm_E"
      },
      "outputs": [],
      "source": [
        "prompt_1000_bool = \"\"\"Ответь только 'да' или 'нет'. Относится ли данный текст к\n",
        "тематике машинного обучения:\n",
        "\n",
        "Перенос обучения (Transfer Learning) — это метод машинного\n",
        "обучения, при котором модель, обученная на одной задаче, повторно используется\n",
        "для решения другой, но связанной задачи. Это особенно полезно в глубоком\n",
        "обучении, где обучение с нуля требует огромных вычислительных ресурсов и\n",
        "большого количества размеченных данных. Например, модели, предварительно\n",
        "обученные на большом наборе данных ImageNet, успешно используются для таких\n",
        "задач, как классификация изображений, обнаружение объектов и сегментация.\n",
        "Процесс обычно включает в себя заморозку первых нескольких слоев предобученной\n",
        "модели и дообучение последних слоев на целевом наборе данных. Объясни, почему\n",
        "заморозка начальных слоев является важным шагом? Какие существуют стратегии\n",
        "выбора количества замораживаемых слоев? Также опиши, как перенос обучения\n",
        "применяется в обработке естественного языка, например, с использованием BERT или GPT моделей.\"\"\""
      ]
    },
    {
      "cell_type": "code",
      "execution_count": null,
      "metadata": {
        "id": "U-U-ESmVnm_E",
        "outputId": "56d2ea56-fdea-473b-b3f3-1f693ddd411b",
        "colab": {
          "referenced_widgets": [
            "e294a2e9e02044d991e889ced85b85cf"
          ]
        }
      },
      "outputs": [
        {
          "data": {
            "application/vnd.jupyter.widget-view+json": {
              "model_id": "e294a2e9e02044d991e889ced85b85cf",
              "version_major": 2,
              "version_minor": 0
            },
            "text/plain": [
              "Loading checkpoint shards:   0%|          | 0/2 [00:00<?, ?it/s]"
            ]
          },
          "metadata": {},
          "output_type": "display_data"
        }
      ],
      "source": [
        "full_model = LLM(MODEL_NAME, load_type='full')"
      ]
    },
    {
      "cell_type": "markdown",
      "metadata": {
        "id": "MUCJ7vRnnm_E"
      },
      "source": [
        "### Prefill-доминантный сценарий"
      ]
    },
    {
      "cell_type": "code",
      "execution_count": null,
      "metadata": {
        "id": "-2EL1Nrwnm_E",
        "outputId": "8107731e-78e3-40e5-ee9e-802ee8d6cf26"
      },
      "outputs": [
        {
          "name": "stdout",
          "output_type": "stream",
          "text": [
            "--------------------------------------------  ------------  ------------  ------------  ------------  ------------  ------------  ------------  ------------  ------------  ------------  ------------  ------------  ------------  ------------  \n",
            "                                        Name    Self CPU %      Self CPU   CPU total %     CPU total  CPU time avg     Self CUDA   Self CUDA %    CUDA total  CUDA time avg       CPU Mem  Self CPU Mem      CUDA Mem  Self CUDA Mem    # of Calls  \n",
            "--------------------------------------------  ------------  ------------  ------------  ------------  ------------  ------------  ------------  ------------  ------------  ------------  ------------  ------------  ------------  ------------  \n",
            "                                 aten::copy_         9.12%     139.261ms         9.12%     139.261ms       9.034us     743.123ms        29.35%     743.123ms      48.205us           0 b           0 b           0 b           0 b         15416  \n",
            "                         aten::empty_strided         2.92%      44.653ms         2.92%      44.653ms       3.124us     253.852ms        10.02%     253.852ms      17.759us           0 b           0 b       1.91 Gb       1.91 Gb         14294  \n",
            "                                   aten::mul         4.62%      70.623ms         4.62%      70.623ms       6.759us     199.627ms         7.88%     199.627ms      19.107us         384 b         384 b       2.33 Gb       2.33 Gb         10448  \n",
            "                                    aten::mm         7.07%     107.943ms         7.07%     107.943ms      28.228us     160.634ms         6.34%     160.634ms      42.007us           0 b           0 b     628.83 Mb     628.83 Mb          3824  \n",
            "                                   aten::add         3.43%      52.325ms         3.43%      52.325ms       5.979us     156.306ms         6.17%     156.306ms      17.862us           0 b           0 b     173.00 Mb     173.00 Mb          8751  \n",
            "                              aten::_to_copy        23.92%     365.282ms        35.61%     543.850ms      38.047us     113.702ms         4.49%        1.079s      75.519us           0 b           0 b       1.91 Gb           0 b         14294  \n",
            "                                    aten::to         3.59%      54.869ms        39.20%     598.719ms      19.638us      98.547ms         3.89%        1.178s      38.639us           0 b           0 b       1.91 Gb           0 b         30488  \n",
            "                                   aten::pow         9.40%     143.500ms         9.47%     144.625ms      44.093us      75.140ms         2.97%      90.780ms      27.677us           0 b           0 b     443.07 Mb     443.07 Mb          3280  \n",
            "                                  aten::mean         1.74%      26.519ms         1.74%      26.519ms       8.085us      67.776ms         2.68%      67.776ms      20.663us           0 b           0 b       2.02 Mb       2.02 Mb          3280  \n",
            "                                 aten::rsqrt         1.22%      18.573ms         1.22%      18.573ms       5.663us      59.290ms         2.34%      59.290ms      18.076us           0 b           0 b       2.02 Mb       2.02 Mb          3280  \n",
            "                                aten::matmul         7.78%     118.757ms        19.21%     293.472ms      59.359us      57.469ms         2.27%     319.966ms      64.718us           0 b           0 b     759.12 Mb           0 b          4944  \n",
            "                                   aten::cat         1.17%      17.893ms         1.17%      17.893ms       8.104us      47.643ms         1.88%      47.643ms      21.577us           0 b           0 b     572.58 Mb     572.58 Mb          2208  \n",
            "                            aten::as_strided         0.62%       9.455ms         0.62%       9.455ms       0.516us      42.346ms         1.67%      42.346ms       2.311us           0 b           0 b           0 b           0 b         18321  \n",
            "                               aten::reshape         1.72%      26.303ms         2.18%      33.317ms       5.030us      32.808ms         1.30%      48.256ms       7.285us           0 b           0 b           0 b           0 b          6624  \n",
            "                                   aten::bmm         1.43%      21.916ms         1.43%      21.916ms      19.568us      31.526ms         1.24%      31.526ms      28.148us           0 b           0 b     130.29 Mb     130.29 Mb          1120  \n",
            "                             aten::transpose         1.92%      29.341ms         2.17%      33.139ms       5.039us      29.032ms         1.15%      43.747ms       6.653us           0 b           0 b           0 b           0 b          6576  \n",
            "                                   aten::neg         0.57%       8.763ms         0.57%       8.763ms       8.054us      28.423ms         1.12%      28.423ms      26.124us           0 b           0 b      25.20 Mb      25.20 Mb          1088  \n",
            "                                 aten::slice         1.98%      30.184ms         2.13%      32.538ms       5.366us      28.318ms         1.12%      42.432ms       6.997us           0 b           0 b           0 b           0 b          6064  \n",
            "                                aten::linear         1.79%      27.397ms        18.63%     284.473ms      74.392us      26.509ms         1.05%     303.262ms      79.305us           0 b           0 b     628.83 Mb           0 b          3824  \n",
            "    aten::_scaled_dot_product_attention_math         1.97%      30.019ms        23.22%     354.578ms     651.797us      25.648ms         1.01%     434.467ms     798.653us           0 b        -384 b      69.45 Mb      -4.87 Gb           544  \n",
            "--------------------------------------------  ------------  ------------  ------------  ------------  ------------  ------------  ------------  ------------  ------------  ------------  ------------  ------------  ------------  ------------  \n",
            "Self CPU time total: 1.527s\n",
            "Self CUDA time total: 2.532s\n",
            "\n"
          ]
        }
      ],
      "source": [
        "inputs_long = full_model.tokenize(prompt_1000_bool)\n",
        "full_model.profile_generation(\n",
        "    inputs_long,\n",
        "    max_tokens=16,\n",
        "    profiler_dir=\"./logs/full_prefill_dominant\"\n",
        ")"
      ]
    },
    {
      "cell_type": "markdown",
      "metadata": {
        "id": "fkMM-4grnm_E"
      },
      "source": [
        "### Decode-доминантный сценарий"
      ]
    },
    {
      "cell_type": "code",
      "execution_count": null,
      "metadata": {
        "id": "0TdUJsB1nm_E",
        "outputId": "c511c9e2-d83b-4b50-efc9-4c057a170dda"
      },
      "outputs": [
        {
          "name": "stdout",
          "output_type": "stream",
          "text": [
            "--------------------------------------------  ------------  ------------  ------------  ------------  ------------  ------------  ------------  ------------  ------------  ------------  ------------  ------------  ------------  ------------  \n",
            "                                        Name    Self CPU %      Self CPU   CPU total %     CPU total  CPU time avg     Self CUDA   Self CUDA %    CUDA total  CUDA time avg       CPU Mem  Self CPU Mem      CUDA Mem  Self CUDA Mem    # of Calls  \n",
            "--------------------------------------------  ------------  ------------  ------------  ------------  ------------  ------------  ------------  ------------  ------------  ------------  ------------  ------------  ------------  ------------  \n",
            "                                 aten::copy_         9.73%        2.413s         9.73%        2.413s       9.846us       12.344s        30.88%       12.344s      50.363us           0 b           0 b           0 b           0 b        245096  \n",
            "                         aten::empty_strided         2.21%     547.094ms         2.21%     547.094ms       2.403us        3.818s         9.55%        3.818s      16.770us           0 b           0 b      15.86 Gb      15.86 Gb        227654  \n",
            "                                   aten::mul         4.84%        1.202s         4.84%        1.202s       7.188us        3.153s         7.89%        3.153s      18.863us       5.77 Kb       5.77 Kb      15.34 Gb      15.34 Gb        167168  \n",
            "                                   aten::add         3.22%     799.336ms         3.22%     799.336ms       5.708us        2.498s         6.25%        2.498s      17.840us           0 b           0 b     558.01 Mb     558.01 Mb        140031  \n",
            "                                    aten::mm         4.35%        1.079s         4.35%        1.079s      17.627us        2.464s         6.17%        2.464s      40.278us           0 b           0 b     806.89 Mb     806.89 Mb         61184  \n",
            "                              aten::_to_copy        31.41%        7.791s        42.98%       10.663s      46.838us        1.818s         4.55%       17.481s      76.789us           0 b           0 b      15.86 Gb       9.00 Kb        227654  \n",
            "                                    aten::to         3.69%     916.423ms        46.68%       11.579s      23.814us        1.569s         3.93%       19.051s      39.179us           0 b           0 b      15.86 Gb           0 b        486248  \n",
            "                                   aten::pow         3.09%     766.656ms         3.16%     783.633ms      14.932us        1.194s         2.99%        1.444s      27.517us           0 b           0 b     564.31 Mb     564.31 Mb         52480  \n",
            "                                  aten::mean         1.74%     431.701ms         1.74%     431.701ms       8.226us        1.044s         2.61%        1.044s      19.887us           0 b           0 b      25.72 Mb      25.72 Mb         52480  \n",
            "                                 aten::rsqrt         1.21%     300.664ms         1.21%     300.664ms       5.729us     943.094ms         2.36%     943.094ms      17.971us           0 b           0 b      25.72 Mb      25.72 Mb         52480  \n",
            "                                aten::matmul         6.91%        1.713s        15.69%        3.892s      49.206us     911.787ms         2.28%        4.895s      61.879us           0 b           0 b     953.00 Mb           0 b         79104  \n",
            "                            aten::as_strided         0.61%     150.986ms         0.61%     150.986ms       0.515us     691.098ms         1.73%     691.098ms       2.358us           0 b           0 b           0 b           0 b        293121  \n",
            "                                   aten::cat         1.17%     291.258ms         1.17%     291.258ms       8.244us     664.266ms         1.66%     664.266ms      18.803us           0 b           0 b       6.62 Gb       6.62 Gb         35328  \n",
            "                               aten::reshape         1.89%     468.365ms         2.36%     585.037ms       5.520us     530.162ms         1.33%     775.479ms       7.317us           0 b           0 b           0 b           0 b        105984  \n",
            "                                 aten::slice         2.01%     498.236ms         2.18%     540.233ms       5.568us     494.942ms         1.24%     744.606ms       7.674us           0 b           0 b           0 b           0 b         97024  \n",
            "                             aten::transpose         2.07%     514.145ms         2.33%     577.706ms       5.491us     457.318ms         1.14%     688.872ms       6.547us           0 b           0 b           0 b           0 b        105216  \n",
            "                                   aten::neg         0.49%     122.787ms         0.49%     122.787ms       7.053us     455.412ms         1.14%     455.412ms      26.161us           0 b           0 b      32.37 Mb      32.37 Mb         17408  \n",
            "                                aten::linear         1.91%     474.988ms        15.15%        3.759s      61.443us     425.860ms         1.07%        4.754s      77.702us           0 b           0 b     806.89 Mb           0 b         61184  \n",
            "    aten::_scaled_dot_product_attention_math         2.12%     525.827ms        26.26%        6.514s     748.399us     395.344ms         0.99%        6.703s     770.137us           0 b      -5.77 Kb      78.91 Mb     -57.34 Gb          8704  \n",
            "                                   aten::bmm         1.28%     317.468ms         1.28%     317.468ms      17.716us     387.682ms         0.97%     387.682ms      21.634us           0 b           0 b     146.11 Mb     146.11 Mb         17920  \n",
            "--------------------------------------------  ------------  ------------  ------------  ------------  ------------  ------------  ------------  ------------  ------------  ------------  ------------  ------------  ------------  ------------  \n",
            "Self CPU time total: 24.807s\n",
            "Self CUDA time total: 39.971s\n",
            "\n"
          ]
        }
      ],
      "source": [
        "inputs_short = full_model.tokenize(prompt_300)\n",
        "full_model.profile_generation(\n",
        "    inputs_short,\n",
        "    max_tokens=256,\n",
        "    profiler_dir=\"./logs/full_decode_dominant\"\n",
        ")"
      ]
    },
    {
      "cell_type": "code",
      "execution_count": null,
      "metadata": {
        "id": "roN34ZoDnm_E"
      },
      "outputs": [],
      "source": [
        "full_model.cleanup()\n",
        "\n",
        "if torch.cuda.is_available():\n",
        "    torch.cuda.empty_cache()\n",
        "    torch.cuda.reset_peak_memory_stats()\n",
        "gc.collect()\n",
        "\n",
        "time.sleep(5)"
      ]
    },
    {
      "cell_type": "code",
      "execution_count": null,
      "metadata": {
        "id": "KJCwlRCznm_E",
        "outputId": "ea9193f6-9563-4345-a35f-feba60084e6f"
      },
      "outputs": [
        {
          "data": {
            "text/plain": [
              "'C:\\\\Users\\\\AIshared\\\\LLM'"
            ]
          },
          "execution_count": 16,
          "metadata": {},
          "output_type": "execute_result"
        }
      ],
      "source": [
        "import os\n",
        "os.getcwd()"
      ]
    },
    {
      "cell_type": "code",
      "execution_count": null,
      "metadata": {
        "id": "DD-cavZVnm_E",
        "outputId": "e16d4486-640b-4ffc-ab23-b7b4bd3dbb21"
      },
      "outputs": [
        {
          "data": {
            "text/html": [
              "\n",
              "      <iframe id=\"tensorboard-frame-972a846916419f82\" width=\"100%\" height=\"800\" frameborder=\"0\">\n",
              "      </iframe>\n",
              "      <script>\n",
              "        (function() {\n",
              "          const frame = document.getElementById(\"tensorboard-frame-972a846916419f82\");\n",
              "          const url = new URL(\"/\", window.location);\n",
              "          const port = 6005;\n",
              "          if (port) {\n",
              "            url.port = port;\n",
              "          }\n",
              "          frame.src = url;\n",
              "        })();\n",
              "      </script>\n",
              "    "
            ],
            "text/plain": [
              "<IPython.core.display.HTML object>"
            ]
          },
          "metadata": {},
          "output_type": "display_data"
        }
      ],
      "source": [
        "%reload_ext tensorboard\n",
        "%tensorboard  --logdir C:\\\\Users\\\\AIshared\\\\LLM\\\\logs\\\\  --port=6005"
      ]
    },
    {
      "cell_type": "code",
      "execution_count": null,
      "metadata": {
        "id": "ySoKVRxMnm_E",
        "outputId": "52e1bdaf-5fed-424c-958f-d85020485818"
      },
      "outputs": [
        {
          "name": "stderr",
          "output_type": "stream",
          "text": [
            "kill: 12624: No such process\n",
            "kill: 18436: No such process\n"
          ]
        }
      ],
      "source": [
        "!kill 12624\n",
        "!kill 18436"
      ]
    },
    {
      "cell_type": "code",
      "execution_count": null,
      "metadata": {
        "id": "QD5z8XMwnm_K",
        "outputId": "bdd384a6-9331-4394-b78c-ec77e9da7cb4"
      },
      "outputs": [
        {
          "name": "stdout",
          "output_type": "stream",
          "text": [
            "PyTorch version: 2.6.0+cu126\n",
            "TensorBoard version: 2.20.0\n"
          ]
        }
      ],
      "source": [
        "print(f\"PyTorch version: {torch.__version__}\")\n",
        "print(f\"TensorBoard version: {tensorboard.__version__}\")"
      ]
    },
    {
      "cell_type": "code",
      "execution_count": null,
      "metadata": {
        "id": "fcVdfT9Fnm_K",
        "outputId": "64b66e61-1ebe-4f4f-9a11-55c394351eb7"
      },
      "outputs": [
        {
          "name": "stdout",
          "output_type": "stream",
          "text": [
            "Файл существует: True\n",
            "Размер файла: 248102934 байт\n",
            "Доступен для чтения: True\n"
          ]
        }
      ],
      "source": [
        "trace_file = \"C:\\\\Users\\\\AIshared\\\\LLM\\\\logs\\\\full_prefill_dominant\\\\SMIRNOVA2_5584.1758472569490382100.pt.trace.json\"\n",
        "print(f\"Файл существует: {os.path.exists(trace_file)}\")\n",
        "print(f\"Размер файла: {os.path.getsize(trace_file)} байт\")\n",
        "print(f\"Доступен для чтения: {os.access(trace_file, os.R_OK)}\")"
      ]
    },
    {
      "cell_type": "markdown",
      "metadata": {
        "id": "IENumVfYnm_K"
      },
      "source": [
        "## Профилирование квантованной модели"
      ]
    },
    {
      "cell_type": "code",
      "execution_count": null,
      "metadata": {
        "id": "bCmW5ocjnm_K",
        "outputId": "aa1259ea-8330-47bb-9927-2f1b0ed18e42",
        "colab": {
          "referenced_widgets": [
            "5490e11654c04492a6ae830ea497e77a"
          ]
        }
      },
      "outputs": [
        {
          "data": {
            "application/vnd.jupyter.widget-view+json": {
              "model_id": "5490e11654c04492a6ae830ea497e77a",
              "version_major": 2,
              "version_minor": 0
            },
            "text/plain": [
              "Loading checkpoint shards:   0%|          | 0/2 [00:00<?, ?it/s]"
            ]
          },
          "metadata": {},
          "output_type": "display_data"
        }
      ],
      "source": [
        "quantized_model = LLM(MODEL_NAME, load_type='quantized', quant_type='nf4')"
      ]
    },
    {
      "cell_type": "markdown",
      "metadata": {
        "id": "57Zq3U9xnm_L"
      },
      "source": [
        "### Prefill-доминантный сценарий"
      ]
    },
    {
      "cell_type": "code",
      "execution_count": null,
      "metadata": {
        "id": "RTiJJscmnm_L",
        "outputId": "2265c915-9889-4a7c-84af-19bed79add3d"
      },
      "outputs": [
        {
          "name": "stdout",
          "output_type": "stream",
          "text": [
            "--------------------------------------------  ------------  ------------  ------------  ------------  ------------  ------------  ------------  ------------  ------------  ------------  ------------  ------------  ------------  ------------  \n",
            "                                        Name    Self CPU %      Self CPU   CPU total %     CPU total  CPU time avg     Self CUDA   Self CUDA %    CUDA total  CUDA time avg       CPU Mem  Self CPU Mem      CUDA Mem  Self CUDA Mem    # of Calls  \n",
            "--------------------------------------------  ------------  ------------  ------------  ------------  ------------  ------------  ------------  ------------  ------------  ------------  ------------  ------------  ------------  ------------  \n",
            "                                 aten::copy_         4.87%     182.534ms         4.93%     184.766ms      13.308us        1.103s        19.42%        1.108s      79.837us           0 b           0 b           0 b      -4.00 Kb         13884  \n",
            "                                   aten::mul         5.25%     196.717ms         5.25%     196.717ms      18.828us     708.670ms        12.48%     708.670ms      67.828us         176 b         176 b       2.22 Gb       2.22 Gb         10448  \n",
            "                                   aten::add         5.71%     213.926ms         5.71%     213.926ms      17.363us     692.167ms        12.19%     692.167ms      56.178us           0 b           0 b       2.97 Gb       2.97 Gb         12321  \n",
            "                         aten::empty_strided         4.73%     177.449ms         4.73%     177.449ms      10.712us     653.836ms        11.51%     653.836ms      39.469us           0 b           0 b       5.46 Gb       5.46 Gb         16566  \n",
            "                     bitsandbytes::gemv_4bit         5.93%     222.129ms         6.81%     255.142ms      71.468us     386.947ms         6.81%     511.785ms     143.357us           0 b           0 b      28.89 Mb           0 b          3570  \n",
            "                                 aten::empty         1.29%      48.283ms         1.29%      48.283ms       8.453us     202.701ms         3.57%     202.701ms      35.487us           0 b           0 b       8.08 Gb       8.08 Gb          5712  \n",
            "                                   aten::pow         4.82%     180.747ms         4.86%     182.097ms      55.517us     167.092ms         2.94%     184.318ms      56.195us           0 b           0 b     439.29 Mb     439.29 Mb          3280  \n",
            "          bitsandbytes::dequantize_blockwise         5.88%     220.299ms         9.42%     353.187ms      92.749us     159.462ms         2.81%     296.989ms      77.991us           0 b           0 b       3.49 Gb           0 b          3808  \n",
            "                                    aten::to         4.84%     181.478ms        23.25%     871.427ms      20.690us     142.856ms         2.52%        1.802s      42.788us           0 b           0 b       1.97 Gb           0 b         42118  \n",
            "                                  aten::mean         1.57%      58.974ms         1.57%      58.974ms      17.980us     136.308ms         2.40%     136.308ms      41.557us           0 b           0 b       2.02 Mb       2.02 Mb          3280  \n",
            "                                 aten::rsqrt         1.29%      48.519ms         1.29%      48.519ms      14.793us     127.198ms         2.24%     127.198ms      38.780us           0 b           0 b       2.02 Mb       2.02 Mb          3280  \n",
            "                                   aten::cat         1.13%      42.237ms         1.13%      42.237ms      19.129us     117.779ms         2.07%     117.779ms      53.342us           0 b           0 b     572.58 Mb     572.58 Mb          2208  \n",
            "                              aten::_to_copy        10.70%     401.091ms        18.41%     689.950ms      54.080us     117.574ms         2.07%        1.659s     130.058us           0 b           0 b       1.97 Gb           0 b         12758  \n",
            "                                    aten::mm         1.15%      42.935ms         1.15%      42.935ms     169.034us      88.810ms         1.56%      88.810ms     349.646us           0 b           0 b     600.56 Mb     600.56 Mb           254  \n",
            "                                  aten::gelu         0.33%      12.285ms         0.33%      12.285ms      22.582us      86.200ms         1.52%      86.200ms     158.456us           0 b           0 b     168.01 Mb     168.01 Mb           544  \n",
            "                                   aten::bmm         1.59%      59.618ms         1.59%      59.618ms      53.230us      81.746ms         1.44%      81.746ms      72.987us           0 b           0 b     130.19 Mb     130.19 Mb          1120  \n",
            "                            aten::as_strided         0.33%      12.234ms         0.33%      12.234ms       0.541us      58.413ms         1.03%      58.413ms       2.584us           0 b           0 b           0 b           0 b         22607  \n",
            "                             aten::transpose         5.05%     189.431ms         5.23%     195.996ms      18.047us      54.079ms         0.95%      81.004ms       7.459us           0 b           0 b           0 b           0 b         10860  \n",
            "                                   aten::neg         0.52%      19.463ms         0.52%      19.463ms      17.889us      44.167ms         0.78%      44.167ms      40.595us           0 b           0 b      25.20 Mb      25.20 Mb          1088  \n",
            "                                     aten::t         3.79%     141.915ms         7.78%     291.474ms      35.949us      41.277ms         0.73%     101.983ms      12.578us           0 b           0 b           0 b           0 b          8108  \n",
            "--------------------------------------------  ------------  ------------  ------------  ------------  ------------  ------------  ------------  ------------  ------------  ------------  ------------  ------------  ------------  ------------  \n",
            "Self CPU time total: 3.748s\n",
            "Self CUDA time total: 5.680s\n",
            "\n"
          ]
        }
      ],
      "source": [
        "inputs_long = quantized_model.tokenize(prompt_1000_bool)\n",
        "quantized_model.profile_generation(\n",
        "    inputs_long,\n",
        "    max_tokens=16,\n",
        "    profiler_dir=\"./logs/q_prefill_dominant\"\n",
        ")"
      ]
    },
    {
      "cell_type": "markdown",
      "metadata": {
        "id": "jpVvcVm1nm_L"
      },
      "source": [
        "### Decode-доминантный сценарий"
      ]
    },
    {
      "cell_type": "code",
      "execution_count": null,
      "metadata": {
        "id": "zOr2X9pKnm_L",
        "outputId": "5d680575-69f4-4957-d3f1-02c4b31a8180"
      },
      "outputs": [
        {
          "name": "stdout",
          "output_type": "stream",
          "text": [
            "--------------------------------------------  ------------  ------------  ------------  ------------  ------------  ------------  ------------  ------------  ------------  ------------  ------------  ------------  ------------  ------------  \n",
            "                                        Name    Self CPU %      Self CPU   CPU total %     CPU total  CPU time avg     Self CUDA   Self CUDA %    CUDA total  CUDA time avg       CPU Mem  Self CPU Mem      CUDA Mem  Self CUDA Mem    # of Calls  \n",
            "--------------------------------------------  ------------  ------------  ------------  ------------  ------------  ------------  ------------  ------------  ------------  ------------  ------------  ------------  ------------  ------------  \n",
            "                                 aten::copy_         8.63%        2.467s         8.66%        2.475s      11.224us        5.665s        13.99%        5.674s      25.731us           0 b           0 b           0 b      -2.00 Kb        220524  \n",
            "                         aten::empty_strided         6.48%        1.852s         6.48%        1.852s       7.014us        5.554s        13.71%        5.554s      21.039us           0 b           0 b      72.08 Gb      72.08 Gb        264006  \n",
            "                                   aten::add         9.82%        2.807s         9.82%        2.807s      13.985us        4.448s        10.98%        4.448s      22.158us           0 b           0 b      48.17 Gb      48.17 Gb        200721  \n",
            "                                   aten::mul         8.02%        2.294s         8.02%        2.294s      13.722us        3.635s         8.97%        3.635s      21.746us       4.41 Kb       4.41 Kb      14.64 Gb      14.64 Gb        167168  \n",
            "                     bitsandbytes::gemv_4bit         9.66%        2.763s        11.25%        3.217s      53.009us        2.073s         5.12%        3.136s      51.679us           0 b           0 b     491.07 Mb           0 b         60690  \n",
            "                                    aten::to         2.66%     760.931ms        21.43%        6.126s       9.161us        1.942s         4.79%       12.952s      19.367us           0 b           0 b      16.30 Gb           0 b        668758  \n",
            "                              aten::_to_copy         6.28%        1.797s        18.77%        5.365s      26.421us        1.559s         3.85%       11.010s      54.214us           0 b           0 b      16.30 Gb           0 b        203078  \n",
            "                                 aten::empty         2.21%     630.878ms         2.21%     630.878ms       7.186us        1.552s         3.83%        1.552s      17.680us           0 b           0 b      34.31 Gb      34.31 Gb         87792  \n",
            "                                  aten::mean         2.75%     785.375ms         2.75%     785.375ms      14.965us        1.410s         3.48%        1.410s      26.864us           0 b           0 b      25.72 Mb      25.72 Mb         52480  \n",
            "          bitsandbytes::dequantize_blockwise        10.22%        2.922s        13.10%        3.747s      61.499us        1.393s         3.44%        2.940s      48.251us           0 b           0 b      55.78 Gb           0 b         60928  \n",
            "                                 aten::rsqrt         2.34%     668.219ms         2.34%     668.219ms      12.733us        1.261s         3.11%        1.261s      24.033us           0 b           0 b      25.72 Mb      25.72 Mb         52480  \n",
            "                                   aten::pow         4.08%        1.168s         4.15%        1.186s      22.600us        1.186s         2.93%        1.424s      27.133us           0 b           0 b     564.31 Mb     564.31 Mb         52480  \n",
            "                            aten::as_strided         0.65%     185.520ms         0.65%     185.520ms       0.523us     832.409ms         2.05%     832.409ms       2.348us           0 b           0 b           0 b           0 b        354527  \n",
            "                             aten::transpose         2.56%     731.025ms         2.88%     823.087ms       4.940us     750.961ms         1.85%        1.108s       6.653us           0 b           0 b           0 b           0 b        166620  \n",
            "                                   aten::cat         1.85%     528.926ms         1.85%     528.926ms      14.972us     727.768ms         1.80%     727.768ms      20.600us           0 b           0 b       6.62 Gb       6.62 Gb         35328  \n",
            "                                   aten::bmm         2.27%     647.923ms         2.27%     647.923ms      36.156us     588.466ms         1.45%     588.466ms      32.839us           0 b           0 b     154.24 Mb     154.24 Mb         17920  \n",
            "                                 aten::slice         1.69%     483.211ms         1.85%     527.772ms       5.440us     526.573ms         1.30%     792.213ms       8.165us           0 b           0 b           0 b           0 b         97024  \n",
            "                                     aten::t         1.87%     533.976ms         3.87%        1.107s       9.032us     523.447ms         1.29%        1.350s      11.009us           0 b           0 b           0 b           0 b        122588  \n",
            "                                   aten::neg         0.91%     259.458ms         0.91%     259.458ms      14.905us     498.134ms         1.23%     498.134ms      28.615us           0 b           0 b      32.37 Mb      32.37 Mb         17408  \n",
            "    aten::_scaled_dot_product_attention_math         1.64%     469.567ms        19.75%        5.646s     648.630us     399.964ms         0.99%        7.492s     860.752us           0 b      -4.41 Kb      75.94 Mb     -56.13 Gb          8704  \n",
            "--------------------------------------------  ------------  ------------  ------------  ------------  ------------  ------------  ------------  ------------  ------------  ------------  ------------  ------------  ------------  ------------  \n",
            "Self CPU time total: 28.593s\n",
            "Self CUDA time total: 40.507s\n",
            "\n"
          ]
        }
      ],
      "source": [
        "inputs_short = quantized_model.tokenize(prompt_300)\n",
        "quantized_model.profile_generation(\n",
        "    inputs_short,\n",
        "    max_tokens=256,\n",
        "    profiler_dir=\"./logs/q_decode_dominant\"\n",
        ")"
      ]
    },
    {
      "cell_type": "code",
      "execution_count": null,
      "metadata": {
        "id": "F3pRFiwonm_L",
        "outputId": "f9f4603c-1c64-41f1-a78a-3ddb824b8d33"
      },
      "outputs": [
        {
          "name": "stdout",
          "output_type": "stream",
          "text": [
            "Освобождение памяти от квантованной модели...\n"
          ]
        }
      ],
      "source": [
        "print(\"Освобождение памяти от квантованной модели...\")\n",
        "quantized_model.cleanup()\n",
        "del quantized_model\n",
        "\n",
        "if torch.cuda.is_available():\n",
        "    torch.cuda.empty_cache()\n",
        "    torch.cuda.reset_peak_memory_stats()\n",
        "gc.collect()\n",
        "\n",
        "time.sleep(5)"
      ]
    },
    {
      "cell_type": "code",
      "execution_count": null,
      "metadata": {
        "id": "CMkqFw48nm_L",
        "outputId": "5e3cff5d-6400-4236-c71d-49ac9f03a754"
      },
      "outputs": [
        {
          "data": {
            "text/html": [
              "\n",
              "      <iframe id=\"tensorboard-frame-23b8c1e9392456de\" width=\"100%\" height=\"800\" frameborder=\"0\">\n",
              "      </iframe>\n",
              "      <script>\n",
              "        (function() {\n",
              "          const frame = document.getElementById(\"tensorboard-frame-23b8c1e9392456de\");\n",
              "          const url = new URL(\"/\", window.location);\n",
              "          const port = 6007;\n",
              "          if (port) {\n",
              "            url.port = port;\n",
              "          }\n",
              "          frame.src = url;\n",
              "        })();\n",
              "      </script>\n",
              "    "
            ],
            "text/plain": [
              "<IPython.core.display.HTML object>"
            ]
          },
          "metadata": {},
          "output_type": "display_data"
        }
      ],
      "source": [
        "%reload_ext tensorboard\n",
        "%tensorboard  --logdir ./logs/  --port=6007"
      ]
    },
    {
      "cell_type": "code",
      "execution_count": null,
      "metadata": {
        "id": "Pw7zDOwZnm_L"
      },
      "outputs": [],
      "source": []
    }
  ],
  "metadata": {
    "colab": {
      "provenance": [],
      "include_colab_link": true
    },
    "kernelspec": {
      "display_name": "Python 3 (ipykernel)",
      "language": "python",
      "name": "python3"
    },
    "language_info": {
      "codemirror_mode": {
        "name": "ipython",
        "version": 3
      },
      "file_extension": ".py",
      "mimetype": "text/x-python",
      "name": "python",
      "nbconvert_exporter": "python",
      "pygments_lexer": "ipython3",
      "version": "3.12.9"
    }
  },
  "nbformat": 4,
  "nbformat_minor": 0
}