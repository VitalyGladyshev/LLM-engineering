{
  "nbformat": 4,
  "nbformat_minor": 0,
  "metadata": {
    "colab": {
      "provenance": [],
      "gpuType": "T4",
      "authorship_tag": "ABX9TyPXRZ1AZBpT/alVnNywhISq",
      "include_colab_link": true
    },
    "kernelspec": {
      "name": "python3",
      "display_name": "Python 3"
    },
    "language_info": {
      "name": "python"
    },
    "accelerator": "GPU",
    "widgets": {
      "application/vnd.jupyter.widget-state+json": {
        "8fc12748db1b49548a116b617d0e0b15": {
          "model_module": "@jupyter-widgets/controls",
          "model_name": "HBoxModel",
          "model_module_version": "1.5.0",
          "state": {
            "_dom_classes": [],
            "_model_module": "@jupyter-widgets/controls",
            "_model_module_version": "1.5.0",
            "_model_name": "HBoxModel",
            "_view_count": null,
            "_view_module": "@jupyter-widgets/controls",
            "_view_module_version": "1.5.0",
            "_view_name": "HBoxView",
            "box_style": "",
            "children": [
              "IPY_MODEL_cf591c5c756648c28ce4f8dd568c0542",
              "IPY_MODEL_e19044c0b43d4f8f8c29d1a0fda45d5d",
              "IPY_MODEL_2f187e7c4f3a4511b69e3af4ebb7733e"
            ],
            "layout": "IPY_MODEL_061a5119644c4179bc16393875589029"
          }
        },
        "cf591c5c756648c28ce4f8dd568c0542": {
          "model_module": "@jupyter-widgets/controls",
          "model_name": "HTMLModel",
          "model_module_version": "1.5.0",
          "state": {
            "_dom_classes": [],
            "_model_module": "@jupyter-widgets/controls",
            "_model_module_version": "1.5.0",
            "_model_name": "HTMLModel",
            "_view_count": null,
            "_view_module": "@jupyter-widgets/controls",
            "_view_module_version": "1.5.0",
            "_view_name": "HTMLView",
            "description": "",
            "description_tooltip": null,
            "layout": "IPY_MODEL_4e1995ec2ae8493c8b788a619d768875",
            "placeholder": "​",
            "style": "IPY_MODEL_e0d4e511531e4997bbf281334f826c05",
            "value": "tokenizer_config.json: "
          }
        },
        "e19044c0b43d4f8f8c29d1a0fda45d5d": {
          "model_module": "@jupyter-widgets/controls",
          "model_name": "FloatProgressModel",
          "model_module_version": "1.5.0",
          "state": {
            "_dom_classes": [],
            "_model_module": "@jupyter-widgets/controls",
            "_model_module_version": "1.5.0",
            "_model_name": "FloatProgressModel",
            "_view_count": null,
            "_view_module": "@jupyter-widgets/controls",
            "_view_module_version": "1.5.0",
            "_view_name": "ProgressView",
            "bar_style": "success",
            "description": "",
            "description_tooltip": null,
            "layout": "IPY_MODEL_aefff39c8a434eaa8aea7ed54b23b52f",
            "max": 1,
            "min": 0,
            "orientation": "horizontal",
            "style": "IPY_MODEL_76bc1ccf0f8540dab758720037a22d7b",
            "value": 1
          }
        },
        "2f187e7c4f3a4511b69e3af4ebb7733e": {
          "model_module": "@jupyter-widgets/controls",
          "model_name": "HTMLModel",
          "model_module_version": "1.5.0",
          "state": {
            "_dom_classes": [],
            "_model_module": "@jupyter-widgets/controls",
            "_model_module_version": "1.5.0",
            "_model_name": "HTMLModel",
            "_view_count": null,
            "_view_module": "@jupyter-widgets/controls",
            "_view_module_version": "1.5.0",
            "_view_name": "HTMLView",
            "description": "",
            "description_tooltip": null,
            "layout": "IPY_MODEL_2ad1d6d23e994fea89c701df48752eb5",
            "placeholder": "​",
            "style": "IPY_MODEL_c57eb56ad5fa46d6b069fd4c6d28ad98",
            "value": " 10.8k/? [00:00&lt;00:00, 985kB/s]"
          }
        },
        "061a5119644c4179bc16393875589029": {
          "model_module": "@jupyter-widgets/base",
          "model_name": "LayoutModel",
          "model_module_version": "1.2.0",
          "state": {
            "_model_module": "@jupyter-widgets/base",
            "_model_module_version": "1.2.0",
            "_model_name": "LayoutModel",
            "_view_count": null,
            "_view_module": "@jupyter-widgets/base",
            "_view_module_version": "1.2.0",
            "_view_name": "LayoutView",
            "align_content": null,
            "align_items": null,
            "align_self": null,
            "border": null,
            "bottom": null,
            "display": null,
            "flex": null,
            "flex_flow": null,
            "grid_area": null,
            "grid_auto_columns": null,
            "grid_auto_flow": null,
            "grid_auto_rows": null,
            "grid_column": null,
            "grid_gap": null,
            "grid_row": null,
            "grid_template_areas": null,
            "grid_template_columns": null,
            "grid_template_rows": null,
            "height": null,
            "justify_content": null,
            "justify_items": null,
            "left": null,
            "margin": null,
            "max_height": null,
            "max_width": null,
            "min_height": null,
            "min_width": null,
            "object_fit": null,
            "object_position": null,
            "order": null,
            "overflow": null,
            "overflow_x": null,
            "overflow_y": null,
            "padding": null,
            "right": null,
            "top": null,
            "visibility": null,
            "width": null
          }
        },
        "4e1995ec2ae8493c8b788a619d768875": {
          "model_module": "@jupyter-widgets/base",
          "model_name": "LayoutModel",
          "model_module_version": "1.2.0",
          "state": {
            "_model_module": "@jupyter-widgets/base",
            "_model_module_version": "1.2.0",
            "_model_name": "LayoutModel",
            "_view_count": null,
            "_view_module": "@jupyter-widgets/base",
            "_view_module_version": "1.2.0",
            "_view_name": "LayoutView",
            "align_content": null,
            "align_items": null,
            "align_self": null,
            "border": null,
            "bottom": null,
            "display": null,
            "flex": null,
            "flex_flow": null,
            "grid_area": null,
            "grid_auto_columns": null,
            "grid_auto_flow": null,
            "grid_auto_rows": null,
            "grid_column": null,
            "grid_gap": null,
            "grid_row": null,
            "grid_template_areas": null,
            "grid_template_columns": null,
            "grid_template_rows": null,
            "height": null,
            "justify_content": null,
            "justify_items": null,
            "left": null,
            "margin": null,
            "max_height": null,
            "max_width": null,
            "min_height": null,
            "min_width": null,
            "object_fit": null,
            "object_position": null,
            "order": null,
            "overflow": null,
            "overflow_x": null,
            "overflow_y": null,
            "padding": null,
            "right": null,
            "top": null,
            "visibility": null,
            "width": null
          }
        },
        "e0d4e511531e4997bbf281334f826c05": {
          "model_module": "@jupyter-widgets/controls",
          "model_name": "DescriptionStyleModel",
          "model_module_version": "1.5.0",
          "state": {
            "_model_module": "@jupyter-widgets/controls",
            "_model_module_version": "1.5.0",
            "_model_name": "DescriptionStyleModel",
            "_view_count": null,
            "_view_module": "@jupyter-widgets/base",
            "_view_module_version": "1.2.0",
            "_view_name": "StyleView",
            "description_width": ""
          }
        },
        "aefff39c8a434eaa8aea7ed54b23b52f": {
          "model_module": "@jupyter-widgets/base",
          "model_name": "LayoutModel",
          "model_module_version": "1.2.0",
          "state": {
            "_model_module": "@jupyter-widgets/base",
            "_model_module_version": "1.2.0",
            "_model_name": "LayoutModel",
            "_view_count": null,
            "_view_module": "@jupyter-widgets/base",
            "_view_module_version": "1.2.0",
            "_view_name": "LayoutView",
            "align_content": null,
            "align_items": null,
            "align_self": null,
            "border": null,
            "bottom": null,
            "display": null,
            "flex": null,
            "flex_flow": null,
            "grid_area": null,
            "grid_auto_columns": null,
            "grid_auto_flow": null,
            "grid_auto_rows": null,
            "grid_column": null,
            "grid_gap": null,
            "grid_row": null,
            "grid_template_areas": null,
            "grid_template_columns": null,
            "grid_template_rows": null,
            "height": null,
            "justify_content": null,
            "justify_items": null,
            "left": null,
            "margin": null,
            "max_height": null,
            "max_width": null,
            "min_height": null,
            "min_width": null,
            "object_fit": null,
            "object_position": null,
            "order": null,
            "overflow": null,
            "overflow_x": null,
            "overflow_y": null,
            "padding": null,
            "right": null,
            "top": null,
            "visibility": null,
            "width": "20px"
          }
        },
        "76bc1ccf0f8540dab758720037a22d7b": {
          "model_module": "@jupyter-widgets/controls",
          "model_name": "ProgressStyleModel",
          "model_module_version": "1.5.0",
          "state": {
            "_model_module": "@jupyter-widgets/controls",
            "_model_module_version": "1.5.0",
            "_model_name": "ProgressStyleModel",
            "_view_count": null,
            "_view_module": "@jupyter-widgets/base",
            "_view_module_version": "1.2.0",
            "_view_name": "StyleView",
            "bar_color": null,
            "description_width": ""
          }
        },
        "2ad1d6d23e994fea89c701df48752eb5": {
          "model_module": "@jupyter-widgets/base",
          "model_name": "LayoutModel",
          "model_module_version": "1.2.0",
          "state": {
            "_model_module": "@jupyter-widgets/base",
            "_model_module_version": "1.2.0",
            "_model_name": "LayoutModel",
            "_view_count": null,
            "_view_module": "@jupyter-widgets/base",
            "_view_module_version": "1.2.0",
            "_view_name": "LayoutView",
            "align_content": null,
            "align_items": null,
            "align_self": null,
            "border": null,
            "bottom": null,
            "display": null,
            "flex": null,
            "flex_flow": null,
            "grid_area": null,
            "grid_auto_columns": null,
            "grid_auto_flow": null,
            "grid_auto_rows": null,
            "grid_column": null,
            "grid_gap": null,
            "grid_row": null,
            "grid_template_areas": null,
            "grid_template_columns": null,
            "grid_template_rows": null,
            "height": null,
            "justify_content": null,
            "justify_items": null,
            "left": null,
            "margin": null,
            "max_height": null,
            "max_width": null,
            "min_height": null,
            "min_width": null,
            "object_fit": null,
            "object_position": null,
            "order": null,
            "overflow": null,
            "overflow_x": null,
            "overflow_y": null,
            "padding": null,
            "right": null,
            "top": null,
            "visibility": null,
            "width": null
          }
        },
        "c57eb56ad5fa46d6b069fd4c6d28ad98": {
          "model_module": "@jupyter-widgets/controls",
          "model_name": "DescriptionStyleModel",
          "model_module_version": "1.5.0",
          "state": {
            "_model_module": "@jupyter-widgets/controls",
            "_model_module_version": "1.5.0",
            "_model_name": "DescriptionStyleModel",
            "_view_count": null,
            "_view_module": "@jupyter-widgets/base",
            "_view_module_version": "1.2.0",
            "_view_name": "StyleView",
            "description_width": ""
          }
        },
        "75e1919412484855a67bd4b2d74e8606": {
          "model_module": "@jupyter-widgets/controls",
          "model_name": "HBoxModel",
          "model_module_version": "1.5.0",
          "state": {
            "_dom_classes": [],
            "_model_module": "@jupyter-widgets/controls",
            "_model_module_version": "1.5.0",
            "_model_name": "HBoxModel",
            "_view_count": null,
            "_view_module": "@jupyter-widgets/controls",
            "_view_module_version": "1.5.0",
            "_view_name": "HBoxView",
            "box_style": "",
            "children": [
              "IPY_MODEL_76fa1e61653942b584af26101487f63e",
              "IPY_MODEL_f47a9abfa14c45e68a92448663637fd6",
              "IPY_MODEL_eb0441ebe29e42549939710306ec3d42"
            ],
            "layout": "IPY_MODEL_698665e5d3424a68803500e6a4c99501"
          }
        },
        "76fa1e61653942b584af26101487f63e": {
          "model_module": "@jupyter-widgets/controls",
          "model_name": "HTMLModel",
          "model_module_version": "1.5.0",
          "state": {
            "_dom_classes": [],
            "_model_module": "@jupyter-widgets/controls",
            "_model_module_version": "1.5.0",
            "_model_name": "HTMLModel",
            "_view_count": null,
            "_view_module": "@jupyter-widgets/controls",
            "_view_module_version": "1.5.0",
            "_view_name": "HTMLView",
            "description": "",
            "description_tooltip": null,
            "layout": "IPY_MODEL_5fb15f33cf0f464f800b0c9b830d698a",
            "placeholder": "​",
            "style": "IPY_MODEL_34d753db531c4c4a8b1a30c90d4b320c",
            "value": "vocab.json: "
          }
        },
        "f47a9abfa14c45e68a92448663637fd6": {
          "model_module": "@jupyter-widgets/controls",
          "model_name": "FloatProgressModel",
          "model_module_version": "1.5.0",
          "state": {
            "_dom_classes": [],
            "_model_module": "@jupyter-widgets/controls",
            "_model_module_version": "1.5.0",
            "_model_name": "FloatProgressModel",
            "_view_count": null,
            "_view_module": "@jupyter-widgets/controls",
            "_view_module_version": "1.5.0",
            "_view_name": "ProgressView",
            "bar_style": "success",
            "description": "",
            "description_tooltip": null,
            "layout": "IPY_MODEL_476758e96ae840fea5b2b57850cc6f70",
            "max": 1,
            "min": 0,
            "orientation": "horizontal",
            "style": "IPY_MODEL_eb8165812a23402b977c0ef5d5e22fb8",
            "value": 1
          }
        },
        "eb0441ebe29e42549939710306ec3d42": {
          "model_module": "@jupyter-widgets/controls",
          "model_name": "HTMLModel",
          "model_module_version": "1.5.0",
          "state": {
            "_dom_classes": [],
            "_model_module": "@jupyter-widgets/controls",
            "_model_module_version": "1.5.0",
            "_model_name": "HTMLModel",
            "_view_count": null,
            "_view_module": "@jupyter-widgets/controls",
            "_view_module_version": "1.5.0",
            "_view_name": "HTMLView",
            "description": "",
            "description_tooltip": null,
            "layout": "IPY_MODEL_437f224575a640cf91be336071f8fce0",
            "placeholder": "​",
            "style": "IPY_MODEL_07fc78d7478c4c11bba5b3e4f132a310",
            "value": " 2.78M/? [00:00&lt;00:00, 6.75MB/s]"
          }
        },
        "698665e5d3424a68803500e6a4c99501": {
          "model_module": "@jupyter-widgets/base",
          "model_name": "LayoutModel",
          "model_module_version": "1.2.0",
          "state": {
            "_model_module": "@jupyter-widgets/base",
            "_model_module_version": "1.2.0",
            "_model_name": "LayoutModel",
            "_view_count": null,
            "_view_module": "@jupyter-widgets/base",
            "_view_module_version": "1.2.0",
            "_view_name": "LayoutView",
            "align_content": null,
            "align_items": null,
            "align_self": null,
            "border": null,
            "bottom": null,
            "display": null,
            "flex": null,
            "flex_flow": null,
            "grid_area": null,
            "grid_auto_columns": null,
            "grid_auto_flow": null,
            "grid_auto_rows": null,
            "grid_column": null,
            "grid_gap": null,
            "grid_row": null,
            "grid_template_areas": null,
            "grid_template_columns": null,
            "grid_template_rows": null,
            "height": null,
            "justify_content": null,
            "justify_items": null,
            "left": null,
            "margin": null,
            "max_height": null,
            "max_width": null,
            "min_height": null,
            "min_width": null,
            "object_fit": null,
            "object_position": null,
            "order": null,
            "overflow": null,
            "overflow_x": null,
            "overflow_y": null,
            "padding": null,
            "right": null,
            "top": null,
            "visibility": null,
            "width": null
          }
        },
        "5fb15f33cf0f464f800b0c9b830d698a": {
          "model_module": "@jupyter-widgets/base",
          "model_name": "LayoutModel",
          "model_module_version": "1.2.0",
          "state": {
            "_model_module": "@jupyter-widgets/base",
            "_model_module_version": "1.2.0",
            "_model_name": "LayoutModel",
            "_view_count": null,
            "_view_module": "@jupyter-widgets/base",
            "_view_module_version": "1.2.0",
            "_view_name": "LayoutView",
            "align_content": null,
            "align_items": null,
            "align_self": null,
            "border": null,
            "bottom": null,
            "display": null,
            "flex": null,
            "flex_flow": null,
            "grid_area": null,
            "grid_auto_columns": null,
            "grid_auto_flow": null,
            "grid_auto_rows": null,
            "grid_column": null,
            "grid_gap": null,
            "grid_row": null,
            "grid_template_areas": null,
            "grid_template_columns": null,
            "grid_template_rows": null,
            "height": null,
            "justify_content": null,
            "justify_items": null,
            "left": null,
            "margin": null,
            "max_height": null,
            "max_width": null,
            "min_height": null,
            "min_width": null,
            "object_fit": null,
            "object_position": null,
            "order": null,
            "overflow": null,
            "overflow_x": null,
            "overflow_y": null,
            "padding": null,
            "right": null,
            "top": null,
            "visibility": null,
            "width": null
          }
        },
        "34d753db531c4c4a8b1a30c90d4b320c": {
          "model_module": "@jupyter-widgets/controls",
          "model_name": "DescriptionStyleModel",
          "model_module_version": "1.5.0",
          "state": {
            "_model_module": "@jupyter-widgets/controls",
            "_model_module_version": "1.5.0",
            "_model_name": "DescriptionStyleModel",
            "_view_count": null,
            "_view_module": "@jupyter-widgets/base",
            "_view_module_version": "1.2.0",
            "_view_name": "StyleView",
            "description_width": ""
          }
        },
        "476758e96ae840fea5b2b57850cc6f70": {
          "model_module": "@jupyter-widgets/base",
          "model_name": "LayoutModel",
          "model_module_version": "1.2.0",
          "state": {
            "_model_module": "@jupyter-widgets/base",
            "_model_module_version": "1.2.0",
            "_model_name": "LayoutModel",
            "_view_count": null,
            "_view_module": "@jupyter-widgets/base",
            "_view_module_version": "1.2.0",
            "_view_name": "LayoutView",
            "align_content": null,
            "align_items": null,
            "align_self": null,
            "border": null,
            "bottom": null,
            "display": null,
            "flex": null,
            "flex_flow": null,
            "grid_area": null,
            "grid_auto_columns": null,
            "grid_auto_flow": null,
            "grid_auto_rows": null,
            "grid_column": null,
            "grid_gap": null,
            "grid_row": null,
            "grid_template_areas": null,
            "grid_template_columns": null,
            "grid_template_rows": null,
            "height": null,
            "justify_content": null,
            "justify_items": null,
            "left": null,
            "margin": null,
            "max_height": null,
            "max_width": null,
            "min_height": null,
            "min_width": null,
            "object_fit": null,
            "object_position": null,
            "order": null,
            "overflow": null,
            "overflow_x": null,
            "overflow_y": null,
            "padding": null,
            "right": null,
            "top": null,
            "visibility": null,
            "width": "20px"
          }
        },
        "eb8165812a23402b977c0ef5d5e22fb8": {
          "model_module": "@jupyter-widgets/controls",
          "model_name": "ProgressStyleModel",
          "model_module_version": "1.5.0",
          "state": {
            "_model_module": "@jupyter-widgets/controls",
            "_model_module_version": "1.5.0",
            "_model_name": "ProgressStyleModel",
            "_view_count": null,
            "_view_module": "@jupyter-widgets/base",
            "_view_module_version": "1.2.0",
            "_view_name": "StyleView",
            "bar_color": null,
            "description_width": ""
          }
        },
        "437f224575a640cf91be336071f8fce0": {
          "model_module": "@jupyter-widgets/base",
          "model_name": "LayoutModel",
          "model_module_version": "1.2.0",
          "state": {
            "_model_module": "@jupyter-widgets/base",
            "_model_module_version": "1.2.0",
            "_model_name": "LayoutModel",
            "_view_count": null,
            "_view_module": "@jupyter-widgets/base",
            "_view_module_version": "1.2.0",
            "_view_name": "LayoutView",
            "align_content": null,
            "align_items": null,
            "align_self": null,
            "border": null,
            "bottom": null,
            "display": null,
            "flex": null,
            "flex_flow": null,
            "grid_area": null,
            "grid_auto_columns": null,
            "grid_auto_flow": null,
            "grid_auto_rows": null,
            "grid_column": null,
            "grid_gap": null,
            "grid_row": null,
            "grid_template_areas": null,
            "grid_template_columns": null,
            "grid_template_rows": null,
            "height": null,
            "justify_content": null,
            "justify_items": null,
            "left": null,
            "margin": null,
            "max_height": null,
            "max_width": null,
            "min_height": null,
            "min_width": null,
            "object_fit": null,
            "object_position": null,
            "order": null,
            "overflow": null,
            "overflow_x": null,
            "overflow_y": null,
            "padding": null,
            "right": null,
            "top": null,
            "visibility": null,
            "width": null
          }
        },
        "07fc78d7478c4c11bba5b3e4f132a310": {
          "model_module": "@jupyter-widgets/controls",
          "model_name": "DescriptionStyleModel",
          "model_module_version": "1.5.0",
          "state": {
            "_model_module": "@jupyter-widgets/controls",
            "_model_module_version": "1.5.0",
            "_model_name": "DescriptionStyleModel",
            "_view_count": null,
            "_view_module": "@jupyter-widgets/base",
            "_view_module_version": "1.2.0",
            "_view_name": "StyleView",
            "description_width": ""
          }
        },
        "b6e0f91596f1478b81accfbc0d1ca989": {
          "model_module": "@jupyter-widgets/controls",
          "model_name": "HBoxModel",
          "model_module_version": "1.5.0",
          "state": {
            "_dom_classes": [],
            "_model_module": "@jupyter-widgets/controls",
            "_model_module_version": "1.5.0",
            "_model_name": "HBoxModel",
            "_view_count": null,
            "_view_module": "@jupyter-widgets/controls",
            "_view_module_version": "1.5.0",
            "_view_name": "HBoxView",
            "box_style": "",
            "children": [
              "IPY_MODEL_bb574a08effe4bd29ff501497f0dbeda",
              "IPY_MODEL_a51e095c12d24d91b706a08780f7db16",
              "IPY_MODEL_4b0fa03bed8847208355c416ecd7cbc0"
            ],
            "layout": "IPY_MODEL_c70489bc17134520bd47699c54448cc0"
          }
        },
        "bb574a08effe4bd29ff501497f0dbeda": {
          "model_module": "@jupyter-widgets/controls",
          "model_name": "HTMLModel",
          "model_module_version": "1.5.0",
          "state": {
            "_dom_classes": [],
            "_model_module": "@jupyter-widgets/controls",
            "_model_module_version": "1.5.0",
            "_model_name": "HTMLModel",
            "_view_count": null,
            "_view_module": "@jupyter-widgets/controls",
            "_view_module_version": "1.5.0",
            "_view_name": "HTMLView",
            "description": "",
            "description_tooltip": null,
            "layout": "IPY_MODEL_f297ed3597564decb40b2eb5c55e369e",
            "placeholder": "​",
            "style": "IPY_MODEL_3ed62f5a4f1241bfb0dc4a5bc5ef33ce",
            "value": "merges.txt: "
          }
        },
        "a51e095c12d24d91b706a08780f7db16": {
          "model_module": "@jupyter-widgets/controls",
          "model_name": "FloatProgressModel",
          "model_module_version": "1.5.0",
          "state": {
            "_dom_classes": [],
            "_model_module": "@jupyter-widgets/controls",
            "_model_module_version": "1.5.0",
            "_model_name": "FloatProgressModel",
            "_view_count": null,
            "_view_module": "@jupyter-widgets/controls",
            "_view_module_version": "1.5.0",
            "_view_name": "ProgressView",
            "bar_style": "success",
            "description": "",
            "description_tooltip": null,
            "layout": "IPY_MODEL_006e37e488bd4fa8adacb52aac974cb1",
            "max": 1,
            "min": 0,
            "orientation": "horizontal",
            "style": "IPY_MODEL_2e9addce537949d98d032693fc276f2b",
            "value": 1
          }
        },
        "4b0fa03bed8847208355c416ecd7cbc0": {
          "model_module": "@jupyter-widgets/controls",
          "model_name": "HTMLModel",
          "model_module_version": "1.5.0",
          "state": {
            "_dom_classes": [],
            "_model_module": "@jupyter-widgets/controls",
            "_model_module_version": "1.5.0",
            "_model_name": "HTMLModel",
            "_view_count": null,
            "_view_module": "@jupyter-widgets/controls",
            "_view_module_version": "1.5.0",
            "_view_name": "HTMLView",
            "description": "",
            "description_tooltip": null,
            "layout": "IPY_MODEL_a314e158bdaf4563850f60ecabd1eac7",
            "placeholder": "​",
            "style": "IPY_MODEL_f4a78fa77edb40919e7fc9c85ee719b1",
            "value": " 1.67M/? [00:00&lt;00:00, 306kB/s]"
          }
        },
        "c70489bc17134520bd47699c54448cc0": {
          "model_module": "@jupyter-widgets/base",
          "model_name": "LayoutModel",
          "model_module_version": "1.2.0",
          "state": {
            "_model_module": "@jupyter-widgets/base",
            "_model_module_version": "1.2.0",
            "_model_name": "LayoutModel",
            "_view_count": null,
            "_view_module": "@jupyter-widgets/base",
            "_view_module_version": "1.2.0",
            "_view_name": "LayoutView",
            "align_content": null,
            "align_items": null,
            "align_self": null,
            "border": null,
            "bottom": null,
            "display": null,
            "flex": null,
            "flex_flow": null,
            "grid_area": null,
            "grid_auto_columns": null,
            "grid_auto_flow": null,
            "grid_auto_rows": null,
            "grid_column": null,
            "grid_gap": null,
            "grid_row": null,
            "grid_template_areas": null,
            "grid_template_columns": null,
            "grid_template_rows": null,
            "height": null,
            "justify_content": null,
            "justify_items": null,
            "left": null,
            "margin": null,
            "max_height": null,
            "max_width": null,
            "min_height": null,
            "min_width": null,
            "object_fit": null,
            "object_position": null,
            "order": null,
            "overflow": null,
            "overflow_x": null,
            "overflow_y": null,
            "padding": null,
            "right": null,
            "top": null,
            "visibility": null,
            "width": null
          }
        },
        "f297ed3597564decb40b2eb5c55e369e": {
          "model_module": "@jupyter-widgets/base",
          "model_name": "LayoutModel",
          "model_module_version": "1.2.0",
          "state": {
            "_model_module": "@jupyter-widgets/base",
            "_model_module_version": "1.2.0",
            "_model_name": "LayoutModel",
            "_view_count": null,
            "_view_module": "@jupyter-widgets/base",
            "_view_module_version": "1.2.0",
            "_view_name": "LayoutView",
            "align_content": null,
            "align_items": null,
            "align_self": null,
            "border": null,
            "bottom": null,
            "display": null,
            "flex": null,
            "flex_flow": null,
            "grid_area": null,
            "grid_auto_columns": null,
            "grid_auto_flow": null,
            "grid_auto_rows": null,
            "grid_column": null,
            "grid_gap": null,
            "grid_row": null,
            "grid_template_areas": null,
            "grid_template_columns": null,
            "grid_template_rows": null,
            "height": null,
            "justify_content": null,
            "justify_items": null,
            "left": null,
            "margin": null,
            "max_height": null,
            "max_width": null,
            "min_height": null,
            "min_width": null,
            "object_fit": null,
            "object_position": null,
            "order": null,
            "overflow": null,
            "overflow_x": null,
            "overflow_y": null,
            "padding": null,
            "right": null,
            "top": null,
            "visibility": null,
            "width": null
          }
        },
        "3ed62f5a4f1241bfb0dc4a5bc5ef33ce": {
          "model_module": "@jupyter-widgets/controls",
          "model_name": "DescriptionStyleModel",
          "model_module_version": "1.5.0",
          "state": {
            "_model_module": "@jupyter-widgets/controls",
            "_model_module_version": "1.5.0",
            "_model_name": "DescriptionStyleModel",
            "_view_count": null,
            "_view_module": "@jupyter-widgets/base",
            "_view_module_version": "1.2.0",
            "_view_name": "StyleView",
            "description_width": ""
          }
        },
        "006e37e488bd4fa8adacb52aac974cb1": {
          "model_module": "@jupyter-widgets/base",
          "model_name": "LayoutModel",
          "model_module_version": "1.2.0",
          "state": {
            "_model_module": "@jupyter-widgets/base",
            "_model_module_version": "1.2.0",
            "_model_name": "LayoutModel",
            "_view_count": null,
            "_view_module": "@jupyter-widgets/base",
            "_view_module_version": "1.2.0",
            "_view_name": "LayoutView",
            "align_content": null,
            "align_items": null,
            "align_self": null,
            "border": null,
            "bottom": null,
            "display": null,
            "flex": null,
            "flex_flow": null,
            "grid_area": null,
            "grid_auto_columns": null,
            "grid_auto_flow": null,
            "grid_auto_rows": null,
            "grid_column": null,
            "grid_gap": null,
            "grid_row": null,
            "grid_template_areas": null,
            "grid_template_columns": null,
            "grid_template_rows": null,
            "height": null,
            "justify_content": null,
            "justify_items": null,
            "left": null,
            "margin": null,
            "max_height": null,
            "max_width": null,
            "min_height": null,
            "min_width": null,
            "object_fit": null,
            "object_position": null,
            "order": null,
            "overflow": null,
            "overflow_x": null,
            "overflow_y": null,
            "padding": null,
            "right": null,
            "top": null,
            "visibility": null,
            "width": "20px"
          }
        },
        "2e9addce537949d98d032693fc276f2b": {
          "model_module": "@jupyter-widgets/controls",
          "model_name": "ProgressStyleModel",
          "model_module_version": "1.5.0",
          "state": {
            "_model_module": "@jupyter-widgets/controls",
            "_model_module_version": "1.5.0",
            "_model_name": "ProgressStyleModel",
            "_view_count": null,
            "_view_module": "@jupyter-widgets/base",
            "_view_module_version": "1.2.0",
            "_view_name": "StyleView",
            "bar_color": null,
            "description_width": ""
          }
        },
        "a314e158bdaf4563850f60ecabd1eac7": {
          "model_module": "@jupyter-widgets/base",
          "model_name": "LayoutModel",
          "model_module_version": "1.2.0",
          "state": {
            "_model_module": "@jupyter-widgets/base",
            "_model_module_version": "1.2.0",
            "_model_name": "LayoutModel",
            "_view_count": null,
            "_view_module": "@jupyter-widgets/base",
            "_view_module_version": "1.2.0",
            "_view_name": "LayoutView",
            "align_content": null,
            "align_items": null,
            "align_self": null,
            "border": null,
            "bottom": null,
            "display": null,
            "flex": null,
            "flex_flow": null,
            "grid_area": null,
            "grid_auto_columns": null,
            "grid_auto_flow": null,
            "grid_auto_rows": null,
            "grid_column": null,
            "grid_gap": null,
            "grid_row": null,
            "grid_template_areas": null,
            "grid_template_columns": null,
            "grid_template_rows": null,
            "height": null,
            "justify_content": null,
            "justify_items": null,
            "left": null,
            "margin": null,
            "max_height": null,
            "max_width": null,
            "min_height": null,
            "min_width": null,
            "object_fit": null,
            "object_position": null,
            "order": null,
            "overflow": null,
            "overflow_x": null,
            "overflow_y": null,
            "padding": null,
            "right": null,
            "top": null,
            "visibility": null,
            "width": null
          }
        },
        "f4a78fa77edb40919e7fc9c85ee719b1": {
          "model_module": "@jupyter-widgets/controls",
          "model_name": "DescriptionStyleModel",
          "model_module_version": "1.5.0",
          "state": {
            "_model_module": "@jupyter-widgets/controls",
            "_model_module_version": "1.5.0",
            "_model_name": "DescriptionStyleModel",
            "_view_count": null,
            "_view_module": "@jupyter-widgets/base",
            "_view_module_version": "1.2.0",
            "_view_name": "StyleView",
            "description_width": ""
          }
        },
        "a8f1a3326f82419aa9d7c66ac4f6a581": {
          "model_module": "@jupyter-widgets/controls",
          "model_name": "HBoxModel",
          "model_module_version": "1.5.0",
          "state": {
            "_dom_classes": [],
            "_model_module": "@jupyter-widgets/controls",
            "_model_module_version": "1.5.0",
            "_model_name": "HBoxModel",
            "_view_count": null,
            "_view_module": "@jupyter-widgets/controls",
            "_view_module_version": "1.5.0",
            "_view_name": "HBoxView",
            "box_style": "",
            "children": [
              "IPY_MODEL_9db7b55db2a34accb351f59457f15dd0",
              "IPY_MODEL_b22f20a688474f3f9abfe4f3397181dc",
              "IPY_MODEL_371532818be24e4a99c5fbc340177960"
            ],
            "layout": "IPY_MODEL_4e226c4d46ad4eac80967c49c9df598a"
          }
        },
        "9db7b55db2a34accb351f59457f15dd0": {
          "model_module": "@jupyter-widgets/controls",
          "model_name": "HTMLModel",
          "model_module_version": "1.5.0",
          "state": {
            "_dom_classes": [],
            "_model_module": "@jupyter-widgets/controls",
            "_model_module_version": "1.5.0",
            "_model_name": "HTMLModel",
            "_view_count": null,
            "_view_module": "@jupyter-widgets/controls",
            "_view_module_version": "1.5.0",
            "_view_name": "HTMLView",
            "description": "",
            "description_tooltip": null,
            "layout": "IPY_MODEL_a5288927875345a6bbe05a03cf84e677",
            "placeholder": "​",
            "style": "IPY_MODEL_283ec8f4d522441b8461ba06fe55e718",
            "value": "tokenizer.json: 100%"
          }
        },
        "b22f20a688474f3f9abfe4f3397181dc": {
          "model_module": "@jupyter-widgets/controls",
          "model_name": "FloatProgressModel",
          "model_module_version": "1.5.0",
          "state": {
            "_dom_classes": [],
            "_model_module": "@jupyter-widgets/controls",
            "_model_module_version": "1.5.0",
            "_model_name": "FloatProgressModel",
            "_view_count": null,
            "_view_module": "@jupyter-widgets/controls",
            "_view_module_version": "1.5.0",
            "_view_name": "ProgressView",
            "bar_style": "success",
            "description": "",
            "description_tooltip": null,
            "layout": "IPY_MODEL_3318ca5194074c30bb244413fe044725",
            "max": 11422654,
            "min": 0,
            "orientation": "horizontal",
            "style": "IPY_MODEL_2ccabe98cc204298a3ea59586704e825",
            "value": 11422654
          }
        },
        "371532818be24e4a99c5fbc340177960": {
          "model_module": "@jupyter-widgets/controls",
          "model_name": "HTMLModel",
          "model_module_version": "1.5.0",
          "state": {
            "_dom_classes": [],
            "_model_module": "@jupyter-widgets/controls",
            "_model_module_version": "1.5.0",
            "_model_name": "HTMLModel",
            "_view_count": null,
            "_view_module": "@jupyter-widgets/controls",
            "_view_module_version": "1.5.0",
            "_view_name": "HTMLView",
            "description": "",
            "description_tooltip": null,
            "layout": "IPY_MODEL_d3711c3052b645b993a75ea8a98ceef9",
            "placeholder": "​",
            "style": "IPY_MODEL_e10c34e3a6494548ac592462fd1a67ff",
            "value": " 11.4M/11.4M [00:00&lt;00:00, 14.4MB/s]"
          }
        },
        "4e226c4d46ad4eac80967c49c9df598a": {
          "model_module": "@jupyter-widgets/base",
          "model_name": "LayoutModel",
          "model_module_version": "1.2.0",
          "state": {
            "_model_module": "@jupyter-widgets/base",
            "_model_module_version": "1.2.0",
            "_model_name": "LayoutModel",
            "_view_count": null,
            "_view_module": "@jupyter-widgets/base",
            "_view_module_version": "1.2.0",
            "_view_name": "LayoutView",
            "align_content": null,
            "align_items": null,
            "align_self": null,
            "border": null,
            "bottom": null,
            "display": null,
            "flex": null,
            "flex_flow": null,
            "grid_area": null,
            "grid_auto_columns": null,
            "grid_auto_flow": null,
            "grid_auto_rows": null,
            "grid_column": null,
            "grid_gap": null,
            "grid_row": null,
            "grid_template_areas": null,
            "grid_template_columns": null,
            "grid_template_rows": null,
            "height": null,
            "justify_content": null,
            "justify_items": null,
            "left": null,
            "margin": null,
            "max_height": null,
            "max_width": null,
            "min_height": null,
            "min_width": null,
            "object_fit": null,
            "object_position": null,
            "order": null,
            "overflow": null,
            "overflow_x": null,
            "overflow_y": null,
            "padding": null,
            "right": null,
            "top": null,
            "visibility": null,
            "width": null
          }
        },
        "a5288927875345a6bbe05a03cf84e677": {
          "model_module": "@jupyter-widgets/base",
          "model_name": "LayoutModel",
          "model_module_version": "1.2.0",
          "state": {
            "_model_module": "@jupyter-widgets/base",
            "_model_module_version": "1.2.0",
            "_model_name": "LayoutModel",
            "_view_count": null,
            "_view_module": "@jupyter-widgets/base",
            "_view_module_version": "1.2.0",
            "_view_name": "LayoutView",
            "align_content": null,
            "align_items": null,
            "align_self": null,
            "border": null,
            "bottom": null,
            "display": null,
            "flex": null,
            "flex_flow": null,
            "grid_area": null,
            "grid_auto_columns": null,
            "grid_auto_flow": null,
            "grid_auto_rows": null,
            "grid_column": null,
            "grid_gap": null,
            "grid_row": null,
            "grid_template_areas": null,
            "grid_template_columns": null,
            "grid_template_rows": null,
            "height": null,
            "justify_content": null,
            "justify_items": null,
            "left": null,
            "margin": null,
            "max_height": null,
            "max_width": null,
            "min_height": null,
            "min_width": null,
            "object_fit": null,
            "object_position": null,
            "order": null,
            "overflow": null,
            "overflow_x": null,
            "overflow_y": null,
            "padding": null,
            "right": null,
            "top": null,
            "visibility": null,
            "width": null
          }
        },
        "283ec8f4d522441b8461ba06fe55e718": {
          "model_module": "@jupyter-widgets/controls",
          "model_name": "DescriptionStyleModel",
          "model_module_version": "1.5.0",
          "state": {
            "_model_module": "@jupyter-widgets/controls",
            "_model_module_version": "1.5.0",
            "_model_name": "DescriptionStyleModel",
            "_view_count": null,
            "_view_module": "@jupyter-widgets/base",
            "_view_module_version": "1.2.0",
            "_view_name": "StyleView",
            "description_width": ""
          }
        },
        "3318ca5194074c30bb244413fe044725": {
          "model_module": "@jupyter-widgets/base",
          "model_name": "LayoutModel",
          "model_module_version": "1.2.0",
          "state": {
            "_model_module": "@jupyter-widgets/base",
            "_model_module_version": "1.2.0",
            "_model_name": "LayoutModel",
            "_view_count": null,
            "_view_module": "@jupyter-widgets/base",
            "_view_module_version": "1.2.0",
            "_view_name": "LayoutView",
            "align_content": null,
            "align_items": null,
            "align_self": null,
            "border": null,
            "bottom": null,
            "display": null,
            "flex": null,
            "flex_flow": null,
            "grid_area": null,
            "grid_auto_columns": null,
            "grid_auto_flow": null,
            "grid_auto_rows": null,
            "grid_column": null,
            "grid_gap": null,
            "grid_row": null,
            "grid_template_areas": null,
            "grid_template_columns": null,
            "grid_template_rows": null,
            "height": null,
            "justify_content": null,
            "justify_items": null,
            "left": null,
            "margin": null,
            "max_height": null,
            "max_width": null,
            "min_height": null,
            "min_width": null,
            "object_fit": null,
            "object_position": null,
            "order": null,
            "overflow": null,
            "overflow_x": null,
            "overflow_y": null,
            "padding": null,
            "right": null,
            "top": null,
            "visibility": null,
            "width": null
          }
        },
        "2ccabe98cc204298a3ea59586704e825": {
          "model_module": "@jupyter-widgets/controls",
          "model_name": "ProgressStyleModel",
          "model_module_version": "1.5.0",
          "state": {
            "_model_module": "@jupyter-widgets/controls",
            "_model_module_version": "1.5.0",
            "_model_name": "ProgressStyleModel",
            "_view_count": null,
            "_view_module": "@jupyter-widgets/base",
            "_view_module_version": "1.2.0",
            "_view_name": "StyleView",
            "bar_color": null,
            "description_width": ""
          }
        },
        "d3711c3052b645b993a75ea8a98ceef9": {
          "model_module": "@jupyter-widgets/base",
          "model_name": "LayoutModel",
          "model_module_version": "1.2.0",
          "state": {
            "_model_module": "@jupyter-widgets/base",
            "_model_module_version": "1.2.0",
            "_model_name": "LayoutModel",
            "_view_count": null,
            "_view_module": "@jupyter-widgets/base",
            "_view_module_version": "1.2.0",
            "_view_name": "LayoutView",
            "align_content": null,
            "align_items": null,
            "align_self": null,
            "border": null,
            "bottom": null,
            "display": null,
            "flex": null,
            "flex_flow": null,
            "grid_area": null,
            "grid_auto_columns": null,
            "grid_auto_flow": null,
            "grid_auto_rows": null,
            "grid_column": null,
            "grid_gap": null,
            "grid_row": null,
            "grid_template_areas": null,
            "grid_template_columns": null,
            "grid_template_rows": null,
            "height": null,
            "justify_content": null,
            "justify_items": null,
            "left": null,
            "margin": null,
            "max_height": null,
            "max_width": null,
            "min_height": null,
            "min_width": null,
            "object_fit": null,
            "object_position": null,
            "order": null,
            "overflow": null,
            "overflow_x": null,
            "overflow_y": null,
            "padding": null,
            "right": null,
            "top": null,
            "visibility": null,
            "width": null
          }
        },
        "e10c34e3a6494548ac592462fd1a67ff": {
          "model_module": "@jupyter-widgets/controls",
          "model_name": "DescriptionStyleModel",
          "model_module_version": "1.5.0",
          "state": {
            "_model_module": "@jupyter-widgets/controls",
            "_model_module_version": "1.5.0",
            "_model_name": "DescriptionStyleModel",
            "_view_count": null,
            "_view_module": "@jupyter-widgets/base",
            "_view_module_version": "1.2.0",
            "_view_name": "StyleView",
            "description_width": ""
          }
        },
        "3951d7c58f0a4509b3ca1028bcc6ee66": {
          "model_module": "@jupyter-widgets/controls",
          "model_name": "HBoxModel",
          "model_module_version": "1.5.0",
          "state": {
            "_dom_classes": [],
            "_model_module": "@jupyter-widgets/controls",
            "_model_module_version": "1.5.0",
            "_model_name": "HBoxModel",
            "_view_count": null,
            "_view_module": "@jupyter-widgets/controls",
            "_view_module_version": "1.5.0",
            "_view_name": "HBoxView",
            "box_style": "",
            "children": [
              "IPY_MODEL_03223e5bfb80468989b10eda67f4de50",
              "IPY_MODEL_b527de0ea2c5444ebe198dd54681ab2f",
              "IPY_MODEL_52996192f86a4d24a1be5e8c25a7d16a"
            ],
            "layout": "IPY_MODEL_077238f8732a46889266142ff411a5ea"
          }
        },
        "03223e5bfb80468989b10eda67f4de50": {
          "model_module": "@jupyter-widgets/controls",
          "model_name": "HTMLModel",
          "model_module_version": "1.5.0",
          "state": {
            "_dom_classes": [],
            "_model_module": "@jupyter-widgets/controls",
            "_model_module_version": "1.5.0",
            "_model_name": "HTMLModel",
            "_view_count": null,
            "_view_module": "@jupyter-widgets/controls",
            "_view_module_version": "1.5.0",
            "_view_name": "HTMLView",
            "description": "",
            "description_tooltip": null,
            "layout": "IPY_MODEL_ea9a51cf077846b1a1c90c6befad8f79",
            "placeholder": "​",
            "style": "IPY_MODEL_3ed62c5129454905b9393a81fce17a0b",
            "value": "config.json: 100%"
          }
        },
        "b527de0ea2c5444ebe198dd54681ab2f": {
          "model_module": "@jupyter-widgets/controls",
          "model_name": "FloatProgressModel",
          "model_module_version": "1.5.0",
          "state": {
            "_dom_classes": [],
            "_model_module": "@jupyter-widgets/controls",
            "_model_module_version": "1.5.0",
            "_model_name": "FloatProgressModel",
            "_view_count": null,
            "_view_module": "@jupyter-widgets/controls",
            "_view_module_version": "1.5.0",
            "_view_name": "ProgressView",
            "bar_style": "success",
            "description": "",
            "description_tooltip": null,
            "layout": "IPY_MODEL_bd83e03cc8d1426eb5129160595f74ed",
            "max": 727,
            "min": 0,
            "orientation": "horizontal",
            "style": "IPY_MODEL_86031737897f4f61a96fd686cd549ac2",
            "value": 727
          }
        },
        "52996192f86a4d24a1be5e8c25a7d16a": {
          "model_module": "@jupyter-widgets/controls",
          "model_name": "HTMLModel",
          "model_module_version": "1.5.0",
          "state": {
            "_dom_classes": [],
            "_model_module": "@jupyter-widgets/controls",
            "_model_module_version": "1.5.0",
            "_model_name": "HTMLModel",
            "_view_count": null,
            "_view_module": "@jupyter-widgets/controls",
            "_view_module_version": "1.5.0",
            "_view_name": "HTMLView",
            "description": "",
            "description_tooltip": null,
            "layout": "IPY_MODEL_e302a468998d45e0a64d2b722195ac57",
            "placeholder": "​",
            "style": "IPY_MODEL_341356b921fc491c8171abf6e4ee1e92",
            "value": " 727/727 [00:00&lt;00:00, 57.3kB/s]"
          }
        },
        "077238f8732a46889266142ff411a5ea": {
          "model_module": "@jupyter-widgets/base",
          "model_name": "LayoutModel",
          "model_module_version": "1.2.0",
          "state": {
            "_model_module": "@jupyter-widgets/base",
            "_model_module_version": "1.2.0",
            "_model_name": "LayoutModel",
            "_view_count": null,
            "_view_module": "@jupyter-widgets/base",
            "_view_module_version": "1.2.0",
            "_view_name": "LayoutView",
            "align_content": null,
            "align_items": null,
            "align_self": null,
            "border": null,
            "bottom": null,
            "display": null,
            "flex": null,
            "flex_flow": null,
            "grid_area": null,
            "grid_auto_columns": null,
            "grid_auto_flow": null,
            "grid_auto_rows": null,
            "grid_column": null,
            "grid_gap": null,
            "grid_row": null,
            "grid_template_areas": null,
            "grid_template_columns": null,
            "grid_template_rows": null,
            "height": null,
            "justify_content": null,
            "justify_items": null,
            "left": null,
            "margin": null,
            "max_height": null,
            "max_width": null,
            "min_height": null,
            "min_width": null,
            "object_fit": null,
            "object_position": null,
            "order": null,
            "overflow": null,
            "overflow_x": null,
            "overflow_y": null,
            "padding": null,
            "right": null,
            "top": null,
            "visibility": null,
            "width": null
          }
        },
        "ea9a51cf077846b1a1c90c6befad8f79": {
          "model_module": "@jupyter-widgets/base",
          "model_name": "LayoutModel",
          "model_module_version": "1.2.0",
          "state": {
            "_model_module": "@jupyter-widgets/base",
            "_model_module_version": "1.2.0",
            "_model_name": "LayoutModel",
            "_view_count": null,
            "_view_module": "@jupyter-widgets/base",
            "_view_module_version": "1.2.0",
            "_view_name": "LayoutView",
            "align_content": null,
            "align_items": null,
            "align_self": null,
            "border": null,
            "bottom": null,
            "display": null,
            "flex": null,
            "flex_flow": null,
            "grid_area": null,
            "grid_auto_columns": null,
            "grid_auto_flow": null,
            "grid_auto_rows": null,
            "grid_column": null,
            "grid_gap": null,
            "grid_row": null,
            "grid_template_areas": null,
            "grid_template_columns": null,
            "grid_template_rows": null,
            "height": null,
            "justify_content": null,
            "justify_items": null,
            "left": null,
            "margin": null,
            "max_height": null,
            "max_width": null,
            "min_height": null,
            "min_width": null,
            "object_fit": null,
            "object_position": null,
            "order": null,
            "overflow": null,
            "overflow_x": null,
            "overflow_y": null,
            "padding": null,
            "right": null,
            "top": null,
            "visibility": null,
            "width": null
          }
        },
        "3ed62c5129454905b9393a81fce17a0b": {
          "model_module": "@jupyter-widgets/controls",
          "model_name": "DescriptionStyleModel",
          "model_module_version": "1.5.0",
          "state": {
            "_model_module": "@jupyter-widgets/controls",
            "_model_module_version": "1.5.0",
            "_model_name": "DescriptionStyleModel",
            "_view_count": null,
            "_view_module": "@jupyter-widgets/base",
            "_view_module_version": "1.2.0",
            "_view_name": "StyleView",
            "description_width": ""
          }
        },
        "bd83e03cc8d1426eb5129160595f74ed": {
          "model_module": "@jupyter-widgets/base",
          "model_name": "LayoutModel",
          "model_module_version": "1.2.0",
          "state": {
            "_model_module": "@jupyter-widgets/base",
            "_model_module_version": "1.2.0",
            "_model_name": "LayoutModel",
            "_view_count": null,
            "_view_module": "@jupyter-widgets/base",
            "_view_module_version": "1.2.0",
            "_view_name": "LayoutView",
            "align_content": null,
            "align_items": null,
            "align_self": null,
            "border": null,
            "bottom": null,
            "display": null,
            "flex": null,
            "flex_flow": null,
            "grid_area": null,
            "grid_auto_columns": null,
            "grid_auto_flow": null,
            "grid_auto_rows": null,
            "grid_column": null,
            "grid_gap": null,
            "grid_row": null,
            "grid_template_areas": null,
            "grid_template_columns": null,
            "grid_template_rows": null,
            "height": null,
            "justify_content": null,
            "justify_items": null,
            "left": null,
            "margin": null,
            "max_height": null,
            "max_width": null,
            "min_height": null,
            "min_width": null,
            "object_fit": null,
            "object_position": null,
            "order": null,
            "overflow": null,
            "overflow_x": null,
            "overflow_y": null,
            "padding": null,
            "right": null,
            "top": null,
            "visibility": null,
            "width": null
          }
        },
        "86031737897f4f61a96fd686cd549ac2": {
          "model_module": "@jupyter-widgets/controls",
          "model_name": "ProgressStyleModel",
          "model_module_version": "1.5.0",
          "state": {
            "_model_module": "@jupyter-widgets/controls",
            "_model_module_version": "1.5.0",
            "_model_name": "ProgressStyleModel",
            "_view_count": null,
            "_view_module": "@jupyter-widgets/base",
            "_view_module_version": "1.2.0",
            "_view_name": "StyleView",
            "bar_color": null,
            "description_width": ""
          }
        },
        "e302a468998d45e0a64d2b722195ac57": {
          "model_module": "@jupyter-widgets/base",
          "model_name": "LayoutModel",
          "model_module_version": "1.2.0",
          "state": {
            "_model_module": "@jupyter-widgets/base",
            "_model_module_version": "1.2.0",
            "_model_name": "LayoutModel",
            "_view_count": null,
            "_view_module": "@jupyter-widgets/base",
            "_view_module_version": "1.2.0",
            "_view_name": "LayoutView",
            "align_content": null,
            "align_items": null,
            "align_self": null,
            "border": null,
            "bottom": null,
            "display": null,
            "flex": null,
            "flex_flow": null,
            "grid_area": null,
            "grid_auto_columns": null,
            "grid_auto_flow": null,
            "grid_auto_rows": null,
            "grid_column": null,
            "grid_gap": null,
            "grid_row": null,
            "grid_template_areas": null,
            "grid_template_columns": null,
            "grid_template_rows": null,
            "height": null,
            "justify_content": null,
            "justify_items": null,
            "left": null,
            "margin": null,
            "max_height": null,
            "max_width": null,
            "min_height": null,
            "min_width": null,
            "object_fit": null,
            "object_position": null,
            "order": null,
            "overflow": null,
            "overflow_x": null,
            "overflow_y": null,
            "padding": null,
            "right": null,
            "top": null,
            "visibility": null,
            "width": null
          }
        },
        "341356b921fc491c8171abf6e4ee1e92": {
          "model_module": "@jupyter-widgets/controls",
          "model_name": "DescriptionStyleModel",
          "model_module_version": "1.5.0",
          "state": {
            "_model_module": "@jupyter-widgets/controls",
            "_model_module_version": "1.5.0",
            "_model_name": "DescriptionStyleModel",
            "_view_count": null,
            "_view_module": "@jupyter-widgets/base",
            "_view_module_version": "1.2.0",
            "_view_name": "StyleView",
            "description_width": ""
          }
        },
        "660159cdcd6a4fb9922b2fc7b9074759": {
          "model_module": "@jupyter-widgets/controls",
          "model_name": "HBoxModel",
          "model_module_version": "1.5.0",
          "state": {
            "_dom_classes": [],
            "_model_module": "@jupyter-widgets/controls",
            "_model_module_version": "1.5.0",
            "_model_name": "HBoxModel",
            "_view_count": null,
            "_view_module": "@jupyter-widgets/controls",
            "_view_module_version": "1.5.0",
            "_view_name": "HBoxView",
            "box_style": "",
            "children": [
              "IPY_MODEL_a5d6c0cce5f941f69cfa99f2acdaf8bd",
              "IPY_MODEL_8bac0467300d4f2b9bbc434185cfc0d4",
              "IPY_MODEL_895fbca57c4647b4aaff6f4a04d7379c"
            ],
            "layout": "IPY_MODEL_206d0b04d5014673bf4ba78de05258fb"
          }
        },
        "a5d6c0cce5f941f69cfa99f2acdaf8bd": {
          "model_module": "@jupyter-widgets/controls",
          "model_name": "HTMLModel",
          "model_module_version": "1.5.0",
          "state": {
            "_dom_classes": [],
            "_model_module": "@jupyter-widgets/controls",
            "_model_module_version": "1.5.0",
            "_model_name": "HTMLModel",
            "_view_count": null,
            "_view_module": "@jupyter-widgets/controls",
            "_view_module_version": "1.5.0",
            "_view_name": "HTMLView",
            "description": "",
            "description_tooltip": null,
            "layout": "IPY_MODEL_590f822fb84e479fafb72278b274fd0b",
            "placeholder": "​",
            "style": "IPY_MODEL_41d85e37438547b0956110632ea31354",
            "value": "model.safetensors.index.json: "
          }
        },
        "8bac0467300d4f2b9bbc434185cfc0d4": {
          "model_module": "@jupyter-widgets/controls",
          "model_name": "FloatProgressModel",
          "model_module_version": "1.5.0",
          "state": {
            "_dom_classes": [],
            "_model_module": "@jupyter-widgets/controls",
            "_model_module_version": "1.5.0",
            "_model_name": "FloatProgressModel",
            "_view_count": null,
            "_view_module": "@jupyter-widgets/controls",
            "_view_module_version": "1.5.0",
            "_view_name": "ProgressView",
            "bar_style": "success",
            "description": "",
            "description_tooltip": null,
            "layout": "IPY_MODEL_10a3172f56854ac78a613b15eefeca10",
            "max": 1,
            "min": 0,
            "orientation": "horizontal",
            "style": "IPY_MODEL_b4a74f26fdf94f618a112dd4cb6fc8e8",
            "value": 1
          }
        },
        "895fbca57c4647b4aaff6f4a04d7379c": {
          "model_module": "@jupyter-widgets/controls",
          "model_name": "HTMLModel",
          "model_module_version": "1.5.0",
          "state": {
            "_dom_classes": [],
            "_model_module": "@jupyter-widgets/controls",
            "_model_module_version": "1.5.0",
            "_model_name": "HTMLModel",
            "_view_count": null,
            "_view_module": "@jupyter-widgets/controls",
            "_view_module_version": "1.5.0",
            "_view_name": "HTMLView",
            "description": "",
            "description_tooltip": null,
            "layout": "IPY_MODEL_277314bb800245e2ab3083b485cb71f6",
            "placeholder": "​",
            "style": "IPY_MODEL_63ba6f7fda0b4e8fb6f2a2f05d73ab43",
            "value": " 32.8k/? [00:00&lt;00:00, 3.04MB/s]"
          }
        },
        "206d0b04d5014673bf4ba78de05258fb": {
          "model_module": "@jupyter-widgets/base",
          "model_name": "LayoutModel",
          "model_module_version": "1.2.0",
          "state": {
            "_model_module": "@jupyter-widgets/base",
            "_model_module_version": "1.2.0",
            "_model_name": "LayoutModel",
            "_view_count": null,
            "_view_module": "@jupyter-widgets/base",
            "_view_module_version": "1.2.0",
            "_view_name": "LayoutView",
            "align_content": null,
            "align_items": null,
            "align_self": null,
            "border": null,
            "bottom": null,
            "display": null,
            "flex": null,
            "flex_flow": null,
            "grid_area": null,
            "grid_auto_columns": null,
            "grid_auto_flow": null,
            "grid_auto_rows": null,
            "grid_column": null,
            "grid_gap": null,
            "grid_row": null,
            "grid_template_areas": null,
            "grid_template_columns": null,
            "grid_template_rows": null,
            "height": null,
            "justify_content": null,
            "justify_items": null,
            "left": null,
            "margin": null,
            "max_height": null,
            "max_width": null,
            "min_height": null,
            "min_width": null,
            "object_fit": null,
            "object_position": null,
            "order": null,
            "overflow": null,
            "overflow_x": null,
            "overflow_y": null,
            "padding": null,
            "right": null,
            "top": null,
            "visibility": null,
            "width": null
          }
        },
        "590f822fb84e479fafb72278b274fd0b": {
          "model_module": "@jupyter-widgets/base",
          "model_name": "LayoutModel",
          "model_module_version": "1.2.0",
          "state": {
            "_model_module": "@jupyter-widgets/base",
            "_model_module_version": "1.2.0",
            "_model_name": "LayoutModel",
            "_view_count": null,
            "_view_module": "@jupyter-widgets/base",
            "_view_module_version": "1.2.0",
            "_view_name": "LayoutView",
            "align_content": null,
            "align_items": null,
            "align_self": null,
            "border": null,
            "bottom": null,
            "display": null,
            "flex": null,
            "flex_flow": null,
            "grid_area": null,
            "grid_auto_columns": null,
            "grid_auto_flow": null,
            "grid_auto_rows": null,
            "grid_column": null,
            "grid_gap": null,
            "grid_row": null,
            "grid_template_areas": null,
            "grid_template_columns": null,
            "grid_template_rows": null,
            "height": null,
            "justify_content": null,
            "justify_items": null,
            "left": null,
            "margin": null,
            "max_height": null,
            "max_width": null,
            "min_height": null,
            "min_width": null,
            "object_fit": null,
            "object_position": null,
            "order": null,
            "overflow": null,
            "overflow_x": null,
            "overflow_y": null,
            "padding": null,
            "right": null,
            "top": null,
            "visibility": null,
            "width": null
          }
        },
        "41d85e37438547b0956110632ea31354": {
          "model_module": "@jupyter-widgets/controls",
          "model_name": "DescriptionStyleModel",
          "model_module_version": "1.5.0",
          "state": {
            "_model_module": "@jupyter-widgets/controls",
            "_model_module_version": "1.5.0",
            "_model_name": "DescriptionStyleModel",
            "_view_count": null,
            "_view_module": "@jupyter-widgets/base",
            "_view_module_version": "1.2.0",
            "_view_name": "StyleView",
            "description_width": ""
          }
        },
        "10a3172f56854ac78a613b15eefeca10": {
          "model_module": "@jupyter-widgets/base",
          "model_name": "LayoutModel",
          "model_module_version": "1.2.0",
          "state": {
            "_model_module": "@jupyter-widgets/base",
            "_model_module_version": "1.2.0",
            "_model_name": "LayoutModel",
            "_view_count": null,
            "_view_module": "@jupyter-widgets/base",
            "_view_module_version": "1.2.0",
            "_view_name": "LayoutView",
            "align_content": null,
            "align_items": null,
            "align_self": null,
            "border": null,
            "bottom": null,
            "display": null,
            "flex": null,
            "flex_flow": null,
            "grid_area": null,
            "grid_auto_columns": null,
            "grid_auto_flow": null,
            "grid_auto_rows": null,
            "grid_column": null,
            "grid_gap": null,
            "grid_row": null,
            "grid_template_areas": null,
            "grid_template_columns": null,
            "grid_template_rows": null,
            "height": null,
            "justify_content": null,
            "justify_items": null,
            "left": null,
            "margin": null,
            "max_height": null,
            "max_width": null,
            "min_height": null,
            "min_width": null,
            "object_fit": null,
            "object_position": null,
            "order": null,
            "overflow": null,
            "overflow_x": null,
            "overflow_y": null,
            "padding": null,
            "right": null,
            "top": null,
            "visibility": null,
            "width": "20px"
          }
        },
        "b4a74f26fdf94f618a112dd4cb6fc8e8": {
          "model_module": "@jupyter-widgets/controls",
          "model_name": "ProgressStyleModel",
          "model_module_version": "1.5.0",
          "state": {
            "_model_module": "@jupyter-widgets/controls",
            "_model_module_version": "1.5.0",
            "_model_name": "ProgressStyleModel",
            "_view_count": null,
            "_view_module": "@jupyter-widgets/base",
            "_view_module_version": "1.2.0",
            "_view_name": "StyleView",
            "bar_color": null,
            "description_width": ""
          }
        },
        "277314bb800245e2ab3083b485cb71f6": {
          "model_module": "@jupyter-widgets/base",
          "model_name": "LayoutModel",
          "model_module_version": "1.2.0",
          "state": {
            "_model_module": "@jupyter-widgets/base",
            "_model_module_version": "1.2.0",
            "_model_name": "LayoutModel",
            "_view_count": null,
            "_view_module": "@jupyter-widgets/base",
            "_view_module_version": "1.2.0",
            "_view_name": "LayoutView",
            "align_content": null,
            "align_items": null,
            "align_self": null,
            "border": null,
            "bottom": null,
            "display": null,
            "flex": null,
            "flex_flow": null,
            "grid_area": null,
            "grid_auto_columns": null,
            "grid_auto_flow": null,
            "grid_auto_rows": null,
            "grid_column": null,
            "grid_gap": null,
            "grid_row": null,
            "grid_template_areas": null,
            "grid_template_columns": null,
            "grid_template_rows": null,
            "height": null,
            "justify_content": null,
            "justify_items": null,
            "left": null,
            "margin": null,
            "max_height": null,
            "max_width": null,
            "min_height": null,
            "min_width": null,
            "object_fit": null,
            "object_position": null,
            "order": null,
            "overflow": null,
            "overflow_x": null,
            "overflow_y": null,
            "padding": null,
            "right": null,
            "top": null,
            "visibility": null,
            "width": null
          }
        },
        "63ba6f7fda0b4e8fb6f2a2f05d73ab43": {
          "model_module": "@jupyter-widgets/controls",
          "model_name": "DescriptionStyleModel",
          "model_module_version": "1.5.0",
          "state": {
            "_model_module": "@jupyter-widgets/controls",
            "_model_module_version": "1.5.0",
            "_model_name": "DescriptionStyleModel",
            "_view_count": null,
            "_view_module": "@jupyter-widgets/base",
            "_view_module_version": "1.2.0",
            "_view_name": "StyleView",
            "description_width": ""
          }
        },
        "f1ada8011b5540409f55af7f3cf17dbc": {
          "model_module": "@jupyter-widgets/controls",
          "model_name": "HBoxModel",
          "model_module_version": "1.5.0",
          "state": {
            "_dom_classes": [],
            "_model_module": "@jupyter-widgets/controls",
            "_model_module_version": "1.5.0",
            "_model_name": "HBoxModel",
            "_view_count": null,
            "_view_module": "@jupyter-widgets/controls",
            "_view_module_version": "1.5.0",
            "_view_name": "HBoxView",
            "box_style": "",
            "children": [
              "IPY_MODEL_43efb572acef49ddb7198401c9fd4289",
              "IPY_MODEL_5e462ca045d446028eda257fff10af4e",
              "IPY_MODEL_0d1c0d63ce3c4a9ca958aea29eef41a2"
            ],
            "layout": "IPY_MODEL_7d3f0e6438b4455c909910e8960fd73f"
          }
        },
        "43efb572acef49ddb7198401c9fd4289": {
          "model_module": "@jupyter-widgets/controls",
          "model_name": "HTMLModel",
          "model_module_version": "1.5.0",
          "state": {
            "_dom_classes": [],
            "_model_module": "@jupyter-widgets/controls",
            "_model_module_version": "1.5.0",
            "_model_name": "HTMLModel",
            "_view_count": null,
            "_view_module": "@jupyter-widgets/controls",
            "_view_module_version": "1.5.0",
            "_view_name": "HTMLView",
            "description": "",
            "description_tooltip": null,
            "layout": "IPY_MODEL_384887a53dcd42189ff7004286133b69",
            "placeholder": "​",
            "style": "IPY_MODEL_febd2d9ced84463296c87cf5aab6f658",
            "value": "Fetching 3 files: 100%"
          }
        },
        "5e462ca045d446028eda257fff10af4e": {
          "model_module": "@jupyter-widgets/controls",
          "model_name": "FloatProgressModel",
          "model_module_version": "1.5.0",
          "state": {
            "_dom_classes": [],
            "_model_module": "@jupyter-widgets/controls",
            "_model_module_version": "1.5.0",
            "_model_name": "FloatProgressModel",
            "_view_count": null,
            "_view_module": "@jupyter-widgets/controls",
            "_view_module_version": "1.5.0",
            "_view_name": "ProgressView",
            "bar_style": "success",
            "description": "",
            "description_tooltip": null,
            "layout": "IPY_MODEL_bd0c5133e39047edac4c4c0406c67fb2",
            "max": 3,
            "min": 0,
            "orientation": "horizontal",
            "style": "IPY_MODEL_81d9b32924324ae390342f404181804a",
            "value": 3
          }
        },
        "0d1c0d63ce3c4a9ca958aea29eef41a2": {
          "model_module": "@jupyter-widgets/controls",
          "model_name": "HTMLModel",
          "model_module_version": "1.5.0",
          "state": {
            "_dom_classes": [],
            "_model_module": "@jupyter-widgets/controls",
            "_model_module_version": "1.5.0",
            "_model_name": "HTMLModel",
            "_view_count": null,
            "_view_module": "@jupyter-widgets/controls",
            "_view_module_version": "1.5.0",
            "_view_name": "HTMLView",
            "description": "",
            "description_tooltip": null,
            "layout": "IPY_MODEL_11ce81665a9144cabd5988753ec18e3a",
            "placeholder": "​",
            "style": "IPY_MODEL_039c80fad6f04b2a94a196addfe98ed9",
            "value": " 3/3 [02:30&lt;00:00, 64.27s/it]"
          }
        },
        "7d3f0e6438b4455c909910e8960fd73f": {
          "model_module": "@jupyter-widgets/base",
          "model_name": "LayoutModel",
          "model_module_version": "1.2.0",
          "state": {
            "_model_module": "@jupyter-widgets/base",
            "_model_module_version": "1.2.0",
            "_model_name": "LayoutModel",
            "_view_count": null,
            "_view_module": "@jupyter-widgets/base",
            "_view_module_version": "1.2.0",
            "_view_name": "LayoutView",
            "align_content": null,
            "align_items": null,
            "align_self": null,
            "border": null,
            "bottom": null,
            "display": null,
            "flex": null,
            "flex_flow": null,
            "grid_area": null,
            "grid_auto_columns": null,
            "grid_auto_flow": null,
            "grid_auto_rows": null,
            "grid_column": null,
            "grid_gap": null,
            "grid_row": null,
            "grid_template_areas": null,
            "grid_template_columns": null,
            "grid_template_rows": null,
            "height": null,
            "justify_content": null,
            "justify_items": null,
            "left": null,
            "margin": null,
            "max_height": null,
            "max_width": null,
            "min_height": null,
            "min_width": null,
            "object_fit": null,
            "object_position": null,
            "order": null,
            "overflow": null,
            "overflow_x": null,
            "overflow_y": null,
            "padding": null,
            "right": null,
            "top": null,
            "visibility": null,
            "width": null
          }
        },
        "384887a53dcd42189ff7004286133b69": {
          "model_module": "@jupyter-widgets/base",
          "model_name": "LayoutModel",
          "model_module_version": "1.2.0",
          "state": {
            "_model_module": "@jupyter-widgets/base",
            "_model_module_version": "1.2.0",
            "_model_name": "LayoutModel",
            "_view_count": null,
            "_view_module": "@jupyter-widgets/base",
            "_view_module_version": "1.2.0",
            "_view_name": "LayoutView",
            "align_content": null,
            "align_items": null,
            "align_self": null,
            "border": null,
            "bottom": null,
            "display": null,
            "flex": null,
            "flex_flow": null,
            "grid_area": null,
            "grid_auto_columns": null,
            "grid_auto_flow": null,
            "grid_auto_rows": null,
            "grid_column": null,
            "grid_gap": null,
            "grid_row": null,
            "grid_template_areas": null,
            "grid_template_columns": null,
            "grid_template_rows": null,
            "height": null,
            "justify_content": null,
            "justify_items": null,
            "left": null,
            "margin": null,
            "max_height": null,
            "max_width": null,
            "min_height": null,
            "min_width": null,
            "object_fit": null,
            "object_position": null,
            "order": null,
            "overflow": null,
            "overflow_x": null,
            "overflow_y": null,
            "padding": null,
            "right": null,
            "top": null,
            "visibility": null,
            "width": null
          }
        },
        "febd2d9ced84463296c87cf5aab6f658": {
          "model_module": "@jupyter-widgets/controls",
          "model_name": "DescriptionStyleModel",
          "model_module_version": "1.5.0",
          "state": {
            "_model_module": "@jupyter-widgets/controls",
            "_model_module_version": "1.5.0",
            "_model_name": "DescriptionStyleModel",
            "_view_count": null,
            "_view_module": "@jupyter-widgets/base",
            "_view_module_version": "1.2.0",
            "_view_name": "StyleView",
            "description_width": ""
          }
        },
        "bd0c5133e39047edac4c4c0406c67fb2": {
          "model_module": "@jupyter-widgets/base",
          "model_name": "LayoutModel",
          "model_module_version": "1.2.0",
          "state": {
            "_model_module": "@jupyter-widgets/base",
            "_model_module_version": "1.2.0",
            "_model_name": "LayoutModel",
            "_view_count": null,
            "_view_module": "@jupyter-widgets/base",
            "_view_module_version": "1.2.0",
            "_view_name": "LayoutView",
            "align_content": null,
            "align_items": null,
            "align_self": null,
            "border": null,
            "bottom": null,
            "display": null,
            "flex": null,
            "flex_flow": null,
            "grid_area": null,
            "grid_auto_columns": null,
            "grid_auto_flow": null,
            "grid_auto_rows": null,
            "grid_column": null,
            "grid_gap": null,
            "grid_row": null,
            "grid_template_areas": null,
            "grid_template_columns": null,
            "grid_template_rows": null,
            "height": null,
            "justify_content": null,
            "justify_items": null,
            "left": null,
            "margin": null,
            "max_height": null,
            "max_width": null,
            "min_height": null,
            "min_width": null,
            "object_fit": null,
            "object_position": null,
            "order": null,
            "overflow": null,
            "overflow_x": null,
            "overflow_y": null,
            "padding": null,
            "right": null,
            "top": null,
            "visibility": null,
            "width": null
          }
        },
        "81d9b32924324ae390342f404181804a": {
          "model_module": "@jupyter-widgets/controls",
          "model_name": "ProgressStyleModel",
          "model_module_version": "1.5.0",
          "state": {
            "_model_module": "@jupyter-widgets/controls",
            "_model_module_version": "1.5.0",
            "_model_name": "ProgressStyleModel",
            "_view_count": null,
            "_view_module": "@jupyter-widgets/base",
            "_view_module_version": "1.2.0",
            "_view_name": "StyleView",
            "bar_color": null,
            "description_width": ""
          }
        },
        "11ce81665a9144cabd5988753ec18e3a": {
          "model_module": "@jupyter-widgets/base",
          "model_name": "LayoutModel",
          "model_module_version": "1.2.0",
          "state": {
            "_model_module": "@jupyter-widgets/base",
            "_model_module_version": "1.2.0",
            "_model_name": "LayoutModel",
            "_view_count": null,
            "_view_module": "@jupyter-widgets/base",
            "_view_module_version": "1.2.0",
            "_view_name": "LayoutView",
            "align_content": null,
            "align_items": null,
            "align_self": null,
            "border": null,
            "bottom": null,
            "display": null,
            "flex": null,
            "flex_flow": null,
            "grid_area": null,
            "grid_auto_columns": null,
            "grid_auto_flow": null,
            "grid_auto_rows": null,
            "grid_column": null,
            "grid_gap": null,
            "grid_row": null,
            "grid_template_areas": null,
            "grid_template_columns": null,
            "grid_template_rows": null,
            "height": null,
            "justify_content": null,
            "justify_items": null,
            "left": null,
            "margin": null,
            "max_height": null,
            "max_width": null,
            "min_height": null,
            "min_width": null,
            "object_fit": null,
            "object_position": null,
            "order": null,
            "overflow": null,
            "overflow_x": null,
            "overflow_y": null,
            "padding": null,
            "right": null,
            "top": null,
            "visibility": null,
            "width": null
          }
        },
        "039c80fad6f04b2a94a196addfe98ed9": {
          "model_module": "@jupyter-widgets/controls",
          "model_name": "DescriptionStyleModel",
          "model_module_version": "1.5.0",
          "state": {
            "_model_module": "@jupyter-widgets/controls",
            "_model_module_version": "1.5.0",
            "_model_name": "DescriptionStyleModel",
            "_view_count": null,
            "_view_module": "@jupyter-widgets/base",
            "_view_module_version": "1.2.0",
            "_view_name": "StyleView",
            "description_width": ""
          }
        },
        "5d4bccce6917465a926dc0031629faac": {
          "model_module": "@jupyter-widgets/controls",
          "model_name": "HBoxModel",
          "model_module_version": "1.5.0",
          "state": {
            "_dom_classes": [],
            "_model_module": "@jupyter-widgets/controls",
            "_model_module_version": "1.5.0",
            "_model_name": "HBoxModel",
            "_view_count": null,
            "_view_module": "@jupyter-widgets/controls",
            "_view_module_version": "1.5.0",
            "_view_name": "HBoxView",
            "box_style": "",
            "children": [
              "IPY_MODEL_4cc87856b9e64da1ae8d536fc08fbce2",
              "IPY_MODEL_b4e9988464314b46923d15c8700b91b7",
              "IPY_MODEL_3107d34f1fb44428b617baaff10c4052"
            ],
            "layout": "IPY_MODEL_a48ce3d66ade4dc09458996e8482e620"
          }
        },
        "4cc87856b9e64da1ae8d536fc08fbce2": {
          "model_module": "@jupyter-widgets/controls",
          "model_name": "HTMLModel",
          "model_module_version": "1.5.0",
          "state": {
            "_dom_classes": [],
            "_model_module": "@jupyter-widgets/controls",
            "_model_module_version": "1.5.0",
            "_model_name": "HTMLModel",
            "_view_count": null,
            "_view_module": "@jupyter-widgets/controls",
            "_view_module_version": "1.5.0",
            "_view_name": "HTMLView",
            "description": "",
            "description_tooltip": null,
            "layout": "IPY_MODEL_3678a9a0d2ca47818031039af027be3b",
            "placeholder": "​",
            "style": "IPY_MODEL_895338ab761944c593653a01041e4606",
            "value": "model-00002-of-00003.safetensors: 100%"
          }
        },
        "b4e9988464314b46923d15c8700b91b7": {
          "model_module": "@jupyter-widgets/controls",
          "model_name": "FloatProgressModel",
          "model_module_version": "1.5.0",
          "state": {
            "_dom_classes": [],
            "_model_module": "@jupyter-widgets/controls",
            "_model_module_version": "1.5.0",
            "_model_name": "FloatProgressModel",
            "_view_count": null,
            "_view_module": "@jupyter-widgets/controls",
            "_view_module_version": "1.5.0",
            "_view_name": "ProgressView",
            "bar_style": "success",
            "description": "",
            "description_tooltip": null,
            "layout": "IPY_MODEL_5b355f22689746869e3ec397d192c625",
            "max": 3987450520,
            "min": 0,
            "orientation": "horizontal",
            "style": "IPY_MODEL_0b07c6de37a54944b2cd95c68ee45e9d",
            "value": 3987450520
          }
        },
        "3107d34f1fb44428b617baaff10c4052": {
          "model_module": "@jupyter-widgets/controls",
          "model_name": "HTMLModel",
          "model_module_version": "1.5.0",
          "state": {
            "_dom_classes": [],
            "_model_module": "@jupyter-widgets/controls",
            "_model_module_version": "1.5.0",
            "_model_name": "HTMLModel",
            "_view_count": null,
            "_view_module": "@jupyter-widgets/controls",
            "_view_module_version": "1.5.0",
            "_view_name": "HTMLView",
            "description": "",
            "description_tooltip": null,
            "layout": "IPY_MODEL_0729bf1f48884afa9b82d4708a2c4bb3",
            "placeholder": "​",
            "style": "IPY_MODEL_7bd7d6d3370b44e995caf41008ec2cb7",
            "value": " 3.99G/3.99G [02:29&lt;00:00, 116MB/s]"
          }
        },
        "a48ce3d66ade4dc09458996e8482e620": {
          "model_module": "@jupyter-widgets/base",
          "model_name": "LayoutModel",
          "model_module_version": "1.2.0",
          "state": {
            "_model_module": "@jupyter-widgets/base",
            "_model_module_version": "1.2.0",
            "_model_name": "LayoutModel",
            "_view_count": null,
            "_view_module": "@jupyter-widgets/base",
            "_view_module_version": "1.2.0",
            "_view_name": "LayoutView",
            "align_content": null,
            "align_items": null,
            "align_self": null,
            "border": null,
            "bottom": null,
            "display": null,
            "flex": null,
            "flex_flow": null,
            "grid_area": null,
            "grid_auto_columns": null,
            "grid_auto_flow": null,
            "grid_auto_rows": null,
            "grid_column": null,
            "grid_gap": null,
            "grid_row": null,
            "grid_template_areas": null,
            "grid_template_columns": null,
            "grid_template_rows": null,
            "height": null,
            "justify_content": null,
            "justify_items": null,
            "left": null,
            "margin": null,
            "max_height": null,
            "max_width": null,
            "min_height": null,
            "min_width": null,
            "object_fit": null,
            "object_position": null,
            "order": null,
            "overflow": null,
            "overflow_x": null,
            "overflow_y": null,
            "padding": null,
            "right": null,
            "top": null,
            "visibility": null,
            "width": null
          }
        },
        "3678a9a0d2ca47818031039af027be3b": {
          "model_module": "@jupyter-widgets/base",
          "model_name": "LayoutModel",
          "model_module_version": "1.2.0",
          "state": {
            "_model_module": "@jupyter-widgets/base",
            "_model_module_version": "1.2.0",
            "_model_name": "LayoutModel",
            "_view_count": null,
            "_view_module": "@jupyter-widgets/base",
            "_view_module_version": "1.2.0",
            "_view_name": "LayoutView",
            "align_content": null,
            "align_items": null,
            "align_self": null,
            "border": null,
            "bottom": null,
            "display": null,
            "flex": null,
            "flex_flow": null,
            "grid_area": null,
            "grid_auto_columns": null,
            "grid_auto_flow": null,
            "grid_auto_rows": null,
            "grid_column": null,
            "grid_gap": null,
            "grid_row": null,
            "grid_template_areas": null,
            "grid_template_columns": null,
            "grid_template_rows": null,
            "height": null,
            "justify_content": null,
            "justify_items": null,
            "left": null,
            "margin": null,
            "max_height": null,
            "max_width": null,
            "min_height": null,
            "min_width": null,
            "object_fit": null,
            "object_position": null,
            "order": null,
            "overflow": null,
            "overflow_x": null,
            "overflow_y": null,
            "padding": null,
            "right": null,
            "top": null,
            "visibility": null,
            "width": null
          }
        },
        "895338ab761944c593653a01041e4606": {
          "model_module": "@jupyter-widgets/controls",
          "model_name": "DescriptionStyleModel",
          "model_module_version": "1.5.0",
          "state": {
            "_model_module": "@jupyter-widgets/controls",
            "_model_module_version": "1.5.0",
            "_model_name": "DescriptionStyleModel",
            "_view_count": null,
            "_view_module": "@jupyter-widgets/base",
            "_view_module_version": "1.2.0",
            "_view_name": "StyleView",
            "description_width": ""
          }
        },
        "5b355f22689746869e3ec397d192c625": {
          "model_module": "@jupyter-widgets/base",
          "model_name": "LayoutModel",
          "model_module_version": "1.2.0",
          "state": {
            "_model_module": "@jupyter-widgets/base",
            "_model_module_version": "1.2.0",
            "_model_name": "LayoutModel",
            "_view_count": null,
            "_view_module": "@jupyter-widgets/base",
            "_view_module_version": "1.2.0",
            "_view_name": "LayoutView",
            "align_content": null,
            "align_items": null,
            "align_self": null,
            "border": null,
            "bottom": null,
            "display": null,
            "flex": null,
            "flex_flow": null,
            "grid_area": null,
            "grid_auto_columns": null,
            "grid_auto_flow": null,
            "grid_auto_rows": null,
            "grid_column": null,
            "grid_gap": null,
            "grid_row": null,
            "grid_template_areas": null,
            "grid_template_columns": null,
            "grid_template_rows": null,
            "height": null,
            "justify_content": null,
            "justify_items": null,
            "left": null,
            "margin": null,
            "max_height": null,
            "max_width": null,
            "min_height": null,
            "min_width": null,
            "object_fit": null,
            "object_position": null,
            "order": null,
            "overflow": null,
            "overflow_x": null,
            "overflow_y": null,
            "padding": null,
            "right": null,
            "top": null,
            "visibility": null,
            "width": null
          }
        },
        "0b07c6de37a54944b2cd95c68ee45e9d": {
          "model_module": "@jupyter-widgets/controls",
          "model_name": "ProgressStyleModel",
          "model_module_version": "1.5.0",
          "state": {
            "_model_module": "@jupyter-widgets/controls",
            "_model_module_version": "1.5.0",
            "_model_name": "ProgressStyleModel",
            "_view_count": null,
            "_view_module": "@jupyter-widgets/base",
            "_view_module_version": "1.2.0",
            "_view_name": "StyleView",
            "bar_color": null,
            "description_width": ""
          }
        },
        "0729bf1f48884afa9b82d4708a2c4bb3": {
          "model_module": "@jupyter-widgets/base",
          "model_name": "LayoutModel",
          "model_module_version": "1.2.0",
          "state": {
            "_model_module": "@jupyter-widgets/base",
            "_model_module_version": "1.2.0",
            "_model_name": "LayoutModel",
            "_view_count": null,
            "_view_module": "@jupyter-widgets/base",
            "_view_module_version": "1.2.0",
            "_view_name": "LayoutView",
            "align_content": null,
            "align_items": null,
            "align_self": null,
            "border": null,
            "bottom": null,
            "display": null,
            "flex": null,
            "flex_flow": null,
            "grid_area": null,
            "grid_auto_columns": null,
            "grid_auto_flow": null,
            "grid_auto_rows": null,
            "grid_column": null,
            "grid_gap": null,
            "grid_row": null,
            "grid_template_areas": null,
            "grid_template_columns": null,
            "grid_template_rows": null,
            "height": null,
            "justify_content": null,
            "justify_items": null,
            "left": null,
            "margin": null,
            "max_height": null,
            "max_width": null,
            "min_height": null,
            "min_width": null,
            "object_fit": null,
            "object_position": null,
            "order": null,
            "overflow": null,
            "overflow_x": null,
            "overflow_y": null,
            "padding": null,
            "right": null,
            "top": null,
            "visibility": null,
            "width": null
          }
        },
        "7bd7d6d3370b44e995caf41008ec2cb7": {
          "model_module": "@jupyter-widgets/controls",
          "model_name": "DescriptionStyleModel",
          "model_module_version": "1.5.0",
          "state": {
            "_model_module": "@jupyter-widgets/controls",
            "_model_module_version": "1.5.0",
            "_model_name": "DescriptionStyleModel",
            "_view_count": null,
            "_view_module": "@jupyter-widgets/base",
            "_view_module_version": "1.2.0",
            "_view_name": "StyleView",
            "description_width": ""
          }
        },
        "995b8591fd044741971f612c1be306ee": {
          "model_module": "@jupyter-widgets/controls",
          "model_name": "HBoxModel",
          "model_module_version": "1.5.0",
          "state": {
            "_dom_classes": [],
            "_model_module": "@jupyter-widgets/controls",
            "_model_module_version": "1.5.0",
            "_model_name": "HBoxModel",
            "_view_count": null,
            "_view_module": "@jupyter-widgets/controls",
            "_view_module_version": "1.5.0",
            "_view_name": "HBoxView",
            "box_style": "",
            "children": [
              "IPY_MODEL_4c26b1b42bfc4d99b858eb22af2544be",
              "IPY_MODEL_76accbd1935648bf810e3ac80fd2bbe1",
              "IPY_MODEL_00795f1f68824531bfdbb9f6264e17c6"
            ],
            "layout": "IPY_MODEL_89be222c6cce49edad1d926e81715b5a"
          }
        },
        "4c26b1b42bfc4d99b858eb22af2544be": {
          "model_module": "@jupyter-widgets/controls",
          "model_name": "HTMLModel",
          "model_module_version": "1.5.0",
          "state": {
            "_dom_classes": [],
            "_model_module": "@jupyter-widgets/controls",
            "_model_module_version": "1.5.0",
            "_model_name": "HTMLModel",
            "_view_count": null,
            "_view_module": "@jupyter-widgets/controls",
            "_view_module_version": "1.5.0",
            "_view_name": "HTMLView",
            "description": "",
            "description_tooltip": null,
            "layout": "IPY_MODEL_24d88eca42fa4cce876e50a45388fdac",
            "placeholder": "​",
            "style": "IPY_MODEL_063271cbf27a489eadc270a50cd20d1e",
            "value": "model-00003-of-00003.safetensors: 100%"
          }
        },
        "76accbd1935648bf810e3ac80fd2bbe1": {
          "model_module": "@jupyter-widgets/controls",
          "model_name": "FloatProgressModel",
          "model_module_version": "1.5.0",
          "state": {
            "_dom_classes": [],
            "_model_module": "@jupyter-widgets/controls",
            "_model_module_version": "1.5.0",
            "_model_name": "FloatProgressModel",
            "_view_count": null,
            "_view_module": "@jupyter-widgets/controls",
            "_view_module_version": "1.5.0",
            "_view_name": "ProgressView",
            "bar_style": "success",
            "description": "",
            "description_tooltip": null,
            "layout": "IPY_MODEL_2b88c46573da4779bb13495cabee2386",
            "max": 99630640,
            "min": 0,
            "orientation": "horizontal",
            "style": "IPY_MODEL_08efd98191864eaca6c20f06a8f9742c",
            "value": 99630640
          }
        },
        "00795f1f68824531bfdbb9f6264e17c6": {
          "model_module": "@jupyter-widgets/controls",
          "model_name": "HTMLModel",
          "model_module_version": "1.5.0",
          "state": {
            "_dom_classes": [],
            "_model_module": "@jupyter-widgets/controls",
            "_model_module_version": "1.5.0",
            "_model_name": "HTMLModel",
            "_view_count": null,
            "_view_module": "@jupyter-widgets/controls",
            "_view_module_version": "1.5.0",
            "_view_name": "HTMLView",
            "description": "",
            "description_tooltip": null,
            "layout": "IPY_MODEL_0c6537f83b884d6d8c5dad045b1ce38a",
            "placeholder": "​",
            "style": "IPY_MODEL_39a3587f58f145fcb40f9d68265ace19",
            "value": " 99.6M/99.6M [00:01&lt;00:00, 70.1MB/s]"
          }
        },
        "89be222c6cce49edad1d926e81715b5a": {
          "model_module": "@jupyter-widgets/base",
          "model_name": "LayoutModel",
          "model_module_version": "1.2.0",
          "state": {
            "_model_module": "@jupyter-widgets/base",
            "_model_module_version": "1.2.0",
            "_model_name": "LayoutModel",
            "_view_count": null,
            "_view_module": "@jupyter-widgets/base",
            "_view_module_version": "1.2.0",
            "_view_name": "LayoutView",
            "align_content": null,
            "align_items": null,
            "align_self": null,
            "border": null,
            "bottom": null,
            "display": null,
            "flex": null,
            "flex_flow": null,
            "grid_area": null,
            "grid_auto_columns": null,
            "grid_auto_flow": null,
            "grid_auto_rows": null,
            "grid_column": null,
            "grid_gap": null,
            "grid_row": null,
            "grid_template_areas": null,
            "grid_template_columns": null,
            "grid_template_rows": null,
            "height": null,
            "justify_content": null,
            "justify_items": null,
            "left": null,
            "margin": null,
            "max_height": null,
            "max_width": null,
            "min_height": null,
            "min_width": null,
            "object_fit": null,
            "object_position": null,
            "order": null,
            "overflow": null,
            "overflow_x": null,
            "overflow_y": null,
            "padding": null,
            "right": null,
            "top": null,
            "visibility": null,
            "width": null
          }
        },
        "24d88eca42fa4cce876e50a45388fdac": {
          "model_module": "@jupyter-widgets/base",
          "model_name": "LayoutModel",
          "model_module_version": "1.2.0",
          "state": {
            "_model_module": "@jupyter-widgets/base",
            "_model_module_version": "1.2.0",
            "_model_name": "LayoutModel",
            "_view_count": null,
            "_view_module": "@jupyter-widgets/base",
            "_view_module_version": "1.2.0",
            "_view_name": "LayoutView",
            "align_content": null,
            "align_items": null,
            "align_self": null,
            "border": null,
            "bottom": null,
            "display": null,
            "flex": null,
            "flex_flow": null,
            "grid_area": null,
            "grid_auto_columns": null,
            "grid_auto_flow": null,
            "grid_auto_rows": null,
            "grid_column": null,
            "grid_gap": null,
            "grid_row": null,
            "grid_template_areas": null,
            "grid_template_columns": null,
            "grid_template_rows": null,
            "height": null,
            "justify_content": null,
            "justify_items": null,
            "left": null,
            "margin": null,
            "max_height": null,
            "max_width": null,
            "min_height": null,
            "min_width": null,
            "object_fit": null,
            "object_position": null,
            "order": null,
            "overflow": null,
            "overflow_x": null,
            "overflow_y": null,
            "padding": null,
            "right": null,
            "top": null,
            "visibility": null,
            "width": null
          }
        },
        "063271cbf27a489eadc270a50cd20d1e": {
          "model_module": "@jupyter-widgets/controls",
          "model_name": "DescriptionStyleModel",
          "model_module_version": "1.5.0",
          "state": {
            "_model_module": "@jupyter-widgets/controls",
            "_model_module_version": "1.5.0",
            "_model_name": "DescriptionStyleModel",
            "_view_count": null,
            "_view_module": "@jupyter-widgets/base",
            "_view_module_version": "1.2.0",
            "_view_name": "StyleView",
            "description_width": ""
          }
        },
        "2b88c46573da4779bb13495cabee2386": {
          "model_module": "@jupyter-widgets/base",
          "model_name": "LayoutModel",
          "model_module_version": "1.2.0",
          "state": {
            "_model_module": "@jupyter-widgets/base",
            "_model_module_version": "1.2.0",
            "_model_name": "LayoutModel",
            "_view_count": null,
            "_view_module": "@jupyter-widgets/base",
            "_view_module_version": "1.2.0",
            "_view_name": "LayoutView",
            "align_content": null,
            "align_items": null,
            "align_self": null,
            "border": null,
            "bottom": null,
            "display": null,
            "flex": null,
            "flex_flow": null,
            "grid_area": null,
            "grid_auto_columns": null,
            "grid_auto_flow": null,
            "grid_auto_rows": null,
            "grid_column": null,
            "grid_gap": null,
            "grid_row": null,
            "grid_template_areas": null,
            "grid_template_columns": null,
            "grid_template_rows": null,
            "height": null,
            "justify_content": null,
            "justify_items": null,
            "left": null,
            "margin": null,
            "max_height": null,
            "max_width": null,
            "min_height": null,
            "min_width": null,
            "object_fit": null,
            "object_position": null,
            "order": null,
            "overflow": null,
            "overflow_x": null,
            "overflow_y": null,
            "padding": null,
            "right": null,
            "top": null,
            "visibility": null,
            "width": null
          }
        },
        "08efd98191864eaca6c20f06a8f9742c": {
          "model_module": "@jupyter-widgets/controls",
          "model_name": "ProgressStyleModel",
          "model_module_version": "1.5.0",
          "state": {
            "_model_module": "@jupyter-widgets/controls",
            "_model_module_version": "1.5.0",
            "_model_name": "ProgressStyleModel",
            "_view_count": null,
            "_view_module": "@jupyter-widgets/base",
            "_view_module_version": "1.2.0",
            "_view_name": "StyleView",
            "bar_color": null,
            "description_width": ""
          }
        },
        "0c6537f83b884d6d8c5dad045b1ce38a": {
          "model_module": "@jupyter-widgets/base",
          "model_name": "LayoutModel",
          "model_module_version": "1.2.0",
          "state": {
            "_model_module": "@jupyter-widgets/base",
            "_model_module_version": "1.2.0",
            "_model_name": "LayoutModel",
            "_view_count": null,
            "_view_module": "@jupyter-widgets/base",
            "_view_module_version": "1.2.0",
            "_view_name": "LayoutView",
            "align_content": null,
            "align_items": null,
            "align_self": null,
            "border": null,
            "bottom": null,
            "display": null,
            "flex": null,
            "flex_flow": null,
            "grid_area": null,
            "grid_auto_columns": null,
            "grid_auto_flow": null,
            "grid_auto_rows": null,
            "grid_column": null,
            "grid_gap": null,
            "grid_row": null,
            "grid_template_areas": null,
            "grid_template_columns": null,
            "grid_template_rows": null,
            "height": null,
            "justify_content": null,
            "justify_items": null,
            "left": null,
            "margin": null,
            "max_height": null,
            "max_width": null,
            "min_height": null,
            "min_width": null,
            "object_fit": null,
            "object_position": null,
            "order": null,
            "overflow": null,
            "overflow_x": null,
            "overflow_y": null,
            "padding": null,
            "right": null,
            "top": null,
            "visibility": null,
            "width": null
          }
        },
        "39a3587f58f145fcb40f9d68265ace19": {
          "model_module": "@jupyter-widgets/controls",
          "model_name": "DescriptionStyleModel",
          "model_module_version": "1.5.0",
          "state": {
            "_model_module": "@jupyter-widgets/controls",
            "_model_module_version": "1.5.0",
            "_model_name": "DescriptionStyleModel",
            "_view_count": null,
            "_view_module": "@jupyter-widgets/base",
            "_view_module_version": "1.2.0",
            "_view_name": "StyleView",
            "description_width": ""
          }
        },
        "0aa4e26b01ed4f8a9e43cc51054e2489": {
          "model_module": "@jupyter-widgets/controls",
          "model_name": "HBoxModel",
          "model_module_version": "1.5.0",
          "state": {
            "_dom_classes": [],
            "_model_module": "@jupyter-widgets/controls",
            "_model_module_version": "1.5.0",
            "_model_name": "HBoxModel",
            "_view_count": null,
            "_view_module": "@jupyter-widgets/controls",
            "_view_module_version": "1.5.0",
            "_view_name": "HBoxView",
            "box_style": "",
            "children": [
              "IPY_MODEL_c61ddc249eff471d861b4c0c37e1f564",
              "IPY_MODEL_ff7effe0755142baac5aefe33662fc2e",
              "IPY_MODEL_65865a0494fd42338132172e4b76081f"
            ],
            "layout": "IPY_MODEL_d98b511ce4c04b80ad4850d91e765c56"
          }
        },
        "c61ddc249eff471d861b4c0c37e1f564": {
          "model_module": "@jupyter-widgets/controls",
          "model_name": "HTMLModel",
          "model_module_version": "1.5.0",
          "state": {
            "_dom_classes": [],
            "_model_module": "@jupyter-widgets/controls",
            "_model_module_version": "1.5.0",
            "_model_name": "HTMLModel",
            "_view_count": null,
            "_view_module": "@jupyter-widgets/controls",
            "_view_module_version": "1.5.0",
            "_view_name": "HTMLView",
            "description": "",
            "description_tooltip": null,
            "layout": "IPY_MODEL_3f4c3295d02b46c2a5a8f8e051721a56",
            "placeholder": "​",
            "style": "IPY_MODEL_a733c9f17f5543bf9afb4d066067dee6",
            "value": "model-00001-of-00003.safetensors: 100%"
          }
        },
        "ff7effe0755142baac5aefe33662fc2e": {
          "model_module": "@jupyter-widgets/controls",
          "model_name": "FloatProgressModel",
          "model_module_version": "1.5.0",
          "state": {
            "_dom_classes": [],
            "_model_module": "@jupyter-widgets/controls",
            "_model_module_version": "1.5.0",
            "_model_name": "FloatProgressModel",
            "_view_count": null,
            "_view_module": "@jupyter-widgets/controls",
            "_view_module_version": "1.5.0",
            "_view_name": "ProgressView",
            "bar_style": "success",
            "description": "",
            "description_tooltip": null,
            "layout": "IPY_MODEL_aa384796c85748239b5121dae192ad16",
            "max": 3957900840,
            "min": 0,
            "orientation": "horizontal",
            "style": "IPY_MODEL_51e054061f5741439c294fe5935c1fb6",
            "value": 3957900840
          }
        },
        "65865a0494fd42338132172e4b76081f": {
          "model_module": "@jupyter-widgets/controls",
          "model_name": "HTMLModel",
          "model_module_version": "1.5.0",
          "state": {
            "_dom_classes": [],
            "_model_module": "@jupyter-widgets/controls",
            "_model_module_version": "1.5.0",
            "_model_name": "HTMLModel",
            "_view_count": null,
            "_view_module": "@jupyter-widgets/controls",
            "_view_module_version": "1.5.0",
            "_view_name": "HTMLView",
            "description": "",
            "description_tooltip": null,
            "layout": "IPY_MODEL_ea6c5519ee0c489fb839bd3b3b0e6c2e",
            "placeholder": "​",
            "style": "IPY_MODEL_832db0556fd74afdb17e387f39d140e6",
            "value": " 3.96G/3.96G [02:16&lt;00:00, 54.6MB/s]"
          }
        },
        "d98b511ce4c04b80ad4850d91e765c56": {
          "model_module": "@jupyter-widgets/base",
          "model_name": "LayoutModel",
          "model_module_version": "1.2.0",
          "state": {
            "_model_module": "@jupyter-widgets/base",
            "_model_module_version": "1.2.0",
            "_model_name": "LayoutModel",
            "_view_count": null,
            "_view_module": "@jupyter-widgets/base",
            "_view_module_version": "1.2.0",
            "_view_name": "LayoutView",
            "align_content": null,
            "align_items": null,
            "align_self": null,
            "border": null,
            "bottom": null,
            "display": null,
            "flex": null,
            "flex_flow": null,
            "grid_area": null,
            "grid_auto_columns": null,
            "grid_auto_flow": null,
            "grid_auto_rows": null,
            "grid_column": null,
            "grid_gap": null,
            "grid_row": null,
            "grid_template_areas": null,
            "grid_template_columns": null,
            "grid_template_rows": null,
            "height": null,
            "justify_content": null,
            "justify_items": null,
            "left": null,
            "margin": null,
            "max_height": null,
            "max_width": null,
            "min_height": null,
            "min_width": null,
            "object_fit": null,
            "object_position": null,
            "order": null,
            "overflow": null,
            "overflow_x": null,
            "overflow_y": null,
            "padding": null,
            "right": null,
            "top": null,
            "visibility": null,
            "width": null
          }
        },
        "3f4c3295d02b46c2a5a8f8e051721a56": {
          "model_module": "@jupyter-widgets/base",
          "model_name": "LayoutModel",
          "model_module_version": "1.2.0",
          "state": {
            "_model_module": "@jupyter-widgets/base",
            "_model_module_version": "1.2.0",
            "_model_name": "LayoutModel",
            "_view_count": null,
            "_view_module": "@jupyter-widgets/base",
            "_view_module_version": "1.2.0",
            "_view_name": "LayoutView",
            "align_content": null,
            "align_items": null,
            "align_self": null,
            "border": null,
            "bottom": null,
            "display": null,
            "flex": null,
            "flex_flow": null,
            "grid_area": null,
            "grid_auto_columns": null,
            "grid_auto_flow": null,
            "grid_auto_rows": null,
            "grid_column": null,
            "grid_gap": null,
            "grid_row": null,
            "grid_template_areas": null,
            "grid_template_columns": null,
            "grid_template_rows": null,
            "height": null,
            "justify_content": null,
            "justify_items": null,
            "left": null,
            "margin": null,
            "max_height": null,
            "max_width": null,
            "min_height": null,
            "min_width": null,
            "object_fit": null,
            "object_position": null,
            "order": null,
            "overflow": null,
            "overflow_x": null,
            "overflow_y": null,
            "padding": null,
            "right": null,
            "top": null,
            "visibility": null,
            "width": null
          }
        },
        "a733c9f17f5543bf9afb4d066067dee6": {
          "model_module": "@jupyter-widgets/controls",
          "model_name": "DescriptionStyleModel",
          "model_module_version": "1.5.0",
          "state": {
            "_model_module": "@jupyter-widgets/controls",
            "_model_module_version": "1.5.0",
            "_model_name": "DescriptionStyleModel",
            "_view_count": null,
            "_view_module": "@jupyter-widgets/base",
            "_view_module_version": "1.2.0",
            "_view_name": "StyleView",
            "description_width": ""
          }
        },
        "aa384796c85748239b5121dae192ad16": {
          "model_module": "@jupyter-widgets/base",
          "model_name": "LayoutModel",
          "model_module_version": "1.2.0",
          "state": {
            "_model_module": "@jupyter-widgets/base",
            "_model_module_version": "1.2.0",
            "_model_name": "LayoutModel",
            "_view_count": null,
            "_view_module": "@jupyter-widgets/base",
            "_view_module_version": "1.2.0",
            "_view_name": "LayoutView",
            "align_content": null,
            "align_items": null,
            "align_self": null,
            "border": null,
            "bottom": null,
            "display": null,
            "flex": null,
            "flex_flow": null,
            "grid_area": null,
            "grid_auto_columns": null,
            "grid_auto_flow": null,
            "grid_auto_rows": null,
            "grid_column": null,
            "grid_gap": null,
            "grid_row": null,
            "grid_template_areas": null,
            "grid_template_columns": null,
            "grid_template_rows": null,
            "height": null,
            "justify_content": null,
            "justify_items": null,
            "left": null,
            "margin": null,
            "max_height": null,
            "max_width": null,
            "min_height": null,
            "min_width": null,
            "object_fit": null,
            "object_position": null,
            "order": null,
            "overflow": null,
            "overflow_x": null,
            "overflow_y": null,
            "padding": null,
            "right": null,
            "top": null,
            "visibility": null,
            "width": null
          }
        },
        "51e054061f5741439c294fe5935c1fb6": {
          "model_module": "@jupyter-widgets/controls",
          "model_name": "ProgressStyleModel",
          "model_module_version": "1.5.0",
          "state": {
            "_model_module": "@jupyter-widgets/controls",
            "_model_module_version": "1.5.0",
            "_model_name": "ProgressStyleModel",
            "_view_count": null,
            "_view_module": "@jupyter-widgets/base",
            "_view_module_version": "1.2.0",
            "_view_name": "StyleView",
            "bar_color": null,
            "description_width": ""
          }
        },
        "ea6c5519ee0c489fb839bd3b3b0e6c2e": {
          "model_module": "@jupyter-widgets/base",
          "model_name": "LayoutModel",
          "model_module_version": "1.2.0",
          "state": {
            "_model_module": "@jupyter-widgets/base",
            "_model_module_version": "1.2.0",
            "_model_name": "LayoutModel",
            "_view_count": null,
            "_view_module": "@jupyter-widgets/base",
            "_view_module_version": "1.2.0",
            "_view_name": "LayoutView",
            "align_content": null,
            "align_items": null,
            "align_self": null,
            "border": null,
            "bottom": null,
            "display": null,
            "flex": null,
            "flex_flow": null,
            "grid_area": null,
            "grid_auto_columns": null,
            "grid_auto_flow": null,
            "grid_auto_rows": null,
            "grid_column": null,
            "grid_gap": null,
            "grid_row": null,
            "grid_template_areas": null,
            "grid_template_columns": null,
            "grid_template_rows": null,
            "height": null,
            "justify_content": null,
            "justify_items": null,
            "left": null,
            "margin": null,
            "max_height": null,
            "max_width": null,
            "min_height": null,
            "min_width": null,
            "object_fit": null,
            "object_position": null,
            "order": null,
            "overflow": null,
            "overflow_x": null,
            "overflow_y": null,
            "padding": null,
            "right": null,
            "top": null,
            "visibility": null,
            "width": null
          }
        },
        "832db0556fd74afdb17e387f39d140e6": {
          "model_module": "@jupyter-widgets/controls",
          "model_name": "DescriptionStyleModel",
          "model_module_version": "1.5.0",
          "state": {
            "_model_module": "@jupyter-widgets/controls",
            "_model_module_version": "1.5.0",
            "_model_name": "DescriptionStyleModel",
            "_view_count": null,
            "_view_module": "@jupyter-widgets/base",
            "_view_module_version": "1.2.0",
            "_view_name": "StyleView",
            "description_width": ""
          }
        },
        "a7ba40c0d27d4dd4a020011b794d30b0": {
          "model_module": "@jupyter-widgets/controls",
          "model_name": "HBoxModel",
          "model_module_version": "1.5.0",
          "state": {
            "_dom_classes": [],
            "_model_module": "@jupyter-widgets/controls",
            "_model_module_version": "1.5.0",
            "_model_name": "HBoxModel",
            "_view_count": null,
            "_view_module": "@jupyter-widgets/controls",
            "_view_module_version": "1.5.0",
            "_view_name": "HBoxView",
            "box_style": "",
            "children": [
              "IPY_MODEL_fd0013897a1e48bba853885ed3ead05e",
              "IPY_MODEL_e7fdcdf522924f4299a8228e6997a6ff",
              "IPY_MODEL_c4129765897e4e8eba0df7adfd12adfa"
            ],
            "layout": "IPY_MODEL_8cc07137a99849ed9f1a751daba8edc0"
          }
        },
        "fd0013897a1e48bba853885ed3ead05e": {
          "model_module": "@jupyter-widgets/controls",
          "model_name": "HTMLModel",
          "model_module_version": "1.5.0",
          "state": {
            "_dom_classes": [],
            "_model_module": "@jupyter-widgets/controls",
            "_model_module_version": "1.5.0",
            "_model_name": "HTMLModel",
            "_view_count": null,
            "_view_module": "@jupyter-widgets/controls",
            "_view_module_version": "1.5.0",
            "_view_name": "HTMLView",
            "description": "",
            "description_tooltip": null,
            "layout": "IPY_MODEL_95c87e5ff5934555804f54b6275213f6",
            "placeholder": "​",
            "style": "IPY_MODEL_6c9acfe8b32445c692ec935c1a9d4c56",
            "value": "Loading checkpoint shards: 100%"
          }
        },
        "e7fdcdf522924f4299a8228e6997a6ff": {
          "model_module": "@jupyter-widgets/controls",
          "model_name": "FloatProgressModel",
          "model_module_version": "1.5.0",
          "state": {
            "_dom_classes": [],
            "_model_module": "@jupyter-widgets/controls",
            "_model_module_version": "1.5.0",
            "_model_name": "FloatProgressModel",
            "_view_count": null,
            "_view_module": "@jupyter-widgets/controls",
            "_view_module_version": "1.5.0",
            "_view_name": "ProgressView",
            "bar_style": "success",
            "description": "",
            "description_tooltip": null,
            "layout": "IPY_MODEL_66d53e0283604e22a29ecb845e7bfad8",
            "max": 3,
            "min": 0,
            "orientation": "horizontal",
            "style": "IPY_MODEL_3d860e02b09948f1a2907ab55f88f348",
            "value": 3
          }
        },
        "c4129765897e4e8eba0df7adfd12adfa": {
          "model_module": "@jupyter-widgets/controls",
          "model_name": "HTMLModel",
          "model_module_version": "1.5.0",
          "state": {
            "_dom_classes": [],
            "_model_module": "@jupyter-widgets/controls",
            "_model_module_version": "1.5.0",
            "_model_name": "HTMLModel",
            "_view_count": null,
            "_view_module": "@jupyter-widgets/controls",
            "_view_module_version": "1.5.0",
            "_view_name": "HTMLView",
            "description": "",
            "description_tooltip": null,
            "layout": "IPY_MODEL_3281951c286547ad829c64046bda3d3d",
            "placeholder": "​",
            "style": "IPY_MODEL_4d67137a99174fd2ac445417b61cf69b",
            "value": " 3/3 [00:34&lt;00:00,  9.33s/it]"
          }
        },
        "8cc07137a99849ed9f1a751daba8edc0": {
          "model_module": "@jupyter-widgets/base",
          "model_name": "LayoutModel",
          "model_module_version": "1.2.0",
          "state": {
            "_model_module": "@jupyter-widgets/base",
            "_model_module_version": "1.2.0",
            "_model_name": "LayoutModel",
            "_view_count": null,
            "_view_module": "@jupyter-widgets/base",
            "_view_module_version": "1.2.0",
            "_view_name": "LayoutView",
            "align_content": null,
            "align_items": null,
            "align_self": null,
            "border": null,
            "bottom": null,
            "display": null,
            "flex": null,
            "flex_flow": null,
            "grid_area": null,
            "grid_auto_columns": null,
            "grid_auto_flow": null,
            "grid_auto_rows": null,
            "grid_column": null,
            "grid_gap": null,
            "grid_row": null,
            "grid_template_areas": null,
            "grid_template_columns": null,
            "grid_template_rows": null,
            "height": null,
            "justify_content": null,
            "justify_items": null,
            "left": null,
            "margin": null,
            "max_height": null,
            "max_width": null,
            "min_height": null,
            "min_width": null,
            "object_fit": null,
            "object_position": null,
            "order": null,
            "overflow": null,
            "overflow_x": null,
            "overflow_y": null,
            "padding": null,
            "right": null,
            "top": null,
            "visibility": null,
            "width": null
          }
        },
        "95c87e5ff5934555804f54b6275213f6": {
          "model_module": "@jupyter-widgets/base",
          "model_name": "LayoutModel",
          "model_module_version": "1.2.0",
          "state": {
            "_model_module": "@jupyter-widgets/base",
            "_model_module_version": "1.2.0",
            "_model_name": "LayoutModel",
            "_view_count": null,
            "_view_module": "@jupyter-widgets/base",
            "_view_module_version": "1.2.0",
            "_view_name": "LayoutView",
            "align_content": null,
            "align_items": null,
            "align_self": null,
            "border": null,
            "bottom": null,
            "display": null,
            "flex": null,
            "flex_flow": null,
            "grid_area": null,
            "grid_auto_columns": null,
            "grid_auto_flow": null,
            "grid_auto_rows": null,
            "grid_column": null,
            "grid_gap": null,
            "grid_row": null,
            "grid_template_areas": null,
            "grid_template_columns": null,
            "grid_template_rows": null,
            "height": null,
            "justify_content": null,
            "justify_items": null,
            "left": null,
            "margin": null,
            "max_height": null,
            "max_width": null,
            "min_height": null,
            "min_width": null,
            "object_fit": null,
            "object_position": null,
            "order": null,
            "overflow": null,
            "overflow_x": null,
            "overflow_y": null,
            "padding": null,
            "right": null,
            "top": null,
            "visibility": null,
            "width": null
          }
        },
        "6c9acfe8b32445c692ec935c1a9d4c56": {
          "model_module": "@jupyter-widgets/controls",
          "model_name": "DescriptionStyleModel",
          "model_module_version": "1.5.0",
          "state": {
            "_model_module": "@jupyter-widgets/controls",
            "_model_module_version": "1.5.0",
            "_model_name": "DescriptionStyleModel",
            "_view_count": null,
            "_view_module": "@jupyter-widgets/base",
            "_view_module_version": "1.2.0",
            "_view_name": "StyleView",
            "description_width": ""
          }
        },
        "66d53e0283604e22a29ecb845e7bfad8": {
          "model_module": "@jupyter-widgets/base",
          "model_name": "LayoutModel",
          "model_module_version": "1.2.0",
          "state": {
            "_model_module": "@jupyter-widgets/base",
            "_model_module_version": "1.2.0",
            "_model_name": "LayoutModel",
            "_view_count": null,
            "_view_module": "@jupyter-widgets/base",
            "_view_module_version": "1.2.0",
            "_view_name": "LayoutView",
            "align_content": null,
            "align_items": null,
            "align_self": null,
            "border": null,
            "bottom": null,
            "display": null,
            "flex": null,
            "flex_flow": null,
            "grid_area": null,
            "grid_auto_columns": null,
            "grid_auto_flow": null,
            "grid_auto_rows": null,
            "grid_column": null,
            "grid_gap": null,
            "grid_row": null,
            "grid_template_areas": null,
            "grid_template_columns": null,
            "grid_template_rows": null,
            "height": null,
            "justify_content": null,
            "justify_items": null,
            "left": null,
            "margin": null,
            "max_height": null,
            "max_width": null,
            "min_height": null,
            "min_width": null,
            "object_fit": null,
            "object_position": null,
            "order": null,
            "overflow": null,
            "overflow_x": null,
            "overflow_y": null,
            "padding": null,
            "right": null,
            "top": null,
            "visibility": null,
            "width": null
          }
        },
        "3d860e02b09948f1a2907ab55f88f348": {
          "model_module": "@jupyter-widgets/controls",
          "model_name": "ProgressStyleModel",
          "model_module_version": "1.5.0",
          "state": {
            "_model_module": "@jupyter-widgets/controls",
            "_model_module_version": "1.5.0",
            "_model_name": "ProgressStyleModel",
            "_view_count": null,
            "_view_module": "@jupyter-widgets/base",
            "_view_module_version": "1.2.0",
            "_view_name": "StyleView",
            "bar_color": null,
            "description_width": ""
          }
        },
        "3281951c286547ad829c64046bda3d3d": {
          "model_module": "@jupyter-widgets/base",
          "model_name": "LayoutModel",
          "model_module_version": "1.2.0",
          "state": {
            "_model_module": "@jupyter-widgets/base",
            "_model_module_version": "1.2.0",
            "_model_name": "LayoutModel",
            "_view_count": null,
            "_view_module": "@jupyter-widgets/base",
            "_view_module_version": "1.2.0",
            "_view_name": "LayoutView",
            "align_content": null,
            "align_items": null,
            "align_self": null,
            "border": null,
            "bottom": null,
            "display": null,
            "flex": null,
            "flex_flow": null,
            "grid_area": null,
            "grid_auto_columns": null,
            "grid_auto_flow": null,
            "grid_auto_rows": null,
            "grid_column": null,
            "grid_gap": null,
            "grid_row": null,
            "grid_template_areas": null,
            "grid_template_columns": null,
            "grid_template_rows": null,
            "height": null,
            "justify_content": null,
            "justify_items": null,
            "left": null,
            "margin": null,
            "max_height": null,
            "max_width": null,
            "min_height": null,
            "min_width": null,
            "object_fit": null,
            "object_position": null,
            "order": null,
            "overflow": null,
            "overflow_x": null,
            "overflow_y": null,
            "padding": null,
            "right": null,
            "top": null,
            "visibility": null,
            "width": null
          }
        },
        "4d67137a99174fd2ac445417b61cf69b": {
          "model_module": "@jupyter-widgets/controls",
          "model_name": "DescriptionStyleModel",
          "model_module_version": "1.5.0",
          "state": {
            "_model_module": "@jupyter-widgets/controls",
            "_model_module_version": "1.5.0",
            "_model_name": "DescriptionStyleModel",
            "_view_count": null,
            "_view_module": "@jupyter-widgets/base",
            "_view_module_version": "1.2.0",
            "_view_name": "StyleView",
            "description_width": ""
          }
        },
        "03c96276db1947548e64e32ce4b91cac": {
          "model_module": "@jupyter-widgets/controls",
          "model_name": "HBoxModel",
          "model_module_version": "1.5.0",
          "state": {
            "_dom_classes": [],
            "_model_module": "@jupyter-widgets/controls",
            "_model_module_version": "1.5.0",
            "_model_name": "HBoxModel",
            "_view_count": null,
            "_view_module": "@jupyter-widgets/controls",
            "_view_module_version": "1.5.0",
            "_view_name": "HBoxView",
            "box_style": "",
            "children": [
              "IPY_MODEL_ef2ee16138d14858a0c2b0f06090fd1a",
              "IPY_MODEL_822b4e82443047b99d73001c625ea9bd",
              "IPY_MODEL_21f4cb39a4b34128896ddba121b2a537"
            ],
            "layout": "IPY_MODEL_404e5ddb6f1744b991e23e2487171aa4"
          }
        },
        "ef2ee16138d14858a0c2b0f06090fd1a": {
          "model_module": "@jupyter-widgets/controls",
          "model_name": "HTMLModel",
          "model_module_version": "1.5.0",
          "state": {
            "_dom_classes": [],
            "_model_module": "@jupyter-widgets/controls",
            "_model_module_version": "1.5.0",
            "_model_name": "HTMLModel",
            "_view_count": null,
            "_view_module": "@jupyter-widgets/controls",
            "_view_module_version": "1.5.0",
            "_view_name": "HTMLView",
            "description": "",
            "description_tooltip": null,
            "layout": "IPY_MODEL_d4482562fa354e1b9c7bf63bc831ac53",
            "placeholder": "​",
            "style": "IPY_MODEL_95c3f5fb61854295a9daa559e1592fe0",
            "value": "generation_config.json: 100%"
          }
        },
        "822b4e82443047b99d73001c625ea9bd": {
          "model_module": "@jupyter-widgets/controls",
          "model_name": "FloatProgressModel",
          "model_module_version": "1.5.0",
          "state": {
            "_dom_classes": [],
            "_model_module": "@jupyter-widgets/controls",
            "_model_module_version": "1.5.0",
            "_model_name": "FloatProgressModel",
            "_view_count": null,
            "_view_module": "@jupyter-widgets/controls",
            "_view_module_version": "1.5.0",
            "_view_name": "ProgressView",
            "bar_style": "success",
            "description": "",
            "description_tooltip": null,
            "layout": "IPY_MODEL_cbfbd486dbf1453faaabf9e9f83098a2",
            "max": 238,
            "min": 0,
            "orientation": "horizontal",
            "style": "IPY_MODEL_82ae12c149db40e39c93aaa880f76fce",
            "value": 238
          }
        },
        "21f4cb39a4b34128896ddba121b2a537": {
          "model_module": "@jupyter-widgets/controls",
          "model_name": "HTMLModel",
          "model_module_version": "1.5.0",
          "state": {
            "_dom_classes": [],
            "_model_module": "@jupyter-widgets/controls",
            "_model_module_version": "1.5.0",
            "_model_name": "HTMLModel",
            "_view_count": null,
            "_view_module": "@jupyter-widgets/controls",
            "_view_module_version": "1.5.0",
            "_view_name": "HTMLView",
            "description": "",
            "description_tooltip": null,
            "layout": "IPY_MODEL_3d199905ef5a4674b4f68c81d1350d33",
            "placeholder": "​",
            "style": "IPY_MODEL_5aa44965263f4fb089759d2fb15f3f25",
            "value": " 238/238 [00:00&lt;00:00, 21.7kB/s]"
          }
        },
        "404e5ddb6f1744b991e23e2487171aa4": {
          "model_module": "@jupyter-widgets/base",
          "model_name": "LayoutModel",
          "model_module_version": "1.2.0",
          "state": {
            "_model_module": "@jupyter-widgets/base",
            "_model_module_version": "1.2.0",
            "_model_name": "LayoutModel",
            "_view_count": null,
            "_view_module": "@jupyter-widgets/base",
            "_view_module_version": "1.2.0",
            "_view_name": "LayoutView",
            "align_content": null,
            "align_items": null,
            "align_self": null,
            "border": null,
            "bottom": null,
            "display": null,
            "flex": null,
            "flex_flow": null,
            "grid_area": null,
            "grid_auto_columns": null,
            "grid_auto_flow": null,
            "grid_auto_rows": null,
            "grid_column": null,
            "grid_gap": null,
            "grid_row": null,
            "grid_template_areas": null,
            "grid_template_columns": null,
            "grid_template_rows": null,
            "height": null,
            "justify_content": null,
            "justify_items": null,
            "left": null,
            "margin": null,
            "max_height": null,
            "max_width": null,
            "min_height": null,
            "min_width": null,
            "object_fit": null,
            "object_position": null,
            "order": null,
            "overflow": null,
            "overflow_x": null,
            "overflow_y": null,
            "padding": null,
            "right": null,
            "top": null,
            "visibility": null,
            "width": null
          }
        },
        "d4482562fa354e1b9c7bf63bc831ac53": {
          "model_module": "@jupyter-widgets/base",
          "model_name": "LayoutModel",
          "model_module_version": "1.2.0",
          "state": {
            "_model_module": "@jupyter-widgets/base",
            "_model_module_version": "1.2.0",
            "_model_name": "LayoutModel",
            "_view_count": null,
            "_view_module": "@jupyter-widgets/base",
            "_view_module_version": "1.2.0",
            "_view_name": "LayoutView",
            "align_content": null,
            "align_items": null,
            "align_self": null,
            "border": null,
            "bottom": null,
            "display": null,
            "flex": null,
            "flex_flow": null,
            "grid_area": null,
            "grid_auto_columns": null,
            "grid_auto_flow": null,
            "grid_auto_rows": null,
            "grid_column": null,
            "grid_gap": null,
            "grid_row": null,
            "grid_template_areas": null,
            "grid_template_columns": null,
            "grid_template_rows": null,
            "height": null,
            "justify_content": null,
            "justify_items": null,
            "left": null,
            "margin": null,
            "max_height": null,
            "max_width": null,
            "min_height": null,
            "min_width": null,
            "object_fit": null,
            "object_position": null,
            "order": null,
            "overflow": null,
            "overflow_x": null,
            "overflow_y": null,
            "padding": null,
            "right": null,
            "top": null,
            "visibility": null,
            "width": null
          }
        },
        "95c3f5fb61854295a9daa559e1592fe0": {
          "model_module": "@jupyter-widgets/controls",
          "model_name": "DescriptionStyleModel",
          "model_module_version": "1.5.0",
          "state": {
            "_model_module": "@jupyter-widgets/controls",
            "_model_module_version": "1.5.0",
            "_model_name": "DescriptionStyleModel",
            "_view_count": null,
            "_view_module": "@jupyter-widgets/base",
            "_view_module_version": "1.2.0",
            "_view_name": "StyleView",
            "description_width": ""
          }
        },
        "cbfbd486dbf1453faaabf9e9f83098a2": {
          "model_module": "@jupyter-widgets/base",
          "model_name": "LayoutModel",
          "model_module_version": "1.2.0",
          "state": {
            "_model_module": "@jupyter-widgets/base",
            "_model_module_version": "1.2.0",
            "_model_name": "LayoutModel",
            "_view_count": null,
            "_view_module": "@jupyter-widgets/base",
            "_view_module_version": "1.2.0",
            "_view_name": "LayoutView",
            "align_content": null,
            "align_items": null,
            "align_self": null,
            "border": null,
            "bottom": null,
            "display": null,
            "flex": null,
            "flex_flow": null,
            "grid_area": null,
            "grid_auto_columns": null,
            "grid_auto_flow": null,
            "grid_auto_rows": null,
            "grid_column": null,
            "grid_gap": null,
            "grid_row": null,
            "grid_template_areas": null,
            "grid_template_columns": null,
            "grid_template_rows": null,
            "height": null,
            "justify_content": null,
            "justify_items": null,
            "left": null,
            "margin": null,
            "max_height": null,
            "max_width": null,
            "min_height": null,
            "min_width": null,
            "object_fit": null,
            "object_position": null,
            "order": null,
            "overflow": null,
            "overflow_x": null,
            "overflow_y": null,
            "padding": null,
            "right": null,
            "top": null,
            "visibility": null,
            "width": null
          }
        },
        "82ae12c149db40e39c93aaa880f76fce": {
          "model_module": "@jupyter-widgets/controls",
          "model_name": "ProgressStyleModel",
          "model_module_version": "1.5.0",
          "state": {
            "_model_module": "@jupyter-widgets/controls",
            "_model_module_version": "1.5.0",
            "_model_name": "ProgressStyleModel",
            "_view_count": null,
            "_view_module": "@jupyter-widgets/base",
            "_view_module_version": "1.2.0",
            "_view_name": "StyleView",
            "bar_color": null,
            "description_width": ""
          }
        },
        "3d199905ef5a4674b4f68c81d1350d33": {
          "model_module": "@jupyter-widgets/base",
          "model_name": "LayoutModel",
          "model_module_version": "1.2.0",
          "state": {
            "_model_module": "@jupyter-widgets/base",
            "_model_module_version": "1.2.0",
            "_model_name": "LayoutModel",
            "_view_count": null,
            "_view_module": "@jupyter-widgets/base",
            "_view_module_version": "1.2.0",
            "_view_name": "LayoutView",
            "align_content": null,
            "align_items": null,
            "align_self": null,
            "border": null,
            "bottom": null,
            "display": null,
            "flex": null,
            "flex_flow": null,
            "grid_area": null,
            "grid_auto_columns": null,
            "grid_auto_flow": null,
            "grid_auto_rows": null,
            "grid_column": null,
            "grid_gap": null,
            "grid_row": null,
            "grid_template_areas": null,
            "grid_template_columns": null,
            "grid_template_rows": null,
            "height": null,
            "justify_content": null,
            "justify_items": null,
            "left": null,
            "margin": null,
            "max_height": null,
            "max_width": null,
            "min_height": null,
            "min_width": null,
            "object_fit": null,
            "object_position": null,
            "order": null,
            "overflow": null,
            "overflow_x": null,
            "overflow_y": null,
            "padding": null,
            "right": null,
            "top": null,
            "visibility": null,
            "width": null
          }
        },
        "5aa44965263f4fb089759d2fb15f3f25": {
          "model_module": "@jupyter-widgets/controls",
          "model_name": "DescriptionStyleModel",
          "model_module_version": "1.5.0",
          "state": {
            "_model_module": "@jupyter-widgets/controls",
            "_model_module_version": "1.5.0",
            "_model_name": "DescriptionStyleModel",
            "_view_count": null,
            "_view_module": "@jupyter-widgets/base",
            "_view_module_version": "1.2.0",
            "_view_name": "StyleView",
            "description_width": ""
          }
        }
      }
    }
  },
  "cells": [
    {
      "cell_type": "markdown",
      "metadata": {
        "id": "view-in-github",
        "colab_type": "text"
      },
      "source": [
        "<a href=\"https://colab.research.google.com/github/VitalyGladyshev/LLM-engineering/blob/main/LLM_GLVV_HW02.ipynb\" target=\"_parent\"><img src=\"https://colab.research.google.com/assets/colab-badge.svg\" alt=\"Open In Colab\"/></a>"
      ]
    },
    {
      "cell_type": "markdown",
      "source": [
        "# Attention & трансформеры"
      ],
      "metadata": {
        "id": "P7N0vBdk_u8W"
      }
    },
    {
      "cell_type": "markdown",
      "source": [
        "## Задание 1"
      ],
      "metadata": {
        "id": "-ef-O-qG_9DH"
      }
    },
    {
      "cell_type": "markdown",
      "source": [
        "Работа с Hugging Face и pipeline AP\n",
        "- Выберите модель с Hugging Face для задачи суммаризации на русском языке.\n",
        "- Загрузите и протестируйте ее через pipeline из библиотеки transformers.\n",
        "- Протестируйте работу пайплайна на 5 различных примерах (на выбор), включая как простые, так и сложные для модели случаи, проанализируйте и оцените результаты\n"
      ],
      "metadata": {
        "id": "PGriO-m0AB4l"
      }
    },
    {
      "cell_type": "code",
      "execution_count": 3,
      "metadata": {
        "id": "zREDN8gR_fA9"
      },
      "outputs": [],
      "source": [
        "from transformers import AutoModelForCausalLM, AutoTokenizer"
      ]
    },
    {
      "cell_type": "code",
      "source": [
        "model_name = \"Qwen/Qwen3-4B-Instruct-2507\""
      ],
      "metadata": {
        "id": "fSiIzp_f4XI7"
      },
      "execution_count": 4,
      "outputs": []
    },
    {
      "cell_type": "code",
      "source": [
        "tokenizer = AutoTokenizer.from_pretrained(model_name)\n",
        "model = AutoModelForCausalLM.from_pretrained(\n",
        "    model_name,\n",
        "    torch_dtype=\"auto\",\n",
        "    device_map=\"auto\"\n",
        ")"
      ],
      "metadata": {
        "colab": {
          "base_uri": "https://localhost:8080/",
          "height": 401,
          "referenced_widgets": [
            "8fc12748db1b49548a116b617d0e0b15",
            "cf591c5c756648c28ce4f8dd568c0542",
            "e19044c0b43d4f8f8c29d1a0fda45d5d",
            "2f187e7c4f3a4511b69e3af4ebb7733e",
            "061a5119644c4179bc16393875589029",
            "4e1995ec2ae8493c8b788a619d768875",
            "e0d4e511531e4997bbf281334f826c05",
            "aefff39c8a434eaa8aea7ed54b23b52f",
            "76bc1ccf0f8540dab758720037a22d7b",
            "2ad1d6d23e994fea89c701df48752eb5",
            "c57eb56ad5fa46d6b069fd4c6d28ad98",
            "75e1919412484855a67bd4b2d74e8606",
            "76fa1e61653942b584af26101487f63e",
            "f47a9abfa14c45e68a92448663637fd6",
            "eb0441ebe29e42549939710306ec3d42",
            "698665e5d3424a68803500e6a4c99501",
            "5fb15f33cf0f464f800b0c9b830d698a",
            "34d753db531c4c4a8b1a30c90d4b320c",
            "476758e96ae840fea5b2b57850cc6f70",
            "eb8165812a23402b977c0ef5d5e22fb8",
            "437f224575a640cf91be336071f8fce0",
            "07fc78d7478c4c11bba5b3e4f132a310",
            "b6e0f91596f1478b81accfbc0d1ca989",
            "bb574a08effe4bd29ff501497f0dbeda",
            "a51e095c12d24d91b706a08780f7db16",
            "4b0fa03bed8847208355c416ecd7cbc0",
            "c70489bc17134520bd47699c54448cc0",
            "f297ed3597564decb40b2eb5c55e369e",
            "3ed62f5a4f1241bfb0dc4a5bc5ef33ce",
            "006e37e488bd4fa8adacb52aac974cb1",
            "2e9addce537949d98d032693fc276f2b",
            "a314e158bdaf4563850f60ecabd1eac7",
            "f4a78fa77edb40919e7fc9c85ee719b1",
            "a8f1a3326f82419aa9d7c66ac4f6a581",
            "9db7b55db2a34accb351f59457f15dd0",
            "b22f20a688474f3f9abfe4f3397181dc",
            "371532818be24e4a99c5fbc340177960",
            "4e226c4d46ad4eac80967c49c9df598a",
            "a5288927875345a6bbe05a03cf84e677",
            "283ec8f4d522441b8461ba06fe55e718",
            "3318ca5194074c30bb244413fe044725",
            "2ccabe98cc204298a3ea59586704e825",
            "d3711c3052b645b993a75ea8a98ceef9",
            "e10c34e3a6494548ac592462fd1a67ff",
            "3951d7c58f0a4509b3ca1028bcc6ee66",
            "03223e5bfb80468989b10eda67f4de50",
            "b527de0ea2c5444ebe198dd54681ab2f",
            "52996192f86a4d24a1be5e8c25a7d16a",
            "077238f8732a46889266142ff411a5ea",
            "ea9a51cf077846b1a1c90c6befad8f79",
            "3ed62c5129454905b9393a81fce17a0b",
            "bd83e03cc8d1426eb5129160595f74ed",
            "86031737897f4f61a96fd686cd549ac2",
            "e302a468998d45e0a64d2b722195ac57",
            "341356b921fc491c8171abf6e4ee1e92",
            "660159cdcd6a4fb9922b2fc7b9074759",
            "a5d6c0cce5f941f69cfa99f2acdaf8bd",
            "8bac0467300d4f2b9bbc434185cfc0d4",
            "895fbca57c4647b4aaff6f4a04d7379c",
            "206d0b04d5014673bf4ba78de05258fb",
            "590f822fb84e479fafb72278b274fd0b",
            "41d85e37438547b0956110632ea31354",
            "10a3172f56854ac78a613b15eefeca10",
            "b4a74f26fdf94f618a112dd4cb6fc8e8",
            "277314bb800245e2ab3083b485cb71f6",
            "63ba6f7fda0b4e8fb6f2a2f05d73ab43",
            "f1ada8011b5540409f55af7f3cf17dbc",
            "43efb572acef49ddb7198401c9fd4289",
            "5e462ca045d446028eda257fff10af4e",
            "0d1c0d63ce3c4a9ca958aea29eef41a2",
            "7d3f0e6438b4455c909910e8960fd73f",
            "384887a53dcd42189ff7004286133b69",
            "febd2d9ced84463296c87cf5aab6f658",
            "bd0c5133e39047edac4c4c0406c67fb2",
            "81d9b32924324ae390342f404181804a",
            "11ce81665a9144cabd5988753ec18e3a",
            "039c80fad6f04b2a94a196addfe98ed9",
            "5d4bccce6917465a926dc0031629faac",
            "4cc87856b9e64da1ae8d536fc08fbce2",
            "b4e9988464314b46923d15c8700b91b7",
            "3107d34f1fb44428b617baaff10c4052",
            "a48ce3d66ade4dc09458996e8482e620",
            "3678a9a0d2ca47818031039af027be3b",
            "895338ab761944c593653a01041e4606",
            "5b355f22689746869e3ec397d192c625",
            "0b07c6de37a54944b2cd95c68ee45e9d",
            "0729bf1f48884afa9b82d4708a2c4bb3",
            "7bd7d6d3370b44e995caf41008ec2cb7",
            "995b8591fd044741971f612c1be306ee",
            "4c26b1b42bfc4d99b858eb22af2544be",
            "76accbd1935648bf810e3ac80fd2bbe1",
            "00795f1f68824531bfdbb9f6264e17c6",
            "89be222c6cce49edad1d926e81715b5a",
            "24d88eca42fa4cce876e50a45388fdac",
            "063271cbf27a489eadc270a50cd20d1e",
            "2b88c46573da4779bb13495cabee2386",
            "08efd98191864eaca6c20f06a8f9742c",
            "0c6537f83b884d6d8c5dad045b1ce38a",
            "39a3587f58f145fcb40f9d68265ace19",
            "0aa4e26b01ed4f8a9e43cc51054e2489",
            "c61ddc249eff471d861b4c0c37e1f564",
            "ff7effe0755142baac5aefe33662fc2e",
            "65865a0494fd42338132172e4b76081f",
            "d98b511ce4c04b80ad4850d91e765c56",
            "3f4c3295d02b46c2a5a8f8e051721a56",
            "a733c9f17f5543bf9afb4d066067dee6",
            "aa384796c85748239b5121dae192ad16",
            "51e054061f5741439c294fe5935c1fb6",
            "ea6c5519ee0c489fb839bd3b3b0e6c2e",
            "832db0556fd74afdb17e387f39d140e6",
            "a7ba40c0d27d4dd4a020011b794d30b0",
            "fd0013897a1e48bba853885ed3ead05e",
            "e7fdcdf522924f4299a8228e6997a6ff",
            "c4129765897e4e8eba0df7adfd12adfa",
            "8cc07137a99849ed9f1a751daba8edc0",
            "95c87e5ff5934555804f54b6275213f6",
            "6c9acfe8b32445c692ec935c1a9d4c56",
            "66d53e0283604e22a29ecb845e7bfad8",
            "3d860e02b09948f1a2907ab55f88f348",
            "3281951c286547ad829c64046bda3d3d",
            "4d67137a99174fd2ac445417b61cf69b",
            "03c96276db1947548e64e32ce4b91cac",
            "ef2ee16138d14858a0c2b0f06090fd1a",
            "822b4e82443047b99d73001c625ea9bd",
            "21f4cb39a4b34128896ddba121b2a537",
            "404e5ddb6f1744b991e23e2487171aa4",
            "d4482562fa354e1b9c7bf63bc831ac53",
            "95c3f5fb61854295a9daa559e1592fe0",
            "cbfbd486dbf1453faaabf9e9f83098a2",
            "82ae12c149db40e39c93aaa880f76fce",
            "3d199905ef5a4674b4f68c81d1350d33",
            "5aa44965263f4fb089759d2fb15f3f25"
          ]
        },
        "id": "QOZ1Uf6fo8sI",
        "outputId": "59647703-70b5-4e5a-e57a-f96c850e8e24"
      },
      "execution_count": 5,
      "outputs": [
        {
          "output_type": "display_data",
          "data": {
            "text/plain": [
              "tokenizer_config.json: 0.00B [00:00, ?B/s]"
            ],
            "application/vnd.jupyter.widget-view+json": {
              "version_major": 2,
              "version_minor": 0,
              "model_id": "8fc12748db1b49548a116b617d0e0b15"
            }
          },
          "metadata": {}
        },
        {
          "output_type": "display_data",
          "data": {
            "text/plain": [
              "vocab.json: 0.00B [00:00, ?B/s]"
            ],
            "application/vnd.jupyter.widget-view+json": {
              "version_major": 2,
              "version_minor": 0,
              "model_id": "75e1919412484855a67bd4b2d74e8606"
            }
          },
          "metadata": {}
        },
        {
          "output_type": "display_data",
          "data": {
            "text/plain": [
              "merges.txt: 0.00B [00:00, ?B/s]"
            ],
            "application/vnd.jupyter.widget-view+json": {
              "version_major": 2,
              "version_minor": 0,
              "model_id": "b6e0f91596f1478b81accfbc0d1ca989"
            }
          },
          "metadata": {}
        },
        {
          "output_type": "display_data",
          "data": {
            "text/plain": [
              "tokenizer.json:   0%|          | 0.00/11.4M [00:00<?, ?B/s]"
            ],
            "application/vnd.jupyter.widget-view+json": {
              "version_major": 2,
              "version_minor": 0,
              "model_id": "a8f1a3326f82419aa9d7c66ac4f6a581"
            }
          },
          "metadata": {}
        },
        {
          "output_type": "display_data",
          "data": {
            "text/plain": [
              "config.json:   0%|          | 0.00/727 [00:00<?, ?B/s]"
            ],
            "application/vnd.jupyter.widget-view+json": {
              "version_major": 2,
              "version_minor": 0,
              "model_id": "3951d7c58f0a4509b3ca1028bcc6ee66"
            }
          },
          "metadata": {}
        },
        {
          "output_type": "display_data",
          "data": {
            "text/plain": [
              "model.safetensors.index.json: 0.00B [00:00, ?B/s]"
            ],
            "application/vnd.jupyter.widget-view+json": {
              "version_major": 2,
              "version_minor": 0,
              "model_id": "660159cdcd6a4fb9922b2fc7b9074759"
            }
          },
          "metadata": {}
        },
        {
          "output_type": "display_data",
          "data": {
            "text/plain": [
              "Fetching 3 files:   0%|          | 0/3 [00:00<?, ?it/s]"
            ],
            "application/vnd.jupyter.widget-view+json": {
              "version_major": 2,
              "version_minor": 0,
              "model_id": "f1ada8011b5540409f55af7f3cf17dbc"
            }
          },
          "metadata": {}
        },
        {
          "output_type": "display_data",
          "data": {
            "text/plain": [
              "model-00002-of-00003.safetensors:   0%|          | 0.00/3.99G [00:00<?, ?B/s]"
            ],
            "application/vnd.jupyter.widget-view+json": {
              "version_major": 2,
              "version_minor": 0,
              "model_id": "5d4bccce6917465a926dc0031629faac"
            }
          },
          "metadata": {}
        },
        {
          "output_type": "display_data",
          "data": {
            "text/plain": [
              "model-00003-of-00003.safetensors:   0%|          | 0.00/99.6M [00:00<?, ?B/s]"
            ],
            "application/vnd.jupyter.widget-view+json": {
              "version_major": 2,
              "version_minor": 0,
              "model_id": "995b8591fd044741971f612c1be306ee"
            }
          },
          "metadata": {}
        },
        {
          "output_type": "display_data",
          "data": {
            "text/plain": [
              "model-00001-of-00003.safetensors:   0%|          | 0.00/3.96G [00:00<?, ?B/s]"
            ],
            "application/vnd.jupyter.widget-view+json": {
              "version_major": 2,
              "version_minor": 0,
              "model_id": "0aa4e26b01ed4f8a9e43cc51054e2489"
            }
          },
          "metadata": {}
        },
        {
          "output_type": "display_data",
          "data": {
            "text/plain": [
              "Loading checkpoint shards:   0%|          | 0/3 [00:00<?, ?it/s]"
            ],
            "application/vnd.jupyter.widget-view+json": {
              "version_major": 2,
              "version_minor": 0,
              "model_id": "a7ba40c0d27d4dd4a020011b794d30b0"
            }
          },
          "metadata": {}
        },
        {
          "output_type": "display_data",
          "data": {
            "text/plain": [
              "generation_config.json:   0%|          | 0.00/238 [00:00<?, ?B/s]"
            ],
            "application/vnd.jupyter.widget-view+json": {
              "version_major": 2,
              "version_minor": 0,
              "model_id": "03c96276db1947548e64e32ce4b91cac"
            }
          },
          "metadata": {}
        }
      ]
    },
    {
      "cell_type": "code",
      "source": [
        "text_src = \"В лесу родилась ёлочка, \\\n",
        "В лесу она росла, \\\n",
        "Зимой и летом стройная, \\\n",
        "Зелёная была. \\\n",
        "\\\n",
        "Метель ей пела песенку: \\\n",
        "Спи, елочка, бай-бай! \\\n",
        "Мороз снежком укутывал: \\\n",
        "Смотри, не замерзай! \\\n",
        "\\\n",
        "Трусишка зайка серенький \\\n",
        "Под ёлочкой скакал. \\\n",
        "Порою волк, сердитый волк \\\n",
        "Рысцою пробегал. \\\n",
        "\\\n",
        "А снег по лесу частому \\\n",
        "Под полозом скрипит; \\\n",
        "Лошадка мохноногая \\\n",
        "Торопиться, бежит. \\\n",
        "\\\n",
        "Везёт лошадка дровенки, \\\n",
        "А в дровнях старичок, \\\n",
        "Срубил он нашу елочку \\\n",
        "Под самый корешок. \\\n",
        "\\\n",
        "Теперь она, нарядная, \\\n",
        "На праздник к нам пришла \\\n",
        "И много, много радости \\\n",
        "Детишкам принесла.\""
      ],
      "metadata": {
        "id": "l_UMnIWb8pRd"
      },
      "execution_count": 14,
      "outputs": []
    },
    {
      "cell_type": "code",
      "source": [
        "prompt = f\"Выполни суммаризацию текста:\\n\\n{text_src}\"\n",
        "messages = [\n",
        "    {\"role\": \"user\", \"content\": prompt}\n",
        "]"
      ],
      "metadata": {
        "id": "IVk7vYRR8RuD"
      },
      "execution_count": 15,
      "outputs": []
    },
    {
      "cell_type": "code",
      "source": [
        "messages"
      ],
      "metadata": {
        "colab": {
          "base_uri": "https://localhost:8080/"
        },
        "id": "3IJ8Qous9aZY",
        "outputId": "1cd04fb6-036d-4655-8c2c-d51cac6cea0e"
      },
      "execution_count": 16,
      "outputs": [
        {
          "output_type": "execute_result",
          "data": {
            "text/plain": [
              "[{'role': 'user',\n",
              "  'content': 'Выполни суммаризацию текста:\\n\\nВ лесу родилась ёлочка, В лесу она росла, Зимой и летом стройная, Зелёная была. Метель ей пела песенку: Спи, елочка, бай-бай! Мороз снежком укутывал: Смотри, не замерзай! Трусишка зайка серенький Под ёлочкой скакал. Порою волк, сердитый волк Рысцою пробегал. А снег по лесу частому Под полозом скрипит; Лошадка мохноногая Торопиться, бежит. Везёт лошадка дровенки, А в дровнях старичок, Срубил он нашу елочку Под самый корешок. Теперь она, нарядная, На праздник к нам пришла И много, много радости Детишкам принесла.'}]"
            ]
          },
          "metadata": {},
          "execution_count": 16
        }
      ]
    },
    {
      "cell_type": "code",
      "source": [
        "text = tokenizer.apply_chat_template(\n",
        "    messages,\n",
        "    tokenize=False,\n",
        "    add_generation_prompt=True,\n",
        ")\n",
        "text"
      ],
      "metadata": {
        "colab": {
          "base_uri": "https://localhost:8080/",
          "height": 87
        },
        "id": "ZPXnHdew9jrP",
        "outputId": "e2e38bf3-59cb-4777-c399-13b19d4f5450"
      },
      "execution_count": 18,
      "outputs": [
        {
          "output_type": "execute_result",
          "data": {
            "text/plain": [
              "'<|im_start|>user\\nВыполни суммаризацию текста:\\n\\nВ лесу родилась ёлочка, В лесу она росла, Зимой и летом стройная, Зелёная была. Метель ей пела песенку: Спи, елочка, бай-бай! Мороз снежком укутывал: Смотри, не замерзай! Трусишка зайка серенький Под ёлочкой скакал. Порою волк, сердитый волк Рысцою пробегал. А снег по лесу частому Под полозом скрипит; Лошадка мохноногая Торопиться, бежит. Везёт лошадка дровенки, А в дровнях старичок, Срубил он нашу елочку Под самый корешок. Теперь она, нарядная, На праздник к нам пришла И много, много радости Детишкам принесла.<|im_end|>\\n<|im_start|>assistant\\n'"
            ],
            "application/vnd.google.colaboratory.intrinsic+json": {
              "type": "string"
            }
          },
          "metadata": {},
          "execution_count": 18
        }
      ]
    },
    {
      "cell_type": "code",
      "source": [
        "model_inputs = tokenizer([text], return_tensors=\"pt\").to(model.device)\n",
        "model_inputs"
      ],
      "metadata": {
        "colab": {
          "base_uri": "https://localhost:8080/"
        },
        "id": "tGSwOCS391g0",
        "outputId": "812fb1ae-a6b5-4095-b900-73e972aa991b"
      },
      "execution_count": 19,
      "outputs": [
        {
          "output_type": "execute_result",
          "data": {
            "text/plain": [
              "{'input_ids': tensor([[151644,    872,    198,  45610, 125648,  22621, 143433, 142556,  40773,\n",
              "         127561,  70895,   1478,   1447,  16206,  25460,  22484,   3780, 129757,\n",
              "         132427,   8839,    239,   3038, 134989,     11,  22933,  25460,  22484,\n",
              "           3780, 129171,  18108,  22787,  30343,     11,  52577,  16104,  16339,\n",
              "           7587, 128696,  12228,  29292,  16339,  43758,     11,  52577,  12121,\n",
              "          44022,  43758, 129760,     13,  44358,   8178,  25428,  22132,  12141,\n",
              "           5063, 131942, 132415,   5259,  35252,     25,  27499, 128662,     11,\n",
              "          22132,   3038, 134989,     11,  14062,  18530,     12,   9923,  18530,\n",
              "              0,  44358,   9062,  19645,   5409, 136916, 125457,  13932,  35252,\n",
              "           1792,  34567,  15952,     25,  27499,  81124,  30103,     11,  18658,\n",
              "         127912,   7599,   8959,  18530,      0,  50318,  19763, 124662, 131372,\n",
              "         140516,  13132,  65286,  51329, 130366, 130041,   8839,    239,   3038,\n",
              "          37338, 128588,  68371,  15869,  15952,     13,  22419, 125234,  11916,\n",
              "           5805,   7819,   4793,     11,  65286,   6949,   9358,  34623,   5805,\n",
              "           7819,   4793,  48420,   4552,   2247,  10373,   1456,  11916, 126963,\n",
              "          24671,  15952,     13,  56755,   5409,   2108,  24671,  17686,  25460,\n",
              "          22484,   3780, 127174,  71852, 130041,  28519,  19645,  12228,  68371,\n",
              "          30103, 129905,     26, 124805,   1456,  12150,  22833,  13132, 128468,\n",
              "          10474,  13685,   2108,  14497,  35397,  50318,   9062,  28156, 128708,\n",
              "             11,  14062,  49336,   9358,     13,  22933,  31885, 127138,  25460,\n",
              "           1456,  12150,  22833,  13132,   7796,  23862,   5259,  16748,     11,\n",
              "          56755,   5805,   7796,  23862,  39151,  10474, 129511,  32982,  14746,\n",
              "             11,  27499, 127431,  63192,  98745, 126096,   3780,  22132,   3038,\n",
              "          37338,  35252, 130041, 139524,  66869,  45967,  14746,     13, 140650,\n",
              "         129171,     11,  13073, 128917,  43758,     11, 128313, 137965,   7665,\n",
              "         130512,  36305, 133302,  42796, 128991,     11, 128991, 134296,  84764,\n",
              "          38803,   8178, 139591, 129976, 126017,  22484,  30343,     13, 151645,\n",
              "            198, 151644,  77091,    198]], device='cuda:0'), 'attention_mask': tensor([[1, 1, 1, 1, 1, 1, 1, 1, 1, 1, 1, 1, 1, 1, 1, 1, 1, 1, 1, 1, 1, 1, 1, 1,\n",
              "         1, 1, 1, 1, 1, 1, 1, 1, 1, 1, 1, 1, 1, 1, 1, 1, 1, 1, 1, 1, 1, 1, 1, 1,\n",
              "         1, 1, 1, 1, 1, 1, 1, 1, 1, 1, 1, 1, 1, 1, 1, 1, 1, 1, 1, 1, 1, 1, 1, 1,\n",
              "         1, 1, 1, 1, 1, 1, 1, 1, 1, 1, 1, 1, 1, 1, 1, 1, 1, 1, 1, 1, 1, 1, 1, 1,\n",
              "         1, 1, 1, 1, 1, 1, 1, 1, 1, 1, 1, 1, 1, 1, 1, 1, 1, 1, 1, 1, 1, 1, 1, 1,\n",
              "         1, 1, 1, 1, 1, 1, 1, 1, 1, 1, 1, 1, 1, 1, 1, 1, 1, 1, 1, 1, 1, 1, 1, 1,\n",
              "         1, 1, 1, 1, 1, 1, 1, 1, 1, 1, 1, 1, 1, 1, 1, 1, 1, 1, 1, 1, 1, 1, 1, 1,\n",
              "         1, 1, 1, 1, 1, 1, 1, 1, 1, 1, 1, 1, 1, 1, 1, 1, 1, 1, 1, 1, 1, 1, 1, 1,\n",
              "         1, 1, 1, 1, 1, 1, 1, 1, 1, 1, 1, 1, 1, 1, 1, 1, 1, 1, 1, 1, 1, 1, 1, 1,\n",
              "         1, 1, 1, 1, 1, 1, 1, 1, 1, 1, 1, 1, 1, 1, 1, 1, 1, 1, 1, 1, 1, 1, 1, 1,\n",
              "         1, 1, 1, 1, 1, 1, 1]], device='cuda:0')}"
            ]
          },
          "metadata": {},
          "execution_count": 19
        }
      ]
    },
    {
      "cell_type": "code",
      "source": [
        "generated_ids = model.generate(\n",
        "    **model_inputs,\n",
        "    max_new_tokens=16384\n",
        ")\n",
        "generated_ids"
      ],
      "metadata": {
        "colab": {
          "base_uri": "https://localhost:8080/"
        },
        "id": "dwFSpHDP98JV",
        "outputId": "5b12d0e6-62d0-45e8-f7a8-328eef0b0ed3"
      },
      "execution_count": 20,
      "outputs": [
        {
          "output_type": "execute_result",
          "data": {
            "text/plain": [
              "tensor([[151644,    872,    198,  45610, 125648,  22621, 143433, 142556,  40773,\n",
              "         127561,  70895,   1478,   1447,  16206,  25460,  22484,   3780, 129757,\n",
              "         132427,   8839,    239,   3038, 134989,     11,  22933,  25460,  22484,\n",
              "           3780, 129171,  18108,  22787,  30343,     11,  52577,  16104,  16339,\n",
              "           7587, 128696,  12228,  29292,  16339,  43758,     11,  52577,  12121,\n",
              "          44022,  43758, 129760,     13,  44358,   8178,  25428,  22132,  12141,\n",
              "           5063, 131942, 132415,   5259,  35252,     25,  27499, 128662,     11,\n",
              "          22132,   3038, 134989,     11,  14062,  18530,     12,   9923,  18530,\n",
              "              0,  44358,   9062,  19645,   5409, 136916, 125457,  13932,  35252,\n",
              "           1792,  34567,  15952,     25,  27499,  81124,  30103,     11,  18658,\n",
              "         127912,   7599,   8959,  18530,      0,  50318,  19763, 124662, 131372,\n",
              "         140516,  13132,  65286,  51329, 130366, 130041,   8839,    239,   3038,\n",
              "          37338, 128588,  68371,  15869,  15952,     13,  22419, 125234,  11916,\n",
              "           5805,   7819,   4793,     11,  65286,   6949,   9358,  34623,   5805,\n",
              "           7819,   4793,  48420,   4552,   2247,  10373,   1456,  11916, 126963,\n",
              "          24671,  15952,     13,  56755,   5409,   2108,  24671,  17686,  25460,\n",
              "          22484,   3780, 127174,  71852, 130041,  28519,  19645,  12228,  68371,\n",
              "          30103, 129905,     26, 124805,   1456,  12150,  22833,  13132, 128468,\n",
              "          10474,  13685,   2108,  14497,  35397,  50318,   9062,  28156, 128708,\n",
              "             11,  14062,  49336,   9358,     13,  22933,  31885, 127138,  25460,\n",
              "           1456,  12150,  22833,  13132,   7796,  23862,   5259,  16748,     11,\n",
              "          56755,   5805,   7796,  23862,  39151,  10474, 129511,  32982,  14746,\n",
              "             11,  27499, 127431,  63192,  98745, 126096,   3780,  22132,   3038,\n",
              "          37338,  35252, 130041, 139524,  66869,  45967,  14746,     13, 140650,\n",
              "         129171,     11,  13073, 128917,  43758,     11, 128313, 137965,   7665,\n",
              "         130512,  36305, 133302,  42796, 128991,     11, 128991, 134296,  84764,\n",
              "          38803,   8178, 139591, 129976, 126017,  22484,  30343,     13, 151645,\n",
              "            198, 151644,  77091,    198,  16206,  25460,  22484,   3780, 129757,\n",
              "         132427,   8839,    239,   3038, 134989,     11, 130407,  18108,  22787,\n",
              "          30343, 131896, 128696,  12228,   7587, 138812,  16339,     13,  44358,\n",
              "           8178,  25428,   7587,  11310,   9062,  19645,  10885,   3648,  35720,\n",
              "         131091,   8215,   6709,  21032,     11,  20396, 140516,  13132,   7587,\n",
              "           5805,   7819,   4793,  40191,  30001, 126227,  11310,  16104,   1456,\n",
              "             13, 124805,   1456,  12150,  22833,  13132,  14062,  49336,  95965,\n",
              "          17686,  25460,  22484,   3780,     11,   5805,  31885,   4235,   7796,\n",
              "         127830,     11,   5805, 130455,   8215, 126031,  20562, 129511,  32982,\n",
              "          14746,     11,  97751,   5409, 127431,  63192,   8839,    239,   3038,\n",
              "          37338,  35252,     13, 140650,   8839,    239,   3038, 134989,   1959,\n",
              "          13073, 128917,  43758,   7587,  36305, 133302,  13073, 137965,     11,\n",
              "         126017,   1504,  20562, 125870, 129533, 128991, 134296,  84764,     13,\n",
              "         151645]], device='cuda:0')"
            ]
          },
          "metadata": {},
          "execution_count": 20
        }
      ]
    },
    {
      "cell_type": "code",
      "source": [
        "tokenizer.decode(generated_ids[0].tolist(), skip_special_tokens=True)"
      ],
      "metadata": {
        "colab": {
          "base_uri": "https://localhost:8080/",
          "height": 122
        },
        "id": "H1RFUcRx-25m",
        "outputId": "8f37de40-e290-4c3e-a420-b97ba5e61286"
      },
      "execution_count": 27,
      "outputs": [
        {
          "output_type": "execute_result",
          "data": {
            "text/plain": [
              "'user\\nВыполни суммаризацию текста:\\n\\nВ лесу родилась ёлочка, В лесу она росла, Зимой и летом стройная, Зелёная была. Метель ей пела песенку: Спи, елочка, бай-бай! Мороз снежком укутывал: Смотри, не замерзай! Трусишка зайка серенький Под ёлочкой скакал. Порою волк, сердитый волк Рысцою пробегал. А снег по лесу частому Под полозом скрипит; Лошадка мохноногая Торопиться, бежит. Везёт лошадка дровенки, А в дровнях старичок, Срубил он нашу елочку Под самый корешок. Теперь она, нарядная, На праздник к нам пришла И много, много радости Детишкам принесла.\\nassistant\\nВ лесу родилась ёлочка, которая росла всё летом и зимой. Метель и мороз заботились о ней, а зайка и волк проходили мимо. Лошадка бежала по лесу, везя дрова, в которых оказался старичок, который срубил ёлочку. Теперь ёлочка — нарядная и пришла на праздник, принеся детям много радости.'"
            ],
            "application/vnd.google.colaboratory.intrinsic+json": {
              "type": "string"
            }
          },
          "metadata": {},
          "execution_count": 27
        }
      ]
    },
    {
      "cell_type": "code",
      "source": [
        "output_ids = generated_ids[0][len(model_inputs.input_ids[0]):].tolist()\n",
        "print(output_ids)"
      ],
      "metadata": {
        "colab": {
          "base_uri": "https://localhost:8080/"
        },
        "id": "uEydzAeh-GtL",
        "outputId": "9650250b-6b72-4c0b-e2fa-2af58b69ff50"
      },
      "execution_count": 22,
      "outputs": [
        {
          "output_type": "stream",
          "name": "stdout",
          "text": [
            "[16206, 25460, 22484, 3780, 129757, 132427, 8839, 239, 3038, 134989, 11, 130407, 18108, 22787, 30343, 131896, 128696, 12228, 7587, 138812, 16339, 13, 44358, 8178, 25428, 7587, 11310, 9062, 19645, 10885, 3648, 35720, 131091, 8215, 6709, 21032, 11, 20396, 140516, 13132, 7587, 5805, 7819, 4793, 40191, 30001, 126227, 11310, 16104, 1456, 13, 124805, 1456, 12150, 22833, 13132, 14062, 49336, 95965, 17686, 25460, 22484, 3780, 11, 5805, 31885, 4235, 7796, 127830, 11, 5805, 130455, 8215, 126031, 20562, 129511, 32982, 14746, 11, 97751, 5409, 127431, 63192, 8839, 239, 3038, 37338, 35252, 13, 140650, 8839, 239, 3038, 134989, 1959, 13073, 128917, 43758, 7587, 36305, 133302, 13073, 137965, 11, 126017, 1504, 20562, 125870, 129533, 128991, 134296, 84764, 13, 151645]\n"
          ]
        }
      ]
    },
    {
      "cell_type": "code",
      "source": [
        "content = tokenizer.decode(output_ids, skip_special_tokens=True)\n",
        "\n",
        "print(\"content:\", content)"
      ],
      "metadata": {
        "colab": {
          "base_uri": "https://localhost:8080/"
        },
        "id": "fjV1mLjg-f3-",
        "outputId": "ba5adb89-d4a3-4e60-9f48-a875ea1389de"
      },
      "execution_count": 23,
      "outputs": [
        {
          "output_type": "stream",
          "name": "stdout",
          "text": [
            "content: В лесу родилась ёлочка, которая росла всё летом и зимой. Метель и мороз заботились о ней, а зайка и волк проходили мимо. Лошадка бежала по лесу, везя дрова, в которых оказался старичок, который срубил ёлочку. Теперь ёлочка — нарядная и пришла на праздник, принеся детям много радости.\n"
          ]
        }
      ]
    },
    {
      "cell_type": "markdown",
      "source": [
        "В лесу родилась ёлочка, которая росла всё летом и зимой. Метель и мороз заботились о ней, а зайка и волк проходили мимо. Лошадка бежала по лесу, везя дрова, в которых оказался старичок, который срубил ёлочку. Теперь ёлочка — нарядная и пришла на праздник, принеся детям много радости."
      ],
      "metadata": {
        "id": "9qvOKyDxCC44"
      }
    },
    {
      "cell_type": "markdown",
      "source": [
        "## Сказка про колобка"
      ],
      "metadata": {
        "id": "Ezo5Rr-M_-LF"
      }
    },
    {
      "cell_type": "code",
      "source": [
        "text_src = \"\"\"Жили-были старик со старухой. Вот и просит старик:\n",
        "\n",
        "– Испеки мне, старая, Колобок.\n",
        "\n",
        "– Да из чего испечь-то? Муки нет.\n",
        "\n",
        "– Эх, старуха! По амбару помети, по сусечкам поскреби – вот и наберется. Старушка так и сделала: намела, наскребла горсти две муки, замесила тесто на сметане, скатала Колобок, изжарила его в масле и положила на окно простынуть.\n",
        "\n",
        "Надоело Колобку лежать: он и покатился с окна на лавку, с лавки на пол да к двери, прыг через порог в сени, из сеней на крыльцо, с крыльца на двор, а там и за ворота, дальше и дальше.\n",
        "\n",
        "Катится Колобок по дороге, а навстречу ему заяц:\n",
        "\n",
        "– Колобок, Колобок! Я тебя съем!\n",
        "\n",
        "– Нет, не ешь меня, косой, а лучше послушай, какую я тебе песенку спою.\n",
        "\n",
        "Заяц уши поднял, а Колобок запел:\n",
        "\n",
        "Я Колобок, Колобок! По амбару метен, По сусечкам скребен, На сметане мешен, В печку сажен, На окошке стужен, Я от дедушки ушел, Я от бабушки ушел, От тебя, зайца, Не хитро уйти.\n",
        "\n",
        "И покатился Колобок дальше – только его заяц и видел.\n",
        "\n",
        "Катится Колобок по тропинке в лесу, а навстречу ему Серый Волк:\n",
        "\n",
        "– Колобок, Колобок! Я тебя съем!\n",
        "\n",
        "– Не ешь меня, Серый Волк: я тебе песенку спою.\n",
        "\n",
        "И Колобок запел:\n",
        "\n",
        "Я Колобок, Колобок! По амбару метен, По сусечкам скребен, На сметане мешен, В печку сажен, На окошке стужен. Я от дедушки ушел, Я от бабушки ушел, Я от зайца ушел. От тебя, волка, Не хитро уйти.\n",
        "\n",
        "Покатился Колобок дальше – только его волк и видел.\n",
        "\n",
        "Катится Колобок по лесу, а навстречу ему медведь идет, хворост ломает, кусты к земле гнет.\n",
        "\n",
        "– Колобок, Колобок, я тебя съем!\n",
        "\n",
        "– Ну где тебе, косолапому, съесть меня! Послушай лучше мою песенку.\n",
        "\n",
        "Колобок запел, а Миша и уши развесил:\n",
        "\n",
        "Я Колобок, Колобок! По амбару метен, По сусечкам скребен, На сметане мешен, В печку сажен, На окошке стужен. Я от дедушки ушел, Я от бабушки ушел, Я от зайца ушел, Я от волка ушел, От тебя, медведь, Полгоря уйти.\n",
        "\n",
        "И покатился Колобок – медведь только вслед ему посмотрел.\n",
        "\n",
        "Катится Колобок, а навстречу ему лиса:\n",
        "\n",
        "– Здравствуй, Колобок! Какой ты пригоженький, румяненький!\n",
        "\n",
        "Колобок рад, что его похвалили, и запел свою песенку, а лиса слушает да все ближе подкрадывается:\n",
        "\n",
        "Я Колобок, Колобок! По амбару метен, По сусечкам скребен, На сметане мешен, В печку сажен, На окошке стужен. Я от дедушки ушел, Я от бабушки ушел, Я от зайца ушел, Я от волка ушел, От медведя ушел, От тебя, лиса, Не хитро уйти.\n",
        "\n",
        "– Какая славная песенка! – сказала лиса. – Да то беда, голубчик, что стара я стала – плохо слышу. Сядь ко мне на мордочку да пропой еще разочек.\n",
        "\n",
        "Колобок обрадовался, что его песенку похвалили, прыгнул лисе на морду да и запел:\n",
        "\n",
        "Я Колобок, Колобок!..\n",
        "\n",
        "А лиса его – гам! – и съела.\"\"\""
      ],
      "metadata": {
        "id": "NOBJR6Xh_tnt"
      },
      "execution_count": 31,
      "outputs": []
    },
    {
      "cell_type": "code",
      "source": [
        "prompt = f\"Выполни суммаризацию текста:\\n\\n{text_src}\"\n",
        "messages = [\n",
        "    {\"role\": \"user\", \"content\": prompt}\n",
        "]\n",
        "text = tokenizer.apply_chat_template(\n",
        "    messages,\n",
        "    tokenize=False,\n",
        "    add_generation_prompt=True,\n",
        ")\n",
        "model_inputs = tokenizer([text], return_tensors=\"pt\").to(model.device)\n",
        "generated_ids = model.generate(\n",
        "    **model_inputs,\n",
        "    max_new_tokens=16384\n",
        ")\n",
        "output_ids = generated_ids[0][len(model_inputs.input_ids[0]):].tolist()\n",
        "content = tokenizer.decode(output_ids, skip_special_tokens=True)\n",
        "\n",
        "print(\"content:\", content)"
      ],
      "metadata": {
        "colab": {
          "base_uri": "https://localhost:8080/"
        },
        "id": "bGaYXeZsBbDG",
        "outputId": "b11383b2-6f73-4b6f-ee52-be7ef76fde2a"
      },
      "execution_count": 32,
      "outputs": [
        {
          "output_type": "stream",
          "name": "stdout",
          "text": [
            "content: **Суммаризованное содержание текста:**\n",
            "\n",
            "Старик и старуха испекли Колобка из муки, который, устав от лежания, покатился по дому и дальше — по дороге, в лес и на двор. По пути он встречает зайца, волка, медведя и лису, каждый из которых предлагает съесть его, но Колобок спасается песней, в которой повторяет, от кого он ушёл. В конце лиса похвалила песенку, сказала, что плохо слышит, и попросила Колобка пропеть ещё раз — и съела его.  \n",
            "\n",
            "**Короткая суммаризация:**  \n",
            "Колобок катится по дороге, избегая зверей, которые хотят его съесть, и каждый раз спасается песней, в которой отмечает, от кого он ушёл. В итоге лиса, похвалив песню, съедает его.\n"
          ]
        }
      ]
    },
    {
      "cell_type": "markdown",
      "source": [
        "**Суммаризованное содержание текста:**\n",
        "\n",
        "Старик и старуха испекли Колобка из муки, который, устав от лежания, покатился по дому и дальше — по дороге, в лес и на двор. По пути он встречает зайца, волка, медведя и лису, каждый из которых предлагает съесть его, но Колобок спасается песней, в которой повторяет, от кого он ушёл. В конце лиса похвалила песенку, сказала, что плохо слышит, и попросила Колобка пропеть ещё раз — и съела его.  \n",
        "\n",
        "**Короткая суммаризация:**  \n",
        "Колобок катится по дороге, избегая зверей, которые хотят его съесть, и каждый раз спасается песней, в которой отмечает, от кого он ушёл. В итоге лиса, похвалив песню, съедает его."
      ],
      "metadata": {
        "id": "PFwhUHgSB6h0"
      }
    },
    {
      "cell_type": "markdown",
      "source": [
        "## Jingle bells"
      ],
      "metadata": {
        "id": "p3YPlyYFDP1I"
      }
    },
    {
      "cell_type": "code",
      "source": [
        "import time"
      ],
      "metadata": {
        "id": "YfH-Z-mpCZIP"
      },
      "execution_count": 6,
      "outputs": []
    },
    {
      "cell_type": "code",
      "source": [
        "text_src = \"\"\"\n",
        "Dashing through the snow\n",
        "In a one-horse open sleigh\n",
        "O’er the fields we go\n",
        "Laughing all the way\n",
        "Bells on bobtail ring\n",
        "Making spirits bright\n",
        "What fun it is to laugh and sing\n",
        "A sleighing song tonight!\n",
        "\n",
        "Chorus:\n",
        "Jingle bells, jingle bells,\n",
        "Jingle all the way.\n",
        "Oh! what fun it is to ride\n",
        "In a one-horse open sleigh.\n",
        "Jingle bells, jingle bells,\n",
        "Jingle all the way;\n",
        "Oh! what fun it is to ride\n",
        "In a one-horse open sleigh.\n",
        "\n",
        "A day or two ago\n",
        "I thought I’d take a ride\n",
        "And soon, Miss Fanny Bright\n",
        "Was seated by my side,\n",
        "The horse was lean and lank\n",
        "Misfortune seemed his lot\n",
        "He got into a drifted bank\n",
        "And then we got upset.\n",
        "\n",
        "Chorus:\n",
        "Jingle bells, jingle bells,\n",
        "Jingle all the way.\n",
        "Oh! what fun it is to ride\n",
        "In a one-horse open sleigh.\n",
        "Jingle bells, jingle bells,\n",
        "Jingle all the way;\n",
        "Oh! what fun it is to ride\n",
        "In a one-horse open sleigh.\n",
        "\n",
        "A day or two ago,\n",
        "The story I must tell\n",
        "I went out on the snow,\n",
        "And on my back I fell;\n",
        "A gent was riding by\n",
        "In a one-horse open sleigh,\n",
        "He laughed as there I sprawling lie,\n",
        "But quickly drove away.\n",
        "\n",
        "Chorus:\n",
        "Jingle bells, jingle bells,\n",
        "Jingle all the way.\n",
        "Oh! what fun it is to ride\n",
        "In a one-horse open sleigh.\n",
        "Jingle bells, jingle bells,\n",
        "Jingle all the way;\n",
        "Oh! what fun it is to ride\n",
        "In a one-horse open sleigh.\n",
        "\n",
        "Now the ground is white\n",
        "Go it while you’re young,\n",
        "Take the girls tonight\n",
        "and sing this sleighing song;\n",
        "Just get a bobtailed bay\n",
        "Two forty as his speed\n",
        "Hitch him to an open sleigh\n",
        "And crack! you’ll take the lead.\n",
        "\n",
        "Chorus:\n",
        "Jingle bells, jingle bells,\n",
        "Jingle all the way.\n",
        "Oh! what fun it is to ride\n",
        "In a one-horse open sleigh.\n",
        "Jingle bells, jingle bells,\n",
        "Jingle all the way;\n",
        "Oh! what fun it is to ride\n",
        "In a one-horse open sleigh.\n",
        "\"\"\""
      ],
      "metadata": {
        "id": "j9FmO6QQCgV4"
      },
      "execution_count": 34,
      "outputs": []
    },
    {
      "cell_type": "code",
      "source": [
        "start = time.time()\n",
        "\n",
        "prompt = f\"Выполни суммаризацию текста:\\n\\n{text_src}\"\n",
        "messages = [\n",
        "    {\"role\": \"user\", \"content\": prompt}\n",
        "]\n",
        "text = tokenizer.apply_chat_template(\n",
        "    messages,\n",
        "    tokenize=False,\n",
        "    add_generation_prompt=True,\n",
        ")\n",
        "model_inputs = tokenizer([text], return_tensors=\"pt\").to(model.device)\n",
        "generated_ids = model.generate(\n",
        "    **model_inputs,\n",
        "    max_new_tokens=16384\n",
        ")\n",
        "output_ids = generated_ids[0][len(model_inputs.input_ids[0]):].tolist()\n",
        "content = tokenizer.decode(output_ids, skip_special_tokens=True)\n",
        "\n",
        "end = time.time()\n",
        "print(f\"Время выполнения: {(end - start):.2f} секунд\")\n",
        "\n",
        "print(\"content:\", content)"
      ],
      "metadata": {
        "colab": {
          "base_uri": "https://localhost:8080/"
        },
        "id": "PVAWRGkjDT0L",
        "outputId": "a6b54611-d8be-47d1-e97c-cd22390179fd"
      },
      "execution_count": 36,
      "outputs": [
        {
          "output_type": "stream",
          "name": "stdout",
          "text": [
            "Время выполнения: 15.14 секунд\n",
            "content: Суммаризацию текста:\n",
            "\n",
            "Песня — весёлая и народная, посвящённая зимнему походу на санях. В ней описываются радость, веселье и приключения, связанные с ездой на одной лошади в санях. Автор рассказывает о нескольких эпизодах: счастливой поездке с дамой Фанни Брайт, неприятном падении на снегу и смехе прохожего, а также даёт совет по организации увлекательной зимней поездки — с бобтаiled лошадью, хорошей скоростью и весельем. Главная идея — радость, счастье и настроение, которое создаётся при поездке в санях, особенно в зимний период.\n"
          ]
        }
      ]
    },
    {
      "cell_type": "markdown",
      "source": [
        "Песня — весёлая и народная, посвящённая зимнему походу на санях. В ней описываются радость, веселье и приключения, связанные с ездой на одной лошади в санях. Автор рассказывает о нескольких эпизодах: счастливой поездке с дамой Фанни Брайт, неприятном падении на снегу и смехе прохожего, а также даёт совет по организации увлекательной зимней поездки — с бобтаiled лошадью, хорошей скоростью и весельем. Главная идея — радость, счастье и настроение, которое создаётся при поездке в санях, особенно в зимний период."
      ],
      "metadata": {
        "id": "X-GSelfwDz0y"
      }
    },
    {
      "cell_type": "markdown",
      "source": [
        "## Новость про роботов на китайском"
      ],
      "metadata": {
        "id": "-RXkCU57EVWX"
      }
    },
    {
      "cell_type": "code",
      "source": [
        "text_src = \"\"\"\n",
        "8日，伴随着人形机器人的主持，2025世界机器人大会拉开帷幕。400余位国内外业界代表集中展示机器人领域最新“黑科技”，透出产业新动向。\n",
        "\n",
        "今年4月，全球首次“人机共跑”半程马拉松在北京亦庄开跑，书写下机器人发展史上的重要一笔。今天，科技发烧友的目光再度聚焦这里。\n",
        "\n",
        "8月8日，宇树科技人形机器人在2025世界机器人大会上进行格斗表演。新华社记者 彭韵佳 摄\n",
        "\n",
        "8月8日，宇树科技人形机器人在2025世界机器人大会上进行格斗表演。新华社记者 彭韵佳 摄\n",
        "\n",
        "机器人产业是展示综合科技实力的高地，是技术交叉融合的“集大成者”。今年上半年，我国机器人产业营收同比增长27.8%，连续12年保持全球最大工业机器人市场地位，制造业机器人密度已跃升至全球第3位。\n",
        "\n",
        "从伺服电机、减速器，到人机交互、多模态感知……我国已形成机器人全产业链布局，关键环节国产化进程加快，创新要素加速向机器人领域奔涌汇聚。\n",
        "\n",
        "“这股创新浪潮不仅是技术的迭代升级，更将带来生产力的深刻变革。”工业和信息化部副部长辛国斌在大会开幕式上说。\n",
        "\n",
        "穿梭在大会展馆中，来自全球的一场“机器人总动员”，正用最炫酷的方式，为人们领略科技前沿、展望产业前景打开一扇窗口，宣告着未来正加速到来。\n",
        "\n",
        "这是人类对科学幻想跨越百年的追求——20世纪20年代，“机器人”概念首次出现在科幻作品中。如今，机器人技术已实现全方位革新，轮式、四足、机械臂、人形等各类机器人不断重塑人类认知和实践边界。\n",
        "\n",
        "从大载重工业机器人在生产线上“举重若轻”；到仿生蜜蜂、喜鹊在特殊环境下灵活航行；从人形机器人娴熟叠衣、分拣、搬运，到多维力传感器、高精度关节模组等核心零部件揭示机器人“底层密码”……\n",
        "\n",
        "记者在大会现场看到，那些曾经只存在于科幻电影中的场景正一一落地，成为机器人向更智能、更贴近人类生活方向发展的生动注脚。\n",
        "\n",
        "据介绍，本届大会打造创新馆、应用馆、技术馆3个展馆，展览面积约5万平方米。ABB、库卡、费斯托、宇树科技、银河通用、中信重工等200余家国内外企业带来了1500余件展品，其中首发新品超百件。\n",
        "\n",
        "登上春晚扭秧歌、跑起马拉松、走上绿茵场……今年以来，机器人领域一个个有意义的时刻接踵而至，不断印证着在人工智能爆发式发展下，机器人产业正迎来新的机遇和可能。\n",
        "\n",
        "面向未来，机器人产业将走向何方？工业机器人如何拥抱人工智能技术？人形机器人将在老龄化社会中扮演什么角色？\n",
        "\n",
        "这些疑问，也许能在今年的大会上找到一些答案。\n",
        "\n",
        "大会期间，《2025具身智能机器人发展趋势》《2025人形机器人十大潜力应用场景》等10余项成果陆续发布，为业界提供“指南针”和“风向标”。\n",
        "\n",
        "当前，我国工业机器人正进化成为智能制造的核心引擎，服务机器人在仓储物流、商用服务、医疗康复等领域渗透率显著提升，特种机器人在深海探测、应急救援、矿山电力等领域发挥重要作用。\n",
        "\n",
        "为加速机器人产业落地，大会打造了场景开放日、投融资对接、创新创业项目路演、人才供需对接活动等30余场配套活动，对接上下游链条，推动产业发展。同时，新加坡、东盟、尼泊尔、喀麦隆等海外团组将发布应用场景和合作需求，助力企业开拓海外市场。\n",
        "\n",
        "“机器人大会已走过10个年头，见证和推动着机器人产业在产业提速、场景纵深、技术自主、生态成熟上不断突破，机器人赋能千行百业、走进千家万景的愿景正在加速实现。”中国电子学会理事长徐晓兰说。\n",
        "\n",
        "向“智”奔跑！机器人产业势头强劲，未来可期！（记者温竞华、彭韵佳、阳娜）\n",
        "\"\"\""
      ],
      "metadata": {
        "id": "vSJPGv5lEW5L"
      },
      "execution_count": 42,
      "outputs": []
    },
    {
      "cell_type": "code",
      "source": [
        "start = time.time()\n",
        "\n",
        "prompt = f\"Выполни суммаризацию текста. Ответь на русском языке:\\n\\n{text_src}\"\n",
        "messages = [\n",
        "    {\"role\": \"user\", \"content\": prompt}\n",
        "]\n",
        "text = tokenizer.apply_chat_template(\n",
        "    messages,\n",
        "    tokenize=False,\n",
        "    add_generation_prompt=True,\n",
        ")\n",
        "model_inputs = tokenizer([text], return_tensors=\"pt\").to(model.device)\n",
        "generated_ids = model.generate(\n",
        "    **model_inputs,\n",
        "    max_new_tokens=16384\n",
        ")\n",
        "output_ids = generated_ids[0][len(model_inputs.input_ids[0]):].tolist()\n",
        "content = tokenizer.decode(output_ids, skip_special_tokens=True)\n",
        "\n",
        "end = time.time()\n",
        "print(f\"Время выполнения: {(end - start):.2f} секунд\")\n",
        "\n",
        "print(content)"
      ],
      "metadata": {
        "colab": {
          "base_uri": "https://localhost:8080/"
        },
        "id": "MPptgEyzEd12",
        "outputId": "813f7784-c78f-43b7-e2c3-7167f255a8fb"
      },
      "execution_count": 43,
      "outputs": [
        {
          "output_type": "stream",
          "name": "stdout",
          "text": [
            "Время выполнения: 82.01 секунд\n",
            "8 августа в Пекине открылся Всемирный конгресс робототехники 2025 года, где впервые на сцене выступили человекообразные роботы — в частности, роботы от компании Уси, демонстрирующие боевые действия. В ходе мероприятия более 400 представителей из разных стран и регионов представили передовые разработки в области робототехники, подчеркнув новые тенденции в отрасли.\n",
            "\n",
            "В 2025 году робототехника достигла значительных прорывов: в апреле в Истуане прошёл первый в мире \"человек-робот\" марафон, а в течение года роботы начали выполнять действия, ранее считавшиеся фантастическими — от танцев на Китайском Новом Году и бега до выполнения бытовых задач, таких как сортировка и уборка. В настоящее время в Китае наблюдается рост выручки робототехнической отрасли на 27,8% в первом полугодии, страна сохраняет лидирующие позиции по объёму рынка промышленных роботов и стала третьей по показателю плотности роботов в промышленности.\n",
            "\n",
            "Китай уже сформировал полную цепочку по производству роботов — от伺服двигателей и редукторов до систем взаимодействия и многомодальных сенсоров, при этом процессы национализации критических компонентов ускоряются. В отрасли активно концентрируются инновационные ресурсы, что способствует глубоким технологическим и производственным изменениям.\n",
            "\n",
            "На открытии конгресса министр по вопросам промышленности и информационных технологий Син Гуобин отметил, что инновации в робототехнике — это не просто техническое усовершенствование, а фундаментальная трансформация производительности. В рамках мероприятия было представлено более 1500 экспонатов от 200 компаний, включая более 100 новых продуктов, а также опубликовано более 10 аналитических отчётов, в том числе о трендах в области \"восприятия\" (представления) и потенциальных сценариях применения человекообразных роботов.\n",
            "\n",
            "Роботы уже активно используются в промышленности, логистике, медицине, экстренных ситуациях и глубоких исследованиях. В рамках конгресса прошли более 30 мероприятий — от презентаций и инвестиционных встреч до обмена кадровыми ресурсами. Также представили возможности сотрудничества с регионами в Сингапуре, Ассоциации Юго-Восточной Азии, Непале и Камеруне.\n",
            "\n",
            "Лидер Китайской ассоциации электроники Лю Хуаосянь отметила, что уже через 10 лет конгресс стал важным катализатором развития отрасли — в области ускорения технологий, глубоких сценариев применения, автономии и формирования экосистемы. Робототехника сегодня активно внедряется в различные сферы жизни, и её будущее — в интеграции с искусственным интеллектом и решении вызовов, таких как старение населения.\n",
            "\n",
            "**Итоговая суммаризация:**  \n",
            "Конгресс робототехники 2025 года стал ярким свидетельством стремительного развития отрасли. Китай укрепляет позиции в глобальном робототехническом рынке, демонстрируя полную цепочку технологий, рост инноваций и внедрение роботов в повседневную жизнь. Роботы переходят от промышленного применения к бытовым и социальным задачам, а интеграция с искусственным интеллектом открывает новые горизонты. В ближайшее время робототехника станет ключевым элементом трансформации промышленности и общества.\n"
          ]
        }
      ]
    },
    {
      "cell_type": "markdown",
      "source": [
        "8 августа в Пекине открылся Всемирный конгресс робототехники 2025 года, где впервые на сцене выступили человекообразные роботы — в частности, роботы от компании Уси, демонстрирующие боевые действия. В ходе мероприятия более 400 представителей из разных стран и регионов представили передовые разработки в области робототехники, подчеркнув новые тенденции в отрасли.\n",
        "\n",
        "В 2025 году робототехника достигла значительных прорывов: в апреле в Истуане прошёл первый в мире \"человек-робот\" марафон, а в течение года роботы начали выполнять действия, ранее считавшиеся фантастическими — от танцев на Китайском Новом Году и бега до выполнения бытовых задач, таких как сортировка и уборка. В настоящее время в Китае наблюдается рост выручки робототехнической отрасли на 27,8% в первом полугодии, страна сохраняет лидирующие позиции по объёму рынка промышленных роботов и стала третьей по показателю плотности роботов в промышленности.\n",
        "\n",
        "Китай уже сформировал полную цепочку по производству роботов — от伺服двигателей и редукторов до систем взаимодействия и многомодальных сенсоров, при этом процессы национализации критических компонентов ускоряются. В отрасли активно концентрируются инновационные ресурсы, что способствует глубоким технологическим и производственным изменениям.\n",
        "\n",
        "На открытии конгресса министр по вопросам промышленности и информационных технологий Син Гуобин отметил, что инновации в робототехнике — это не просто техническое усовершенствование, а фундаментальная трансформация производительности. В рамках мероприятия было представлено более 1500 экспонатов от 200 компаний, включая более 100 новых продуктов, а также опубликовано более 10 аналитических отчётов, в том числе о трендах в области \"восприятия\" (представления) и потенциальных сценариях применения человекообразных роботов.\n",
        "\n",
        "Роботы уже активно используются в промышленности, логистике, медицине, экстренных ситуациях и глубоких исследованиях. В рамках конгресса прошли более 30 мероприятий — от презентаций и инвестиционных встреч до обмена кадровыми ресурсами. Также представили возможности сотрудничества с регионами в Сингапуре, Ассоциации Юго-Восточной Азии, Непале и Камеруне.\n",
        "\n",
        "Лидер Китайской ассоциации электроники Лю Хуаосянь отметила, что уже через 10 лет конгресс стал важным катализатором развития отрасли — в области ускорения технологий, глубоких сценариев применения, автономии и формирования экосистемы. Робототехника сегодня активно внедряется в различные сферы жизни, и её будущее — в интеграции с искусственным интеллектом и решении вызовов, таких как старение населения.\n",
        "\n",
        "**Итоговая суммаризация:**  \n",
        "Конгресс робототехники 2025 года стал ярким свидетельством стремительного развития отрасли. Китай укрепляет позиции в глобальном робототехническом рынке, демонстрируя полную цепочку технологий, рост инноваций и внедрение роботов в повседневную жизнь. Роботы переходят от промышленного применения к бытовым и социальным задачам, а интеграция с искусственным интеллектом открывает новые горизонты. В ближайшее время робототехника станет ключевым элементом трансформации промышленности и общества."
      ],
      "metadata": {
        "id": "62ZCEqA8GDJe"
      }
    },
    {
      "cell_type": "code",
      "source": [
        "start = time.time()\n",
        "\n",
        "prompt = f\"Выполни короткую суммаризацию текста. Выведи только итоговую короткую суммаризацию на русском языке:\\n\\n{text_src}\"\n",
        "messages = [\n",
        "    {\"role\": \"user\", \"content\": prompt}\n",
        "]\n",
        "text = tokenizer.apply_chat_template(\n",
        "    messages,\n",
        "    tokenize=False,\n",
        "    add_generation_prompt=True,\n",
        ")\n",
        "model_inputs = tokenizer([text], return_tensors=\"pt\").to(model.device)\n",
        "generated_ids = model.generate(\n",
        "    **model_inputs,\n",
        "    max_new_tokens=16384\n",
        ")\n",
        "output_ids = generated_ids[0][len(model_inputs.input_ids[0]):].tolist()\n",
        "content = tokenizer.decode(output_ids, skip_special_tokens=True)\n",
        "\n",
        "end = time.time()\n",
        "print(f\"Время выполнения: {(end - start):.2f} секунд\")\n",
        "\n",
        "print(content)"
      ],
      "metadata": {
        "colab": {
          "base_uri": "https://localhost:8080/"
        },
        "id": "-_gCF_8eGHQQ",
        "outputId": "856204eb-2795-4623-f289-dd510941c9b9"
      },
      "execution_count": 47,
      "outputs": [
        {
          "output_type": "stream",
          "name": "stdout",
          "text": [
            "Время выполнения: 23.83 секунд\n",
            "На 8-м августе 2025 года открылся Всемирный конгресс робототехники, где были представлены передовые достижения в области робототехники, включая демонстрации человеко-подобных роботов. В ходе мероприятия были представлены более 1500 экспонатов от 200 компаний, в том числе более 100 новинок. Китай укрепил своё лидерство в производстве промышленных роботов, а также продвигает развитие полной цепочки технологий, включая ключевые компоненты. Важные направления — интеграция искусственного интеллекта, применение роботов в здравоохранении, логистике, экстренных ситуациях и старении населения. В ходе конгресса были опубликованы 10+ исследовательских отчётов, а также проведены мероприятия по привлечению инвестиций и развитию экосистемы. Робототехника переходит от научной фантастики к реальным приложениям, и её развитие открывает перспективы для трансформации промышленности и повседневной жизни.\n"
          ]
        }
      ]
    },
    {
      "cell_type": "markdown",
      "source": [
        "На 8-м августе 2025 года открылся Всемирный конгресс робототехники, где были представлены передовые достижения в области робототехники, включая демонстрации человеко-подобных роботов. В ходе мероприятия были представлены более 1500 экспонатов от 200 компаний, в том числе более 100 новинок. Китай укрепил своё лидерство в производстве промышленных роботов, а также продвигает развитие полной цепочки технологий, включая ключевые компоненты. Важные направления — интеграция искусственного интеллекта, применение роботов в здравоохранении, логистике, экстренных ситуациях и старении населения. В ходе конгресса были опубликованы 10+ исследовательских отчётов, а также проведены мероприятия по привлечению инвестиций и развитию экосистемы. Робототехника переходит от научной фантастики к реальным приложениям, и её развитие открывает перспективы для трансформации промышленности и повседневной жизни."
      ],
      "metadata": {
        "id": "kzm_0Rv9GkrU"
      }
    },
    {
      "cell_type": "markdown",
      "source": [
        "## Задание 2"
      ],
      "metadata": {
        "id": "l5JMlbdWAjjC"
      }
    },
    {
      "cell_type": "markdown",
      "source": [
        "Анализ эмбеддингов трансформерных моделей\n",
        "- Используя библиотеку sentence-transformers, загрузите две различные модели - одну на основе BERT, другую на основе GPT.\n",
        "\n",
        "Для каждой модели:\n",
        "- Получите эмбеддинги для 10 различных предложений.\n",
        "- Визуализируйте полученные эмбеддинги с помощью t-SNE или PCA.\n",
        "- Сравните, насколько близки между собой эмбеддинги синонимичных предложений\n"
      ],
      "metadata": {
        "id": "OVlTKRNIAqO0"
      }
    },
    {
      "cell_type": "code",
      "source": [
        "start = time.time()\n",
        "\n",
        "prompt = f\"Выведи пять различных пар предложений. Предложения в паре должны выражать один смысл разными словами для оценки семантического сходства\"\n",
        "messages = [\n",
        "    {\"role\": \"user\", \"content\": prompt}\n",
        "]\n",
        "text = tokenizer.apply_chat_template(\n",
        "    messages,\n",
        "    tokenize=False,\n",
        "    add_generation_prompt=True,\n",
        ")\n",
        "model_inputs = tokenizer([text], return_tensors=\"pt\").to(model.device)\n",
        "generated_ids = model.generate(\n",
        "    **model_inputs,\n",
        "    max_new_tokens=16384\n",
        ")\n",
        "output_ids = generated_ids[0][len(model_inputs.input_ids[0]):].tolist()\n",
        "content = tokenizer.decode(output_ids, skip_special_tokens=True)\n",
        "\n",
        "end = time.time()\n",
        "print(f\"Время выполнения: {(end - start):.2f} секунд\")\n",
        "\n",
        "print(content)"
      ],
      "metadata": {
        "id": "mNyyIHML_79Q",
        "colab": {
          "base_uri": "https://localhost:8080/"
        },
        "outputId": "13ab0adb-7f41-4452-f729-06da37ef7692"
      },
      "execution_count": 7,
      "outputs": [
        {
          "output_type": "stream",
          "name": "stdout",
          "text": [
            "Время выполнения: 23.32 секунд\n",
            "Конечно! Ниже приведены **пять различных пар предложений**, каждая из которых выражает **один и тот же смысл**, но с использованием **разных слов и структур** — для оценки семантического сходства.\n",
            "\n",
            "---\n",
            "\n",
            "**1.**  \n",
            "А) Он пришёл слишком поздно.  \n",
            "Б) Он опоздал на встречу.\n",
            "\n",
            "---\n",
            "\n",
            "**2.**  \n",
            "А) Ученик не сдал работу.  \n",
            "Б) Домашнее задание было отклонено.\n",
            "\n",
            "---\n",
            "\n",
            "**3.**  \n",
            "А) Погода была плохой, поэтому мы не пошли в парк.  \n",
            "Б) Из-за неблагоприятных условий мы отменили поход в парк.\n",
            "\n",
            "---\n",
            "\n",
            "**4.**  \n",
            "А) Она не хотела говорить, потому что боялась.  \n",
            "Б) Она молчала из-за страха.\n",
            "\n",
            "---\n",
            "\n",
            "**5.**  \n",
            "А) В этом месяце не было дождей.  \n",
            "Б) Дождя не было в течение всего месяца.\n",
            "\n",
            "---\n",
            "\n",
            "Эти пары демонстрируют **семантическое сходство** — они передают один и тот же смысл, но с разной лексикой, грамматической структурой и фразеологией. Это полезно для анализа сходства в задачах, таких как поиск синонимов, репликация текстов или построение моделей понимания языка.\n"
          ]
        }
      ]
    },
    {
      "cell_type": "markdown",
      "source": [
        "Конечно! Ниже приведены **пять различных пар предложений**, каждая из которых выражает **один и тот же смысл**, но с использованием **разных слов и структур** — для оценки семантического сходства.\n",
        "\n",
        "---\n",
        "\n",
        "**1.**  \n",
        "А) Он пришёл слишком поздно.  \n",
        "Б) Он опоздал на встречу.\n",
        "\n",
        "---\n",
        "\n",
        "**2.**  \n",
        "А) Ученик не сдал работу.  \n",
        "Б) Домашнее задание было отклонено.\n",
        "\n",
        "---\n",
        "\n",
        "**3.**  \n",
        "А) Погода была плохой, поэтому мы не пошли в парк.  \n",
        "Б) Из-за неблагоприятных условий мы отменили поход в парк.\n",
        "\n",
        "---\n",
        "\n",
        "**4.**  \n",
        "А) Она не хотела говорить, потому что боялась.  \n",
        "Б) Она молчала из-за страха.\n",
        "\n",
        "---\n",
        "\n",
        "**5.**  \n",
        "А) В этом месяце не было дождей.  \n",
        "Б) Дождя не было в течение всего месяца.\n",
        "\n",
        "---\n",
        "\n",
        "Эти пары демонстрируют **семантическое сходство** — они передают один и тот же смысл, но с разной лексикой, грамматической структурой и фразеологией. Это полезно для анализа сходства в задачах, таких как поиск синонимов, репликация текстов или построение моделей понимания языка."
      ],
      "metadata": {
        "id": "AatG_u5Aqbqj"
      }
    },
    {
      "cell_type": "code",
      "source": [
        "sentences = [\n",
        "    \"Он пришёл слишком поздно.\",\n",
        "    \"Он опоздал на встречу.\",\n",
        "    \"Ученик не сдал работу.\",\n",
        "    \"Домашнее задание было отклонено.\",\n",
        "    \"Погода была плохой, поэтому мы не пошли в парк.\",\n",
        "    \"Из-за неблагоприятных условий мы отменили поход в парк.\",\n",
        "    \"Она не хотела говорить, потому что боялась.\",\n",
        "    \"Она молчала из-за страха.\",\n",
        "    \"В этом месяце не было дождей.\",\n",
        "    \"Дождя не было в течение всего месяца.\",\n",
        "]"
      ],
      "metadata": {
        "id": "lDRlBl58vj3R"
      },
      "execution_count": 9,
      "outputs": []
    },
    {
      "cell_type": "code",
      "metadata": {
        "colab": {
          "base_uri": "https://localhost:8080/",
          "height": 1000
        },
        "id": "2e19f9f6",
        "outputId": "5a1ea82c-3002-4372-9ff0-f4cc90b6bad9"
      },
      "source": [
        "!pip install sentence-transformers"
      ],
      "execution_count": 8,
      "outputs": [
        {
          "output_type": "stream",
          "name": "stdout",
          "text": [
            "Requirement already satisfied: sentence-transformers in /usr/local/lib/python3.11/dist-packages (5.0.0)\n",
            "Requirement already satisfied: transformers<5.0.0,>=4.41.0 in /usr/local/lib/python3.11/dist-packages (from sentence-transformers) (4.55.0)\n",
            "Requirement already satisfied: tqdm in /usr/local/lib/python3.11/dist-packages (from sentence-transformers) (4.67.1)\n",
            "Requirement already satisfied: torch>=1.11.0 in /usr/local/lib/python3.11/dist-packages (from sentence-transformers) (2.6.0+cu124)\n",
            "Requirement already satisfied: scikit-learn in /usr/local/lib/python3.11/dist-packages (from sentence-transformers) (1.6.1)\n",
            "Requirement already satisfied: scipy in /usr/local/lib/python3.11/dist-packages (from sentence-transformers) (1.16.1)\n",
            "Requirement already satisfied: huggingface-hub>=0.20.0 in /usr/local/lib/python3.11/dist-packages (from sentence-transformers) (0.34.3)\n",
            "Requirement already satisfied: Pillow in /usr/local/lib/python3.11/dist-packages (from sentence-transformers) (11.3.0)\n",
            "Requirement already satisfied: typing_extensions>=4.5.0 in /usr/local/lib/python3.11/dist-packages (from sentence-transformers) (4.14.1)\n",
            "Requirement already satisfied: filelock in /usr/local/lib/python3.11/dist-packages (from huggingface-hub>=0.20.0->sentence-transformers) (3.18.0)\n",
            "Requirement already satisfied: fsspec>=2023.5.0 in /usr/local/lib/python3.11/dist-packages (from huggingface-hub>=0.20.0->sentence-transformers) (2025.3.0)\n",
            "Requirement already satisfied: packaging>=20.9 in /usr/local/lib/python3.11/dist-packages (from huggingface-hub>=0.20.0->sentence-transformers) (25.0)\n",
            "Requirement already satisfied: pyyaml>=5.1 in /usr/local/lib/python3.11/dist-packages (from huggingface-hub>=0.20.0->sentence-transformers) (6.0.2)\n",
            "Requirement already satisfied: requests in /usr/local/lib/python3.11/dist-packages (from huggingface-hub>=0.20.0->sentence-transformers) (2.32.3)\n",
            "Requirement already satisfied: hf-xet<2.0.0,>=1.1.3 in /usr/local/lib/python3.11/dist-packages (from huggingface-hub>=0.20.0->sentence-transformers) (1.1.7)\n",
            "Requirement already satisfied: networkx in /usr/local/lib/python3.11/dist-packages (from torch>=1.11.0->sentence-transformers) (3.5)\n",
            "Requirement already satisfied: jinja2 in /usr/local/lib/python3.11/dist-packages (from torch>=1.11.0->sentence-transformers) (3.1.6)\n",
            "Collecting nvidia-cuda-nvrtc-cu12==12.4.127 (from torch>=1.11.0->sentence-transformers)\n",
            "  Downloading nvidia_cuda_nvrtc_cu12-12.4.127-py3-none-manylinux2014_x86_64.whl.metadata (1.5 kB)\n",
            "Collecting nvidia-cuda-runtime-cu12==12.4.127 (from torch>=1.11.0->sentence-transformers)\n",
            "  Downloading nvidia_cuda_runtime_cu12-12.4.127-py3-none-manylinux2014_x86_64.whl.metadata (1.5 kB)\n",
            "Collecting nvidia-cuda-cupti-cu12==12.4.127 (from torch>=1.11.0->sentence-transformers)\n",
            "  Downloading nvidia_cuda_cupti_cu12-12.4.127-py3-none-manylinux2014_x86_64.whl.metadata (1.6 kB)\n",
            "Collecting nvidia-cudnn-cu12==9.1.0.70 (from torch>=1.11.0->sentence-transformers)\n",
            "  Downloading nvidia_cudnn_cu12-9.1.0.70-py3-none-manylinux2014_x86_64.whl.metadata (1.6 kB)\n",
            "Collecting nvidia-cublas-cu12==12.4.5.8 (from torch>=1.11.0->sentence-transformers)\n",
            "  Downloading nvidia_cublas_cu12-12.4.5.8-py3-none-manylinux2014_x86_64.whl.metadata (1.5 kB)\n",
            "Collecting nvidia-cufft-cu12==11.2.1.3 (from torch>=1.11.0->sentence-transformers)\n",
            "  Downloading nvidia_cufft_cu12-11.2.1.3-py3-none-manylinux2014_x86_64.whl.metadata (1.5 kB)\n",
            "Collecting nvidia-curand-cu12==10.3.5.147 (from torch>=1.11.0->sentence-transformers)\n",
            "  Downloading nvidia_curand_cu12-10.3.5.147-py3-none-manylinux2014_x86_64.whl.metadata (1.5 kB)\n",
            "Collecting nvidia-cusolver-cu12==11.6.1.9 (from torch>=1.11.0->sentence-transformers)\n",
            "  Downloading nvidia_cusolver_cu12-11.6.1.9-py3-none-manylinux2014_x86_64.whl.metadata (1.6 kB)\n",
            "Collecting nvidia-cusparse-cu12==12.3.1.170 (from torch>=1.11.0->sentence-transformers)\n",
            "  Downloading nvidia_cusparse_cu12-12.3.1.170-py3-none-manylinux2014_x86_64.whl.metadata (1.6 kB)\n",
            "Requirement already satisfied: nvidia-cusparselt-cu12==0.6.2 in /usr/local/lib/python3.11/dist-packages (from torch>=1.11.0->sentence-transformers) (0.6.2)\n",
            "Collecting nvidia-nccl-cu12==2.21.5 (from torch>=1.11.0->sentence-transformers)\n",
            "  Downloading nvidia_nccl_cu12-2.21.5-py3-none-manylinux2014_x86_64.whl.metadata (1.8 kB)\n",
            "Requirement already satisfied: nvidia-nvtx-cu12==12.4.127 in /usr/local/lib/python3.11/dist-packages (from torch>=1.11.0->sentence-transformers) (12.4.127)\n",
            "Collecting nvidia-nvjitlink-cu12==12.4.127 (from torch>=1.11.0->sentence-transformers)\n",
            "  Downloading nvidia_nvjitlink_cu12-12.4.127-py3-none-manylinux2014_x86_64.whl.metadata (1.5 kB)\n",
            "Requirement already satisfied: triton==3.2.0 in /usr/local/lib/python3.11/dist-packages (from torch>=1.11.0->sentence-transformers) (3.2.0)\n",
            "Requirement already satisfied: sympy==1.13.1 in /usr/local/lib/python3.11/dist-packages (from torch>=1.11.0->sentence-transformers) (1.13.1)\n",
            "Requirement already satisfied: mpmath<1.4,>=1.1.0 in /usr/local/lib/python3.11/dist-packages (from sympy==1.13.1->torch>=1.11.0->sentence-transformers) (1.3.0)\n",
            "Requirement already satisfied: numpy>=1.17 in /usr/local/lib/python3.11/dist-packages (from transformers<5.0.0,>=4.41.0->sentence-transformers) (2.0.2)\n",
            "Requirement already satisfied: regex!=2019.12.17 in /usr/local/lib/python3.11/dist-packages (from transformers<5.0.0,>=4.41.0->sentence-transformers) (2024.11.6)\n",
            "Requirement already satisfied: tokenizers<0.22,>=0.21 in /usr/local/lib/python3.11/dist-packages (from transformers<5.0.0,>=4.41.0->sentence-transformers) (0.21.4)\n",
            "Requirement already satisfied: safetensors>=0.4.3 in /usr/local/lib/python3.11/dist-packages (from transformers<5.0.0,>=4.41.0->sentence-transformers) (0.6.1)\n",
            "Requirement already satisfied: joblib>=1.2.0 in /usr/local/lib/python3.11/dist-packages (from scikit-learn->sentence-transformers) (1.5.1)\n",
            "Requirement already satisfied: threadpoolctl>=3.1.0 in /usr/local/lib/python3.11/dist-packages (from scikit-learn->sentence-transformers) (3.6.0)\n",
            "Requirement already satisfied: MarkupSafe>=2.0 in /usr/local/lib/python3.11/dist-packages (from jinja2->torch>=1.11.0->sentence-transformers) (3.0.2)\n",
            "Requirement already satisfied: charset-normalizer<4,>=2 in /usr/local/lib/python3.11/dist-packages (from requests->huggingface-hub>=0.20.0->sentence-transformers) (3.4.2)\n",
            "Requirement already satisfied: idna<4,>=2.5 in /usr/local/lib/python3.11/dist-packages (from requests->huggingface-hub>=0.20.0->sentence-transformers) (3.10)\n",
            "Requirement already satisfied: urllib3<3,>=1.21.1 in /usr/local/lib/python3.11/dist-packages (from requests->huggingface-hub>=0.20.0->sentence-transformers) (2.5.0)\n",
            "Requirement already satisfied: certifi>=2017.4.17 in /usr/local/lib/python3.11/dist-packages (from requests->huggingface-hub>=0.20.0->sentence-transformers) (2025.8.3)\n",
            "Downloading nvidia_cublas_cu12-12.4.5.8-py3-none-manylinux2014_x86_64.whl (363.4 MB)\n",
            "\u001b[2K   \u001b[90m━━━━━━━━━━━━━━━━━━━━━━━━━━━━━━━━━━━━━━━━\u001b[0m \u001b[32m363.4/363.4 MB\u001b[0m \u001b[31m4.1 MB/s\u001b[0m eta \u001b[36m0:00:00\u001b[0m\n",
            "\u001b[?25hDownloading nvidia_cuda_cupti_cu12-12.4.127-py3-none-manylinux2014_x86_64.whl (13.8 MB)\n",
            "\u001b[2K   \u001b[90m━━━━━━━━━━━━━━━━━━━━━━━━━━━━━━━━━━━━━━━━\u001b[0m \u001b[32m13.8/13.8 MB\u001b[0m \u001b[31m116.9 MB/s\u001b[0m eta \u001b[36m0:00:00\u001b[0m\n",
            "\u001b[?25hDownloading nvidia_cuda_nvrtc_cu12-12.4.127-py3-none-manylinux2014_x86_64.whl (24.6 MB)\n",
            "\u001b[2K   \u001b[90m━━━━━━━━━━━━━━━━━━━━━━━━━━━━━━━━━━━━━━━━\u001b[0m \u001b[32m24.6/24.6 MB\u001b[0m \u001b[31m92.1 MB/s\u001b[0m eta \u001b[36m0:00:00\u001b[0m\n",
            "\u001b[?25hDownloading nvidia_cuda_runtime_cu12-12.4.127-py3-none-manylinux2014_x86_64.whl (883 kB)\n",
            "\u001b[2K   \u001b[90m━━━━━━━━━━━━━━━━━━━━━━━━━━━━━━━━━━━━━━━━\u001b[0m \u001b[32m883.7/883.7 kB\u001b[0m \u001b[31m63.0 MB/s\u001b[0m eta \u001b[36m0:00:00\u001b[0m\n",
            "\u001b[?25hDownloading nvidia_cudnn_cu12-9.1.0.70-py3-none-manylinux2014_x86_64.whl (664.8 MB)\n",
            "\u001b[2K   \u001b[90m━━━━━━━━━━━━━━━━━━━━━━━━━━━━━━━━━━━━━━━━\u001b[0m \u001b[32m664.8/664.8 MB\u001b[0m \u001b[31m2.3 MB/s\u001b[0m eta \u001b[36m0:00:00\u001b[0m\n",
            "\u001b[?25hDownloading nvidia_cufft_cu12-11.2.1.3-py3-none-manylinux2014_x86_64.whl (211.5 MB)\n",
            "\u001b[2K   \u001b[90m━━━━━━━━━━━━━━━━━━━━━━━━━━━━━━━━━━━━━━━━\u001b[0m \u001b[32m211.5/211.5 MB\u001b[0m \u001b[31m5.7 MB/s\u001b[0m eta \u001b[36m0:00:00\u001b[0m\n",
            "\u001b[?25hDownloading nvidia_curand_cu12-10.3.5.147-py3-none-manylinux2014_x86_64.whl (56.3 MB)\n",
            "\u001b[2K   \u001b[90m━━━━━━━━━━━━━━━━━━━━━━━━━━━━━━━━━━━━━━━━\u001b[0m \u001b[32m56.3/56.3 MB\u001b[0m \u001b[31m15.0 MB/s\u001b[0m eta \u001b[36m0:00:00\u001b[0m\n",
            "\u001b[?25hDownloading nvidia_cusolver_cu12-11.6.1.9-py3-none-manylinux2014_x86_64.whl (127.9 MB)\n",
            "\u001b[2K   \u001b[90m━━━━━━━━━━━━━━━━━━━━━━━━━━━━━━━━━━━━━━━━\u001b[0m \u001b[32m127.9/127.9 MB\u001b[0m \u001b[31m7.9 MB/s\u001b[0m eta \u001b[36m0:00:00\u001b[0m\n",
            "\u001b[?25hDownloading nvidia_cusparse_cu12-12.3.1.170-py3-none-manylinux2014_x86_64.whl (207.5 MB)\n",
            "\u001b[2K   \u001b[90m━━━━━━━━━━━━━━━━━━━━━━━━━━━━━━━━━━━━━━━━\u001b[0m \u001b[32m207.5/207.5 MB\u001b[0m \u001b[31m6.2 MB/s\u001b[0m eta \u001b[36m0:00:00\u001b[0m\n",
            "\u001b[?25hDownloading nvidia_nccl_cu12-2.21.5-py3-none-manylinux2014_x86_64.whl (188.7 MB)\n",
            "\u001b[2K   \u001b[90m━━━━━━━━━━━━━━━━━━━━━━━━━━━━━━━━━━━━━━━━\u001b[0m \u001b[32m188.7/188.7 MB\u001b[0m \u001b[31m6.6 MB/s\u001b[0m eta \u001b[36m0:00:00\u001b[0m\n",
            "\u001b[?25hDownloading nvidia_nvjitlink_cu12-12.4.127-py3-none-manylinux2014_x86_64.whl (21.1 MB)\n",
            "\u001b[2K   \u001b[90m━━━━━━━━━━━━━━━━━━━━━━━━━━━━━━━━━━━━━━━━\u001b[0m \u001b[32m21.1/21.1 MB\u001b[0m \u001b[31m42.9 MB/s\u001b[0m eta \u001b[36m0:00:00\u001b[0m\n",
            "\u001b[?25hInstalling collected packages: nvidia-nvjitlink-cu12, nvidia-nccl-cu12, nvidia-curand-cu12, nvidia-cufft-cu12, nvidia-cuda-runtime-cu12, nvidia-cuda-nvrtc-cu12, nvidia-cuda-cupti-cu12, nvidia-cublas-cu12, nvidia-cusparse-cu12, nvidia-cudnn-cu12, nvidia-cusolver-cu12\n",
            "  Attempting uninstall: nvidia-nvjitlink-cu12\n",
            "    Found existing installation: nvidia-nvjitlink-cu12 12.5.82\n",
            "    Uninstalling nvidia-nvjitlink-cu12-12.5.82:\n",
            "      Successfully uninstalled nvidia-nvjitlink-cu12-12.5.82\n",
            "  Attempting uninstall: nvidia-nccl-cu12\n",
            "    Found existing installation: nvidia-nccl-cu12 2.23.4\n",
            "    Uninstalling nvidia-nccl-cu12-2.23.4:\n",
            "      Successfully uninstalled nvidia-nccl-cu12-2.23.4\n",
            "  Attempting uninstall: nvidia-curand-cu12\n",
            "    Found existing installation: nvidia-curand-cu12 10.3.6.82\n",
            "    Uninstalling nvidia-curand-cu12-10.3.6.82:\n",
            "      Successfully uninstalled nvidia-curand-cu12-10.3.6.82\n",
            "  Attempting uninstall: nvidia-cufft-cu12\n",
            "    Found existing installation: nvidia-cufft-cu12 11.2.3.61\n",
            "    Uninstalling nvidia-cufft-cu12-11.2.3.61:\n",
            "      Successfully uninstalled nvidia-cufft-cu12-11.2.3.61\n",
            "  Attempting uninstall: nvidia-cuda-runtime-cu12\n",
            "    Found existing installation: nvidia-cuda-runtime-cu12 12.5.82\n",
            "    Uninstalling nvidia-cuda-runtime-cu12-12.5.82:\n",
            "      Successfully uninstalled nvidia-cuda-runtime-cu12-12.5.82\n",
            "  Attempting uninstall: nvidia-cuda-nvrtc-cu12\n",
            "    Found existing installation: nvidia-cuda-nvrtc-cu12 12.5.82\n",
            "    Uninstalling nvidia-cuda-nvrtc-cu12-12.5.82:\n",
            "      Successfully uninstalled nvidia-cuda-nvrtc-cu12-12.5.82\n",
            "  Attempting uninstall: nvidia-cuda-cupti-cu12\n",
            "    Found existing installation: nvidia-cuda-cupti-cu12 12.5.82\n",
            "    Uninstalling nvidia-cuda-cupti-cu12-12.5.82:\n",
            "      Successfully uninstalled nvidia-cuda-cupti-cu12-12.5.82\n",
            "  Attempting uninstall: nvidia-cublas-cu12\n",
            "    Found existing installation: nvidia-cublas-cu12 12.5.3.2\n",
            "    Uninstalling nvidia-cublas-cu12-12.5.3.2:\n",
            "      Successfully uninstalled nvidia-cublas-cu12-12.5.3.2\n",
            "  Attempting uninstall: nvidia-cusparse-cu12\n",
            "    Found existing installation: nvidia-cusparse-cu12 12.5.1.3\n",
            "    Uninstalling nvidia-cusparse-cu12-12.5.1.3:\n",
            "      Successfully uninstalled nvidia-cusparse-cu12-12.5.1.3\n",
            "  Attempting uninstall: nvidia-cudnn-cu12\n",
            "    Found existing installation: nvidia-cudnn-cu12 9.3.0.75\n",
            "    Uninstalling nvidia-cudnn-cu12-9.3.0.75:\n",
            "      Successfully uninstalled nvidia-cudnn-cu12-9.3.0.75\n",
            "  Attempting uninstall: nvidia-cusolver-cu12\n",
            "    Found existing installation: nvidia-cusolver-cu12 11.6.3.83\n",
            "    Uninstalling nvidia-cusolver-cu12-11.6.3.83:\n",
            "      Successfully uninstalled nvidia-cusolver-cu12-11.6.3.83\n",
            "Successfully installed nvidia-cublas-cu12-12.4.5.8 nvidia-cuda-cupti-cu12-12.4.127 nvidia-cuda-nvrtc-cu12-12.4.127 nvidia-cuda-runtime-cu12-12.4.127 nvidia-cudnn-cu12-9.1.0.70 nvidia-cufft-cu12-11.2.1.3 nvidia-curand-cu12-10.3.5.147 nvidia-cusolver-cu12-11.6.1.9 nvidia-cusparse-cu12-12.3.1.170 nvidia-nccl-cu12-2.21.5 nvidia-nvjitlink-cu12-12.4.127\n"
          ]
        },
        {
          "output_type": "display_data",
          "data": {
            "application/vnd.colab-display-data+json": {
              "pip_warning": {
                "packages": [
                  "nvidia"
                ]
              },
              "id": "035af19690dd4bb4948acb333252eda6"
            }
          },
          "metadata": {}
        }
      ]
    },
    {
      "cell_type": "code",
      "source": [
        "from sentence_transformers import SentenceTransformer, models"
      ],
      "metadata": {
        "id": "VdNnO_NyyjX-"
      },
      "execution_count": 11,
      "outputs": []
    },
    {
      "cell_type": "markdown",
      "source": [
        "## BERT"
      ],
      "metadata": {
        "id": "BpVQ4kJDoFRK"
      }
    },
    {
      "cell_type": "code",
      "source": [
        "bert_model = SentenceTransformer('paraphrase-multilingual-MiniLM-L12-v2')"
      ],
      "metadata": {
        "id": "XIOWgRnSoKq7"
      },
      "execution_count": 10,
      "outputs": []
    },
    {
      "cell_type": "code",
      "source": [
        "bert_embeddings = bert_model.encode(sentences)\n",
        "\n",
        "print(bert_embeddings.shape)"
      ],
      "metadata": {
        "colab": {
          "base_uri": "https://localhost:8080/"
        },
        "id": "e6Uc-x91yug1",
        "outputId": "8711fbd3-775f-4449-e18a-8b47539e63f5"
      },
      "execution_count": 16,
      "outputs": [
        {
          "output_type": "stream",
          "name": "stdout",
          "text": [
            "(10, 384)\n"
          ]
        }
      ]
    },
    {
      "cell_type": "markdown",
      "source": [
        "## GPT 2"
      ],
      "metadata": {
        "id": "i33AzmJ4oKBX"
      }
    },
    {
      "cell_type": "code",
      "source": [
        "word_embedding_model = models.Transformer('gpt2')\n",
        "\n",
        "# Установка pad_token для токенизатора - у gpt-токенизатора по умолчанию нет padding-токена, поэтому мы его добавим\n",
        "word_embedding_model.tokenizer.pad_token = word_embedding_model.tokenizer.eos_token\n",
        "\n",
        "# Добавление pooling слоя\n",
        "pooling_model = models.Pooling(\n",
        "    word_embedding_model.get_word_embedding_dimension(),\n",
        "    pooling_mode_mean_tokens=True,\n",
        "    pooling_mode_cls_token=False,\n",
        "    pooling_mode_max_tokens=False\n",
        ")\n",
        "\n",
        "gpt_model = SentenceTransformer(modules=[word_embedding_model, pooling_model])\n",
        "\n",
        "gpt_embeddings = gpt_model.encode(sentences)\n",
        "print(f\"Размерность: {gpt_embeddings.shape}\")"
      ],
      "metadata": {
        "colab": {
          "base_uri": "https://localhost:8080/"
        },
        "id": "EI6R7T7_oJyI",
        "outputId": "77afeb4f-50e6-4cf9-a860-ffc9a859e635"
      },
      "execution_count": 17,
      "outputs": [
        {
          "output_type": "stream",
          "name": "stdout",
          "text": [
            "Размерность: (10, 768)\n"
          ]
        }
      ]
    },
    {
      "cell_type": "markdown",
      "source": [
        "## Визуализировать эмбеддинги"
      ],
      "metadata": {
        "id": "0CkVyBZWzDF4"
      }
    },
    {
      "cell_type": "code",
      "source": [
        "from sklearn.manifold import TSNE\n",
        "from sklearn.decomposition import PCA\n",
        "import pandas as pd\n",
        "import matplotlib.pyplot as plt\n",
        "import matplotlib"
      ],
      "metadata": {
        "id": "q1I4DbMkzJCd"
      },
      "execution_count": 14,
      "outputs": []
    },
    {
      "cell_type": "markdown",
      "source": [
        "### PCA BERT"
      ],
      "metadata": {
        "id": "ld7WeyruzcO3"
      }
    },
    {
      "cell_type": "code",
      "source": [
        "pca_bert = PCA(n_components=2)\n",
        "pca_bert_embeddings = pca_bert.fit_transform(bert_embeddings)"
      ],
      "metadata": {
        "id": "zKFYnikJzKV-"
      },
      "execution_count": 18,
      "outputs": []
    },
    {
      "cell_type": "code",
      "source": [
        "plt.figure(figsize=(10, 8))\n",
        "plt.scatter([pca_bert_embeddings[i][0] for i in range(len(pca_bert_embeddings))],\n",
        "            [pca_bert_embeddings[i][1] for i in range(len(pca_bert_embeddings))]\n",
        "            )\n",
        "for i, sentence in enumerate(sentences):\n",
        "    plt.annotate(sentence, pca_bert_embeddings[i])\n",
        "plt.title('PCA: BERT эмбеддинги')\n",
        "plt.xlabel('PCA1')\n",
        "plt.ylabel('PCA2')\n",
        "plt.grid(True)\n",
        "plt.show()"
      ],
      "metadata": {
        "colab": {
          "base_uri": "https://localhost:8080/",
          "height": 718
        },
        "id": "6SdL5NAZ0iEN",
        "outputId": "d0e57b32-800d-48b7-a517-2434581e46f2"
      },
      "execution_count": 26,
      "outputs": [
        {
          "output_type": "display_data",
          "data": {
            "text/plain": [
              "<Figure size 1000x800 with 1 Axes>"
            ],
            "image/png": "[encoded data removed]"
          },
          "metadata": {}
        }
      ]
    },
    {
      "cell_type": "markdown",
      "source": [
        "### PCA GPT"
      ],
      "metadata": {
        "id": "qhakGouEzjdw"
      }
    },
    {
      "cell_type": "code",
      "source": [
        "pca_gpt = PCA(n_components=2)\n",
        "pca_gpt_embeddings = pca_gpt.fit_transform(gpt_embeddings)"
      ],
      "metadata": {
        "id": "Fuuv9IBaz5FA"
      },
      "execution_count": 19,
      "outputs": []
    },
    {
      "cell_type": "code",
      "source": [
        "plt.figure(figsize=(10, 8))\n",
        "plt.scatter([pca_gpt_embeddings[i][0] for i in range(len(pca_gpt_embeddings))],\n",
        "            [pca_gpt_embeddings[i][1] for i in range(len(pca_gpt_embeddings))]\n",
        "            )\n",
        "for i, sentence in enumerate(sentences):\n",
        "    plt.annotate(sentence, pca_gpt_embeddings[i])\n",
        "plt.title('PCA: GPT эмбеддинги')\n",
        "plt.xlabel('PCA1')\n",
        "plt.ylabel('PCA2')\n",
        "plt.grid(True)\n",
        "plt.show()"
      ],
      "metadata": {
        "colab": {
          "base_uri": "https://localhost:8080/",
          "height": 718
        },
        "id": "uiX4SLVo2n07",
        "outputId": "381d47f4-e870-4768-c902-dd9b02246f04"
      },
      "execution_count": 27,
      "outputs": [
        {
          "output_type": "display_data",
          "data": {
            "text/plain": [
              "<Figure size 1000x800 with 1 Axes>"
            ],
            "image/png": "[encoded data removed]"
          },
          "metadata": {}
        }
      ]
    },
    {
      "cell_type": "markdown",
      "source": [
        "### TSNE BERT"
      ],
      "metadata": {
        "id": "Pfibk0ns3I6A"
      }
    },
    {
      "cell_type": "code",
      "source": [
        "tsne = TSNE(n_components=2, random_state=42, perplexity=5)\n",
        "tsne_bert_embeddings = tsne.fit_transform(bert_embeddings)"
      ],
      "metadata": {
        "id": "JatUkrZb3IU5"
      },
      "execution_count": 29,
      "outputs": []
    },
    {
      "cell_type": "code",
      "source": [
        "tsne_bert_embeddings"
      ],
      "metadata": {
        "colab": {
          "base_uri": "https://localhost:8080/"
        },
        "id": "-SU5LfUK3UFO",
        "outputId": "14574a76-9f7a-4773-913f-f84bdc38f52d"
      },
      "execution_count": 30,
      "outputs": [
        {
          "output_type": "execute_result",
          "data": {
            "text/plain": [
              "array([[ 54.89496  ,  53.613773 ],\n",
              "       [ 54.625904 ,  32.793545 ],\n",
              "       [ 32.05606  ,  -6.951523 ],\n",
              "       [ 15.148515 ,   5.954114 ],\n",
              "       [-31.850824 ,  12.374084 ],\n",
              "       [-17.660109 ,  -3.7425113],\n",
              "       [-10.895462 , -47.545116 ],\n",
              "       [  9.704458 , -49.348175 ],\n",
              "       [-33.14676  ,  61.42488  ],\n",
              "       [-15.1887865,  51.22185  ]], dtype=float32)"
            ]
          },
          "metadata": {},
          "execution_count": 30
        }
      ]
    },
    {
      "cell_type": "code",
      "source": [
        "plt.figure(figsize=(10, 8))\n",
        "plt.scatter([tsne_bert_embeddings[i][0] for i in range(len(tsne_bert_embeddings))],\n",
        "            [tsne_bert_embeddings[i][1] for i in range(len(tsne_bert_embeddings))]\n",
        "            )\n",
        "for i, sentence in enumerate(sentences):\n",
        "    plt.annotate(sentence, tsne_bert_embeddings[i])\n",
        "plt.title('TSNE: BERT эмбеддинги')\n",
        "plt.xlabel('TSNE1')\n",
        "plt.ylabel('TSNE2')\n",
        "plt.grid(True)\n",
        "plt.show()"
      ],
      "metadata": {
        "colab": {
          "base_uri": "https://localhost:8080/",
          "height": 718
        },
        "id": "OFxr-M-_3YaM",
        "outputId": "08d10f79-24eb-4029-de1d-53e90f5245f7"
      },
      "execution_count": 31,
      "outputs": [
        {
          "output_type": "display_data",
          "data": {
            "text/plain": [
              "<Figure size 1000x800 with 1 Axes>"
            ],
            "image/png": "[encoded data removed]"
          },
          "metadata": {}
        }
      ]
    },
    {
      "cell_type": "markdown",
      "source": [
        "### TSNE GPT"
      ],
      "metadata": {
        "id": "RZTackYJ3rmk"
      }
    },
    {
      "cell_type": "code",
      "source": [
        "tsne = TSNE(n_components=2, random_state=42, perplexity=5)\n",
        "tsne_gpt_embeddings = tsne.fit_transform(gpt_embeddings)"
      ],
      "metadata": {
        "id": "GStpFmyS3rNR"
      },
      "execution_count": 32,
      "outputs": []
    },
    {
      "cell_type": "code",
      "source": [
        "plt.figure(figsize=(10, 8))\n",
        "plt.scatter([tsne_gpt_embeddings[i][0] for i in range(len(tsne_gpt_embeddings))],\n",
        "            [tsne_gpt_embeddings[i][1] for i in range(len(tsne_gpt_embeddings))]\n",
        "            )\n",
        "for i, sentence in enumerate(sentences):\n",
        "    plt.annotate(sentence, tsne_gpt_embeddings[i])\n",
        "plt.title('TSNE: GPT эмбеддинги')\n",
        "plt.xlabel('TSNE1')\n",
        "plt.ylabel('TSNE2')\n",
        "plt.grid(True)\n",
        "plt.show()"
      ],
      "metadata": {
        "colab": {
          "base_uri": "https://localhost:8080/",
          "height": 715
        },
        "id": "vK7IM-zu4Dsb",
        "outputId": "b991efb4-6650-4961-9b2e-3d9d62bc7736"
      },
      "execution_count": 33,
      "outputs": [
        {
          "output_type": "display_data",
          "data": {
            "text/plain": [
              "<Figure size 1000x800 with 1 Axes>"
            ],
            "image/png": "[encoded data removed]"
          },
          "metadata": {}
        }
      ]
    },
    {
      "cell_type": "markdown",
      "source": [
        "## Задание 3"
      ],
      "metadata": {
        "id": "KUmCmCBlAm-l"
      }
    },
    {
      "cell_type": "markdown",
      "source": [
        "Сравнение с классическими методами NLP\n",
        "- Для задачи классификации текстов из датасета lenta-ru-news по рубрикам насэмплируйте небольшое подмножество датасета 5-10к строк)\n",
        "\n",
        "Реализуйте:\n",
        "- Классический подход с TFIDF и LogisticRegression (или любой другой пайплайн на выбор)\n",
        "- Подход с использованием готовых эмбеддингов из sentence-transformers (с моделью на выбор) и LogisticRegression\n",
        "- Подход с использованием pipeline для zero-shot классификации (с моделью на выбор)\n",
        "- Сравните качество трех подходов на тестовой выборке\n"
      ],
      "metadata": {
        "id": "H4Oes-B9AqsT"
      }
    },
    {
      "cell_type": "code",
      "source": [],
      "metadata": {
        "id": "yIQg57z5ApQ1"
      },
      "execution_count": null,
      "outputs": []
    }
  ]
}